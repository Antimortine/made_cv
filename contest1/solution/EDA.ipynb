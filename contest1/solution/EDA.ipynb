{
 "cells": [
  {
   "cell_type": "code",
   "execution_count": 1,
   "metadata": {},
   "outputs": [],
   "source": [
    "import os\n",
    "import pickle\n",
    "\n",
    "import numpy as np\n",
    "import torch\n",
    "import torch.nn as nn\n",
    "import torch.optim as optim\n",
    "import torchvision.models as models\n",
    "import tqdm\n",
    "from torch.nn import functional as fnn\n",
    "from torch.utils import data\n",
    "from torchvision import transforms\n",
    "\n",
    "from hack_utils import ScaleMinSideToSize, CropCenter, TransformByKeys\n",
    "from hack_utils import ThousandLandmarksDataset\n",
    "from hack_utils import restore_landmarks_batch, create_submission\n",
    "from hack_utils import stqdm\n",
    "\n",
    "import cv2\n",
    "import matplotlib.pyplot as plt\n",
    "%matplotlib inline"
   ]
  },
  {
   "cell_type": "code",
   "execution_count": 2,
   "metadata": {},
   "outputs": [],
   "source": [
    "DATA_DIR = '../data/'\n",
    "LOCAL_DATA_DIR = '/work/local_data/made_cv/contest1'"
   ]
  },
  {
   "cell_type": "code",
   "execution_count": 3,
   "metadata": {},
   "outputs": [],
   "source": [
    "GPUs = [0, 1, 2]"
   ]
  },
  {
   "cell_type": "code",
   "execution_count": 4,
   "metadata": {},
   "outputs": [],
   "source": [
    "NUM_PTS = 971\n",
    "CROP_SIZE = 224\n",
    "BATCH_SIZE = 448 * len(GPUs)\n",
    "NUM_WORKERS = 16"
   ]
  },
  {
   "cell_type": "code",
   "execution_count": 5,
   "metadata": {},
   "outputs": [],
   "source": [
    "torch.backends.cudnn.deterministic = True\n",
    "torch.backends.cudnn.benchmark = False"
   ]
  },
  {
   "cell_type": "code",
   "execution_count": 6,
   "metadata": {},
   "outputs": [],
   "source": [
    "train_transforms = transforms.Compose([\n",
    "    ScaleMinSideToSize((CROP_SIZE, CROP_SIZE)),\n",
    "    CropCenter(CROP_SIZE),\n",
    "    TransformByKeys(transforms.ToPILImage(), (\"image\",)),\n",
    "    TransformByKeys(transforms.ToTensor(), (\"image\",)),\n",
    "#     TransformByKeys(transforms.Normalize(mean=[0.5, 0.5, 0.5], std=[0.5, 0.5, 0.5]), (\"image\",)),\n",
    "])"
   ]
  },
  {
   "cell_type": "code",
   "execution_count": 7,
   "metadata": {},
   "outputs": [
    {
     "name": "stdout",
     "output_type": "stream",
     "text": [
      "Total lines (without header): 393930\n",
      "Loading train dataset (315144 lines)\n"
     ]
    },
    {
     "data": {
      "application/vnd.jupyter.widget-view+json": {
       "model_id": "1d0b1610e5fe4b51ba58fd043677b26e",
       "version_major": 2,
       "version_minor": 0
      },
      "text/plain": [
       "HBox(children=(IntProgress(value=0, max=315144), HTML(value='')))"
      ]
     },
     "metadata": {},
     "output_type": "display_data"
    },
    {
     "name": "stdout",
     "output_type": "stream",
     "text": [
      "\n"
     ]
    }
   ],
   "source": [
    "train_dataset = ThousandLandmarksDataset(os.path.join(LOCAL_DATA_DIR, 'train'), train_transforms, split=\"train\")\n",
    "train_dataloader = data.DataLoader(train_dataset, batch_size=BATCH_SIZE, num_workers=NUM_WORKERS, pin_memory=True,\n",
    "                                   shuffle=True, drop_last=True)"
   ]
  },
  {
   "cell_type": "code",
   "execution_count": 8,
   "metadata": {},
   "outputs": [
    {
     "data": {
      "application/vnd.jupyter.widget-view+json": {
       "model_id": "5e3335aee75e44d1815ca59766ce301f",
       "version_major": 2,
       "version_minor": 0
      },
      "text/plain": [
       "HBox(children=(IntProgress(value=0, max=234), HTML(value='')))"
      ]
     },
     "metadata": {},
     "output_type": "display_data"
    },
    {
     "name": "stdout",
     "output_type": "stream",
     "text": [
      "\n"
     ]
    }
   ],
   "source": [
    "N_CHANNELS = 3\n",
    "\n",
    "mean = torch.zeros(N_CHANNELS)\n",
    "std = torch.zeros(N_CHANNELS)\n",
    "\n",
    "for batch in stqdm(train_dataloader, total=len(train_dataloader)):\n",
    "    images = batch[\"image\"]\n",
    "    for i in range(N_CHANNELS):\n",
    "        mean[i] += images[:,i,:,:].mean()\n",
    "        std[i] += images[:,i,:,:].std()"
   ]
  },
  {
   "cell_type": "code",
   "execution_count": 10,
   "metadata": {},
   "outputs": [
    {
     "name": "stdout",
     "output_type": "stream",
     "text": [
      "tensor([0.4782, 0.3758, 0.3277]) tensor([0.3077, 0.2652, 0.2521])\n"
     ]
    }
   ],
   "source": [
    "mean.div_(len(train_dataloader))\n",
    "std.div_(len(train_dataloader))\n",
    "print(mean, std)"
   ]
  }
 ],
 "metadata": {
  "hide_input": false,
  "kernelspec": {
   "display_name": "Python 3",
   "language": "python",
   "name": "python3"
  },
  "language_info": {
   "codemirror_mode": {
    "name": "ipython",
    "version": 3
   },
   "file_extension": ".py",
   "mimetype": "text/x-python",
   "name": "python",
   "nbconvert_exporter": "python",
   "pygments_lexer": "ipython3",
   "version": "3.6.8"
  },
  "pycharm": {
   "stem_cell": {
    "cell_type": "raw",
    "metadata": {
     "collapsed": false
    },
    "source": []
   }
  },
  "varInspector": {
   "cols": {
    "lenName": 16,
    "lenType": 16,
    "lenVar": 40
   },
   "kernels_config": {
    "python": {
     "delete_cmd_postfix": "",
     "delete_cmd_prefix": "del ",
     "library": "var_list.py",
     "varRefreshCmd": "print(var_dic_list())"
    },
    "r": {
     "delete_cmd_postfix": ") ",
     "delete_cmd_prefix": "rm(",
     "library": "var_list.r",
     "varRefreshCmd": "cat(var_dic_list()) "
    }
   },
   "types_to_exclude": [
    "module",
    "function",
    "builtin_function_or_method",
    "instance",
    "_Feature"
   ],
   "window_display": false
  },
  "widgets": {
   "application/vnd.jupyter.widget-state+json": {
    "state": {
     "01b2a8fc01544fe4be2afbdd46a74c62": {
      "model_module": "@jupyter-widgets/controls",
      "model_module_version": "1.4.0",
      "model_name": "IntProgressModel",
      "state": {
       "bar_style": "success",
       "layout": "IPY_MODEL_fe57096f72df4bfab7a3b91dc4fa180f",
       "max": 99819,
       "style": "IPY_MODEL_cfaeed3f779a40299a7410c72cba04da",
       "value": 99819
      }
     },
     "01c270a8834546078e142061c163510d": {
      "model_module": "@jupyter-widgets/controls",
      "model_module_version": "1.4.0",
      "model_name": "ProgressStyleModel",
      "state": {
       "description_width": "initial"
      }
     },
     "030a0a99dd364643b5dba8cda4c2e769": {
      "model_module": "@jupyter-widgets/controls",
      "model_module_version": "1.4.0",
      "model_name": "HTMLModel",
      "state": {
       "layout": "IPY_MODEL_5969399c012e427da72a5dbada453e61",
       "style": "IPY_MODEL_8abf453a667f4bf69a57fbec12f3a099",
       "value": "100% 205/205 [01:47&lt;00:00,  2.24it/s]"
      }
     },
     "0568afe268ac40f79c5f92d01a3e8e1c": {
      "model_module": "@jupyter-widgets/controls",
      "model_module_version": "1.4.0",
      "model_name": "DescriptionStyleModel",
      "state": {
       "description_width": ""
      }
     },
     "06f50532bf6a4dfb9e7c2e0b50dc2b3a": {
      "model_module": "@jupyter-widgets/controls",
      "model_module_version": "1.4.0",
      "model_name": "ProgressStyleModel",
      "state": {
       "description_width": "initial"
      }
     },
     "0725d8b5e56440958b01287c60ddedfe": {
      "model_module": "@jupyter-widgets/base",
      "model_module_version": "1.1.0",
      "model_name": "LayoutModel",
      "state": {}
     },
     "0aceec1536b74ff98628e2c464def6c3": {
      "model_module": "@jupyter-widgets/controls",
      "model_module_version": "1.4.0",
      "model_name": "DescriptionStyleModel",
      "state": {
       "description_width": ""
      }
     },
     "0cea430505b5474b860cafd8a3417e82": {
      "model_module": "@jupyter-widgets/controls",
      "model_module_version": "1.4.0",
      "model_name": "DescriptionStyleModel",
      "state": {
       "description_width": ""
      }
     },
     "0d8916ed3a4c4063a5c81787ab376807": {
      "model_module": "@jupyter-widgets/controls",
      "model_module_version": "1.4.0",
      "model_name": "ProgressStyleModel",
      "state": {
       "description_width": "initial"
      }
     },
     "0e89886d4f884c0f899a219b71dac3d8": {
      "model_module": "@jupyter-widgets/base",
      "model_module_version": "1.1.0",
      "model_name": "LayoutModel",
      "state": {}
     },
     "1244897dff9640a69fb8a3915bd3af67": {
      "model_module": "@jupyter-widgets/base",
      "model_module_version": "1.1.0",
      "model_name": "LayoutModel",
      "state": {}
     },
     "132ce074df2c47cc97602794b8b885a6": {
      "model_module": "@jupyter-widgets/base",
      "model_module_version": "1.1.0",
      "model_name": "LayoutModel",
      "state": {}
     },
     "139a58e9685841a781bcf921c08f1eaf": {
      "model_module": "@jupyter-widgets/controls",
      "model_module_version": "1.4.0",
      "model_name": "HBoxModel",
      "state": {
       "children": [
        "IPY_MODEL_1d091bca464d4979b7757b201c40f710",
        "IPY_MODEL_bf7353190825483db564c9e8724fecbe"
       ],
       "layout": "IPY_MODEL_e9b0704241864fa98ff75758697334d7"
      }
     },
     "13fe64664c0b4b85b9560f53877eb721": {
      "model_module": "@jupyter-widgets/base",
      "model_module_version": "1.1.0",
      "model_name": "LayoutModel",
      "state": {}
     },
     "14509823b5584556b4dd69fa5cf0120b": {
      "model_module": "@jupyter-widgets/controls",
      "model_module_version": "1.4.0",
      "model_name": "HBoxModel",
      "state": {
       "children": [
        "IPY_MODEL_f91279e4b55d45058dccd67ddea89ef5",
        "IPY_MODEL_fbd4086cea764ae9a79404be810989eb"
       ],
       "layout": "IPY_MODEL_5dccdbdf394843599504fd4c72d9e89a"
      }
     },
     "145badb2ba4a409293756702082c6f46": {
      "model_module": "@jupyter-widgets/base",
      "model_module_version": "1.1.0",
      "model_name": "LayoutModel",
      "state": {}
     },
     "1546c244ea85465188f05ae2088f6d9a": {
      "model_module": "@jupyter-widgets/controls",
      "model_module_version": "1.4.0",
      "model_name": "IntProgressModel",
      "state": {
       "bar_style": "success",
       "description": "training...",
       "layout": "IPY_MODEL_82fbc51f20f34c22b7a485901e44741d",
       "max": 205,
       "style": "IPY_MODEL_3b8fab00a7314d64b4c40486427f048d",
       "value": 205
      }
     },
     "1633fd5e5daa4861acae2d0b704ac036": {
      "model_module": "@jupyter-widgets/controls",
      "model_module_version": "1.4.0",
      "model_name": "HBoxModel",
      "state": {
       "children": [
        "IPY_MODEL_c03c4ba9545743f58a6782533864ba10",
        "IPY_MODEL_030a0a99dd364643b5dba8cda4c2e769"
       ],
       "layout": "IPY_MODEL_b628f91cfa4c48ba87dffe15ac3ac0d4"
      }
     },
     "163c61f003d1432c981bc796a2d70430": {
      "model_module": "@jupyter-widgets/base",
      "model_module_version": "1.1.0",
      "model_name": "LayoutModel",
      "state": {}
     },
     "1697c78151084c49bd02e072434371e2": {
      "model_module": "@jupyter-widgets/controls",
      "model_module_version": "1.4.0",
      "model_name": "ProgressStyleModel",
      "state": {
       "description_width": "initial"
      }
     },
     "1708f3aaa5594aff83fa75429dc39bab": {
      "model_module": "@jupyter-widgets/controls",
      "model_module_version": "1.4.0",
      "model_name": "HBoxModel",
      "state": {
       "children": [
        "IPY_MODEL_c3721388aba24435b673ab1c112858d1",
        "IPY_MODEL_224b81e5f4e84b63a55dc68e7f35cfcf"
       ],
       "layout": "IPY_MODEL_3b4f94ca433d40299350bd3a49e2e601"
      }
     },
     "1716075ea18d47da92f28fc8efdc5e16": {
      "model_module": "@jupyter-widgets/controls",
      "model_module_version": "1.4.0",
      "model_name": "ProgressStyleModel",
      "state": {
       "description_width": "initial"
      }
     },
     "17182dbf3743452bbcd562838da8ef1c": {
      "model_module": "@jupyter-widgets/base",
      "model_module_version": "1.1.0",
      "model_name": "LayoutModel",
      "state": {}
     },
     "1d091bca464d4979b7757b201c40f710": {
      "model_module": "@jupyter-widgets/controls",
      "model_module_version": "1.4.0",
      "model_name": "IntProgressModel",
      "state": {
       "bar_style": "success",
       "description": "training...",
       "layout": "IPY_MODEL_35c0941396e94f0f95fd8cb6a311a189",
       "max": 205,
       "style": "IPY_MODEL_1697c78151084c49bd02e072434371e2",
       "value": 205
      }
     },
     "1d98907d15564c8298ac3bf94312c055": {
      "model_module": "@jupyter-widgets/controls",
      "model_module_version": "1.4.0",
      "model_name": "IntProgressModel",
      "state": {
       "bar_style": "success",
       "description": "training...",
       "layout": "IPY_MODEL_9056ebf1586649d99e8d6185da8bf2d1",
       "max": 205,
       "style": "IPY_MODEL_1716075ea18d47da92f28fc8efdc5e16",
       "value": 205
      }
     },
     "1e5db585b61c41728859c1b0ae0b6470": {
      "model_module": "@jupyter-widgets/controls",
      "model_module_version": "1.4.0",
      "model_name": "IntProgressModel",
      "state": {
       "bar_style": "success",
       "description": "validation...",
       "layout": "IPY_MODEL_74ffafa3c2d5496992eeaf981f93c5f4",
       "max": 52,
       "style": "IPY_MODEL_43a151c0ac7d42708f2b056887429625",
       "value": 52
      }
     },
     "224b81e5f4e84b63a55dc68e7f35cfcf": {
      "model_module": "@jupyter-widgets/controls",
      "model_module_version": "1.4.0",
      "model_name": "HTMLModel",
      "state": {
       "layout": "IPY_MODEL_2f55fcbc3ffd4490b6252c1aaa590b1a",
       "style": "IPY_MODEL_308bb85d6c4d486aaa36ae598c0d7f07",
       "value": "  0% 0/307 [00:00&lt;?, ?it/s]"
      }
     },
     "228926a90d82416f8c19d273033863cb": {
      "model_module": "@jupyter-widgets/controls",
      "model_module_version": "1.4.0",
      "model_name": "DescriptionStyleModel",
      "state": {
       "description_width": ""
      }
     },
     "235d0578708041bd8dcda01e4c875641": {
      "model_module": "@jupyter-widgets/base",
      "model_module_version": "1.1.0",
      "model_name": "LayoutModel",
      "state": {}
     },
     "24209255237f4f5faf35ba0e18640791": {
      "model_module": "@jupyter-widgets/controls",
      "model_module_version": "1.4.0",
      "model_name": "IntProgressModel",
      "state": {
       "bar_style": "success",
       "description": "validation...",
       "layout": "IPY_MODEL_8c506f0c9442446dbfad70528ddb3771",
       "max": 52,
       "style": "IPY_MODEL_876a2c22ef3c4a0aa360b19db39916be",
       "value": 52
      }
     },
     "24f3693b4e0b489387838d127d43525b": {
      "model_module": "@jupyter-widgets/controls",
      "model_module_version": "1.4.0",
      "model_name": "IntProgressModel",
      "state": {
       "bar_style": "success",
       "description": "test prediction...",
       "layout": "IPY_MODEL_773793a00a9749d999ff0fad78055f02",
       "max": 65,
       "style": "IPY_MODEL_06f50532bf6a4dfb9e7c2e0b50dc2b3a",
       "value": 65
      }
     },
     "256fba288f11429c9fd8c9fcdd0dadb3": {
      "model_module": "@jupyter-widgets/controls",
      "model_module_version": "1.4.0",
      "model_name": "HTMLModel",
      "state": {
       "layout": "IPY_MODEL_86dd50cd7da8431d8ee42f52e578bcd6",
       "style": "IPY_MODEL_59fc4daed98e43808164e7d436bdb80e",
       "value": "100% 77/77 [00:36&lt;00:00,  3.49it/s]"
      }
     },
     "2818bfd790d0484e903dd457a8c0e18f": {
      "model_module": "@jupyter-widgets/base",
      "model_module_version": "1.1.0",
      "model_name": "LayoutModel",
      "state": {}
     },
     "28860508944f41d8b97c26fad93cf0d6": {
      "model_module": "@jupyter-widgets/base",
      "model_module_version": "1.1.0",
      "model_name": "LayoutModel",
      "state": {}
     },
     "2be231f28c074ad79a111e8bfecb0a89": {
      "model_module": "@jupyter-widgets/base",
      "model_module_version": "1.1.0",
      "model_name": "LayoutModel",
      "state": {}
     },
     "2bfb9e3bc68649a791d0072cb1f7a1a8": {
      "model_module": "@jupyter-widgets/controls",
      "model_module_version": "1.4.0",
      "model_name": "HTMLModel",
      "state": {
       "layout": "IPY_MODEL_76c5759f96584aaab0dfc7f35326e9a1",
       "style": "IPY_MODEL_d0cf81aa94864ffba4abd9817b1ac7fc",
       "value": "100% 52/52 [00:23&lt;00:00,  2.20it/s]"
      }
     },
     "2e2f87984efa42edaaa30567f2662567": {
      "model_module": "@jupyter-widgets/controls",
      "model_module_version": "1.4.0",
      "model_name": "IntProgressModel",
      "state": {
       "bar_style": "success",
       "description": "validation...",
       "layout": "IPY_MODEL_aa558dbea0bb40fbb3faf137ae3ee8dc",
       "max": 52,
       "style": "IPY_MODEL_45c1b7a368fa435abe3a8311839ae350",
       "value": 52
      }
     },
     "2e70e40b1b9841569b39b02cd3c6fd43": {
      "model_module": "@jupyter-widgets/base",
      "model_module_version": "1.1.0",
      "model_name": "LayoutModel",
      "state": {}
     },
     "2ed6af8659844aa2b3b61305e0357da8": {
      "model_module": "@jupyter-widgets/controls",
      "model_module_version": "1.4.0",
      "model_name": "DescriptionStyleModel",
      "state": {
       "description_width": ""
      }
     },
     "2f55fcbc3ffd4490b6252c1aaa590b1a": {
      "model_module": "@jupyter-widgets/base",
      "model_module_version": "1.1.0",
      "model_name": "LayoutModel",
      "state": {}
     },
     "2f67abf3ba0841b398458baa4623a563": {
      "model_module": "@jupyter-widgets/base",
      "model_module_version": "1.1.0",
      "model_name": "LayoutModel",
      "state": {}
     },
     "300fa8b83d234f80b5de43ea4bb76f17": {
      "model_module": "@jupyter-widgets/controls",
      "model_module_version": "1.4.0",
      "model_name": "ProgressStyleModel",
      "state": {
       "description_width": "initial"
      }
     },
     "308bb85d6c4d486aaa36ae598c0d7f07": {
      "model_module": "@jupyter-widgets/controls",
      "model_module_version": "1.4.0",
      "model_name": "DescriptionStyleModel",
      "state": {
       "description_width": ""
      }
     },
     "32990db317a24d7ba55e5652bb00e0ec": {
      "model_module": "@jupyter-widgets/controls",
      "model_module_version": "1.4.0",
      "model_name": "HBoxModel",
      "state": {
       "children": [
        "IPY_MODEL_1e5db585b61c41728859c1b0ae0b6470",
        "IPY_MODEL_356d549c001e496eb4a88e7878bb71e0"
       ],
       "layout": "IPY_MODEL_560e8066412449b39899d3e2929e8a93"
      }
     },
     "34c8401207414b37960f9af60514a6d4": {
      "model_module": "@jupyter-widgets/controls",
      "model_module_version": "1.4.0",
      "model_name": "HBoxModel",
      "state": {
       "children": [
        "IPY_MODEL_a1bb1571ed4a471d9f91ee0b7efb7944",
        "IPY_MODEL_a71b47fb143b470eb251dc9db3b9dfb7"
       ],
       "layout": "IPY_MODEL_235d0578708041bd8dcda01e4c875641"
      }
     },
     "356d549c001e496eb4a88e7878bb71e0": {
      "model_module": "@jupyter-widgets/controls",
      "model_module_version": "1.4.0",
      "model_name": "HTMLModel",
      "state": {
       "layout": "IPY_MODEL_864456d3182b4396adb05003039ff819",
       "style": "IPY_MODEL_80ada7a63c0e42089c37e26282dbbe3f",
       "value": "100% 52/52 [00:23&lt;00:00,  2.17it/s]"
      }
     },
     "3575361e951746f68a8c329055096ec2": {
      "model_module": "@jupyter-widgets/controls",
      "model_module_version": "1.4.0",
      "model_name": "IntProgressModel",
      "state": {
       "bar_style": "success",
       "description": "validation...",
       "layout": "IPY_MODEL_0725d8b5e56440958b01287c60ddedfe",
       "max": 52,
       "style": "IPY_MODEL_763004b5031e40cdb082cf28dda92b4b",
       "value": 52
      }
     },
     "35c0941396e94f0f95fd8cb6a311a189": {
      "model_module": "@jupyter-widgets/base",
      "model_module_version": "1.1.0",
      "model_name": "LayoutModel",
      "state": {}
     },
     "35f07a745c1148b88a603bb77515b332": {
      "model_module": "@jupyter-widgets/controls",
      "model_module_version": "1.4.0",
      "model_name": "DescriptionStyleModel",
      "state": {
       "description_width": ""
      }
     },
     "36573ca7f4af4c17bfbdc1549683c59b": {
      "model_module": "@jupyter-widgets/base",
      "model_module_version": "1.1.0",
      "model_name": "LayoutModel",
      "state": {}
     },
     "36885fdea207487da136f2148f521b0b": {
      "model_module": "@jupyter-widgets/base",
      "model_module_version": "1.1.0",
      "model_name": "LayoutModel",
      "state": {}
     },
     "37a52d145be04655b89b5d5cf23c86e9": {
      "model_module": "@jupyter-widgets/base",
      "model_module_version": "1.1.0",
      "model_name": "LayoutModel",
      "state": {}
     },
     "3b4f94ca433d40299350bd3a49e2e601": {
      "model_module": "@jupyter-widgets/base",
      "model_module_version": "1.1.0",
      "model_name": "LayoutModel",
      "state": {}
     },
     "3b8fab00a7314d64b4c40486427f048d": {
      "model_module": "@jupyter-widgets/controls",
      "model_module_version": "1.4.0",
      "model_name": "ProgressStyleModel",
      "state": {
       "description_width": "initial"
      }
     },
     "3eef6c94c68841a9bab5b35596b0b7c4": {
      "model_module": "@jupyter-widgets/base",
      "model_module_version": "1.1.0",
      "model_name": "LayoutModel",
      "state": {}
     },
     "40357320c4ac4346a0ab0a507aed5b69": {
      "model_module": "@jupyter-widgets/base",
      "model_module_version": "1.1.0",
      "model_name": "LayoutModel",
      "state": {}
     },
     "43a151c0ac7d42708f2b056887429625": {
      "model_module": "@jupyter-widgets/controls",
      "model_module_version": "1.4.0",
      "model_name": "ProgressStyleModel",
      "state": {
       "description_width": "initial"
      }
     },
     "45c1b7a368fa435abe3a8311839ae350": {
      "model_module": "@jupyter-widgets/controls",
      "model_module_version": "1.4.0",
      "model_name": "ProgressStyleModel",
      "state": {
       "description_width": "initial"
      }
     },
     "4692113d5fba4968835cce9357dcf80a": {
      "model_module": "@jupyter-widgets/base",
      "model_module_version": "1.1.0",
      "model_name": "LayoutModel",
      "state": {}
     },
     "476e1c6adea746e48e459abb566c0780": {
      "model_module": "@jupyter-widgets/base",
      "model_module_version": "1.1.0",
      "model_name": "LayoutModel",
      "state": {}
     },
     "4909abdaaff84e65b536442f16be2624": {
      "model_module": "@jupyter-widgets/base",
      "model_module_version": "1.1.0",
      "model_name": "LayoutModel",
      "state": {}
     },
     "4b5a14a1a8bc4257ba3165a6b05632f7": {
      "model_module": "@jupyter-widgets/controls",
      "model_module_version": "1.4.0",
      "model_name": "IntProgressModel",
      "state": {
       "bar_style": "success",
       "description": "validation...",
       "layout": "IPY_MODEL_28860508944f41d8b97c26fad93cf0d6",
       "max": 52,
       "style": "IPY_MODEL_300fa8b83d234f80b5de43ea4bb76f17",
       "value": 52
      }
     },
     "4cd93ccd0b244054b2d3efcd568d6a43": {
      "model_module": "@jupyter-widgets/controls",
      "model_module_version": "1.4.0",
      "model_name": "ProgressStyleModel",
      "state": {
       "description_width": "initial"
      }
     },
     "4d4c76677c5440a4b1926a0862fcf868": {
      "model_module": "@jupyter-widgets/base",
      "model_module_version": "1.1.0",
      "model_name": "LayoutModel",
      "state": {}
     },
     "4d7ea38c86d14e8f9bf192ce8e78a50b": {
      "model_module": "@jupyter-widgets/controls",
      "model_module_version": "1.4.0",
      "model_name": "ProgressStyleModel",
      "state": {
       "description_width": "initial"
      }
     },
     "4da7c6b880834f1f9e328d1d75227a96": {
      "model_module": "@jupyter-widgets/controls",
      "model_module_version": "1.4.0",
      "model_name": "IntProgressModel",
      "state": {
       "bar_style": "success",
       "description": "training...",
       "layout": "IPY_MODEL_13fe64664c0b4b85b9560f53877eb721",
       "max": 205,
       "style": "IPY_MODEL_840f3c60cdd0417ca98b9695210bf7cf",
       "value": 205
      }
     },
     "4de2a219cbe54ed1806bdf37f79aec3a": {
      "model_module": "@jupyter-widgets/controls",
      "model_module_version": "1.4.0",
      "model_name": "IntProgressModel",
      "state": {
       "bar_style": "success",
       "description": "training...",
       "layout": "IPY_MODEL_fc8da8fbcad349719cebdc0892fa9362",
       "max": 205,
       "style": "IPY_MODEL_52ad4916424345f5b934154c969189d7",
       "value": 205
      }
     },
     "502a591fff99490392c29dc53a823b2a": {
      "model_module": "@jupyter-widgets/base",
      "model_module_version": "1.1.0",
      "model_name": "LayoutModel",
      "state": {}
     },
     "50ebc529df504035988cdc050a79ab11": {
      "model_module": "@jupyter-widgets/controls",
      "model_module_version": "1.4.0",
      "model_name": "ProgressStyleModel",
      "state": {
       "description_width": "initial"
      }
     },
     "50ec8e188aca41598fdfa4a429bf2431": {
      "model_module": "@jupyter-widgets/base",
      "model_module_version": "1.1.0",
      "model_name": "LayoutModel",
      "state": {}
     },
     "5238bb14119f4b2c9e627740f5380696": {
      "model_module": "@jupyter-widgets/controls",
      "model_module_version": "1.4.0",
      "model_name": "IntProgressModel",
      "state": {
       "bar_style": "success",
       "description": "training...",
       "layout": "IPY_MODEL_a7a35617c61b48199e668dc8bfb7c972",
       "max": 205,
       "style": "IPY_MODEL_ce9b8ac8a77049a09da182369b204da4",
       "value": 205
      }
     },
     "52ad4916424345f5b934154c969189d7": {
      "model_module": "@jupyter-widgets/controls",
      "model_module_version": "1.4.0",
      "model_name": "ProgressStyleModel",
      "state": {
       "description_width": "initial"
      }
     },
     "560e8066412449b39899d3e2929e8a93": {
      "model_module": "@jupyter-widgets/base",
      "model_module_version": "1.1.0",
      "model_name": "LayoutModel",
      "state": {}
     },
     "575c16c2d74240068e891f5406d026b3": {
      "model_module": "@jupyter-widgets/base",
      "model_module_version": "1.1.0",
      "model_name": "LayoutModel",
      "state": {}
     },
     "583f6a538ad14e91b6ecb27e81eb5b16": {
      "model_module": "@jupyter-widgets/controls",
      "model_module_version": "1.4.0",
      "model_name": "HBoxModel",
      "state": {
       "children": [
        "IPY_MODEL_85580a02f2ee4694a82b322b6fdf47d7",
        "IPY_MODEL_dec316600b8a47a3a9fb55e803cef3f7"
       ],
       "layout": "IPY_MODEL_ea10c1901f4e4035812257a4a71ad564"
      }
     },
     "588361f51a364e80b7fd858bc210b676": {
      "model_module": "@jupyter-widgets/controls",
      "model_module_version": "1.4.0",
      "model_name": "ProgressStyleModel",
      "state": {
       "description_width": "initial"
      }
     },
     "5902c481822d4191ad0b13ef3c2897fa": {
      "model_module": "@jupyter-widgets/controls",
      "model_module_version": "1.4.0",
      "model_name": "DescriptionStyleModel",
      "state": {
       "description_width": ""
      }
     },
     "5969399c012e427da72a5dbada453e61": {
      "model_module": "@jupyter-widgets/base",
      "model_module_version": "1.1.0",
      "model_name": "LayoutModel",
      "state": {}
     },
     "59fc4daed98e43808164e7d436bdb80e": {
      "model_module": "@jupyter-widgets/controls",
      "model_module_version": "1.4.0",
      "model_name": "DescriptionStyleModel",
      "state": {
       "description_width": ""
      }
     },
     "5b89a989a7444ad9a185c16085e0d45c": {
      "model_module": "@jupyter-widgets/controls",
      "model_module_version": "1.4.0",
      "model_name": "HBoxModel",
      "state": {
       "children": [
        "IPY_MODEL_f4d033510cc24fbd96772f0e79a8cbe2",
        "IPY_MODEL_8435d104a7ab4025b3607d2e97c2d61f"
       ],
       "layout": "IPY_MODEL_a60dd3838c464d8db25e257ab56fb9a7"
      }
     },
     "5d58210a63db4841ad24c6951d3c72a4": {
      "model_module": "@jupyter-widgets/controls",
      "model_module_version": "1.4.0",
      "model_name": "ProgressStyleModel",
      "state": {
       "description_width": "initial"
      }
     },
     "5dccdbdf394843599504fd4c72d9e89a": {
      "model_module": "@jupyter-widgets/base",
      "model_module_version": "1.1.0",
      "model_name": "LayoutModel",
      "state": {}
     },
     "5de19f99433d432aaaf61668fe0de58f": {
      "model_module": "@jupyter-widgets/base",
      "model_module_version": "1.1.0",
      "model_name": "LayoutModel",
      "state": {}
     },
     "5ded3966773543e4b485a0e049ec634e": {
      "model_module": "@jupyter-widgets/controls",
      "model_module_version": "1.4.0",
      "model_name": "HTMLModel",
      "state": {
       "layout": "IPY_MODEL_7b5fded2ba214052afd4d054524f9b39",
       "style": "IPY_MODEL_6a1ab9d5933a4c96b015ef27de52f5e6",
       "value": "100% 52/52 [00:22&lt;00:00,  2.27it/s]"
      }
     },
     "5ea8aa0ab9864f9fb0e4944b2d7fa457": {
      "model_module": "@jupyter-widgets/controls",
      "model_module_version": "1.4.0",
      "model_name": "ProgressStyleModel",
      "state": {
       "description_width": "initial"
      }
     },
     "5ebbcaf601834d3b8cfea9b2e562c786": {
      "model_module": "@jupyter-widgets/base",
      "model_module_version": "1.1.0",
      "model_name": "LayoutModel",
      "state": {}
     },
     "60140d3b8b2749ea9f9d788173f16509": {
      "model_module": "@jupyter-widgets/base",
      "model_module_version": "1.1.0",
      "model_name": "LayoutModel",
      "state": {}
     },
     "64bbb605d77c436b93e9274f53da518f": {
      "model_module": "@jupyter-widgets/controls",
      "model_module_version": "1.4.0",
      "model_name": "IntProgressModel",
      "state": {
       "bar_style": "success",
       "description": "validation...",
       "layout": "IPY_MODEL_736984e84a1c4ffb8a3c8fea39b5beb5",
       "max": 52,
       "style": "IPY_MODEL_e67f48ff65a943cbbe7339f8ff5b3c44",
       "value": 52
      }
     },
     "662961e1bd094654b98be559989b07b1": {
      "model_module": "@jupyter-widgets/controls",
      "model_module_version": "1.4.0",
      "model_name": "ProgressStyleModel",
      "state": {
       "description_width": ""
      }
     },
     "66df68a0ee5344bb8682e478ba5c59b4": {
      "model_module": "@jupyter-widgets/controls",
      "model_module_version": "1.4.0",
      "model_name": "HTMLModel",
      "state": {
       "layout": "IPY_MODEL_749f3a11344e451aa92b01837aee3b9b",
       "style": "IPY_MODEL_0568afe268ac40f79c5f92d01a3e8e1c",
       "value": "100% 205/205 [01:46&lt;00:00,  2.25it/s]"
      }
     },
     "678f71af9527439d80de2d900c305554": {
      "model_module": "@jupyter-widgets/controls",
      "model_module_version": "1.4.0",
      "model_name": "HTMLModel",
      "state": {
       "layout": "IPY_MODEL_ef00752880244e92ae7cb13d3c27ced2",
       "style": "IPY_MODEL_7b4ff52622c6473ebed5a6038e429ea2",
       "value": "100% 52/52 [00:24&lt;00:00,  2.15it/s]"
      }
     },
     "683b320ae0344be2a90fee1537df83db": {
      "model_module": "@jupyter-widgets/controls",
      "model_module_version": "1.4.0",
      "model_name": "DescriptionStyleModel",
      "state": {
       "description_width": ""
      }
     },
     "690eea47080e43709d8c0a4a75be7f0a": {
      "model_module": "@jupyter-widgets/base",
      "model_module_version": "1.1.0",
      "model_name": "LayoutModel",
      "state": {}
     },
     "6a1ab9d5933a4c96b015ef27de52f5e6": {
      "model_module": "@jupyter-widgets/controls",
      "model_module_version": "1.4.0",
      "model_name": "DescriptionStyleModel",
      "state": {
       "description_width": ""
      }
     },
     "6ab88cf6f2294f66b8a2091013d58fbf": {
      "model_module": "@jupyter-widgets/controls",
      "model_module_version": "1.4.0",
      "model_name": "DescriptionStyleModel",
      "state": {
       "description_width": ""
      }
     },
     "6b955d4d401d4b77a82d815f09a1c689": {
      "model_module": "@jupyter-widgets/controls",
      "model_module_version": "1.4.0",
      "model_name": "DescriptionStyleModel",
      "state": {
       "description_width": ""
      }
     },
     "6d14cfe70a4b4d3a8efafe1bf85f7ce1": {
      "model_module": "@jupyter-widgets/controls",
      "model_module_version": "1.4.0",
      "model_name": "HBoxModel",
      "state": {
       "children": [
        "IPY_MODEL_24209255237f4f5faf35ba0e18640791",
        "IPY_MODEL_5ded3966773543e4b485a0e049ec634e"
       ],
       "layout": "IPY_MODEL_79e8241491ca46529314ebbe92b440bf"
      }
     },
     "6e5b7cfede3b4609bab6be63deaa5c82": {
      "model_module": "@jupyter-widgets/controls",
      "model_module_version": "1.4.0",
      "model_name": "DescriptionStyleModel",
      "state": {
       "description_width": ""
      }
     },
     "6ea57be07d0a46c2a0c8a25503c619d2": {
      "model_module": "@jupyter-widgets/controls",
      "model_module_version": "1.4.0",
      "model_name": "HTMLModel",
      "state": {
       "layout": "IPY_MODEL_163c61f003d1432c981bc796a2d70430",
       "style": "IPY_MODEL_9440e47449d4456096510596e298889d",
       "value": "100% 52/52 [00:23&lt;00:00,  2.18it/s]"
      }
     },
     "6f37d9b787554b369c69d94f46c95d69": {
      "model_module": "@jupyter-widgets/controls",
      "model_module_version": "1.4.0",
      "model_name": "ProgressStyleModel",
      "state": {
       "description_width": "initial"
      }
     },
     "7004e17822314f04a04d4f834363bbe1": {
      "model_module": "@jupyter-widgets/base",
      "model_module_version": "1.1.0",
      "model_name": "LayoutModel",
      "state": {}
     },
     "7033aad7b6304b8aa35f95e7d55f3141": {
      "model_module": "@jupyter-widgets/controls",
      "model_module_version": "1.4.0",
      "model_name": "IntProgressModel",
      "state": {
       "bar_style": "success",
       "description": "training...",
       "layout": "IPY_MODEL_9acc4cd594fe470d87160d073f6ab1bd",
       "max": 205,
       "style": "IPY_MODEL_50ebc529df504035988cdc050a79ab11",
       "value": 205
      }
     },
     "72d3e83fafa543ffba2ab3d161916519": {
      "model_module": "@jupyter-widgets/base",
      "model_module_version": "1.1.0",
      "model_name": "LayoutModel",
      "state": {}
     },
     "734a3746d00644d8b4f49512f95237c9": {
      "model_module": "@jupyter-widgets/controls",
      "model_module_version": "1.4.0",
      "model_name": "HBoxModel",
      "state": {
       "children": [
        "IPY_MODEL_7033aad7b6304b8aa35f95e7d55f3141",
        "IPY_MODEL_7f4c618c0a1745ddad7306dcfc1e25c3"
       ],
       "layout": "IPY_MODEL_77575d4b63384a9b824290991ec1fac0"
      }
     },
     "736984e84a1c4ffb8a3c8fea39b5beb5": {
      "model_module": "@jupyter-widgets/base",
      "model_module_version": "1.1.0",
      "model_name": "LayoutModel",
      "state": {}
     },
     "749f3a11344e451aa92b01837aee3b9b": {
      "model_module": "@jupyter-widgets/base",
      "model_module_version": "1.1.0",
      "model_name": "LayoutModel",
      "state": {}
     },
     "74ffafa3c2d5496992eeaf981f93c5f4": {
      "model_module": "@jupyter-widgets/base",
      "model_module_version": "1.1.0",
      "model_name": "LayoutModel",
      "state": {}
     },
     "763004b5031e40cdb082cf28dda92b4b": {
      "model_module": "@jupyter-widgets/controls",
      "model_module_version": "1.4.0",
      "model_name": "ProgressStyleModel",
      "state": {
       "description_width": "initial"
      }
     },
     "76c5759f96584aaab0dfc7f35326e9a1": {
      "model_module": "@jupyter-widgets/base",
      "model_module_version": "1.1.0",
      "model_name": "LayoutModel",
      "state": {}
     },
     "773793a00a9749d999ff0fad78055f02": {
      "model_module": "@jupyter-widgets/base",
      "model_module_version": "1.1.0",
      "model_name": "LayoutModel",
      "state": {}
     },
     "77575d4b63384a9b824290991ec1fac0": {
      "model_module": "@jupyter-widgets/base",
      "model_module_version": "1.1.0",
      "model_name": "LayoutModel",
      "state": {}
     },
     "78ddd8756c504f1fac56981abd85b445": {
      "model_module": "@jupyter-widgets/controls",
      "model_module_version": "1.4.0",
      "model_name": "IntProgressModel",
      "state": {
       "bar_style": "success",
       "description": "training...",
       "layout": "IPY_MODEL_17182dbf3743452bbcd562838da8ef1c",
       "max": 307,
       "style": "IPY_MODEL_588361f51a364e80b7fd858bc210b676",
       "value": 307
      }
     },
     "79e8241491ca46529314ebbe92b440bf": {
      "model_module": "@jupyter-widgets/base",
      "model_module_version": "1.1.0",
      "model_name": "LayoutModel",
      "state": {}
     },
     "7b4ff52622c6473ebed5a6038e429ea2": {
      "model_module": "@jupyter-widgets/controls",
      "model_module_version": "1.4.0",
      "model_name": "DescriptionStyleModel",
      "state": {
       "description_width": ""
      }
     },
     "7b5fded2ba214052afd4d054524f9b39": {
      "model_module": "@jupyter-widgets/base",
      "model_module_version": "1.1.0",
      "model_name": "LayoutModel",
      "state": {}
     },
     "7db8c0d153194930b899f31ae36cd724": {
      "model_module": "@jupyter-widgets/base",
      "model_module_version": "1.1.0",
      "model_name": "LayoutModel",
      "state": {}
     },
     "7e51dfd4ccfe4a2d8641d87ad835f604": {
      "model_module": "@jupyter-widgets/controls",
      "model_module_version": "1.4.0",
      "model_name": "HBoxModel",
      "state": {
       "children": [
        "IPY_MODEL_4da7c6b880834f1f9e328d1d75227a96",
        "IPY_MODEL_bb68e71874bc468eb7e3c501e82d9bba"
       ],
       "layout": "IPY_MODEL_92038823fa954ee385ac893069600fcd"
      }
     },
     "7f4c618c0a1745ddad7306dcfc1e25c3": {
      "model_module": "@jupyter-widgets/controls",
      "model_module_version": "1.4.0",
      "model_name": "HTMLModel",
      "state": {
       "layout": "IPY_MODEL_8bbf34b5d0e34db4a4561f3d6e1058a1",
       "style": "IPY_MODEL_860e4be4861547ef934efb64c19dce4d",
       "value": "100% 205/205 [01:47&lt;00:00,  2.22it/s]"
      }
     },
     "801b0f11294e47a7969a357e1d69a22c": {
      "model_module": "@jupyter-widgets/base",
      "model_module_version": "1.1.0",
      "model_name": "LayoutModel",
      "state": {}
     },
     "80ada7a63c0e42089c37e26282dbbe3f": {
      "model_module": "@jupyter-widgets/controls",
      "model_module_version": "1.4.0",
      "model_name": "DescriptionStyleModel",
      "state": {
       "description_width": ""
      }
     },
     "82fbc51f20f34c22b7a485901e44741d": {
      "model_module": "@jupyter-widgets/base",
      "model_module_version": "1.1.0",
      "model_name": "LayoutModel",
      "state": {}
     },
     "840f3c60cdd0417ca98b9695210bf7cf": {
      "model_module": "@jupyter-widgets/controls",
      "model_module_version": "1.4.0",
      "model_name": "ProgressStyleModel",
      "state": {
       "description_width": "initial"
      }
     },
     "8435d104a7ab4025b3607d2e97c2d61f": {
      "model_module": "@jupyter-widgets/controls",
      "model_module_version": "1.4.0",
      "model_name": "HTMLModel",
      "state": {
       "layout": "IPY_MODEL_ecf68db8390243039f6f823cee1386ec",
       "style": "IPY_MODEL_6e5b7cfede3b4609bab6be63deaa5c82",
       "value": "100% 205/205 [01:54&lt;00:00,  2.26it/s]"
      }
     },
     "850eddf5588d42e3a5113cb0e4674df4": {
      "model_module": "@jupyter-widgets/base",
      "model_module_version": "1.1.0",
      "model_name": "LayoutModel",
      "state": {}
     },
     "85580a02f2ee4694a82b322b6fdf47d7": {
      "model_module": "@jupyter-widgets/controls",
      "model_module_version": "1.4.0",
      "model_name": "IntProgressModel",
      "state": {
       "bar_style": "success",
       "layout": "IPY_MODEL_801b0f11294e47a7969a357e1d69a22c",
       "max": 78786,
       "style": "IPY_MODEL_662961e1bd094654b98be559989b07b1",
       "value": 78786
      }
     },
     "85e900707729460ea09c59630f9df880": {
      "model_module": "@jupyter-widgets/controls",
      "model_module_version": "1.4.0",
      "model_name": "HBoxModel",
      "state": {
       "children": [
        "IPY_MODEL_01b2a8fc01544fe4be2afbdd46a74c62",
        "IPY_MODEL_c1f775a4212347e89f16765f3fda48c5"
       ],
       "layout": "IPY_MODEL_ce0db823b99e4798b780781280998f8d"
      }
     },
     "860e4be4861547ef934efb64c19dce4d": {
      "model_module": "@jupyter-widgets/controls",
      "model_module_version": "1.4.0",
      "model_name": "DescriptionStyleModel",
      "state": {
       "description_width": ""
      }
     },
     "861e1cbf823247ca8689c5e3893dcf34": {
      "model_module": "@jupyter-widgets/controls",
      "model_module_version": "1.4.0",
      "model_name": "DescriptionStyleModel",
      "state": {
       "description_width": ""
      }
     },
     "864456d3182b4396adb05003039ff819": {
      "model_module": "@jupyter-widgets/base",
      "model_module_version": "1.1.0",
      "model_name": "LayoutModel",
      "state": {}
     },
     "86dd50cd7da8431d8ee42f52e578bcd6": {
      "model_module": "@jupyter-widgets/base",
      "model_module_version": "1.1.0",
      "model_name": "LayoutModel",
      "state": {}
     },
     "8708a5a1c22a4cb0a6b1d48db51430fc": {
      "model_module": "@jupyter-widgets/controls",
      "model_module_version": "1.4.0",
      "model_name": "IntProgressModel",
      "state": {
       "bar_style": "success",
       "description": "validation...",
       "layout": "IPY_MODEL_40357320c4ac4346a0ab0a507aed5b69",
       "max": 52,
       "style": "IPY_MODEL_8ec6ab84f9e149ebad182034662c4916",
       "value": 52
      }
     },
     "876a2c22ef3c4a0aa360b19db39916be": {
      "model_module": "@jupyter-widgets/controls",
      "model_module_version": "1.4.0",
      "model_name": "ProgressStyleModel",
      "state": {
       "description_width": "initial"
      }
     },
     "88b6d66cf18f4fd5917e20a0ec15353e": {
      "model_module": "@jupyter-widgets/controls",
      "model_module_version": "1.4.0",
      "model_name": "ProgressStyleModel",
      "state": {
       "description_width": "initial"
      }
     },
     "8abf453a667f4bf69a57fbec12f3a099": {
      "model_module": "@jupyter-widgets/controls",
      "model_module_version": "1.4.0",
      "model_name": "DescriptionStyleModel",
      "state": {
       "description_width": ""
      }
     },
     "8bbf34b5d0e34db4a4561f3d6e1058a1": {
      "model_module": "@jupyter-widgets/base",
      "model_module_version": "1.1.0",
      "model_name": "LayoutModel",
      "state": {}
     },
     "8c506f0c9442446dbfad70528ddb3771": {
      "model_module": "@jupyter-widgets/base",
      "model_module_version": "1.1.0",
      "model_name": "LayoutModel",
      "state": {}
     },
     "8c9de74e718f4794899cc76297ae1ede": {
      "model_module": "@jupyter-widgets/controls",
      "model_module_version": "1.4.0",
      "model_name": "IntProgressModel",
      "state": {
       "bar_style": "success",
       "layout": "IPY_MODEL_476e1c6adea746e48e459abb566c0780",
       "max": 78786,
       "style": "IPY_MODEL_b6230ea8335b4e13a1dc4ec9ed53d4f3",
       "value": 78786
      }
     },
     "8ce09a6f27ef43e2bc46b9bdd1ab25b3": {
      "model_module": "@jupyter-widgets/controls",
      "model_module_version": "1.4.0",
      "model_name": "HBoxModel",
      "state": {
       "children": [
        "IPY_MODEL_8708a5a1c22a4cb0a6b1d48db51430fc",
        "IPY_MODEL_678f71af9527439d80de2d900c305554"
       ],
       "layout": "IPY_MODEL_fd474e167c4942a3a873e8260557d010"
      }
     },
     "8cfb4fd255344e4dab4f83ae936b629c": {
      "model_module": "@jupyter-widgets/base",
      "model_module_version": "1.1.0",
      "model_name": "LayoutModel",
      "state": {}
     },
     "8ec6ab84f9e149ebad182034662c4916": {
      "model_module": "@jupyter-widgets/controls",
      "model_module_version": "1.4.0",
      "model_name": "ProgressStyleModel",
      "state": {
       "description_width": "initial"
      }
     },
     "9056ebf1586649d99e8d6185da8bf2d1": {
      "model_module": "@jupyter-widgets/base",
      "model_module_version": "1.1.0",
      "model_name": "LayoutModel",
      "state": {}
     },
     "90f869af83c241c5972e12151f2c35d7": {
      "model_module": "@jupyter-widgets/controls",
      "model_module_version": "1.4.0",
      "model_name": "DescriptionStyleModel",
      "state": {
       "description_width": ""
      }
     },
     "92038823fa954ee385ac893069600fcd": {
      "model_module": "@jupyter-widgets/base",
      "model_module_version": "1.1.0",
      "model_name": "LayoutModel",
      "state": {}
     },
     "9440e47449d4456096510596e298889d": {
      "model_module": "@jupyter-widgets/controls",
      "model_module_version": "1.4.0",
      "model_name": "DescriptionStyleModel",
      "state": {
       "description_width": ""
      }
     },
     "96320eca0f474f61b5f60c602a086fdf": {
      "model_module": "@jupyter-widgets/controls",
      "model_module_version": "1.4.0",
      "model_name": "DescriptionStyleModel",
      "state": {
       "description_width": ""
      }
     },
     "982982977fba45cc828b0e3267b8b870": {
      "model_module": "@jupyter-widgets/base",
      "model_module_version": "1.1.0",
      "model_name": "LayoutModel",
      "state": {}
     },
     "9acc4cd594fe470d87160d073f6ab1bd": {
      "model_module": "@jupyter-widgets/base",
      "model_module_version": "1.1.0",
      "model_name": "LayoutModel",
      "state": {}
     },
     "9bfd0d7f427942ddbcf395a2775517d1": {
      "model_module": "@jupyter-widgets/controls",
      "model_module_version": "1.4.0",
      "model_name": "IntProgressModel",
      "state": {
       "bar_style": "success",
       "description": "validation...",
       "layout": "IPY_MODEL_be626f5374b04abaa40571fc6d52dc00",
       "max": 52,
       "style": "IPY_MODEL_0d8916ed3a4c4063a5c81787ab376807",
       "value": 52
      }
     },
     "9da32acca5ac4ae694b461b6863fa38c": {
      "model_module": "@jupyter-widgets/controls",
      "model_module_version": "1.4.0",
      "model_name": "HBoxModel",
      "state": {
       "children": [
        "IPY_MODEL_2e2f87984efa42edaaa30567f2662567",
        "IPY_MODEL_f295bdb1c7884edfbe1ec1b471570119"
       ],
       "layout": "IPY_MODEL_2be231f28c074ad79a111e8bfecb0a89"
      }
     },
     "9f13a202d3684bb9bf1a50929786729e": {
      "model_module": "@jupyter-widgets/controls",
      "model_module_version": "1.4.0",
      "model_name": "IntProgressModel",
      "state": {
       "bar_style": "success",
       "description": "validation...",
       "layout": "IPY_MODEL_a30b22b235dd454c97185de476808c22",
       "max": 52,
       "style": "IPY_MODEL_4d7ea38c86d14e8f9bf192ce8e78a50b",
       "value": 52
      }
     },
     "a1bb1571ed4a471d9f91ee0b7efb7944": {
      "model_module": "@jupyter-widgets/controls",
      "model_module_version": "1.4.0",
      "model_name": "IntProgressModel",
      "state": {
       "bar_style": "success",
       "description": "training...",
       "layout": "IPY_MODEL_7db8c0d153194930b899f31ae36cd724",
       "max": 205,
       "style": "IPY_MODEL_88b6d66cf18f4fd5917e20a0ec15353e",
       "value": 205
      }
     },
     "a30b22b235dd454c97185de476808c22": {
      "model_module": "@jupyter-widgets/base",
      "model_module_version": "1.1.0",
      "model_name": "LayoutModel",
      "state": {}
     },
     "a350d5e80fd2402989cf97715231b944": {
      "model_module": "@jupyter-widgets/controls",
      "model_module_version": "1.4.0",
      "model_name": "IntProgressModel",
      "state": {
       "bar_style": "success",
       "description": "validation...",
       "layout": "IPY_MODEL_a76fa1aa638d4d83b1ead59b13687c24",
       "max": 77,
       "style": "IPY_MODEL_5d58210a63db4841ad24c6951d3c72a4",
       "value": 77
      }
     },
     "a373bee17560456bb087b30e671bcef2": {
      "model_module": "@jupyter-widgets/base",
      "model_module_version": "1.1.0",
      "model_name": "LayoutModel",
      "state": {}
     },
     "a5a889ce0dee4c4eab5c85fb8c41aa58": {
      "model_module": "@jupyter-widgets/base",
      "model_module_version": "1.1.0",
      "model_name": "LayoutModel",
      "state": {}
     },
     "a60dd3838c464d8db25e257ab56fb9a7": {
      "model_module": "@jupyter-widgets/base",
      "model_module_version": "1.1.0",
      "model_name": "LayoutModel",
      "state": {}
     },
     "a6fa5f2175134679a75e081359b69adf": {
      "model_module": "@jupyter-widgets/controls",
      "model_module_version": "1.4.0",
      "model_name": "DescriptionStyleModel",
      "state": {
       "description_width": ""
      }
     },
     "a71b47fb143b470eb251dc9db3b9dfb7": {
      "model_module": "@jupyter-widgets/controls",
      "model_module_version": "1.4.0",
      "model_name": "HTMLModel",
      "state": {
       "layout": "IPY_MODEL_2e70e40b1b9841569b39b02cd3c6fd43",
       "style": "IPY_MODEL_96320eca0f474f61b5f60c602a086fdf",
       "value": "100% 205/205 [01:47&lt;00:00,  2.21it/s]"
      }
     },
     "a76fa1aa638d4d83b1ead59b13687c24": {
      "model_module": "@jupyter-widgets/base",
      "model_module_version": "1.1.0",
      "model_name": "LayoutModel",
      "state": {}
     },
     "a7a35617c61b48199e668dc8bfb7c972": {
      "model_module": "@jupyter-widgets/base",
      "model_module_version": "1.1.0",
      "model_name": "LayoutModel",
      "state": {}
     },
     "a7edc6f3cadf499e9bf21b44a0bdbf34": {
      "model_module": "@jupyter-widgets/controls",
      "model_module_version": "1.4.0",
      "model_name": "HTMLModel",
      "state": {
       "layout": "IPY_MODEL_1244897dff9640a69fb8a3915bd3af67",
       "style": "IPY_MODEL_e4b6bf30a7be4f1a87ea6d28b5f8d139",
       "value": "100% 205/205 [01:47&lt;00:00,  2.21it/s]"
      }
     },
     "a8c3c8e70cd24e3184f8c0836da4b1be": {
      "model_module": "@jupyter-widgets/controls",
      "model_module_version": "1.4.0",
      "model_name": "DescriptionStyleModel",
      "state": {
       "description_width": ""
      }
     },
     "aa558dbea0bb40fbb3faf137ae3ee8dc": {
      "model_module": "@jupyter-widgets/base",
      "model_module_version": "1.1.0",
      "model_name": "LayoutModel",
      "state": {}
     },
     "ab8b69c87625404e9eba3022b4cf9ccf": {
      "model_module": "@jupyter-widgets/controls",
      "model_module_version": "1.4.0",
      "model_name": "HBoxModel",
      "state": {
       "children": [
        "IPY_MODEL_24f3693b4e0b489387838d127d43525b",
        "IPY_MODEL_c4fbb48c17e34f00acf1612e1755df08"
       ],
       "layout": "IPY_MODEL_f9306655105d430e990cb134df835ed3"
      }
     },
     "abc915d845a949fe805cfa1c815bbb4d": {
      "model_module": "@jupyter-widgets/controls",
      "model_module_version": "1.4.0",
      "model_name": "IntProgressModel",
      "state": {
       "bar_style": "danger",
       "description": "training...",
       "layout": "IPY_MODEL_145badb2ba4a409293756702082c6f46",
       "max": 307,
       "style": "IPY_MODEL_4cd93ccd0b244054b2d3efcd568d6a43",
       "value": 24
      }
     },
     "ac6d89c93be94955b938f2c4d352ce60": {
      "model_module": "@jupyter-widgets/controls",
      "model_module_version": "1.4.0",
      "model_name": "HBoxModel",
      "state": {
       "children": [
        "IPY_MODEL_3575361e951746f68a8c329055096ec2",
        "IPY_MODEL_d230058aaeea4f93a7449e98ff872769"
       ],
       "layout": "IPY_MODEL_575c16c2d74240068e891f5406d026b3"
      }
     },
     "afa74552d26f4010abd09e7c35b1b921": {
      "model_module": "@jupyter-widgets/controls",
      "model_module_version": "1.4.0",
      "model_name": "HTMLModel",
      "state": {
       "layout": "IPY_MODEL_4d4c76677c5440a4b1926a0862fcf868",
       "style": "IPY_MODEL_0aceec1536b74ff98628e2c464def6c3",
       "value": "100% 315144/315144 [01:42&lt;00:00, 3082.02it/s]"
      }
     },
     "b026c8d447104a7b97b1fb34eec7168e": {
      "model_module": "@jupyter-widgets/base",
      "model_module_version": "1.1.0",
      "model_name": "LayoutModel",
      "state": {}
     },
     "b13a4d635bb74876915950045901e5d7": {
      "model_module": "@jupyter-widgets/controls",
      "model_module_version": "1.4.0",
      "model_name": "ProgressStyleModel",
      "state": {
       "description_width": ""
      }
     },
     "b23ba0776e3c44b1bbf8eb801a528f17": {
      "model_module": "@jupyter-widgets/base",
      "model_module_version": "1.1.0",
      "model_name": "LayoutModel",
      "state": {}
     },
     "b2eafd9a804d4f2a9ce5069a74f4ec5f": {
      "model_module": "@jupyter-widgets/base",
      "model_module_version": "1.1.0",
      "model_name": "LayoutModel",
      "state": {}
     },
     "b6230ea8335b4e13a1dc4ec9ed53d4f3": {
      "model_module": "@jupyter-widgets/controls",
      "model_module_version": "1.4.0",
      "model_name": "ProgressStyleModel",
      "state": {
       "description_width": ""
      }
     },
     "b628f91cfa4c48ba87dffe15ac3ac0d4": {
      "model_module": "@jupyter-widgets/base",
      "model_module_version": "1.1.0",
      "model_name": "LayoutModel",
      "state": {}
     },
     "b641811959fc433698e46ed5d0446691": {
      "model_module": "@jupyter-widgets/base",
      "model_module_version": "1.1.0",
      "model_name": "LayoutModel",
      "state": {}
     },
     "b6c877b9c0f8449987092eddc59a70b2": {
      "model_module": "@jupyter-widgets/controls",
      "model_module_version": "1.4.0",
      "model_name": "HBoxModel",
      "state": {
       "children": [
        "IPY_MODEL_78ddd8756c504f1fac56981abd85b445",
        "IPY_MODEL_dc71c78c7ef946f78675fde8677eeaa9"
       ],
       "layout": "IPY_MODEL_0e89886d4f884c0f899a219b71dac3d8"
      }
     },
     "b77d492535f648108f740809619146ff": {
      "model_module": "@jupyter-widgets/controls",
      "model_module_version": "1.4.0",
      "model_name": "HBoxModel",
      "state": {
       "children": [
        "IPY_MODEL_f8db9c0d73e7483ea10b6fc1ee210736",
        "IPY_MODEL_afa74552d26f4010abd09e7c35b1b921"
       ],
       "layout": "IPY_MODEL_b2eafd9a804d4f2a9ce5069a74f4ec5f"
      }
     },
     "b935dffb0d00461b856c5301a11c6326": {
      "model_module": "@jupyter-widgets/controls",
      "model_module_version": "1.4.0",
      "model_name": "DescriptionStyleModel",
      "state": {
       "description_width": ""
      }
     },
     "b968ec5ca4fb41fcbaa8622600a749b1": {
      "model_module": "@jupyter-widgets/controls",
      "model_module_version": "1.4.0",
      "model_name": "HTMLModel",
      "state": {
       "layout": "IPY_MODEL_d896d4befbf246588a4396db9eaf41fb",
       "style": "IPY_MODEL_861e1cbf823247ca8689c5e3893dcf34",
       "value": "100% 52/52 [00:22&lt;00:00,  2.27it/s]"
      }
     },
     "bab31849452346ae95203eaa62da8243": {
      "model_module": "@jupyter-widgets/base",
      "model_module_version": "1.1.0",
      "model_name": "LayoutModel",
      "state": {}
     },
     "bad1a36ffbe047edbc9af7960f67edf2": {
      "model_module": "@jupyter-widgets/controls",
      "model_module_version": "1.4.0",
      "model_name": "ProgressStyleModel",
      "state": {
       "description_width": "initial"
      }
     },
     "bb68e71874bc468eb7e3c501e82d9bba": {
      "model_module": "@jupyter-widgets/controls",
      "model_module_version": "1.4.0",
      "model_name": "HTMLModel",
      "state": {
       "layout": "IPY_MODEL_b026c8d447104a7b97b1fb34eec7168e",
       "style": "IPY_MODEL_6ab88cf6f2294f66b8a2091013d58fbf",
       "value": "100% 205/205 [01:48&lt;00:00,  2.20it/s]"
      }
     },
     "bb6b26c2d52f4d07ab0865d1389cbc46": {
      "model_module": "@jupyter-widgets/controls",
      "model_module_version": "1.4.0",
      "model_name": "HBoxModel",
      "state": {
       "children": [
        "IPY_MODEL_64bbb605d77c436b93e9274f53da518f",
        "IPY_MODEL_2bfb9e3bc68649a791d0072cb1f7a1a8"
       ],
       "layout": "IPY_MODEL_982982977fba45cc828b0e3267b8b870"
      }
     },
     "bd569488bcfe42f086288b03f522baae": {
      "model_module": "@jupyter-widgets/controls",
      "model_module_version": "1.4.0",
      "model_name": "HTMLModel",
      "state": {
       "layout": "IPY_MODEL_37a52d145be04655b89b5d5cf23c86e9",
       "style": "IPY_MODEL_2ed6af8659844aa2b3b61305e0357da8",
       "value": "  8% 24/307 [00:14&lt;01:57,  2.41it/s]"
      }
     },
     "be06e6907e3243e8ad35258b160b56d3": {
      "model_module": "@jupyter-widgets/controls",
      "model_module_version": "1.4.0",
      "model_name": "HBoxModel",
      "state": {
       "children": [
        "IPY_MODEL_9f13a202d3684bb9bf1a50929786729e",
        "IPY_MODEL_f2a4d80f0cac4cbd88bed3330eb07dd4"
       ],
       "layout": "IPY_MODEL_60140d3b8b2749ea9f9d788173f16509"
      }
     },
     "be626f5374b04abaa40571fc6d52dc00": {
      "model_module": "@jupyter-widgets/base",
      "model_module_version": "1.1.0",
      "model_name": "LayoutModel",
      "state": {}
     },
     "bec7e4d5ae5f450aa849b4cbc50a8381": {
      "model_module": "@jupyter-widgets/controls",
      "model_module_version": "1.4.0",
      "model_name": "HTMLModel",
      "state": {
       "layout": "IPY_MODEL_8cfb4fd255344e4dab4f83ae936b629c",
       "style": "IPY_MODEL_0cea430505b5474b860cafd8a3417e82",
       "value": "100% 52/52 [00:23&lt;00:00,  2.21it/s]"
      }
     },
     "bf6977aadabc429bbfe877678d1f60ee": {
      "model_module": "@jupyter-widgets/controls",
      "model_module_version": "1.4.0",
      "model_name": "ProgressStyleModel",
      "state": {
       "description_width": ""
      }
     },
     "bf7353190825483db564c9e8724fecbe": {
      "model_module": "@jupyter-widgets/controls",
      "model_module_version": "1.4.0",
      "model_name": "HTMLModel",
      "state": {
       "layout": "IPY_MODEL_fe3f3dcfbbc0451eb6258841c4b7162c",
       "style": "IPY_MODEL_683b320ae0344be2a90fee1537df83db",
       "value": "100% 205/205 [01:47&lt;00:00,  2.23it/s]"
      }
     },
     "c03c4ba9545743f58a6782533864ba10": {
      "model_module": "@jupyter-widgets/controls",
      "model_module_version": "1.4.0",
      "model_name": "IntProgressModel",
      "state": {
       "bar_style": "success",
       "description": "training...",
       "layout": "IPY_MODEL_2f67abf3ba0841b398458baa4623a563",
       "max": 205,
       "style": "IPY_MODEL_6f37d9b787554b369c69d94f46c95d69",
       "value": 205
      }
     },
     "c0439b407ea84e26a3466bee93cb4834": {
      "model_module": "@jupyter-widgets/controls",
      "model_module_version": "1.4.0",
      "model_name": "HBoxModel",
      "state": {
       "children": [
        "IPY_MODEL_a350d5e80fd2402989cf97715231b944",
        "IPY_MODEL_256fba288f11429c9fd8c9fcdd0dadb3"
       ],
       "layout": "IPY_MODEL_c8fc5deaa0d84efe9269816d4182acb7"
      }
     },
     "c11967b3062742e78ebbd0c4f99408a2": {
      "model_module": "@jupyter-widgets/base",
      "model_module_version": "1.1.0",
      "model_name": "LayoutModel",
      "state": {}
     },
     "c1f775a4212347e89f16765f3fda48c5": {
      "model_module": "@jupyter-widgets/controls",
      "model_module_version": "1.4.0",
      "model_name": "HTMLModel",
      "state": {
       "layout": "IPY_MODEL_50ec8e188aca41598fdfa4a429bf2431",
       "style": "IPY_MODEL_a6fa5f2175134679a75e081359b69adf",
       "value": "100% 99819/99819 [00:00&lt;00:00, 234669.74it/s]"
      }
     },
     "c2bc75561290446ba2205c607110e1c7": {
      "model_module": "@jupyter-widgets/controls",
      "model_module_version": "1.4.0",
      "model_name": "DescriptionStyleModel",
      "state": {
       "description_width": ""
      }
     },
     "c3721388aba24435b673ab1c112858d1": {
      "model_module": "@jupyter-widgets/controls",
      "model_module_version": "1.4.0",
      "model_name": "IntProgressModel",
      "state": {
       "bar_style": "danger",
       "description": "training...",
       "layout": "IPY_MODEL_690eea47080e43709d8c0a4a75be7f0a",
       "max": 307,
       "style": "IPY_MODEL_01c270a8834546078e142061c163510d"
      }
     },
     "c4fbb48c17e34f00acf1612e1755df08": {
      "model_module": "@jupyter-widgets/controls",
      "model_module_version": "1.4.0",
      "model_name": "HTMLModel",
      "state": {
       "layout": "IPY_MODEL_7004e17822314f04a04d4f834363bbe1",
       "style": "IPY_MODEL_d02d0228ddd1473898c138dc98a8c62b",
       "value": "100% 65/65 [00:26&lt;00:00,  5.99it/s]"
      }
     },
     "c54ef78b11ab4702bea4e48fd97bb0da": {
      "model_module": "@jupyter-widgets/controls",
      "model_module_version": "1.4.0",
      "model_name": "HTMLModel",
      "state": {
       "layout": "IPY_MODEL_f46d291bd1e64d13aa9f31f3064eaade",
       "style": "IPY_MODEL_a8c3c8e70cd24e3184f8c0836da4b1be",
       "value": "100% 78786/78786 [00:28&lt;00:00, 2801.78it/s]"
      }
     },
     "c5d0e30271a14ccfa75c12c7e52ba2f4": {
      "model_module": "@jupyter-widgets/controls",
      "model_module_version": "1.4.0",
      "model_name": "HBoxModel",
      "state": {
       "children": [
        "IPY_MODEL_9bfd0d7f427942ddbcf395a2775517d1",
        "IPY_MODEL_bec7e4d5ae5f450aa849b4cbc50a8381"
       ],
       "layout": "IPY_MODEL_3eef6c94c68841a9bab5b35596b0b7c4"
      }
     },
     "c8fc5deaa0d84efe9269816d4182acb7": {
      "model_module": "@jupyter-widgets/base",
      "model_module_version": "1.1.0",
      "model_name": "LayoutModel",
      "state": {}
     },
     "ca0bd455eb4843e792d9e7d37c591fe5": {
      "model_module": "@jupyter-widgets/base",
      "model_module_version": "1.1.0",
      "model_name": "LayoutModel",
      "state": {}
     },
     "ce0db823b99e4798b780781280998f8d": {
      "model_module": "@jupyter-widgets/base",
      "model_module_version": "1.1.0",
      "model_name": "LayoutModel",
      "state": {}
     },
     "ce9b8ac8a77049a09da182369b204da4": {
      "model_module": "@jupyter-widgets/controls",
      "model_module_version": "1.4.0",
      "model_name": "ProgressStyleModel",
      "state": {
       "description_width": "initial"
      }
     },
     "cfaeed3f779a40299a7410c72cba04da": {
      "model_module": "@jupyter-widgets/controls",
      "model_module_version": "1.4.0",
      "model_name": "ProgressStyleModel",
      "state": {
       "description_width": ""
      }
     },
     "d02d0228ddd1473898c138dc98a8c62b": {
      "model_module": "@jupyter-widgets/controls",
      "model_module_version": "1.4.0",
      "model_name": "DescriptionStyleModel",
      "state": {
       "description_width": ""
      }
     },
     "d0cf81aa94864ffba4abd9817b1ac7fc": {
      "model_module": "@jupyter-widgets/controls",
      "model_module_version": "1.4.0",
      "model_name": "DescriptionStyleModel",
      "state": {
       "description_width": ""
      }
     },
     "d0e04e8e68d847f29a79822f4ff33048": {
      "model_module": "@jupyter-widgets/controls",
      "model_module_version": "1.4.0",
      "model_name": "HBoxModel",
      "state": {
       "children": [
        "IPY_MODEL_abc915d845a949fe805cfa1c815bbb4d",
        "IPY_MODEL_bd569488bcfe42f086288b03f522baae"
       ],
       "layout": "IPY_MODEL_72d3e83fafa543ffba2ab3d161916519"
      }
     },
     "d230058aaeea4f93a7449e98ff872769": {
      "model_module": "@jupyter-widgets/controls",
      "model_module_version": "1.4.0",
      "model_name": "HTMLModel",
      "state": {
       "layout": "IPY_MODEL_b23ba0776e3c44b1bbf8eb801a528f17",
       "style": "IPY_MODEL_5902c481822d4191ad0b13ef3c2897fa",
       "value": "100% 52/52 [00:23&lt;00:00,  2.23it/s]"
      }
     },
     "d394606cf2f9418cbdb3593977bf3045": {
      "model_module": "@jupyter-widgets/controls",
      "model_module_version": "1.4.0",
      "model_name": "HBoxModel",
      "state": {
       "children": [
        "IPY_MODEL_5238bb14119f4b2c9e627740f5380696",
        "IPY_MODEL_a7edc6f3cadf499e9bf21b44a0bdbf34"
       ],
       "layout": "IPY_MODEL_36885fdea207487da136f2148f521b0b"
      }
     },
     "d896d4befbf246588a4396db9eaf41fb": {
      "model_module": "@jupyter-widgets/base",
      "model_module_version": "1.1.0",
      "model_name": "LayoutModel",
      "state": {}
     },
     "d9ab8aebba724124b7bb681ae3c48896": {
      "model_module": "@jupyter-widgets/controls",
      "model_module_version": "1.4.0",
      "model_name": "HBoxModel",
      "state": {
       "children": [
        "IPY_MODEL_4de2a219cbe54ed1806bdf37f79aec3a",
        "IPY_MODEL_fbdc533c9ab54f96acd6d232cce6947a"
       ],
       "layout": "IPY_MODEL_4909abdaaff84e65b536442f16be2624"
      }
     },
     "dc71c78c7ef946f78675fde8677eeaa9": {
      "model_module": "@jupyter-widgets/controls",
      "model_module_version": "1.4.0",
      "model_name": "HTMLModel",
      "state": {
       "layout": "IPY_MODEL_5de19f99433d432aaaf61668fe0de58f",
       "style": "IPY_MODEL_e8938b64e6514e069a32e64056a5dfb2",
       "value": "100% 307/307 [02:21&lt;00:00,  2.37it/s]"
      }
     },
     "dec316600b8a47a3a9fb55e803cef3f7": {
      "model_module": "@jupyter-widgets/controls",
      "model_module_version": "1.4.0",
      "model_name": "HTMLModel",
      "state": {
       "layout": "IPY_MODEL_132ce074df2c47cc97602794b8b885a6",
       "style": "IPY_MODEL_228926a90d82416f8c19d273033863cb",
       "value": "100% 78786/78786 [00:28&lt;00:00, 2790.16it/s]"
      }
     },
     "e066d09c86a84cddb8ca485712dd8bf2": {
      "model_module": "@jupyter-widgets/controls",
      "model_module_version": "1.4.0",
      "model_name": "HBoxModel",
      "state": {
       "children": [
        "IPY_MODEL_8c9de74e718f4794899cc76297ae1ede",
        "IPY_MODEL_c54ef78b11ab4702bea4e48fd97bb0da"
       ],
       "layout": "IPY_MODEL_b641811959fc433698e46ed5d0446691"
      }
     },
     "e108aa7fdae04040a92ba605643076a6": {
      "model_module": "@jupyter-widgets/controls",
      "model_module_version": "1.4.0",
      "model_name": "HBoxModel",
      "state": {
       "children": [
        "IPY_MODEL_1546c244ea85465188f05ae2088f6d9a",
        "IPY_MODEL_66df68a0ee5344bb8682e478ba5c59b4"
       ],
       "layout": "IPY_MODEL_2818bfd790d0484e903dd457a8c0e18f"
      }
     },
     "e4b6bf30a7be4f1a87ea6d28b5f8d139": {
      "model_module": "@jupyter-widgets/controls",
      "model_module_version": "1.4.0",
      "model_name": "DescriptionStyleModel",
      "state": {
       "description_width": ""
      }
     },
     "e67f48ff65a943cbbe7339f8ff5b3c44": {
      "model_module": "@jupyter-widgets/controls",
      "model_module_version": "1.4.0",
      "model_name": "ProgressStyleModel",
      "state": {
       "description_width": "initial"
      }
     },
     "e8467d48540e463782d886bc19a479a2": {
      "model_module": "@jupyter-widgets/controls",
      "model_module_version": "1.4.0",
      "model_name": "HBoxModel",
      "state": {
       "children": [
        "IPY_MODEL_1d98907d15564c8298ac3bf94312c055",
        "IPY_MODEL_fb3a03a57ac741e79bbd2450be1634c5"
       ],
       "layout": "IPY_MODEL_a373bee17560456bb087b30e671bcef2"
      }
     },
     "e8938b64e6514e069a32e64056a5dfb2": {
      "model_module": "@jupyter-widgets/controls",
      "model_module_version": "1.4.0",
      "model_name": "DescriptionStyleModel",
      "state": {
       "description_width": ""
      }
     },
     "e9b0704241864fa98ff75758697334d7": {
      "model_module": "@jupyter-widgets/base",
      "model_module_version": "1.1.0",
      "model_name": "LayoutModel",
      "state": {}
     },
     "ea10c1901f4e4035812257a4a71ad564": {
      "model_module": "@jupyter-widgets/base",
      "model_module_version": "1.1.0",
      "model_name": "LayoutModel",
      "state": {}
     },
     "eacedbfd06e64d11a1b50841e7e9f9ce": {
      "model_module": "@jupyter-widgets/base",
      "model_module_version": "1.1.0",
      "model_name": "LayoutModel",
      "state": {}
     },
     "ecc1ecd14e8640cba81ce547baedd23a": {
      "model_module": "@jupyter-widgets/controls",
      "model_module_version": "1.4.0",
      "model_name": "HBoxModel",
      "state": {
       "children": [
        "IPY_MODEL_4b5a14a1a8bc4257ba3165a6b05632f7",
        "IPY_MODEL_6ea57be07d0a46c2a0c8a25503c619d2"
       ],
       "layout": "IPY_MODEL_4692113d5fba4968835cce9357dcf80a"
      }
     },
     "ecf68db8390243039f6f823cee1386ec": {
      "model_module": "@jupyter-widgets/base",
      "model_module_version": "1.1.0",
      "model_name": "LayoutModel",
      "state": {}
     },
     "ef00752880244e92ae7cb13d3c27ced2": {
      "model_module": "@jupyter-widgets/base",
      "model_module_version": "1.1.0",
      "model_name": "LayoutModel",
      "state": {}
     },
     "f0eaaa2b75364f94a418a2d962f6e36c": {
      "model_module": "@jupyter-widgets/base",
      "model_module_version": "1.1.0",
      "model_name": "LayoutModel",
      "state": {}
     },
     "f295bdb1c7884edfbe1ec1b471570119": {
      "model_module": "@jupyter-widgets/controls",
      "model_module_version": "1.4.0",
      "model_name": "HTMLModel",
      "state": {
       "layout": "IPY_MODEL_f0eaaa2b75364f94a418a2d962f6e36c",
       "style": "IPY_MODEL_6b955d4d401d4b77a82d815f09a1c689",
       "value": "100% 52/52 [00:22&lt;00:00,  2.28it/s]"
      }
     },
     "f2a4d80f0cac4cbd88bed3330eb07dd4": {
      "model_module": "@jupyter-widgets/controls",
      "model_module_version": "1.4.0",
      "model_name": "HTMLModel",
      "state": {
       "layout": "IPY_MODEL_ca0bd455eb4843e792d9e7d37c591fe5",
       "style": "IPY_MODEL_c2bc75561290446ba2205c607110e1c7",
       "value": "100% 52/52 [00:23&lt;00:00,  2.24it/s]"
      }
     },
     "f46d291bd1e64d13aa9f31f3064eaade": {
      "model_module": "@jupyter-widgets/base",
      "model_module_version": "1.1.0",
      "model_name": "LayoutModel",
      "state": {}
     },
     "f486eef86d634130a7d74216f7769721": {
      "model_module": "@jupyter-widgets/controls",
      "model_module_version": "1.4.0",
      "model_name": "HBoxModel",
      "state": {
       "children": [
        "IPY_MODEL_f806264fe9b2428ebf63de49273c8c8e",
        "IPY_MODEL_b968ec5ca4fb41fcbaa8622600a749b1"
       ],
       "layout": "IPY_MODEL_36573ca7f4af4c17bfbdc1549683c59b"
      }
     },
     "f4d033510cc24fbd96772f0e79a8cbe2": {
      "model_module": "@jupyter-widgets/controls",
      "model_module_version": "1.4.0",
      "model_name": "IntProgressModel",
      "state": {
       "bar_style": "success",
       "description": "training...",
       "layout": "IPY_MODEL_c11967b3062742e78ebbd0c4f99408a2",
       "max": 205,
       "style": "IPY_MODEL_bad1a36ffbe047edbc9af7960f67edf2",
       "value": 205
      }
     },
     "f806264fe9b2428ebf63de49273c8c8e": {
      "model_module": "@jupyter-widgets/controls",
      "model_module_version": "1.4.0",
      "model_name": "IntProgressModel",
      "state": {
       "bar_style": "success",
       "description": "validation...",
       "layout": "IPY_MODEL_bab31849452346ae95203eaa62da8243",
       "max": 52,
       "style": "IPY_MODEL_5ea8aa0ab9864f9fb0e4944b2d7fa457",
       "value": 52
      }
     },
     "f8db9c0d73e7483ea10b6fc1ee210736": {
      "model_module": "@jupyter-widgets/controls",
      "model_module_version": "1.4.0",
      "model_name": "IntProgressModel",
      "state": {
       "bar_style": "success",
       "layout": "IPY_MODEL_a5a889ce0dee4c4eab5c85fb8c41aa58",
       "max": 315144,
       "style": "IPY_MODEL_b13a4d635bb74876915950045901e5d7",
       "value": 315144
      }
     },
     "f91279e4b55d45058dccd67ddea89ef5": {
      "model_module": "@jupyter-widgets/controls",
      "model_module_version": "1.4.0",
      "model_name": "IntProgressModel",
      "state": {
       "bar_style": "success",
       "layout": "IPY_MODEL_850eddf5588d42e3a5113cb0e4674df4",
       "max": 315144,
       "style": "IPY_MODEL_bf6977aadabc429bbfe877678d1f60ee",
       "value": 315144
      }
     },
     "f9306655105d430e990cb134df835ed3": {
      "model_module": "@jupyter-widgets/base",
      "model_module_version": "1.1.0",
      "model_name": "LayoutModel",
      "state": {}
     },
     "fb3a03a57ac741e79bbd2450be1634c5": {
      "model_module": "@jupyter-widgets/controls",
      "model_module_version": "1.4.0",
      "model_name": "HTMLModel",
      "state": {
       "layout": "IPY_MODEL_5ebbcaf601834d3b8cfea9b2e562c786",
       "style": "IPY_MODEL_b935dffb0d00461b856c5301a11c6326",
       "value": "100% 205/205 [01:46&lt;00:00,  2.23it/s]"
      }
     },
     "fbd4086cea764ae9a79404be810989eb": {
      "model_module": "@jupyter-widgets/controls",
      "model_module_version": "1.4.0",
      "model_name": "HTMLModel",
      "state": {
       "layout": "IPY_MODEL_502a591fff99490392c29dc53a823b2a",
       "style": "IPY_MODEL_35f07a745c1148b88a603bb77515b332",
       "value": "100% 315144/315144 [01:43&lt;00:00, 3035.83it/s]"
      }
     },
     "fbdc533c9ab54f96acd6d232cce6947a": {
      "model_module": "@jupyter-widgets/controls",
      "model_module_version": "1.4.0",
      "model_name": "HTMLModel",
      "state": {
       "layout": "IPY_MODEL_eacedbfd06e64d11a1b50841e7e9f9ce",
       "style": "IPY_MODEL_90f869af83c241c5972e12151f2c35d7",
       "value": "100% 205/205 [01:46&lt;00:00,  2.20it/s]"
      }
     },
     "fc8da8fbcad349719cebdc0892fa9362": {
      "model_module": "@jupyter-widgets/base",
      "model_module_version": "1.1.0",
      "model_name": "LayoutModel",
      "state": {}
     },
     "fd474e167c4942a3a873e8260557d010": {
      "model_module": "@jupyter-widgets/base",
      "model_module_version": "1.1.0",
      "model_name": "LayoutModel",
      "state": {}
     },
     "fe3f3dcfbbc0451eb6258841c4b7162c": {
      "model_module": "@jupyter-widgets/base",
      "model_module_version": "1.1.0",
      "model_name": "LayoutModel",
      "state": {}
     },
     "fe57096f72df4bfab7a3b91dc4fa180f": {
      "model_module": "@jupyter-widgets/base",
      "model_module_version": "1.1.0",
      "model_name": "LayoutModel",
      "state": {}
     }
    },
    "version_major": 2,
    "version_minor": 0
   }
  }
 },
 "nbformat": 4,
 "nbformat_minor": 2
}
