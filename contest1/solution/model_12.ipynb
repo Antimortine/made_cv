{
 "cells": [
  {
   "cell_type": "markdown",
   "metadata": {},
   "source": [
    "Let's replace resnet34 by resnet50  \n",
    "prev model: model_11"
   ]
  },
  {
   "cell_type": "code",
   "execution_count": 1,
   "metadata": {},
   "outputs": [],
   "source": [
    "import os\n",
    "import pickle\n",
    "\n",
    "import numpy as np\n",
    "import torch\n",
    "import torch.nn as nn\n",
    "import torch.optim as optim\n",
    "import torchvision.models as models\n",
    "import tqdm\n",
    "from torch.nn import functional as fnn\n",
    "from torch.utils import data\n",
    "from torchvision import transforms\n",
    "\n",
    "from hack_utils import ScaleMinSideToSize, CropCenter, TransformByKeys\n",
    "from hack_utils import ThousandLandmarksDataset\n",
    "from hack_utils import restore_landmarks_batch, create_submission\n",
    "from hack_utils import stqdm\n",
    "\n",
    "import cv2\n",
    "import matplotlib.pyplot as plt\n",
    "%matplotlib inline"
   ]
  },
  {
   "cell_type": "code",
   "execution_count": 2,
   "metadata": {},
   "outputs": [],
   "source": [
    "DATA_DIR = '../data/'\n",
    "LOCAL_DATA_DIR = '/work/local_data/made_cv/contest1'"
   ]
  },
  {
   "cell_type": "code",
   "execution_count": 3,
   "metadata": {},
   "outputs": [],
   "source": [
    "GPUs = [0, 1, 2]"
   ]
  },
  {
   "cell_type": "code",
   "execution_count": 4,
   "metadata": {},
   "outputs": [],
   "source": [
    "NUM_PTS = 971\n",
    "CROP_SIZE = 128\n",
    "BATCH_SIZE = 256 * len(GPUs)\n",
    "LR = 1e-3\n",
    "NUM_WORKERS = 24\n",
    "MODEL_NAME = 'model_12'"
   ]
  },
  {
   "cell_type": "code",
   "execution_count": 5,
   "metadata": {},
   "outputs": [],
   "source": [
    "torch.backends.cudnn.deterministic = True\n",
    "torch.backends.cudnn.benchmark = False"
   ]
  },
  {
   "cell_type": "code",
   "execution_count": 6,
   "metadata": {},
   "outputs": [],
   "source": [
    "def train(model, loader, loss_fn, optimizer, device):\n",
    "    model.train()\n",
    "    train_loss = []\n",
    "    for batch in stqdm(loader, total=len(loader), desc=\"training...\", leave=True):\n",
    "        images = batch[\"image\"].to(device)  # B x 3 x CROP_SIZE x CROP_SIZE\n",
    "        landmarks = batch[\"landmarks\"]  # B x (2 * NUM_PTS)\n",
    "\n",
    "        pred_landmarks = model(images).cpu()  # B x (2 * NUM_PTS)\n",
    "        loss = loss_fn(pred_landmarks, landmarks, reduction=\"mean\")\n",
    "        train_loss.append(loss.item())\n",
    "\n",
    "        optimizer.zero_grad()\n",
    "        loss.backward()\n",
    "        optimizer.step()\n",
    "\n",
    "    return np.mean(train_loss)"
   ]
  },
  {
   "cell_type": "code",
   "execution_count": 7,
   "metadata": {},
   "outputs": [],
   "source": [
    "def validate(model, loader, loss_fn, device):\n",
    "    model.eval()\n",
    "    val_loss = []\n",
    "    for batch in stqdm(loader, total=len(loader), desc=\"validation...\", leave=True):\n",
    "        images = batch[\"image\"].to(device)\n",
    "        landmarks = batch[\"landmarks\"]\n",
    "\n",
    "        with torch.no_grad():\n",
    "            pred_landmarks = model(images).cpu()\n",
    "        loss = loss_fn(pred_landmarks, landmarks, reduction=\"mean\")\n",
    "        val_loss.append(loss.item())\n",
    "\n",
    "    return np.mean(val_loss)"
   ]
  },
  {
   "cell_type": "code",
   "execution_count": 8,
   "metadata": {},
   "outputs": [],
   "source": [
    "def predict(model, loader, device):\n",
    "    model.eval()\n",
    "    predictions = np.zeros((len(loader.dataset), NUM_PTS, 2))\n",
    "    for i, batch in enumerate(stqdm(loader, total=len(loader), desc=\"test prediction...\", leave=True)):\n",
    "        images = batch[\"image\"].to(device)\n",
    "\n",
    "        with torch.no_grad():\n",
    "            pred_landmarks = model(images).cpu()\n",
    "        pred_landmarks = pred_landmarks.numpy().reshape((len(pred_landmarks), NUM_PTS, 2))  # B x NUM_PTS x 2\n",
    "\n",
    "        fs = batch[\"scale_coef\"].numpy()  # B\n",
    "        margins_x = batch[\"crop_margin_x\"].numpy()  # B\n",
    "        margins_y = batch[\"crop_margin_y\"].numpy()  # B\n",
    "        prediction = restore_landmarks_batch(pred_landmarks, fs, margins_x, margins_y)  # B x NUM_PTS x 2\n",
    "        predictions[i * loader.batch_size: (i + 1) * loader.batch_size] = prediction\n",
    "\n",
    "    return predictions"
   ]
  },
  {
   "cell_type": "code",
   "execution_count": null,
   "metadata": {},
   "outputs": [],
   "source": [
    "train_transforms = transforms.Compose([\n",
    "    ScaleMinSideToSize((CROP_SIZE, CROP_SIZE)),\n",
    "    CropCenter(CROP_SIZE),\n",
    "    TransformByKeys(transforms.ToPILImage(), (\"image\",)),\n",
    "    TransformByKeys(transforms.ColorJitter(brightness=0.2, contrast=0.2, saturation=0.2, hue=0.2), (\"image\",)),\n",
    "    TransformByKeys(transforms.ToTensor(), (\"image\",)),\n",
    "    TransformByKeys(transforms.Normalize(mean=[0.4782, 0.3758, 0.3277], std=[0.3077, 0.2652, 0.2521]), (\"image\",)),\n",
    "    TransformByKeys(transforms.RandomErasing(p=0.5, scale=(0.02, 0.33), ratio=(0.3, 3.3)), (\"image\",)),\n",
    "])"
   ]
  },
  {
   "cell_type": "code",
   "execution_count": null,
   "metadata": {},
   "outputs": [],
   "source": [
    "test_transforms = transforms.Compose([\n",
    "    ScaleMinSideToSize((CROP_SIZE, CROP_SIZE)),\n",
    "    CropCenter(CROP_SIZE),\n",
    "    TransformByKeys(transforms.ToPILImage(), (\"image\",)),\n",
    "    TransformByKeys(transforms.ToTensor(), (\"image\",)),\n",
    "    TransformByKeys(transforms.Normalize(mean=[0.4782, 0.3758, 0.3277], std=[0.3077, 0.2652, 0.2521]), (\"image\",)),\n",
    "])"
   ]
  },
  {
   "cell_type": "code",
   "execution_count": null,
   "metadata": {},
   "outputs": [
    {
     "name": "stdout",
     "output_type": "stream",
     "text": [
      "Total lines (without header): 393930\n",
      "Loading train dataset (315144 lines)\n"
     ]
    },
    {
     "data": {
      "application/vnd.jupyter.widget-view+json": {
       "model_id": "a3eefc04dc294fd983f375a0432c130b",
       "version_major": 2,
       "version_minor": 0
      },
      "text/plain": [
       "HBox(children=(IntProgress(value=0, max=315144), HTML(value='')))"
      ]
     },
     "metadata": {},
     "output_type": "display_data"
    },
    {
     "name": "stdout",
     "output_type": "stream",
     "text": [
      "\n",
      "Total lines (without header): 393930\n",
      "Loading val dataset (78786 lines)\n"
     ]
    },
    {
     "data": {
      "application/vnd.jupyter.widget-view+json": {
       "model_id": "73b239c02aee4bb39d8c17f47576e171",
       "version_major": 2,
       "version_minor": 0
      },
      "text/plain": [
       "HBox(children=(IntProgress(value=0, max=78786), HTML(value='')))"
      ]
     },
     "metadata": {},
     "output_type": "display_data"
    },
    {
     "name": "stdout",
     "output_type": "stream",
     "text": [
      "\n"
     ]
    }
   ],
   "source": [
    "train_dataset = ThousandLandmarksDataset(os.path.join(LOCAL_DATA_DIR, 'train'), train_transforms, split=\"train\")\n",
    "val_dataset = ThousandLandmarksDataset(os.path.join(LOCAL_DATA_DIR, 'train'), test_transforms, split=\"val\")"
   ]
  },
  {
   "cell_type": "code",
   "execution_count": null,
   "metadata": {
    "scrolled": true
   },
   "outputs": [],
   "source": [
    "train_dataloader = data.DataLoader(train_dataset, batch_size=BATCH_SIZE, num_workers=NUM_WORKERS, pin_memory=True,\n",
    "                                   shuffle=True, drop_last=True)\n",
    "val_dataloader = data.DataLoader(val_dataset, batch_size=BATCH_SIZE, num_workers=NUM_WORKERS, pin_memory=True,\n",
    "                                 shuffle=False, drop_last=False)"
   ]
  },
  {
   "cell_type": "code",
   "execution_count": null,
   "metadata": {},
   "outputs": [
    {
     "data": {
      "text/plain": [
       "device(type='cuda', index=0)"
      ]
     },
     "execution_count": 13,
     "metadata": {},
     "output_type": "execute_result"
    }
   ],
   "source": [
    "device = torch.device(\"cuda:0\") if torch.cuda.is_available() else torch.device(\"cpu\")\n",
    "device"
   ]
  },
  {
   "cell_type": "code",
   "execution_count": null,
   "metadata": {
    "scrolled": true
   },
   "outputs": [
    {
     "data": {
      "text/plain": [
       "DataParallel(\n",
       "  (module): ResNet(\n",
       "    (conv1): Conv2d(3, 64, kernel_size=(7, 7), stride=(2, 2), padding=(3, 3), bias=False)\n",
       "    (bn1): BatchNorm2d(64, eps=1e-05, momentum=0.1, affine=True, track_running_stats=True)\n",
       "    (relu): ReLU(inplace=True)\n",
       "    (maxpool): MaxPool2d(kernel_size=3, stride=2, padding=1, dilation=1, ceil_mode=False)\n",
       "    (layer1): Sequential(\n",
       "      (0): Bottleneck(\n",
       "        (conv1): Conv2d(64, 64, kernel_size=(1, 1), stride=(1, 1), bias=False)\n",
       "        (bn1): BatchNorm2d(64, eps=1e-05, momentum=0.1, affine=True, track_running_stats=True)\n",
       "        (conv2): Conv2d(64, 64, kernel_size=(3, 3), stride=(1, 1), padding=(1, 1), bias=False)\n",
       "        (bn2): BatchNorm2d(64, eps=1e-05, momentum=0.1, affine=True, track_running_stats=True)\n",
       "        (conv3): Conv2d(64, 256, kernel_size=(1, 1), stride=(1, 1), bias=False)\n",
       "        (bn3): BatchNorm2d(256, eps=1e-05, momentum=0.1, affine=True, track_running_stats=True)\n",
       "        (relu): ReLU(inplace=True)\n",
       "        (downsample): Sequential(\n",
       "          (0): Conv2d(64, 256, kernel_size=(1, 1), stride=(1, 1), bias=False)\n",
       "          (1): BatchNorm2d(256, eps=1e-05, momentum=0.1, affine=True, track_running_stats=True)\n",
       "        )\n",
       "      )\n",
       "      (1): Bottleneck(\n",
       "        (conv1): Conv2d(256, 64, kernel_size=(1, 1), stride=(1, 1), bias=False)\n",
       "        (bn1): BatchNorm2d(64, eps=1e-05, momentum=0.1, affine=True, track_running_stats=True)\n",
       "        (conv2): Conv2d(64, 64, kernel_size=(3, 3), stride=(1, 1), padding=(1, 1), bias=False)\n",
       "        (bn2): BatchNorm2d(64, eps=1e-05, momentum=0.1, affine=True, track_running_stats=True)\n",
       "        (conv3): Conv2d(64, 256, kernel_size=(1, 1), stride=(1, 1), bias=False)\n",
       "        (bn3): BatchNorm2d(256, eps=1e-05, momentum=0.1, affine=True, track_running_stats=True)\n",
       "        (relu): ReLU(inplace=True)\n",
       "      )\n",
       "      (2): Bottleneck(\n",
       "        (conv1): Conv2d(256, 64, kernel_size=(1, 1), stride=(1, 1), bias=False)\n",
       "        (bn1): BatchNorm2d(64, eps=1e-05, momentum=0.1, affine=True, track_running_stats=True)\n",
       "        (conv2): Conv2d(64, 64, kernel_size=(3, 3), stride=(1, 1), padding=(1, 1), bias=False)\n",
       "        (bn2): BatchNorm2d(64, eps=1e-05, momentum=0.1, affine=True, track_running_stats=True)\n",
       "        (conv3): Conv2d(64, 256, kernel_size=(1, 1), stride=(1, 1), bias=False)\n",
       "        (bn3): BatchNorm2d(256, eps=1e-05, momentum=0.1, affine=True, track_running_stats=True)\n",
       "        (relu): ReLU(inplace=True)\n",
       "      )\n",
       "    )\n",
       "    (layer2): Sequential(\n",
       "      (0): Bottleneck(\n",
       "        (conv1): Conv2d(256, 128, kernel_size=(1, 1), stride=(1, 1), bias=False)\n",
       "        (bn1): BatchNorm2d(128, eps=1e-05, momentum=0.1, affine=True, track_running_stats=True)\n",
       "        (conv2): Conv2d(128, 128, kernel_size=(3, 3), stride=(2, 2), padding=(1, 1), bias=False)\n",
       "        (bn2): BatchNorm2d(128, eps=1e-05, momentum=0.1, affine=True, track_running_stats=True)\n",
       "        (conv3): Conv2d(128, 512, kernel_size=(1, 1), stride=(1, 1), bias=False)\n",
       "        (bn3): BatchNorm2d(512, eps=1e-05, momentum=0.1, affine=True, track_running_stats=True)\n",
       "        (relu): ReLU(inplace=True)\n",
       "        (downsample): Sequential(\n",
       "          (0): Conv2d(256, 512, kernel_size=(1, 1), stride=(2, 2), bias=False)\n",
       "          (1): BatchNorm2d(512, eps=1e-05, momentum=0.1, affine=True, track_running_stats=True)\n",
       "        )\n",
       "      )\n",
       "      (1): Bottleneck(\n",
       "        (conv1): Conv2d(512, 128, kernel_size=(1, 1), stride=(1, 1), bias=False)\n",
       "        (bn1): BatchNorm2d(128, eps=1e-05, momentum=0.1, affine=True, track_running_stats=True)\n",
       "        (conv2): Conv2d(128, 128, kernel_size=(3, 3), stride=(1, 1), padding=(1, 1), bias=False)\n",
       "        (bn2): BatchNorm2d(128, eps=1e-05, momentum=0.1, affine=True, track_running_stats=True)\n",
       "        (conv3): Conv2d(128, 512, kernel_size=(1, 1), stride=(1, 1), bias=False)\n",
       "        (bn3): BatchNorm2d(512, eps=1e-05, momentum=0.1, affine=True, track_running_stats=True)\n",
       "        (relu): ReLU(inplace=True)\n",
       "      )\n",
       "      (2): Bottleneck(\n",
       "        (conv1): Conv2d(512, 128, kernel_size=(1, 1), stride=(1, 1), bias=False)\n",
       "        (bn1): BatchNorm2d(128, eps=1e-05, momentum=0.1, affine=True, track_running_stats=True)\n",
       "        (conv2): Conv2d(128, 128, kernel_size=(3, 3), stride=(1, 1), padding=(1, 1), bias=False)\n",
       "        (bn2): BatchNorm2d(128, eps=1e-05, momentum=0.1, affine=True, track_running_stats=True)\n",
       "        (conv3): Conv2d(128, 512, kernel_size=(1, 1), stride=(1, 1), bias=False)\n",
       "        (bn3): BatchNorm2d(512, eps=1e-05, momentum=0.1, affine=True, track_running_stats=True)\n",
       "        (relu): ReLU(inplace=True)\n",
       "      )\n",
       "      (3): Bottleneck(\n",
       "        (conv1): Conv2d(512, 128, kernel_size=(1, 1), stride=(1, 1), bias=False)\n",
       "        (bn1): BatchNorm2d(128, eps=1e-05, momentum=0.1, affine=True, track_running_stats=True)\n",
       "        (conv2): Conv2d(128, 128, kernel_size=(3, 3), stride=(1, 1), padding=(1, 1), bias=False)\n",
       "        (bn2): BatchNorm2d(128, eps=1e-05, momentum=0.1, affine=True, track_running_stats=True)\n",
       "        (conv3): Conv2d(128, 512, kernel_size=(1, 1), stride=(1, 1), bias=False)\n",
       "        (bn3): BatchNorm2d(512, eps=1e-05, momentum=0.1, affine=True, track_running_stats=True)\n",
       "        (relu): ReLU(inplace=True)\n",
       "      )\n",
       "    )\n",
       "    (layer3): Sequential(\n",
       "      (0): Bottleneck(\n",
       "        (conv1): Conv2d(512, 256, kernel_size=(1, 1), stride=(1, 1), bias=False)\n",
       "        (bn1): BatchNorm2d(256, eps=1e-05, momentum=0.1, affine=True, track_running_stats=True)\n",
       "        (conv2): Conv2d(256, 256, kernel_size=(3, 3), stride=(2, 2), padding=(1, 1), bias=False)\n",
       "        (bn2): BatchNorm2d(256, eps=1e-05, momentum=0.1, affine=True, track_running_stats=True)\n",
       "        (conv3): Conv2d(256, 1024, kernel_size=(1, 1), stride=(1, 1), bias=False)\n",
       "        (bn3): BatchNorm2d(1024, eps=1e-05, momentum=0.1, affine=True, track_running_stats=True)\n",
       "        (relu): ReLU(inplace=True)\n",
       "        (downsample): Sequential(\n",
       "          (0): Conv2d(512, 1024, kernel_size=(1, 1), stride=(2, 2), bias=False)\n",
       "          (1): BatchNorm2d(1024, eps=1e-05, momentum=0.1, affine=True, track_running_stats=True)\n",
       "        )\n",
       "      )\n",
       "      (1): Bottleneck(\n",
       "        (conv1): Conv2d(1024, 256, kernel_size=(1, 1), stride=(1, 1), bias=False)\n",
       "        (bn1): BatchNorm2d(256, eps=1e-05, momentum=0.1, affine=True, track_running_stats=True)\n",
       "        (conv2): Conv2d(256, 256, kernel_size=(3, 3), stride=(1, 1), padding=(1, 1), bias=False)\n",
       "        (bn2): BatchNorm2d(256, eps=1e-05, momentum=0.1, affine=True, track_running_stats=True)\n",
       "        (conv3): Conv2d(256, 1024, kernel_size=(1, 1), stride=(1, 1), bias=False)\n",
       "        (bn3): BatchNorm2d(1024, eps=1e-05, momentum=0.1, affine=True, track_running_stats=True)\n",
       "        (relu): ReLU(inplace=True)\n",
       "      )\n",
       "      (2): Bottleneck(\n",
       "        (conv1): Conv2d(1024, 256, kernel_size=(1, 1), stride=(1, 1), bias=False)\n",
       "        (bn1): BatchNorm2d(256, eps=1e-05, momentum=0.1, affine=True, track_running_stats=True)\n",
       "        (conv2): Conv2d(256, 256, kernel_size=(3, 3), stride=(1, 1), padding=(1, 1), bias=False)\n",
       "        (bn2): BatchNorm2d(256, eps=1e-05, momentum=0.1, affine=True, track_running_stats=True)\n",
       "        (conv3): Conv2d(256, 1024, kernel_size=(1, 1), stride=(1, 1), bias=False)\n",
       "        (bn3): BatchNorm2d(1024, eps=1e-05, momentum=0.1, affine=True, track_running_stats=True)\n",
       "        (relu): ReLU(inplace=True)\n",
       "      )\n",
       "      (3): Bottleneck(\n",
       "        (conv1): Conv2d(1024, 256, kernel_size=(1, 1), stride=(1, 1), bias=False)\n",
       "        (bn1): BatchNorm2d(256, eps=1e-05, momentum=0.1, affine=True, track_running_stats=True)\n",
       "        (conv2): Conv2d(256, 256, kernel_size=(3, 3), stride=(1, 1), padding=(1, 1), bias=False)\n",
       "        (bn2): BatchNorm2d(256, eps=1e-05, momentum=0.1, affine=True, track_running_stats=True)\n",
       "        (conv3): Conv2d(256, 1024, kernel_size=(1, 1), stride=(1, 1), bias=False)\n",
       "        (bn3): BatchNorm2d(1024, eps=1e-05, momentum=0.1, affine=True, track_running_stats=True)\n",
       "        (relu): ReLU(inplace=True)\n",
       "      )\n",
       "      (4): Bottleneck(\n",
       "        (conv1): Conv2d(1024, 256, kernel_size=(1, 1), stride=(1, 1), bias=False)\n",
       "        (bn1): BatchNorm2d(256, eps=1e-05, momentum=0.1, affine=True, track_running_stats=True)\n",
       "        (conv2): Conv2d(256, 256, kernel_size=(3, 3), stride=(1, 1), padding=(1, 1), bias=False)\n",
       "        (bn2): BatchNorm2d(256, eps=1e-05, momentum=0.1, affine=True, track_running_stats=True)\n",
       "        (conv3): Conv2d(256, 1024, kernel_size=(1, 1), stride=(1, 1), bias=False)\n",
       "        (bn3): BatchNorm2d(1024, eps=1e-05, momentum=0.1, affine=True, track_running_stats=True)\n",
       "        (relu): ReLU(inplace=True)\n",
       "      )\n",
       "      (5): Bottleneck(\n",
       "        (conv1): Conv2d(1024, 256, kernel_size=(1, 1), stride=(1, 1), bias=False)\n",
       "        (bn1): BatchNorm2d(256, eps=1e-05, momentum=0.1, affine=True, track_running_stats=True)\n",
       "        (conv2): Conv2d(256, 256, kernel_size=(3, 3), stride=(1, 1), padding=(1, 1), bias=False)\n",
       "        (bn2): BatchNorm2d(256, eps=1e-05, momentum=0.1, affine=True, track_running_stats=True)\n",
       "        (conv3): Conv2d(256, 1024, kernel_size=(1, 1), stride=(1, 1), bias=False)\n",
       "        (bn3): BatchNorm2d(1024, eps=1e-05, momentum=0.1, affine=True, track_running_stats=True)\n",
       "        (relu): ReLU(inplace=True)\n",
       "      )\n",
       "    )\n",
       "    (layer4): Sequential(\n",
       "      (0): Bottleneck(\n",
       "        (conv1): Conv2d(1024, 512, kernel_size=(1, 1), stride=(1, 1), bias=False)\n",
       "        (bn1): BatchNorm2d(512, eps=1e-05, momentum=0.1, affine=True, track_running_stats=True)\n",
       "        (conv2): Conv2d(512, 512, kernel_size=(3, 3), stride=(2, 2), padding=(1, 1), bias=False)\n",
       "        (bn2): BatchNorm2d(512, eps=1e-05, momentum=0.1, affine=True, track_running_stats=True)\n",
       "        (conv3): Conv2d(512, 2048, kernel_size=(1, 1), stride=(1, 1), bias=False)\n",
       "        (bn3): BatchNorm2d(2048, eps=1e-05, momentum=0.1, affine=True, track_running_stats=True)\n",
       "        (relu): ReLU(inplace=True)\n",
       "        (downsample): Sequential(\n",
       "          (0): Conv2d(1024, 2048, kernel_size=(1, 1), stride=(2, 2), bias=False)\n",
       "          (1): BatchNorm2d(2048, eps=1e-05, momentum=0.1, affine=True, track_running_stats=True)\n",
       "        )\n",
       "      )\n",
       "      (1): Bottleneck(\n",
       "        (conv1): Conv2d(2048, 512, kernel_size=(1, 1), stride=(1, 1), bias=False)\n",
       "        (bn1): BatchNorm2d(512, eps=1e-05, momentum=0.1, affine=True, track_running_stats=True)\n",
       "        (conv2): Conv2d(512, 512, kernel_size=(3, 3), stride=(1, 1), padding=(1, 1), bias=False)\n",
       "        (bn2): BatchNorm2d(512, eps=1e-05, momentum=0.1, affine=True, track_running_stats=True)\n",
       "        (conv3): Conv2d(512, 2048, kernel_size=(1, 1), stride=(1, 1), bias=False)\n",
       "        (bn3): BatchNorm2d(2048, eps=1e-05, momentum=0.1, affine=True, track_running_stats=True)\n",
       "        (relu): ReLU(inplace=True)\n",
       "      )\n",
       "      (2): Bottleneck(\n",
       "        (conv1): Conv2d(2048, 512, kernel_size=(1, 1), stride=(1, 1), bias=False)\n",
       "        (bn1): BatchNorm2d(512, eps=1e-05, momentum=0.1, affine=True, track_running_stats=True)\n",
       "        (conv2): Conv2d(512, 512, kernel_size=(3, 3), stride=(1, 1), padding=(1, 1), bias=False)\n",
       "        (bn2): BatchNorm2d(512, eps=1e-05, momentum=0.1, affine=True, track_running_stats=True)\n",
       "        (conv3): Conv2d(512, 2048, kernel_size=(1, 1), stride=(1, 1), bias=False)\n",
       "        (bn3): BatchNorm2d(2048, eps=1e-05, momentum=0.1, affine=True, track_running_stats=True)\n",
       "        (relu): ReLU(inplace=True)\n",
       "      )\n",
       "    )\n",
       "    (avgpool): AdaptiveAvgPool2d(output_size=(1, 1))\n",
       "    (fc): Linear(in_features=2048, out_features=1942, bias=True)\n",
       "  )\n",
       ")"
      ]
     },
     "execution_count": 14,
     "metadata": {},
     "output_type": "execute_result"
    }
   ],
   "source": [
    "model = models.resnet50(pretrained=True)\n",
    "model.fc = nn.Linear(model.fc.in_features, 2 * NUM_PTS, bias=True)\n",
    "\n",
    "model = nn.DataParallel(model, device_ids=GPUs)\n",
    "\n",
    "model.to(device)"
   ]
  },
  {
   "cell_type": "code",
   "execution_count": null,
   "metadata": {},
   "outputs": [],
   "source": [
    "optimizer = optim.AdamW(model.parameters(), lr=LR, weight_decay=0.01, amsgrad=True)\n",
    "lr_scheduler = optim.lr_scheduler.ReduceLROnPlateau(optimizer, 'min', factor=0.5, patience=1)\n",
    "loss_fn = fnn.mse_loss"
   ]
  },
  {
   "cell_type": "code",
   "execution_count": null,
   "metadata": {
    "scrolled": true
   },
   "outputs": [
    {
     "data": {
      "application/vnd.jupyter.widget-view+json": {
       "model_id": "2333a3e325fb47c39363cb8de6b3f4ab",
       "version_major": 2,
       "version_minor": 0
      },
      "text/plain": [
       "HBox(children=(IntProgress(value=0, description='training...', max=410, style=ProgressStyle(description_width=…"
      ]
     },
     "metadata": {},
     "output_type": "display_data"
    },
    {
     "name": "stdout",
     "output_type": "stream",
     "text": [
      "\n"
     ]
    },
    {
     "data": {
      "application/vnd.jupyter.widget-view+json": {
       "model_id": "3116b85764974dacaadbb2a30405422d",
       "version_major": 2,
       "version_minor": 0
      },
      "text/plain": [
       "HBox(children=(IntProgress(value=0, description='validation...', max=103, style=ProgressStyle(description_widt…"
      ]
     },
     "metadata": {},
     "output_type": "display_data"
    },
    {
     "name": "stdout",
     "output_type": "stream",
     "text": [
      "\n",
      "Epoch # 0:\ttrain loss: 199.02148\tval loss: 14.87672\n"
     ]
    },
    {
     "data": {
      "application/vnd.jupyter.widget-view+json": {
       "model_id": "6f7c3311886c4763b211aa78133402a9",
       "version_major": 2,
       "version_minor": 0
      },
      "text/plain": [
       "HBox(children=(IntProgress(value=0, description='training...', max=410, style=ProgressStyle(description_width=…"
      ]
     },
     "metadata": {},
     "output_type": "display_data"
    },
    {
     "name": "stdout",
     "output_type": "stream",
     "text": [
      "\n"
     ]
    },
    {
     "data": {
      "application/vnd.jupyter.widget-view+json": {
       "model_id": "03471f984643421ab2d37d736923a86a",
       "version_major": 2,
       "version_minor": 0
      },
      "text/plain": [
       "HBox(children=(IntProgress(value=0, description='validation...', max=103, style=ProgressStyle(description_widt…"
      ]
     },
     "metadata": {},
     "output_type": "display_data"
    },
    {
     "name": "stdout",
     "output_type": "stream",
     "text": [
      "\n",
      "Epoch # 1:\ttrain loss: 7.54943\tval loss: 4.93664\n"
     ]
    },
    {
     "data": {
      "application/vnd.jupyter.widget-view+json": {
       "model_id": "68c8969a71b24dddbcfb5da1f885fa1b",
       "version_major": 2,
       "version_minor": 0
      },
      "text/plain": [
       "HBox(children=(IntProgress(value=0, description='training...', max=410, style=ProgressStyle(description_width=…"
      ]
     },
     "metadata": {},
     "output_type": "display_data"
    },
    {
     "name": "stdout",
     "output_type": "stream",
     "text": [
      "\n"
     ]
    },
    {
     "data": {
      "application/vnd.jupyter.widget-view+json": {
       "model_id": "19c48547ce0a4e6db819dbcb08cec517",
       "version_major": 2,
       "version_minor": 0
      },
      "text/plain": [
       "HBox(children=(IntProgress(value=0, description='validation...', max=103, style=ProgressStyle(description_widt…"
      ]
     },
     "metadata": {},
     "output_type": "display_data"
    },
    {
     "name": "stdout",
     "output_type": "stream",
     "text": [
      "\n",
      "Epoch # 2:\ttrain loss: 4.86735\tval loss: 3.65977\n"
     ]
    },
    {
     "data": {
      "application/vnd.jupyter.widget-view+json": {
       "model_id": "70c2699c507344e6b519d60c5012c32b",
       "version_major": 2,
       "version_minor": 0
      },
      "text/plain": [
       "HBox(children=(IntProgress(value=0, description='training...', max=410, style=ProgressStyle(description_width=…"
      ]
     },
     "metadata": {},
     "output_type": "display_data"
    },
    {
     "name": "stdout",
     "output_type": "stream",
     "text": [
      "\n"
     ]
    },
    {
     "data": {
      "application/vnd.jupyter.widget-view+json": {
       "model_id": "4358d840df074fb6b3ffa32dc1c990a8",
       "version_major": 2,
       "version_minor": 0
      },
      "text/plain": [
       "HBox(children=(IntProgress(value=0, description='validation...', max=103, style=ProgressStyle(description_widt…"
      ]
     },
     "metadata": {},
     "output_type": "display_data"
    },
    {
     "name": "stdout",
     "output_type": "stream",
     "text": [
      "\n",
      "Epoch # 3:\ttrain loss: 4.09229\tval loss: 3.17053\n"
     ]
    },
    {
     "data": {
      "application/vnd.jupyter.widget-view+json": {
       "model_id": "27637d2839904b2dbff92968e182aef8",
       "version_major": 2,
       "version_minor": 0
      },
      "text/plain": [
       "HBox(children=(IntProgress(value=0, description='training...', max=410, style=ProgressStyle(description_width=…"
      ]
     },
     "metadata": {},
     "output_type": "display_data"
    },
    {
     "name": "stdout",
     "output_type": "stream",
     "text": [
      "\n"
     ]
    },
    {
     "data": {
      "application/vnd.jupyter.widget-view+json": {
       "model_id": "85562ae3a363442cbdfd462249a5ce0e",
       "version_major": 2,
       "version_minor": 0
      },
      "text/plain": [
       "HBox(children=(IntProgress(value=0, description='validation...', max=103, style=ProgressStyle(description_widt…"
      ]
     },
     "metadata": {},
     "output_type": "display_data"
    },
    {
     "name": "stdout",
     "output_type": "stream",
     "text": [
      "\n",
      "Epoch # 4:\ttrain loss: 3.65468\tval loss: 2.95561\n"
     ]
    },
    {
     "data": {
      "application/vnd.jupyter.widget-view+json": {
       "model_id": "b2f9a45271d64a9e84c7e3790cb36f5e",
       "version_major": 2,
       "version_minor": 0
      },
      "text/plain": [
       "HBox(children=(IntProgress(value=0, description='training...', max=410, style=ProgressStyle(description_width=…"
      ]
     },
     "metadata": {},
     "output_type": "display_data"
    },
    {
     "name": "stdout",
     "output_type": "stream",
     "text": [
      "\n"
     ]
    },
    {
     "data": {
      "application/vnd.jupyter.widget-view+json": {
       "model_id": "22ca3a7d82964de8b857da868ee23a41",
       "version_major": 2,
       "version_minor": 0
      },
      "text/plain": [
       "HBox(children=(IntProgress(value=0, description='validation...', max=103, style=ProgressStyle(description_widt…"
      ]
     },
     "metadata": {},
     "output_type": "display_data"
    },
    {
     "name": "stdout",
     "output_type": "stream",
     "text": [
      "\n",
      "Epoch # 5:\ttrain loss: 3.28813\tval loss: 2.92250\n"
     ]
    },
    {
     "data": {
      "application/vnd.jupyter.widget-view+json": {
       "model_id": "e7cb75140d824bee8125d4b1e9cea83b",
       "version_major": 2,
       "version_minor": 0
      },
      "text/plain": [
       "HBox(children=(IntProgress(value=0, description='training...', max=410, style=ProgressStyle(description_width=…"
      ]
     },
     "metadata": {},
     "output_type": "display_data"
    },
    {
     "name": "stdout",
     "output_type": "stream",
     "text": [
      "\n"
     ]
    },
    {
     "data": {
      "application/vnd.jupyter.widget-view+json": {
       "model_id": "d18e2975e3e24951a817926f42e8bd8f",
       "version_major": 2,
       "version_minor": 0
      },
      "text/plain": [
       "HBox(children=(IntProgress(value=0, description='validation...', max=103, style=ProgressStyle(description_widt…"
      ]
     },
     "metadata": {},
     "output_type": "display_data"
    },
    {
     "name": "stdout",
     "output_type": "stream",
     "text": [
      "\n",
      "Epoch # 6:\ttrain loss: 3.06327\tval loss: 2.46810\n"
     ]
    },
    {
     "data": {
      "application/vnd.jupyter.widget-view+json": {
       "model_id": "bbd8b26bbbcc431e875261ade1f8646c",
       "version_major": 2,
       "version_minor": 0
      },
      "text/plain": [
       "HBox(children=(IntProgress(value=0, description='training...', max=410, style=ProgressStyle(description_width=…"
      ]
     },
     "metadata": {},
     "output_type": "display_data"
    },
    {
     "name": "stdout",
     "output_type": "stream",
     "text": [
      "\n"
     ]
    },
    {
     "data": {
      "application/vnd.jupyter.widget-view+json": {
       "model_id": "95dfd6fc465746418b894d401ce637b5",
       "version_major": 2,
       "version_minor": 0
      },
      "text/plain": [
       "HBox(children=(IntProgress(value=0, description='validation...', max=103, style=ProgressStyle(description_widt…"
      ]
     },
     "metadata": {},
     "output_type": "display_data"
    },
    {
     "name": "stdout",
     "output_type": "stream",
     "text": [
      "\n",
      "Epoch # 7:\ttrain loss: 2.90490\tval loss: 2.47427\n"
     ]
    },
    {
     "data": {
      "application/vnd.jupyter.widget-view+json": {
       "model_id": "707bc2ac8304491ba4d6bc55ec59f32e",
       "version_major": 2,
       "version_minor": 0
      },
      "text/plain": [
       "HBox(children=(IntProgress(value=0, description='training...', max=410, style=ProgressStyle(description_width=…"
      ]
     },
     "metadata": {},
     "output_type": "display_data"
    },
    {
     "name": "stdout",
     "output_type": "stream",
     "text": [
      "\n"
     ]
    },
    {
     "data": {
      "application/vnd.jupyter.widget-view+json": {
       "model_id": "a2b35265dbf44a1eb67a2776c6679cec",
       "version_major": 2,
       "version_minor": 0
      },
      "text/plain": [
       "HBox(children=(IntProgress(value=0, description='validation...', max=103, style=ProgressStyle(description_widt…"
      ]
     },
     "metadata": {},
     "output_type": "display_data"
    },
    {
     "name": "stdout",
     "output_type": "stream",
     "text": [
      "\n",
      "Epoch # 8:\ttrain loss: 2.80344\tval loss: 2.31413\n"
     ]
    },
    {
     "data": {
      "application/vnd.jupyter.widget-view+json": {
       "model_id": "6998da3efce1449aa76102a60f815f80",
       "version_major": 2,
       "version_minor": 0
      },
      "text/plain": [
       "HBox(children=(IntProgress(value=0, description='training...', max=410, style=ProgressStyle(description_width=…"
      ]
     },
     "metadata": {},
     "output_type": "display_data"
    },
    {
     "name": "stdout",
     "output_type": "stream",
     "text": [
      "\n"
     ]
    },
    {
     "data": {
      "application/vnd.jupyter.widget-view+json": {
       "model_id": "d2e3155e963f4e12b46c5015719081cf",
       "version_major": 2,
       "version_minor": 0
      },
      "text/plain": [
       "HBox(children=(IntProgress(value=0, description='validation...', max=103, style=ProgressStyle(description_widt…"
      ]
     },
     "metadata": {},
     "output_type": "display_data"
    },
    {
     "name": "stdout",
     "output_type": "stream",
     "text": [
      "\n",
      "Epoch # 9:\ttrain loss: 2.69297\tval loss: 2.35746\n"
     ]
    },
    {
     "data": {
      "application/vnd.jupyter.widget-view+json": {
       "model_id": "bfea30abcdab4f80bba6c45ccc1bc9cd",
       "version_major": 2,
       "version_minor": 0
      },
      "text/plain": [
       "HBox(children=(IntProgress(value=0, description='training...', max=410, style=ProgressStyle(description_width=…"
      ]
     },
     "metadata": {},
     "output_type": "display_data"
    },
    {
     "name": "stdout",
     "output_type": "stream",
     "text": [
      "\n"
     ]
    },
    {
     "data": {
      "application/vnd.jupyter.widget-view+json": {
       "model_id": "8475c5775db44f3bb51b357fa8c78e13",
       "version_major": 2,
       "version_minor": 0
      },
      "text/plain": [
       "HBox(children=(IntProgress(value=0, description='validation...', max=103, style=ProgressStyle(description_widt…"
      ]
     },
     "metadata": {},
     "output_type": "display_data"
    },
    {
     "name": "stdout",
     "output_type": "stream",
     "text": [
      "\n",
      "Epoch #10:\ttrain loss: 2.61243\tval loss: 2.18132\n"
     ]
    },
    {
     "data": {
      "application/vnd.jupyter.widget-view+json": {
       "model_id": "bd62aaaab507445289ee2b4a70775da0",
       "version_major": 2,
       "version_minor": 0
      },
      "text/plain": [
       "HBox(children=(IntProgress(value=0, description='training...', max=410, style=ProgressStyle(description_width=…"
      ]
     },
     "metadata": {},
     "output_type": "display_data"
    },
    {
     "name": "stdout",
     "output_type": "stream",
     "text": [
      "\n"
     ]
    },
    {
     "data": {
      "application/vnd.jupyter.widget-view+json": {
       "model_id": "f40141a6fbce486eacc8ae4d682f36cb",
       "version_major": 2,
       "version_minor": 0
      },
      "text/plain": [
       "HBox(children=(IntProgress(value=0, description='validation...', max=103, style=ProgressStyle(description_widt…"
      ]
     },
     "metadata": {},
     "output_type": "display_data"
    },
    {
     "name": "stdout",
     "output_type": "stream",
     "text": [
      "\n",
      "Epoch #11:\ttrain loss: 2.53749\tval loss: 2.11509\n"
     ]
    },
    {
     "data": {
      "application/vnd.jupyter.widget-view+json": {
       "model_id": "b6ce3dbac7ea404688e6dfda9e9c04de",
       "version_major": 2,
       "version_minor": 0
      },
      "text/plain": [
       "HBox(children=(IntProgress(value=0, description='training...', max=410, style=ProgressStyle(description_width=…"
      ]
     },
     "metadata": {},
     "output_type": "display_data"
    },
    {
     "name": "stdout",
     "output_type": "stream",
     "text": [
      "\n"
     ]
    },
    {
     "data": {
      "application/vnd.jupyter.widget-view+json": {
       "model_id": "e1883e88f420472c84f44cfa7ee5294e",
       "version_major": 2,
       "version_minor": 0
      },
      "text/plain": [
       "HBox(children=(IntProgress(value=0, description='validation...', max=103, style=ProgressStyle(description_widt…"
      ]
     },
     "metadata": {},
     "output_type": "display_data"
    },
    {
     "name": "stdout",
     "output_type": "stream",
     "text": [
      "\n",
      "Epoch #12:\ttrain loss: 2.46126\tval loss: 2.12230\n"
     ]
    },
    {
     "data": {
      "application/vnd.jupyter.widget-view+json": {
       "model_id": "00e0974e5ba44afb9e4c79ec62225d1b",
       "version_major": 2,
       "version_minor": 0
      },
      "text/plain": [
       "HBox(children=(IntProgress(value=0, description='training...', max=410, style=ProgressStyle(description_width=…"
      ]
     },
     "metadata": {},
     "output_type": "display_data"
    },
    {
     "name": "stdout",
     "output_type": "stream",
     "text": [
      "\n"
     ]
    },
    {
     "data": {
      "application/vnd.jupyter.widget-view+json": {
       "model_id": "f17f80baf209421d8cc2d27dd82d7c8b",
       "version_major": 2,
       "version_minor": 0
      },
      "text/plain": [
       "HBox(children=(IntProgress(value=0, description='validation...', max=103, style=ProgressStyle(description_widt…"
      ]
     },
     "metadata": {},
     "output_type": "display_data"
    },
    {
     "name": "stdout",
     "output_type": "stream",
     "text": [
      "\n",
      "Epoch #13:\ttrain loss: 2.40371\tval loss: 2.08205\n"
     ]
    },
    {
     "data": {
      "application/vnd.jupyter.widget-view+json": {
       "model_id": "ddf352785acf4e24b4ee985d03e22535",
       "version_major": 2,
       "version_minor": 0
      },
      "text/plain": [
       "HBox(children=(IntProgress(value=0, description='training...', max=410, style=ProgressStyle(description_width=…"
      ]
     },
     "metadata": {},
     "output_type": "display_data"
    },
    {
     "name": "stdout",
     "output_type": "stream",
     "text": [
      "\n"
     ]
    },
    {
     "data": {
      "application/vnd.jupyter.widget-view+json": {
       "model_id": "e3c39553b7c945f4b3b89d225f844da1",
       "version_major": 2,
       "version_minor": 0
      },
      "text/plain": [
       "HBox(children=(IntProgress(value=0, description='validation...', max=103, style=ProgressStyle(description_widt…"
      ]
     },
     "metadata": {},
     "output_type": "display_data"
    },
    {
     "name": "stdout",
     "output_type": "stream",
     "text": [
      "\n",
      "Epoch #14:\ttrain loss: 2.34544\tval loss: 2.07477\n"
     ]
    },
    {
     "data": {
      "application/vnd.jupyter.widget-view+json": {
       "model_id": "6a61a6cc9d5d40a98efbe4a99c83f533",
       "version_major": 2,
       "version_minor": 0
      },
      "text/plain": [
       "HBox(children=(IntProgress(value=0, description='training...', max=410, style=ProgressStyle(description_width=…"
      ]
     },
     "metadata": {},
     "output_type": "display_data"
    },
    {
     "name": "stdout",
     "output_type": "stream",
     "text": [
      "\n"
     ]
    },
    {
     "data": {
      "application/vnd.jupyter.widget-view+json": {
       "model_id": "839cac68ee40463c9fdb11d6e1899b5b",
       "version_major": 2,
       "version_minor": 0
      },
      "text/plain": [
       "HBox(children=(IntProgress(value=0, description='validation...', max=103, style=ProgressStyle(description_widt…"
      ]
     },
     "metadata": {},
     "output_type": "display_data"
    },
    {
     "name": "stdout",
     "output_type": "stream",
     "text": [
      "\n",
      "Epoch #15:\ttrain loss: 2.31871\tval loss: 2.06650\n"
     ]
    },
    {
     "data": {
      "application/vnd.jupyter.widget-view+json": {
       "model_id": "2480023405524f819f9fe3d35b1caa29",
       "version_major": 2,
       "version_minor": 0
      },
      "text/plain": [
       "HBox(children=(IntProgress(value=0, description='training...', max=410, style=ProgressStyle(description_width=…"
      ]
     },
     "metadata": {},
     "output_type": "display_data"
    },
    {
     "name": "stdout",
     "output_type": "stream",
     "text": [
      "\n"
     ]
    },
    {
     "data": {
      "application/vnd.jupyter.widget-view+json": {
       "model_id": "78a1e13cdcfe49c09ed2c72ea615d2c4",
       "version_major": 2,
       "version_minor": 0
      },
      "text/plain": [
       "HBox(children=(IntProgress(value=0, description='validation...', max=103, style=ProgressStyle(description_widt…"
      ]
     },
     "metadata": {},
     "output_type": "display_data"
    },
    {
     "name": "stdout",
     "output_type": "stream",
     "text": [
      "\n",
      "Epoch #16:\ttrain loss: 2.25978\tval loss: 2.06174\n"
     ]
    },
    {
     "data": {
      "application/vnd.jupyter.widget-view+json": {
       "model_id": "2a14bc8413f545a0972eef3123ca876d",
       "version_major": 2,
       "version_minor": 0
      },
      "text/plain": [
       "HBox(children=(IntProgress(value=0, description='training...', max=410, style=ProgressStyle(description_width=…"
      ]
     },
     "metadata": {},
     "output_type": "display_data"
    },
    {
     "name": "stdout",
     "output_type": "stream",
     "text": [
      "\n"
     ]
    },
    {
     "data": {
      "application/vnd.jupyter.widget-view+json": {
       "model_id": "7bfd0fbffffa4d68a4794ecf6e705eb5",
       "version_major": 2,
       "version_minor": 0
      },
      "text/plain": [
       "HBox(children=(IntProgress(value=0, description='validation...', max=103, style=ProgressStyle(description_widt…"
      ]
     },
     "metadata": {},
     "output_type": "display_data"
    },
    {
     "name": "stdout",
     "output_type": "stream",
     "text": [
      "\n",
      "Epoch #17:\ttrain loss: 2.25479\tval loss: 1.97144\n"
     ]
    },
    {
     "data": {
      "application/vnd.jupyter.widget-view+json": {
       "model_id": "15a38ab805674e1b84dc155e705f8e2a",
       "version_major": 2,
       "version_minor": 0
      },
      "text/plain": [
       "HBox(children=(IntProgress(value=0, description='training...', max=410, style=ProgressStyle(description_width=…"
      ]
     },
     "metadata": {},
     "output_type": "display_data"
    },
    {
     "name": "stdout",
     "output_type": "stream",
     "text": [
      "\n"
     ]
    },
    {
     "data": {
      "application/vnd.jupyter.widget-view+json": {
       "model_id": "3c91ffb92f254075a5655ffecf689736",
       "version_major": 2,
       "version_minor": 0
      },
      "text/plain": [
       "HBox(children=(IntProgress(value=0, description='validation...', max=103, style=ProgressStyle(description_widt…"
      ]
     },
     "metadata": {},
     "output_type": "display_data"
    },
    {
     "name": "stdout",
     "output_type": "stream",
     "text": [
      "\n",
      "Epoch #18:\ttrain loss: 2.23378\tval loss: 1.99810\n"
     ]
    },
    {
     "data": {
      "application/vnd.jupyter.widget-view+json": {
       "model_id": "5656b64cf4b5449eb0193e837cdaeb07",
       "version_major": 2,
       "version_minor": 0
      },
      "text/plain": [
       "HBox(children=(IntProgress(value=0, description='training...', max=410, style=ProgressStyle(description_width=…"
      ]
     },
     "metadata": {},
     "output_type": "display_data"
    },
    {
     "name": "stdout",
     "output_type": "stream",
     "text": [
      "\n"
     ]
    },
    {
     "data": {
      "application/vnd.jupyter.widget-view+json": {
       "model_id": "6d43fdc44c324434b78afc24eb2aea45",
       "version_major": 2,
       "version_minor": 0
      },
      "text/plain": [
       "HBox(children=(IntProgress(value=0, description='validation...', max=103, style=ProgressStyle(description_widt…"
      ]
     },
     "metadata": {},
     "output_type": "display_data"
    },
    {
     "name": "stdout",
     "output_type": "stream",
     "text": [
      "\n",
      "Epoch #19:\ttrain loss: 2.14566\tval loss: 2.05527\n"
     ]
    },
    {
     "data": {
      "application/vnd.jupyter.widget-view+json": {
       "model_id": "302e4ec06daf4da2b259a4c2b61efbda",
       "version_major": 2,
       "version_minor": 0
      },
      "text/plain": [
       "HBox(children=(IntProgress(value=0, description='training...', max=410, style=ProgressStyle(description_width=…"
      ]
     },
     "metadata": {},
     "output_type": "display_data"
    },
    {
     "name": "stdout",
     "output_type": "stream",
     "text": [
      "\n"
     ]
    },
    {
     "data": {
      "application/vnd.jupyter.widget-view+json": {
       "model_id": "81b137afec92427a8ec594a33be9ccdf",
       "version_major": 2,
       "version_minor": 0
      },
      "text/plain": [
       "HBox(children=(IntProgress(value=0, description='validation...', max=103, style=ProgressStyle(description_widt…"
      ]
     },
     "metadata": {},
     "output_type": "display_data"
    },
    {
     "name": "stdout",
     "output_type": "stream",
     "text": [
      "\n",
      "Epoch #20:\ttrain loss: 1.98272\tval loss: 1.90754\n"
     ]
    },
    {
     "data": {
      "application/vnd.jupyter.widget-view+json": {
       "model_id": "989d9e37f855437aa2c233c393382b59",
       "version_major": 2,
       "version_minor": 0
      },
      "text/plain": [
       "HBox(children=(IntProgress(value=0, description='training...', max=410, style=ProgressStyle(description_width=…"
      ]
     },
     "metadata": {},
     "output_type": "display_data"
    },
    {
     "name": "stdout",
     "output_type": "stream",
     "text": [
      "\n"
     ]
    },
    {
     "data": {
      "application/vnd.jupyter.widget-view+json": {
       "model_id": "efe18bf931f64e83b6abd6e0bfc32c93",
       "version_major": 2,
       "version_minor": 0
      },
      "text/plain": [
       "HBox(children=(IntProgress(value=0, description='validation...', max=103, style=ProgressStyle(description_widt…"
      ]
     },
     "metadata": {},
     "output_type": "display_data"
    },
    {
     "name": "stdout",
     "output_type": "stream",
     "text": [
      "\n",
      "Epoch #21:\ttrain loss: 1.92421\tval loss: 1.88604\n"
     ]
    },
    {
     "data": {
      "application/vnd.jupyter.widget-view+json": {
       "model_id": "dd8b5aad764e49c795688958d802b111",
       "version_major": 2,
       "version_minor": 0
      },
      "text/plain": [
       "HBox(children=(IntProgress(value=0, description='training...', max=410, style=ProgressStyle(description_width=…"
      ]
     },
     "metadata": {},
     "output_type": "display_data"
    },
    {
     "name": "stdout",
     "output_type": "stream",
     "text": [
      "\n"
     ]
    },
    {
     "data": {
      "application/vnd.jupyter.widget-view+json": {
       "model_id": "cc2fa54a8b6744d98e24b7a046dc0017",
       "version_major": 2,
       "version_minor": 0
      },
      "text/plain": [
       "HBox(children=(IntProgress(value=0, description='validation...', max=103, style=ProgressStyle(description_widt…"
      ]
     },
     "metadata": {},
     "output_type": "display_data"
    },
    {
     "name": "stdout",
     "output_type": "stream",
     "text": [
      "\n",
      "Epoch #22:\ttrain loss: 1.88477\tval loss: 1.97408\n"
     ]
    },
    {
     "data": {
      "application/vnd.jupyter.widget-view+json": {
       "model_id": "24d99f12ae92464f96d531e1ef823172",
       "version_major": 2,
       "version_minor": 0
      },
      "text/plain": [
       "HBox(children=(IntProgress(value=0, description='training...', max=410, style=ProgressStyle(description_width=…"
      ]
     },
     "metadata": {},
     "output_type": "display_data"
    },
    {
     "name": "stdout",
     "output_type": "stream",
     "text": [
      "\n"
     ]
    },
    {
     "data": {
      "application/vnd.jupyter.widget-view+json": {
       "model_id": "bc99031909fa4512a259bcf2f04634e3",
       "version_major": 2,
       "version_minor": 0
      },
      "text/plain": [
       "HBox(children=(IntProgress(value=0, description='validation...', max=103, style=ProgressStyle(description_widt…"
      ]
     },
     "metadata": {},
     "output_type": "display_data"
    },
    {
     "name": "stdout",
     "output_type": "stream",
     "text": [
      "\n",
      "Epoch #23:\ttrain loss: 1.86439\tval loss: 1.86356\n"
     ]
    },
    {
     "data": {
      "application/vnd.jupyter.widget-view+json": {
       "model_id": "1f86dac938cc41d59549490d2096b604",
       "version_major": 2,
       "version_minor": 0
      },
      "text/plain": [
       "HBox(children=(IntProgress(value=0, description='training...', max=410, style=ProgressStyle(description_width=…"
      ]
     },
     "metadata": {},
     "output_type": "display_data"
    },
    {
     "name": "stdout",
     "output_type": "stream",
     "text": [
      "\n"
     ]
    },
    {
     "data": {
      "application/vnd.jupyter.widget-view+json": {
       "model_id": "4b2868782b7b4d8dbe5518196ffce0f6",
       "version_major": 2,
       "version_minor": 0
      },
      "text/plain": [
       "HBox(children=(IntProgress(value=0, description='validation...', max=103, style=ProgressStyle(description_widt…"
      ]
     },
     "metadata": {},
     "output_type": "display_data"
    },
    {
     "name": "stdout",
     "output_type": "stream",
     "text": [
      "\n",
      "Epoch #24:\ttrain loss: 1.84017\tval loss: 1.90063\n"
     ]
    },
    {
     "data": {
      "application/vnd.jupyter.widget-view+json": {
       "model_id": "9e79873789a54f96a16745ffe4503f04",
       "version_major": 2,
       "version_minor": 0
      },
      "text/plain": [
       "HBox(children=(IntProgress(value=0, description='training...', max=410, style=ProgressStyle(description_width=…"
      ]
     },
     "metadata": {},
     "output_type": "display_data"
    },
    {
     "name": "stdout",
     "output_type": "stream",
     "text": [
      "\n"
     ]
    },
    {
     "data": {
      "application/vnd.jupyter.widget-view+json": {
       "model_id": "22441f691742443ea9baa69d8220cb61",
       "version_major": 2,
       "version_minor": 0
      },
      "text/plain": [
       "HBox(children=(IntProgress(value=0, description='validation...', max=103, style=ProgressStyle(description_widt…"
      ]
     },
     "metadata": {},
     "output_type": "display_data"
    },
    {
     "name": "stdout",
     "output_type": "stream",
     "text": [
      "\n",
      "Epoch #25:\ttrain loss: 1.80891\tval loss: 1.83851\n"
     ]
    },
    {
     "data": {
      "application/vnd.jupyter.widget-view+json": {
       "model_id": "a8c2d933ef0e46b4ac39467cd286e1df",
       "version_major": 2,
       "version_minor": 0
      },
      "text/plain": [
       "HBox(children=(IntProgress(value=0, description='training...', max=410, style=ProgressStyle(description_width=…"
      ]
     },
     "metadata": {},
     "output_type": "display_data"
    },
    {
     "name": "stdout",
     "output_type": "stream",
     "text": [
      "\n"
     ]
    },
    {
     "data": {
      "application/vnd.jupyter.widget-view+json": {
       "model_id": "a30ac5aef2774847994c9d42afde0f78",
       "version_major": 2,
       "version_minor": 0
      },
      "text/plain": [
       "HBox(children=(IntProgress(value=0, description='validation...', max=103, style=ProgressStyle(description_widt…"
      ]
     },
     "metadata": {},
     "output_type": "display_data"
    },
    {
     "name": "stdout",
     "output_type": "stream",
     "text": [
      "\n",
      "Epoch #26:\ttrain loss: 1.78866\tval loss: 1.84557\n"
     ]
    },
    {
     "data": {
      "application/vnd.jupyter.widget-view+json": {
       "model_id": "67bee7af51514fa3bcadd9be93af4a15",
       "version_major": 2,
       "version_minor": 0
      },
      "text/plain": [
       "HBox(children=(IntProgress(value=0, description='training...', max=410, style=ProgressStyle(description_width=…"
      ]
     },
     "metadata": {},
     "output_type": "display_data"
    },
    {
     "name": "stdout",
     "output_type": "stream",
     "text": [
      "\n"
     ]
    },
    {
     "data": {
      "application/vnd.jupyter.widget-view+json": {
       "model_id": "2afacfec3d564d8caef766b7af83b801",
       "version_major": 2,
       "version_minor": 0
      },
      "text/plain": [
       "HBox(children=(IntProgress(value=0, description='validation...', max=103, style=ProgressStyle(description_widt…"
      ]
     },
     "metadata": {},
     "output_type": "display_data"
    },
    {
     "name": "stdout",
     "output_type": "stream",
     "text": [
      "\n",
      "Epoch #27:\ttrain loss: 1.76101\tval loss: 1.83282\n"
     ]
    },
    {
     "data": {
      "application/vnd.jupyter.widget-view+json": {
       "model_id": "2ef4bcf993404d6aa2481c9ee5cfe50f",
       "version_major": 2,
       "version_minor": 0
      },
      "text/plain": [
       "HBox(children=(IntProgress(value=0, description='training...', max=410, style=ProgressStyle(description_width=…"
      ]
     },
     "metadata": {},
     "output_type": "display_data"
    },
    {
     "name": "stdout",
     "output_type": "stream",
     "text": [
      "\n"
     ]
    },
    {
     "data": {
      "application/vnd.jupyter.widget-view+json": {
       "model_id": "2cc858292c444d4a8b6c295e7677c7ae",
       "version_major": 2,
       "version_minor": 0
      },
      "text/plain": [
       "HBox(children=(IntProgress(value=0, description='validation...', max=103, style=ProgressStyle(description_widt…"
      ]
     },
     "metadata": {},
     "output_type": "display_data"
    },
    {
     "name": "stdout",
     "output_type": "stream",
     "text": [
      "\n",
      "Epoch #28:\ttrain loss: 1.73969\tval loss: 1.87238\n"
     ]
    },
    {
     "data": {
      "application/vnd.jupyter.widget-view+json": {
       "model_id": "9bf0069e98384cedbaa5b0a6e01d90ce",
       "version_major": 2,
       "version_minor": 0
      },
      "text/plain": [
       "HBox(children=(IntProgress(value=0, description='training...', max=410, style=ProgressStyle(description_width=…"
      ]
     },
     "metadata": {},
     "output_type": "display_data"
    },
    {
     "name": "stdout",
     "output_type": "stream",
     "text": [
      "\n"
     ]
    },
    {
     "data": {
      "application/vnd.jupyter.widget-view+json": {
       "model_id": "101a64280880462bbd51366ba1ae6c0e",
       "version_major": 2,
       "version_minor": 0
      },
      "text/plain": [
       "HBox(children=(IntProgress(value=0, description='validation...', max=103, style=ProgressStyle(description_widt…"
      ]
     },
     "metadata": {},
     "output_type": "display_data"
    },
    {
     "name": "stdout",
     "output_type": "stream",
     "text": [
      "\n",
      "Epoch #29:\ttrain loss: 1.72311\tval loss: 1.82877\n"
     ]
    },
    {
     "data": {
      "application/vnd.jupyter.widget-view+json": {
       "model_id": "331bc5805d1e4048afbc5369f3cef797",
       "version_major": 2,
       "version_minor": 0
      },
      "text/plain": [
       "HBox(children=(IntProgress(value=0, description='training...', max=410, style=ProgressStyle(description_width=…"
      ]
     },
     "metadata": {},
     "output_type": "display_data"
    },
    {
     "name": "stdout",
     "output_type": "stream",
     "text": [
      "\n"
     ]
    },
    {
     "data": {
      "application/vnd.jupyter.widget-view+json": {
       "model_id": "0e78e882572b40d0ad7a4e8c07c48952",
       "version_major": 2,
       "version_minor": 0
      },
      "text/plain": [
       "HBox(children=(IntProgress(value=0, description='validation...', max=103, style=ProgressStyle(description_widt…"
      ]
     },
     "metadata": {},
     "output_type": "display_data"
    },
    {
     "name": "stdout",
     "output_type": "stream",
     "text": [
      "\n",
      "Epoch #30:\ttrain loss: 1.71165\tval loss: 1.84644\n"
     ]
    },
    {
     "data": {
      "application/vnd.jupyter.widget-view+json": {
       "model_id": "2c96119e895647558098ee4763644534",
       "version_major": 2,
       "version_minor": 0
      },
      "text/plain": [
       "HBox(children=(IntProgress(value=0, description='training...', max=410, style=ProgressStyle(description_width=…"
      ]
     },
     "metadata": {},
     "output_type": "display_data"
    }
   ],
   "source": [
    "N_EPOCHS = 50\n",
    "best_val_loss = np.inf\n",
    "for epoch in range(N_EPOCHS):\n",
    "    train_loss = train(model, train_dataloader, loss_fn, optimizer, device=device)\n",
    "    val_loss = validate(model, val_dataloader, loss_fn, device=device)\n",
    "    lr_scheduler.step(val_loss)\n",
    "    print(\"Epoch #{:2}:\\ttrain loss: {:.5f}\\tval loss: {:.5f}\".format(epoch, train_loss, val_loss))\n",
    "    if val_loss < best_val_loss:\n",
    "        best_val_loss = val_loss\n",
    "        with open(os.path.join(DATA_DIR, f\"{MODEL_NAME}_best.pth\"), \"wb\") as fp:\n",
    "            torch.save(model.state_dict(), fp)"
   ]
  },
  {
   "cell_type": "code",
   "execution_count": 26,
   "metadata": {},
   "outputs": [
    {
     "data": {
      "text/plain": [
       "'Best validation loss: 1.7659767854560926'"
      ]
     },
     "execution_count": 26,
     "metadata": {},
     "output_type": "execute_result"
    }
   ],
   "source": [
    "f'Best validation loss: {best_val_loss}'"
   ]
  },
  {
   "cell_type": "code",
   "execution_count": null,
   "metadata": {},
   "outputs": [],
   "source": [
    "with open(os.path.join(DATA_DIR, f\"{MODEL_NAME}_best.pth\"), \"rb\") as fp:\n",
    "    best_state_dict = torch.load(fp, map_location=\"cpu\")\n",
    "    model.load_state_dict(best_state_dict)"
   ]
  },
  {
   "cell_type": "code",
   "execution_count": null,
   "metadata": {},
   "outputs": [],
   "source": [
    "test_dataset = ThousandLandmarksDataset(os.path.join(LOCAL_DATA_DIR, 'test'), test_transforms, split=\"test\")\n",
    "test_dataloader = data.DataLoader(test_dataset, batch_size=BATCH_SIZE, num_workers=NUM_WORKERS, pin_memory=True,\n",
    "                                  shuffle=False, drop_last=False)"
   ]
  },
  {
   "cell_type": "code",
   "execution_count": null,
   "metadata": {
    "scrolled": true
   },
   "outputs": [],
   "source": [
    "test_predictions = predict(model, test_dataloader, device)\n",
    "with open(os.path.join(DATA_DIR, f\"{MODEL_NAME}_test_predictions.pkl\"), \"wb\") as fp:\n",
    "    pickle.dump({\"image_names\": test_dataset.image_names,\n",
    "                 \"landmarks\": test_predictions}, fp)"
   ]
  },
  {
   "cell_type": "code",
   "execution_count": null,
   "metadata": {},
   "outputs": [],
   "source": [
    "create_submission(DATA_DIR, test_predictions,\n",
    "                 os.path.join(DATA_DIR, f\"{MODEL_NAME}_submit_val_loss_{best_val_loss:.5f}.csv\"))"
   ]
  },
  {
   "cell_type": "code",
   "execution_count": null,
   "metadata": {},
   "outputs": [],
   "source": []
  },
  {
   "cell_type": "code",
   "execution_count": null,
   "metadata": {},
   "outputs": [],
   "source": [
    "TEST_PREDICTIONS_FILENAME = os.path.join(DATA_DIR, f\"{MODEL_NAME}_test_predictions.pkl\")\n",
    "NUM_IMAGES_TO_SHOW = 16\n",
    "NUM_COLS = 4\n",
    "NUM_ROWS = NUM_IMAGES_TO_SHOW // NUM_COLS + int(NUM_IMAGES_TO_SHOW % NUM_COLS != 0)"
   ]
  },
  {
   "cell_type": "code",
   "execution_count": null,
   "metadata": {},
   "outputs": [],
   "source": [
    "def draw_landmarks(image, landmarks):\n",
    "    for point in landmarks:\n",
    "        x, y = point.astype(np.int)\n",
    "        cv2.circle(image, (x, y), 1, (128, 0, 128), 1, -1)\n",
    "    return image"
   ]
  },
  {
   "cell_type": "code",
   "execution_count": null,
   "metadata": {},
   "outputs": [],
   "source": [
    "with open(TEST_PREDICTIONS_FILENAME, \"rb\") as fp:\n",
    "    results = pickle.load(fp)\n",
    "image_names = results[\"image_names\"]\n",
    "landmarks = results[\"landmarks\"]\n",
    "\n",
    "print(\"Images:\", len(image_names))\n",
    "print(\"Landmarks shape:\", landmarks.shape)\n",
    "\n",
    "if len(image_names) < NUM_IMAGES_TO_SHOW:\n",
    "    raise RuntimeError(f\"Choose less images to show, you have only {len(image_names)}\")"
   ]
  },
  {
   "cell_type": "code",
   "execution_count": null,
   "metadata": {},
   "outputs": [],
   "source": [
    "random_idxs = np.random.choice(len(image_names), size=min(NUM_IMAGES_TO_SHOW, len(image_names)), replace=False)\n",
    "\n",
    "plt.figure(figsize=(25, NUM_ROWS * 8))\n",
    "for i, idx in enumerate(random_idxs, 1):\n",
    "    image = cv2.imread(image_names[idx])\n",
    "    image = cv2.cvtColor(image, cv2.COLOR_BGR2RGB)\n",
    "    image = draw_landmarks(image, landmarks[idx])\n",
    "    \n",
    "    plt.subplot(NUM_ROWS, NUM_COLS, i)\n",
    "    plt.imshow(image)\n",
    "\n",
    "plt.tight_layout()\n",
    "plt.show()"
   ]
  }
 ],
 "metadata": {
  "hide_input": false,
  "kernelspec": {
   "display_name": "Python 3",
   "language": "python",
   "name": "python3"
  },
  "language_info": {
   "codemirror_mode": {
    "name": "ipython",
    "version": 3
   },
   "file_extension": ".py",
   "mimetype": "text/x-python",
   "name": "python",
   "nbconvert_exporter": "python",
   "pygments_lexer": "ipython3",
   "version": "3.6.8"
  },
  "pycharm": {
   "stem_cell": {
    "cell_type": "raw",
    "metadata": {
     "collapsed": false
    },
    "source": []
   }
  },
  "varInspector": {
   "cols": {
    "lenName": 16,
    "lenType": 16,
    "lenVar": 40
   },
   "kernels_config": {
    "python": {
     "delete_cmd_postfix": "",
     "delete_cmd_prefix": "del ",
     "library": "var_list.py",
     "varRefreshCmd": "print(var_dic_list())"
    },
    "r": {
     "delete_cmd_postfix": ") ",
     "delete_cmd_prefix": "rm(",
     "library": "var_list.r",
     "varRefreshCmd": "cat(var_dic_list()) "
    }
   },
   "types_to_exclude": [
    "module",
    "function",
    "builtin_function_or_method",
    "instance",
    "_Feature"
   ],
   "window_display": false
  },
  "widgets": {
   "application/vnd.jupyter.widget-state+json": {
    "state": {
     "00194d2ca7e242eea560abd32e8454e0": {
      "model_module": "@jupyter-widgets/controls",
      "model_module_version": "1.4.0",
      "model_name": "HBoxModel",
      "state": {
       "children": [
        "IPY_MODEL_06c7714d55e248b1966df2e0cd581cf2",
        "IPY_MODEL_03f61a4f7666439984c9130d10931e85"
       ],
       "layout": "IPY_MODEL_d1f43ba19b1b46e88ab17378b5491a3e"
      }
     },
     "001ff174fff34244bf6270e94230a0c7": {
      "model_module": "@jupyter-widgets/base",
      "model_module_version": "1.1.0",
      "model_name": "LayoutModel",
      "state": {}
     },
     "0034107cda1e4cfe9222a4a6e301feae": {
      "model_module": "@jupyter-widgets/controls",
      "model_module_version": "1.4.0",
      "model_name": "HTMLModel",
      "state": {
       "layout": "IPY_MODEL_56269a7883bd46b7ab181efcac648123",
       "style": "IPY_MODEL_227d40611d534c3683aa71b997c47f87",
       "value": "100% 103/103 [00:30&lt;00:00,  5.77it/s]"
      }
     },
     "00506d14fedd4bb6a54d5c5da1f6eae6": {
      "model_module": "@jupyter-widgets/controls",
      "model_module_version": "1.4.0",
      "model_name": "DescriptionStyleModel",
      "state": {
       "description_width": ""
      }
     },
     "0086da7d6014433da68cb269da8909cf": {
      "model_module": "@jupyter-widgets/base",
      "model_module_version": "1.1.0",
      "model_name": "LayoutModel",
      "state": {}
     },
     "00e0974e5ba44afb9e4c79ec62225d1b": {
      "model_module": "@jupyter-widgets/controls",
      "model_module_version": "1.4.0",
      "model_name": "HBoxModel",
      "state": {
       "children": [
        "IPY_MODEL_d94f47dfcaa047c98b958d8df7f13351",
        "IPY_MODEL_d53a74afb6904a7699342aaabf8870f2"
       ],
       "layout": "IPY_MODEL_1d262cbec9e14866a1b649558c9d2e40"
      }
     },
     "01016915fa2644189eed0877afa63426": {
      "model_module": "@jupyter-widgets/controls",
      "model_module_version": "1.4.0",
      "model_name": "ProgressStyleModel",
      "state": {
       "description_width": "initial"
      }
     },
     "0136d5b94d114b39ab45bad6356af0f5": {
      "model_module": "@jupyter-widgets/base",
      "model_module_version": "1.1.0",
      "model_name": "LayoutModel",
      "state": {}
     },
     "0143e72b7a394d7085e34e505b9abf41": {
      "model_module": "@jupyter-widgets/controls",
      "model_module_version": "1.4.0",
      "model_name": "IntProgressModel",
      "state": {
       "bar_style": "success",
       "description": "training...",
       "layout": "IPY_MODEL_0242b6d327254dc3b8140a620f093765",
       "max": 410,
       "style": "IPY_MODEL_7857195a8da849078076b528d25d47ee",
       "value": 410
      }
     },
     "014fca96f009479e8a653ed6a3975a20": {
      "model_module": "@jupyter-widgets/controls",
      "model_module_version": "1.4.0",
      "model_name": "HTMLModel",
      "state": {
       "layout": "IPY_MODEL_61aebca548e34befb54f54b35c6cb005",
       "style": "IPY_MODEL_1f1a6e6333bc4a848e6ef182c2aa30e9",
       "value": "100% 410/410 [04:10&lt;00:00,  1.68it/s]"
      }
     },
     "0154198aab424edeaa53f1d96da7484d": {
      "model_module": "@jupyter-widgets/base",
      "model_module_version": "1.1.0",
      "model_name": "LayoutModel",
      "state": {}
     },
     "01927305576e45f09d194aed7cabe2c6": {
      "model_module": "@jupyter-widgets/controls",
      "model_module_version": "1.4.0",
      "model_name": "HBoxModel",
      "state": {
       "children": [
        "IPY_MODEL_e6219cbfab6544acabf508fc0363942b",
        "IPY_MODEL_4271677b1df54ff098fa8a1f8e80b73a"
       ],
       "layout": "IPY_MODEL_274ddcd4fae14a568431e06afd00517a"
      }
     },
     "019cbed6a4694202afeb452af49e0589": {
      "model_module": "@jupyter-widgets/controls",
      "model_module_version": "1.4.0",
      "model_name": "DescriptionStyleModel",
      "state": {
       "description_width": ""
      }
     },
     "01b2a8fc01544fe4be2afbdd46a74c62": {
      "model_module": "@jupyter-widgets/controls",
      "model_module_version": "1.4.0",
      "model_name": "IntProgressModel",
      "state": {
       "bar_style": "success",
       "layout": "IPY_MODEL_fe57096f72df4bfab7a3b91dc4fa180f",
       "max": 99819,
       "style": "IPY_MODEL_cfaeed3f779a40299a7410c72cba04da",
       "value": 99819
      }
     },
     "01b503211ff4423d95faa5b7f9e95e02": {
      "model_module": "@jupyter-widgets/controls",
      "model_module_version": "1.4.0",
      "model_name": "IntProgressModel",
      "state": {
       "bar_style": "success",
       "description": "validation...",
       "layout": "IPY_MODEL_0561ee2386ad4eea9ed3a720a62be2fa",
       "max": 103,
       "style": "IPY_MODEL_5878ca4e066643d1bb9f75d3215a2ace",
       "value": 103
      }
     },
     "01c270a8834546078e142061c163510d": {
      "model_module": "@jupyter-widgets/controls",
      "model_module_version": "1.4.0",
      "model_name": "ProgressStyleModel",
      "state": {
       "description_width": "initial"
      }
     },
     "0242b6d327254dc3b8140a620f093765": {
      "model_module": "@jupyter-widgets/base",
      "model_module_version": "1.1.0",
      "model_name": "LayoutModel",
      "state": {}
     },
     "030a0a99dd364643b5dba8cda4c2e769": {
      "model_module": "@jupyter-widgets/controls",
      "model_module_version": "1.4.0",
      "model_name": "HTMLModel",
      "state": {
       "layout": "IPY_MODEL_5969399c012e427da72a5dbada453e61",
       "style": "IPY_MODEL_8abf453a667f4bf69a57fbec12f3a099",
       "value": "100% 205/205 [01:47&lt;00:00,  2.24it/s]"
      }
     },
     "032375b6cb444a3e91ca77393a63f1b0": {
      "model_module": "@jupyter-widgets/base",
      "model_module_version": "1.1.0",
      "model_name": "LayoutModel",
      "state": {}
     },
     "03471f984643421ab2d37d736923a86a": {
      "model_module": "@jupyter-widgets/controls",
      "model_module_version": "1.4.0",
      "model_name": "HBoxModel",
      "state": {
       "children": [
        "IPY_MODEL_dc25a46833bf45cfaa76ce96fd89b09b",
        "IPY_MODEL_886a476801f14c938a5527abaa43b0af"
       ],
       "layout": "IPY_MODEL_9a146a1dd337447bb8aeb695050b32c9"
      }
     },
     "03f61a4f7666439984c9130d10931e85": {
      "model_module": "@jupyter-widgets/controls",
      "model_module_version": "1.4.0",
      "model_name": "HTMLModel",
      "state": {
       "layout": "IPY_MODEL_268b642c3274457ba14e8a88d1f22935",
       "style": "IPY_MODEL_2aa4ba16fa584e869ee0411d4644fd5a",
       "value": "100% 410/410 [04:11&lt;00:00,  1.71it/s]"
      }
     },
     "0451015695a34779bcde18c12bcb822d": {
      "model_module": "@jupyter-widgets/base",
      "model_module_version": "1.1.0",
      "model_name": "LayoutModel",
      "state": {}
     },
     "0548380323734f2aae54398cb30e539e": {
      "model_module": "@jupyter-widgets/controls",
      "model_module_version": "1.4.0",
      "model_name": "IntProgressModel",
      "state": {
       "bar_style": "success",
       "description": "training...",
       "layout": "IPY_MODEL_ee5a4b5156e14da6853b006b48a65fc4",
       "max": 410,
       "style": "IPY_MODEL_93450a93c0bb459e951dec261f71fa0d",
       "value": 410
      }
     },
     "0561ee2386ad4eea9ed3a720a62be2fa": {
      "model_module": "@jupyter-widgets/base",
      "model_module_version": "1.1.0",
      "model_name": "LayoutModel",
      "state": {}
     },
     "0568afe268ac40f79c5f92d01a3e8e1c": {
      "model_module": "@jupyter-widgets/controls",
      "model_module_version": "1.4.0",
      "model_name": "DescriptionStyleModel",
      "state": {
       "description_width": ""
      }
     },
     "0661af7c1757476c999883bcfa917b99": {
      "model_module": "@jupyter-widgets/controls",
      "model_module_version": "1.4.0",
      "model_name": "ProgressStyleModel",
      "state": {
       "description_width": "initial"
      }
     },
     "06748067120444858d7a7c85a03d5aec": {
      "model_module": "@jupyter-widgets/controls",
      "model_module_version": "1.4.0",
      "model_name": "ProgressStyleModel",
      "state": {
       "description_width": "initial"
      }
     },
     "067dc5d318f7435ca4917bc11bffe406": {
      "model_module": "@jupyter-widgets/base",
      "model_module_version": "1.1.0",
      "model_name": "LayoutModel",
      "state": {}
     },
     "06c7714d55e248b1966df2e0cd581cf2": {
      "model_module": "@jupyter-widgets/controls",
      "model_module_version": "1.4.0",
      "model_name": "IntProgressModel",
      "state": {
       "bar_style": "success",
       "description": "training...",
       "layout": "IPY_MODEL_38603c7386db4e0ebeb5b27d42502d3c",
       "max": 410,
       "style": "IPY_MODEL_1732d023892d4bd6bde9ef47c99465a3",
       "value": 410
      }
     },
     "06cee0ab149e4229a3149e448fd0fa58": {
      "model_module": "@jupyter-widgets/controls",
      "model_module_version": "1.4.0",
      "model_name": "IntProgressModel",
      "state": {
       "bar_style": "success",
       "description": "validation...",
       "layout": "IPY_MODEL_da046cd0e7a44a74a523ce354f5fa515",
       "max": 103,
       "style": "IPY_MODEL_5ac7541f5fec4ddc8ad5974ab8c9010d",
       "value": 103
      }
     },
     "06f50532bf6a4dfb9e7c2e0b50dc2b3a": {
      "model_module": "@jupyter-widgets/controls",
      "model_module_version": "1.4.0",
      "model_name": "ProgressStyleModel",
      "state": {
       "description_width": "initial"
      }
     },
     "0723071324e24aaa833fa310d04aee64": {
      "model_module": "@jupyter-widgets/base",
      "model_module_version": "1.1.0",
      "model_name": "LayoutModel",
      "state": {}
     },
     "0725d8b5e56440958b01287c60ddedfe": {
      "model_module": "@jupyter-widgets/base",
      "model_module_version": "1.1.0",
      "model_name": "LayoutModel",
      "state": {}
     },
     "0804cece7c154a93a10df9a6645187d4": {
      "model_module": "@jupyter-widgets/base",
      "model_module_version": "1.1.0",
      "model_name": "LayoutModel",
      "state": {}
     },
     "08237b764075459a9aef4a460bffef39": {
      "model_module": "@jupyter-widgets/base",
      "model_module_version": "1.1.0",
      "model_name": "LayoutModel",
      "state": {}
     },
     "0862520ccee242399afafaf004db1013": {
      "model_module": "@jupyter-widgets/base",
      "model_module_version": "1.1.0",
      "model_name": "LayoutModel",
      "state": {}
     },
     "08fa1262089e4b7bb3a222b47a71fe23": {
      "model_module": "@jupyter-widgets/controls",
      "model_module_version": "1.4.0",
      "model_name": "HTMLModel",
      "state": {
       "layout": "IPY_MODEL_e8c6c5ad289a41a1a789ec8a5b96c6f1",
       "style": "IPY_MODEL_c41bb03f1f174ed99a1dc05fb3d0eda0",
       "value": "100% 103/103 [00:30&lt;00:00,  5.87it/s]"
      }
     },
     "09676455f8e1489289b5966e00e36254": {
      "model_module": "@jupyter-widgets/controls",
      "model_module_version": "1.4.0",
      "model_name": "ProgressStyleModel",
      "state": {
       "description_width": "initial"
      }
     },
     "097e586ece784b63b1e318c24f30282d": {
      "model_module": "@jupyter-widgets/base",
      "model_module_version": "1.1.0",
      "model_name": "LayoutModel",
      "state": {}
     },
     "0aceec1536b74ff98628e2c464def6c3": {
      "model_module": "@jupyter-widgets/controls",
      "model_module_version": "1.4.0",
      "model_name": "DescriptionStyleModel",
      "state": {
       "description_width": ""
      }
     },
     "0ada87f79ee2429ea8fdc91eea316d4f": {
      "model_module": "@jupyter-widgets/controls",
      "model_module_version": "1.4.0",
      "model_name": "ProgressStyleModel",
      "state": {
       "description_width": "initial"
      }
     },
     "0b173195810a416a9dcdb025b43cb4f3": {
      "model_module": "@jupyter-widgets/controls",
      "model_module_version": "1.4.0",
      "model_name": "IntProgressModel",
      "state": {
       "bar_style": "success",
       "description": "training...",
       "layout": "IPY_MODEL_d4b26909f5b940f5a950d4436b2d2201",
       "max": 410,
       "style": "IPY_MODEL_92613a29d4664339a06207f651f2c32e",
       "value": 410
      }
     },
     "0b52152e13c646c0ae7b8bd29ee497d7": {
      "model_module": "@jupyter-widgets/controls",
      "model_module_version": "1.4.0",
      "model_name": "IntProgressModel",
      "state": {
       "bar_style": "success",
       "description": "validation...",
       "layout": "IPY_MODEL_1b5e0c98abb64540af30e27f0e5674a7",
       "max": 103,
       "style": "IPY_MODEL_6fb5fb24fd2d49f8afa752fa577911f2",
       "value": 103
      }
     },
     "0b6c938e0a224303bc18a1c56a892b4b": {
      "model_module": "@jupyter-widgets/base",
      "model_module_version": "1.1.0",
      "model_name": "LayoutModel",
      "state": {}
     },
     "0c58971a38ff4a66a32816be94287a62": {
      "model_module": "@jupyter-widgets/base",
      "model_module_version": "1.1.0",
      "model_name": "LayoutModel",
      "state": {}
     },
     "0caa7d0be8054943ac0112ca3c1cea52": {
      "model_module": "@jupyter-widgets/base",
      "model_module_version": "1.1.0",
      "model_name": "LayoutModel",
      "state": {}
     },
     "0cba44a00ed34bd3bd77d443384b1108": {
      "model_module": "@jupyter-widgets/controls",
      "model_module_version": "1.4.0",
      "model_name": "DescriptionStyleModel",
      "state": {
       "description_width": ""
      }
     },
     "0ce1106299584745b57bb11a5a050c58": {
      "model_module": "@jupyter-widgets/base",
      "model_module_version": "1.1.0",
      "model_name": "LayoutModel",
      "state": {}
     },
     "0cea430505b5474b860cafd8a3417e82": {
      "model_module": "@jupyter-widgets/controls",
      "model_module_version": "1.4.0",
      "model_name": "DescriptionStyleModel",
      "state": {
       "description_width": ""
      }
     },
     "0d2471a7750b4dba92043df867e04c82": {
      "model_module": "@jupyter-widgets/base",
      "model_module_version": "1.1.0",
      "model_name": "LayoutModel",
      "state": {}
     },
     "0d279d8e0c8d439baf96faa5c2de6ef6": {
      "model_module": "@jupyter-widgets/base",
      "model_module_version": "1.1.0",
      "model_name": "LayoutModel",
      "state": {}
     },
     "0d8916ed3a4c4063a5c81787ab376807": {
      "model_module": "@jupyter-widgets/controls",
      "model_module_version": "1.4.0",
      "model_name": "ProgressStyleModel",
      "state": {
       "description_width": "initial"
      }
     },
     "0d8bfadee2dd4d4081a9cb069d54e21f": {
      "model_module": "@jupyter-widgets/base",
      "model_module_version": "1.1.0",
      "model_name": "LayoutModel",
      "state": {}
     },
     "0da8ff9c984e4339be87ad4dba109fdf": {
      "model_module": "@jupyter-widgets/base",
      "model_module_version": "1.1.0",
      "model_name": "LayoutModel",
      "state": {}
     },
     "0dab786801904ba990788624d11eb6bf": {
      "model_module": "@jupyter-widgets/controls",
      "model_module_version": "1.4.0",
      "model_name": "ProgressStyleModel",
      "state": {
       "description_width": "initial"
      }
     },
     "0dbb52e2015a45718fb31310564d343e": {
      "model_module": "@jupyter-widgets/controls",
      "model_module_version": "1.4.0",
      "model_name": "DescriptionStyleModel",
      "state": {
       "description_width": ""
      }
     },
     "0de4ec2d347044728a6a0a38b9e1824a": {
      "model_module": "@jupyter-widgets/controls",
      "model_module_version": "1.4.0",
      "model_name": "DescriptionStyleModel",
      "state": {
       "description_width": ""
      }
     },
     "0df7187c17484964aeb65cb3ceda9b92": {
      "model_module": "@jupyter-widgets/base",
      "model_module_version": "1.1.0",
      "model_name": "LayoutModel",
      "state": {}
     },
     "0e034fff647343c481ec8ebc3f251ef3": {
      "model_module": "@jupyter-widgets/controls",
      "model_module_version": "1.4.0",
      "model_name": "IntProgressModel",
      "state": {
       "bar_style": "success",
       "description": "training...",
       "layout": "IPY_MODEL_9f769b1fb2ef483682d253001fb7d676",
       "max": 410,
       "style": "IPY_MODEL_62a8137b3bd54b78957e16bfee37bf89",
       "value": 410
      }
     },
     "0e48ab89188c43c9b59c75ba2a108183": {
      "model_module": "@jupyter-widgets/controls",
      "model_module_version": "1.4.0",
      "model_name": "HBoxModel",
      "state": {
       "children": [
        "IPY_MODEL_d4210c80d8fc4b0c98d5482b13752dd0",
        "IPY_MODEL_fc1776c4bf2547fb84abfdfa12f0d8c2"
       ],
       "layout": "IPY_MODEL_36d7dcc58e834b6e9e1bc9589f09f216"
      }
     },
     "0e497a92d0894b1f8516939af3b8caf4": {
      "model_module": "@jupyter-widgets/base",
      "model_module_version": "1.1.0",
      "model_name": "LayoutModel",
      "state": {}
     },
     "0e7083777c044adcafd68f9df3f3acbe": {
      "model_module": "@jupyter-widgets/controls",
      "model_module_version": "1.4.0",
      "model_name": "HBoxModel",
      "state": {
       "children": [
        "IPY_MODEL_ca7aab9b875e411c9d4b580243b72738",
        "IPY_MODEL_a42583dfde2d4c75b5137227e0b048c7"
       ],
       "layout": "IPY_MODEL_ff3830ad3cc24fc8a1874ee68ba93d1e"
      }
     },
     "0e78e882572b40d0ad7a4e8c07c48952": {
      "model_module": "@jupyter-widgets/controls",
      "model_module_version": "1.4.0",
      "model_name": "HBoxModel",
      "state": {
       "children": [
        "IPY_MODEL_76cb525472934fc2829d929a27011a98",
        "IPY_MODEL_88f349190a694b06ab185f46205f31b6"
       ],
       "layout": "IPY_MODEL_9c13e4b8c1074c128446c6dd75c6b337"
      }
     },
     "0e89886d4f884c0f899a219b71dac3d8": {
      "model_module": "@jupyter-widgets/base",
      "model_module_version": "1.1.0",
      "model_name": "LayoutModel",
      "state": {}
     },
     "0eebfd0fe48d47de9376dedd53818d76": {
      "model_module": "@jupyter-widgets/base",
      "model_module_version": "1.1.0",
      "model_name": "LayoutModel",
      "state": {}
     },
     "0f503282ac8c44daacfed3593dd859ec": {
      "model_module": "@jupyter-widgets/base",
      "model_module_version": "1.1.0",
      "model_name": "LayoutModel",
      "state": {}
     },
     "0f8239a7a51d43f4acbf241c15e34fcc": {
      "model_module": "@jupyter-widgets/controls",
      "model_module_version": "1.4.0",
      "model_name": "DescriptionStyleModel",
      "state": {
       "description_width": ""
      }
     },
     "101a64280880462bbd51366ba1ae6c0e": {
      "model_module": "@jupyter-widgets/controls",
      "model_module_version": "1.4.0",
      "model_name": "HBoxModel",
      "state": {
       "children": [
        "IPY_MODEL_c98687003bda4479b899550d3f70fa09",
        "IPY_MODEL_dd6c5b3a12354d83ae830207cc413544"
       ],
       "layout": "IPY_MODEL_bd881879e63849898894a18412761c10"
      }
     },
     "102ae925790c46808ee26faef8a2938e": {
      "model_module": "@jupyter-widgets/controls",
      "model_module_version": "1.4.0",
      "model_name": "DescriptionStyleModel",
      "state": {
       "description_width": ""
      }
     },
     "1038fcad672345e38d485df31a004e08": {
      "model_module": "@jupyter-widgets/controls",
      "model_module_version": "1.4.0",
      "model_name": "HTMLModel",
      "state": {
       "layout": "IPY_MODEL_293efaff17db41ea9b3722ce6ab271cc",
       "style": "IPY_MODEL_b0945343d1b842e0a4475a7b98c5ca66",
       "value": "100% 410/410 [04:09&lt;00:00,  1.69it/s]"
      }
     },
     "10452ff1b03a401e8641a43e113557ba": {
      "model_module": "@jupyter-widgets/controls",
      "model_module_version": "1.4.0",
      "model_name": "ProgressStyleModel",
      "state": {
       "description_width": "initial"
      }
     },
     "10e52bb1d7d5482c94dff9ca2146eb32": {
      "model_module": "@jupyter-widgets/controls",
      "model_module_version": "1.4.0",
      "model_name": "DescriptionStyleModel",
      "state": {
       "description_width": ""
      }
     },
     "10ec5775787a44e9964780ddf17bf345": {
      "model_module": "@jupyter-widgets/controls",
      "model_module_version": "1.4.0",
      "model_name": "DescriptionStyleModel",
      "state": {
       "description_width": ""
      }
     },
     "119f38d4b07b44f488bdd4a828165f8d": {
      "model_module": "@jupyter-widgets/controls",
      "model_module_version": "1.4.0",
      "model_name": "HTMLModel",
      "state": {
       "layout": "IPY_MODEL_3a39a373e89d42e8910da9b981aeff46",
       "style": "IPY_MODEL_74844298f1d34e64bcc8fe1c75e75f7e",
       "value": "100% 103/103 [00:29&lt;00:00,  5.86it/s]"
      }
     },
     "11a41dc3d64541219dfe0e98b9ecb738": {
      "model_module": "@jupyter-widgets/base",
      "model_module_version": "1.1.0",
      "model_name": "LayoutModel",
      "state": {}
     },
     "11ccfa81bd2f4ec3803c08654b1aca1a": {
      "model_module": "@jupyter-widgets/controls",
      "model_module_version": "1.4.0",
      "model_name": "DescriptionStyleModel",
      "state": {
       "description_width": ""
      }
     },
     "1244897dff9640a69fb8a3915bd3af67": {
      "model_module": "@jupyter-widgets/base",
      "model_module_version": "1.1.0",
      "model_name": "LayoutModel",
      "state": {}
     },
     "1289f342346e435cb709952f206098fa": {
      "model_module": "@jupyter-widgets/base",
      "model_module_version": "1.1.0",
      "model_name": "LayoutModel",
      "state": {}
     },
     "132ce074df2c47cc97602794b8b885a6": {
      "model_module": "@jupyter-widgets/base",
      "model_module_version": "1.1.0",
      "model_name": "LayoutModel",
      "state": {}
     },
     "135bc76d918c4d72919b6d7e5085edea": {
      "model_module": "@jupyter-widgets/controls",
      "model_module_version": "1.4.0",
      "model_name": "HTMLModel",
      "state": {
       "layout": "IPY_MODEL_7266a5c94b8b4182b4ef29b0c1944914",
       "style": "IPY_MODEL_5b13e6a00b484573b7d76774694a18e3",
       "value": "100% 410/410 [04:11&lt;00:00,  1.72it/s]"
      }
     },
     "139a58e9685841a781bcf921c08f1eaf": {
      "model_module": "@jupyter-widgets/controls",
      "model_module_version": "1.4.0",
      "model_name": "HBoxModel",
      "state": {
       "children": [
        "IPY_MODEL_1d091bca464d4979b7757b201c40f710",
        "IPY_MODEL_bf7353190825483db564c9e8724fecbe"
       ],
       "layout": "IPY_MODEL_e9b0704241864fa98ff75758697334d7"
      }
     },
     "13a2bdd88bca436597be66d4ec8b21f2": {
      "model_module": "@jupyter-widgets/base",
      "model_module_version": "1.1.0",
      "model_name": "LayoutModel",
      "state": {}
     },
     "13ecebb04fd74429a545cd46f1a6dbd1": {
      "model_module": "@jupyter-widgets/controls",
      "model_module_version": "1.4.0",
      "model_name": "ProgressStyleModel",
      "state": {
       "description_width": "initial"
      }
     },
     "13fe64664c0b4b85b9560f53877eb721": {
      "model_module": "@jupyter-widgets/base",
      "model_module_version": "1.1.0",
      "model_name": "LayoutModel",
      "state": {}
     },
     "14509823b5584556b4dd69fa5cf0120b": {
      "model_module": "@jupyter-widgets/controls",
      "model_module_version": "1.4.0",
      "model_name": "HBoxModel",
      "state": {
       "children": [
        "IPY_MODEL_f91279e4b55d45058dccd67ddea89ef5",
        "IPY_MODEL_fbd4086cea764ae9a79404be810989eb"
       ],
       "layout": "IPY_MODEL_5dccdbdf394843599504fd4c72d9e89a"
      }
     },
     "145badb2ba4a409293756702082c6f46": {
      "model_module": "@jupyter-widgets/base",
      "model_module_version": "1.1.0",
      "model_name": "LayoutModel",
      "state": {}
     },
     "1499262387584638bcd4e7fa0c835733": {
      "model_module": "@jupyter-widgets/controls",
      "model_module_version": "1.4.0",
      "model_name": "HTMLModel",
      "state": {
       "layout": "IPY_MODEL_ea464a1ff38d4c678ea0575afad19c85",
       "style": "IPY_MODEL_87bece76ecdf41b9a97b84d85cbe89e4",
       "value": "100% 410/410 [04:11&lt;00:00,  1.68it/s]"
      }
     },
     "14e82177a0ca4dfba7c8e129e97a31b6": {
      "model_module": "@jupyter-widgets/controls",
      "model_module_version": "1.4.0",
      "model_name": "HTMLModel",
      "state": {
       "layout": "IPY_MODEL_1c67f430550c4975a48ac5d118fb168e",
       "style": "IPY_MODEL_8e8bbc478fac42b2a9f0eaf69a854001",
       "value": "100% 410/410 [04:11&lt;00:00,  1.67it/s]"
      }
     },
     "150fbd0dceba458f8c05707cbc791780": {
      "model_module": "@jupyter-widgets/controls",
      "model_module_version": "1.4.0",
      "model_name": "IntProgressModel",
      "state": {
       "bar_style": "success",
       "description": "validation...",
       "layout": "IPY_MODEL_7c687ff30e604fa9bd74fcb395030065",
       "max": 103,
       "style": "IPY_MODEL_b39d8748a1f841cdbb390a90f1e9567f",
       "value": 103
      }
     },
     "1546c244ea85465188f05ae2088f6d9a": {
      "model_module": "@jupyter-widgets/controls",
      "model_module_version": "1.4.0",
      "model_name": "IntProgressModel",
      "state": {
       "bar_style": "success",
       "description": "training...",
       "layout": "IPY_MODEL_82fbc51f20f34c22b7a485901e44741d",
       "max": 205,
       "style": "IPY_MODEL_3b8fab00a7314d64b4c40486427f048d",
       "value": 205
      }
     },
     "156bc1f1006449898ca9d8285189f5c0": {
      "model_module": "@jupyter-widgets/base",
      "model_module_version": "1.1.0",
      "model_name": "LayoutModel",
      "state": {}
     },
     "15a38ab805674e1b84dc155e705f8e2a": {
      "model_module": "@jupyter-widgets/controls",
      "model_module_version": "1.4.0",
      "model_name": "HBoxModel",
      "state": {
       "children": [
        "IPY_MODEL_9ebea97eef3d42efb6551c20664a28ee",
        "IPY_MODEL_135bc76d918c4d72919b6d7e5085edea"
       ],
       "layout": "IPY_MODEL_067dc5d318f7435ca4917bc11bffe406"
      }
     },
     "15d0d8e6fb7e4ff4b07cd8febc3fe04d": {
      "model_module": "@jupyter-widgets/base",
      "model_module_version": "1.1.0",
      "model_name": "LayoutModel",
      "state": {}
     },
     "1633fd5e5daa4861acae2d0b704ac036": {
      "model_module": "@jupyter-widgets/controls",
      "model_module_version": "1.4.0",
      "model_name": "HBoxModel",
      "state": {
       "children": [
        "IPY_MODEL_c03c4ba9545743f58a6782533864ba10",
        "IPY_MODEL_030a0a99dd364643b5dba8cda4c2e769"
       ],
       "layout": "IPY_MODEL_b628f91cfa4c48ba87dffe15ac3ac0d4"
      }
     },
     "163c61f003d1432c981bc796a2d70430": {
      "model_module": "@jupyter-widgets/base",
      "model_module_version": "1.1.0",
      "model_name": "LayoutModel",
      "state": {}
     },
     "1697c78151084c49bd02e072434371e2": {
      "model_module": "@jupyter-widgets/controls",
      "model_module_version": "1.4.0",
      "model_name": "ProgressStyleModel",
      "state": {
       "description_width": "initial"
      }
     },
     "1708f3aaa5594aff83fa75429dc39bab": {
      "model_module": "@jupyter-widgets/controls",
      "model_module_version": "1.4.0",
      "model_name": "HBoxModel",
      "state": {
       "children": [
        "IPY_MODEL_c3721388aba24435b673ab1c112858d1",
        "IPY_MODEL_224b81e5f4e84b63a55dc68e7f35cfcf"
       ],
       "layout": "IPY_MODEL_3b4f94ca433d40299350bd3a49e2e601"
      }
     },
     "1716075ea18d47da92f28fc8efdc5e16": {
      "model_module": "@jupyter-widgets/controls",
      "model_module_version": "1.4.0",
      "model_name": "ProgressStyleModel",
      "state": {
       "description_width": "initial"
      }
     },
     "17182dbf3743452bbcd562838da8ef1c": {
      "model_module": "@jupyter-widgets/base",
      "model_module_version": "1.1.0",
      "model_name": "LayoutModel",
      "state": {}
     },
     "1732d023892d4bd6bde9ef47c99465a3": {
      "model_module": "@jupyter-widgets/controls",
      "model_module_version": "1.4.0",
      "model_name": "ProgressStyleModel",
      "state": {
       "description_width": "initial"
      }
     },
     "17b9d60843d8406a9737e6b7936e88ef": {
      "model_module": "@jupyter-widgets/controls",
      "model_module_version": "1.4.0",
      "model_name": "ProgressStyleModel",
      "state": {
       "description_width": "initial"
      }
     },
     "17f52b5ef999464fb1ba8ed2d7cecf06": {
      "model_module": "@jupyter-widgets/controls",
      "model_module_version": "1.4.0",
      "model_name": "ProgressStyleModel",
      "state": {
       "description_width": "initial"
      }
     },
     "17fc74f093ca4e3085ea3947fba295e8": {
      "model_module": "@jupyter-widgets/base",
      "model_module_version": "1.1.0",
      "model_name": "LayoutModel",
      "state": {}
     },
     "19b7ed6206e44cd0961b5b1bf09e6232": {
      "model_module": "@jupyter-widgets/controls",
      "model_module_version": "1.4.0",
      "model_name": "ProgressStyleModel",
      "state": {
       "description_width": "initial"
      }
     },
     "19c48547ce0a4e6db819dbcb08cec517": {
      "model_module": "@jupyter-widgets/controls",
      "model_module_version": "1.4.0",
      "model_name": "HBoxModel",
      "state": {
       "children": [
        "IPY_MODEL_06cee0ab149e4229a3149e448fd0fa58",
        "IPY_MODEL_119f38d4b07b44f488bdd4a828165f8d"
       ],
       "layout": "IPY_MODEL_b0747fcc5a6d48a4a65611dbe48a925c"
      }
     },
     "1a5e56f32c1b4452b81a0035c8e57015": {
      "model_module": "@jupyter-widgets/controls",
      "model_module_version": "1.4.0",
      "model_name": "HTMLModel",
      "state": {
       "layout": "IPY_MODEL_636ca140b9a84fa1ba6cd48b726326d3",
       "style": "IPY_MODEL_95d468ce969d4d948baf69104a7544f3",
       "value": "100% 103/103 [00:30&lt;00:00,  5.82it/s]"
      }
     },
     "1ae28675dd3a44c89509a3d70f1543c2": {
      "model_module": "@jupyter-widgets/controls",
      "model_module_version": "1.4.0",
      "model_name": "IntProgressModel",
      "state": {
       "bar_style": "success",
       "description": "training...",
       "layout": "IPY_MODEL_df22e11300584de886f46bd0ed596a7e",
       "max": 410,
       "style": "IPY_MODEL_17b9d60843d8406a9737e6b7936e88ef",
       "value": 410
      }
     },
     "1aeb9f088aba4edaa96a16caa99103b7": {
      "model_module": "@jupyter-widgets/controls",
      "model_module_version": "1.4.0",
      "model_name": "DescriptionStyleModel",
      "state": {
       "description_width": ""
      }
     },
     "1b501eb88a75488d95d5e81696f2610b": {
      "model_module": "@jupyter-widgets/controls",
      "model_module_version": "1.4.0",
      "model_name": "IntProgressModel",
      "state": {
       "bar_style": "success",
       "description": "training...",
       "layout": "IPY_MODEL_156bc1f1006449898ca9d8285189f5c0",
       "max": 410,
       "style": "IPY_MODEL_e5e1ff2f2bb5462ca1733dcafd28e430",
       "value": 410
      }
     },
     "1b5e0c98abb64540af30e27f0e5674a7": {
      "model_module": "@jupyter-widgets/base",
      "model_module_version": "1.1.0",
      "model_name": "LayoutModel",
      "state": {}
     },
     "1b9262cf572e4810b40d86f95a33ac79": {
      "model_module": "@jupyter-widgets/base",
      "model_module_version": "1.1.0",
      "model_name": "LayoutModel",
      "state": {}
     },
     "1c41edb4a1514e53b30632758275b102": {
      "model_module": "@jupyter-widgets/base",
      "model_module_version": "1.1.0",
      "model_name": "LayoutModel",
      "state": {}
     },
     "1c67f430550c4975a48ac5d118fb168e": {
      "model_module": "@jupyter-widgets/base",
      "model_module_version": "1.1.0",
      "model_name": "LayoutModel",
      "state": {}
     },
     "1c8cb076b9af465e87cbe28924502afd": {
      "model_module": "@jupyter-widgets/controls",
      "model_module_version": "1.4.0",
      "model_name": "IntProgressModel",
      "state": {
       "bar_style": "success",
       "description": "training...",
       "layout": "IPY_MODEL_e66df4f410c644379875b1f66262ee98",
       "max": 410,
       "style": "IPY_MODEL_c7cf10ba530849658a0af94e787381c6",
       "value": 410
      }
     },
     "1d091bca464d4979b7757b201c40f710": {
      "model_module": "@jupyter-widgets/controls",
      "model_module_version": "1.4.0",
      "model_name": "IntProgressModel",
      "state": {
       "bar_style": "success",
       "description": "training...",
       "layout": "IPY_MODEL_35c0941396e94f0f95fd8cb6a311a189",
       "max": 205,
       "style": "IPY_MODEL_1697c78151084c49bd02e072434371e2",
       "value": 205
      }
     },
     "1d262cbec9e14866a1b649558c9d2e40": {
      "model_module": "@jupyter-widgets/base",
      "model_module_version": "1.1.0",
      "model_name": "LayoutModel",
      "state": {}
     },
     "1d5fb99bb04c4d7e8c8a174f76f0bbed": {
      "model_module": "@jupyter-widgets/controls",
      "model_module_version": "1.4.0",
      "model_name": "IntProgressModel",
      "state": {
       "bar_style": "success",
       "description": "training...",
       "layout": "IPY_MODEL_d8acb2f6746b42529354733625849b04",
       "max": 410,
       "style": "IPY_MODEL_3aba29f9aa844e5185e81e75662d438f",
       "value": 410
      }
     },
     "1d87856eb88a437b9b1a8a1e96f597c8": {
      "model_module": "@jupyter-widgets/controls",
      "model_module_version": "1.4.0",
      "model_name": "HTMLModel",
      "state": {
       "layout": "IPY_MODEL_b95d994c011e4f558dae7a4286027858",
       "style": "IPY_MODEL_775ed94b9c564787ba94bce678bee4c0",
       "value": "100% 99819/99819 [00:00&lt;00:00, 235527.05it/s]"
      }
     },
     "1d98907d15564c8298ac3bf94312c055": {
      "model_module": "@jupyter-widgets/controls",
      "model_module_version": "1.4.0",
      "model_name": "IntProgressModel",
      "state": {
       "bar_style": "success",
       "description": "training...",
       "layout": "IPY_MODEL_9056ebf1586649d99e8d6185da8bf2d1",
       "max": 205,
       "style": "IPY_MODEL_1716075ea18d47da92f28fc8efdc5e16",
       "value": 205
      }
     },
     "1e4962225c84469aa95716ac5c81d4ea": {
      "model_module": "@jupyter-widgets/controls",
      "model_module_version": "1.4.0",
      "model_name": "HBoxModel",
      "state": {
       "children": [
        "IPY_MODEL_71f28cf4f8fa4976839e78c1835324a3",
        "IPY_MODEL_80915f47ec0a4a53b81a958b05609f36"
       ],
       "layout": "IPY_MODEL_c06f3edd09af44059a315b2c9fa87599"
      }
     },
     "1e5db585b61c41728859c1b0ae0b6470": {
      "model_module": "@jupyter-widgets/controls",
      "model_module_version": "1.4.0",
      "model_name": "IntProgressModel",
      "state": {
       "bar_style": "success",
       "description": "validation...",
       "layout": "IPY_MODEL_74ffafa3c2d5496992eeaf981f93c5f4",
       "max": 52,
       "style": "IPY_MODEL_43a151c0ac7d42708f2b056887429625",
       "value": 52
      }
     },
     "1e80f08ad8b7441ebe60b44604cd8e90": {
      "model_module": "@jupyter-widgets/base",
      "model_module_version": "1.1.0",
      "model_name": "LayoutModel",
      "state": {}
     },
     "1ebbb560c4814770b24edbb7a6fd4cad": {
      "model_module": "@jupyter-widgets/controls",
      "model_module_version": "1.4.0",
      "model_name": "IntProgressModel",
      "state": {
       "bar_style": "success",
       "description": "training...",
       "layout": "IPY_MODEL_6e18c36936054b09a96c0da5296e8c22",
       "max": 410,
       "style": "IPY_MODEL_7ae03007e8214fc9b1363917be602126",
       "value": 410
      }
     },
     "1f1a6e6333bc4a848e6ef182c2aa30e9": {
      "model_module": "@jupyter-widgets/controls",
      "model_module_version": "1.4.0",
      "model_name": "DescriptionStyleModel",
      "state": {
       "description_width": ""
      }
     },
     "1f1fc517d5ba4d07b642c223384ae2b7": {
      "model_module": "@jupyter-widgets/base",
      "model_module_version": "1.1.0",
      "model_name": "LayoutModel",
      "state": {}
     },
     "1f86dac938cc41d59549490d2096b604": {
      "model_module": "@jupyter-widgets/controls",
      "model_module_version": "1.4.0",
      "model_name": "HBoxModel",
      "state": {
       "children": [
        "IPY_MODEL_aaa5de6ffb004e9ab6dfc575176b8917",
        "IPY_MODEL_3cb897db466c4b92bbbf7a17ac06f86a"
       ],
       "layout": "IPY_MODEL_bbd2f401ef0f4b2890a2e8f26973853c"
      }
     },
     "1ff3c54d39a74a5c8d40fdd424cc2f3d": {
      "model_module": "@jupyter-widgets/controls",
      "model_module_version": "1.4.0",
      "model_name": "IntProgressModel",
      "state": {
       "bar_style": "success",
       "description": "validation...",
       "layout": "IPY_MODEL_ad9595c1dd8647b9a2c25f25854a78f0",
       "max": 103,
       "style": "IPY_MODEL_4f57e8a9d41e486cbee16ec5a0e2701a",
       "value": 103
      }
     },
     "2016f610b40c49939b59b7dde4c63283": {
      "model_module": "@jupyter-widgets/base",
      "model_module_version": "1.1.0",
      "model_name": "LayoutModel",
      "state": {}
     },
     "20a5929a081e44c4bd74ce11d79f8ae8": {
      "model_module": "@jupyter-widgets/controls",
      "model_module_version": "1.4.0",
      "model_name": "HTMLModel",
      "state": {
       "layout": "IPY_MODEL_95c70af15e7741668d22929f0b3955aa",
       "style": "IPY_MODEL_c7f8679c5c2c4eef863b0919da108e99",
       "value": "100% 103/103 [00:30&lt;00:00,  5.62it/s]"
      }
     },
     "20d8de2e41dd465ea50a8a1b6231af2f": {
      "model_module": "@jupyter-widgets/controls",
      "model_module_version": "1.4.0",
      "model_name": "IntProgressModel",
      "state": {
       "bar_style": "success",
       "description": "validation...",
       "layout": "IPY_MODEL_c2fa8cfa7dc34d54ae610833f6169703",
       "max": 103,
       "style": "IPY_MODEL_89fc9bdd155c48f0b3446d13857c04c8",
       "value": 103
      }
     },
     "2102b864b1074de7b95c2a70a57111b7": {
      "model_module": "@jupyter-widgets/base",
      "model_module_version": "1.1.0",
      "model_name": "LayoutModel",
      "state": {}
     },
     "22441f691742443ea9baa69d8220cb61": {
      "model_module": "@jupyter-widgets/controls",
      "model_module_version": "1.4.0",
      "model_name": "HBoxModel",
      "state": {
       "children": [
        "IPY_MODEL_e5313a40cf664db09ebbc162de7f766a",
        "IPY_MODEL_d513b1525ab14930bc62de51a1ef4ae0"
       ],
       "layout": "IPY_MODEL_b37f1f449f554eddac6486b8b7af071a"
      }
     },
     "224b81e5f4e84b63a55dc68e7f35cfcf": {
      "model_module": "@jupyter-widgets/controls",
      "model_module_version": "1.4.0",
      "model_name": "HTMLModel",
      "state": {
       "layout": "IPY_MODEL_2f55fcbc3ffd4490b6252c1aaa590b1a",
       "style": "IPY_MODEL_308bb85d6c4d486aaa36ae598c0d7f07",
       "value": "  0% 0/307 [00:00&lt;?, ?it/s]"
      }
     },
     "226e8a23136247aca71453a6fcf1c7c3": {
      "model_module": "@jupyter-widgets/controls",
      "model_module_version": "1.4.0",
      "model_name": "DescriptionStyleModel",
      "state": {
       "description_width": ""
      }
     },
     "227d40611d534c3683aa71b997c47f87": {
      "model_module": "@jupyter-widgets/controls",
      "model_module_version": "1.4.0",
      "model_name": "DescriptionStyleModel",
      "state": {
       "description_width": ""
      }
     },
     "228926a90d82416f8c19d273033863cb": {
      "model_module": "@jupyter-widgets/controls",
      "model_module_version": "1.4.0",
      "model_name": "DescriptionStyleModel",
      "state": {
       "description_width": ""
      }
     },
     "22c830bbd0f74c9a894fbc61e72f8c03": {
      "model_module": "@jupyter-widgets/base",
      "model_module_version": "1.1.0",
      "model_name": "LayoutModel",
      "state": {}
     },
     "22ca3a7d82964de8b857da868ee23a41": {
      "model_module": "@jupyter-widgets/controls",
      "model_module_version": "1.4.0",
      "model_name": "HBoxModel",
      "state": {
       "children": [
        "IPY_MODEL_4956b792cdc0444795157f00a0e3f098",
        "IPY_MODEL_b882631b90d240aab846c75aa0bf35ca"
       ],
       "layout": "IPY_MODEL_9d312c5530414255aae6734ebc545928"
      }
     },
     "2333a3e325fb47c39363cb8de6b3f4ab": {
      "model_module": "@jupyter-widgets/controls",
      "model_module_version": "1.4.0",
      "model_name": "HBoxModel",
      "state": {
       "children": [
        "IPY_MODEL_98da5cd588664892a878e0d00cc87400",
        "IPY_MODEL_c485b4fee4af42be9b12b1d526eb1f20"
       ],
       "layout": "IPY_MODEL_39ca3e0167694977a7b4b688c5cfd9ef"
      }
     },
     "233fc4750d7449ac9564d1810d0f1c98": {
      "model_module": "@jupyter-widgets/base",
      "model_module_version": "1.1.0",
      "model_name": "LayoutModel",
      "state": {}
     },
     "2341f0c0761a4a5f81e73769bd5bc72c": {
      "model_module": "@jupyter-widgets/controls",
      "model_module_version": "1.4.0",
      "model_name": "DescriptionStyleModel",
      "state": {
       "description_width": ""
      }
     },
     "235d0578708041bd8dcda01e4c875641": {
      "model_module": "@jupyter-widgets/base",
      "model_module_version": "1.1.0",
      "model_name": "LayoutModel",
      "state": {}
     },
     "239a675fbdb0404aa7d125030088a4fd": {
      "model_module": "@jupyter-widgets/controls",
      "model_module_version": "1.4.0",
      "model_name": "DescriptionStyleModel",
      "state": {
       "description_width": ""
      }
     },
     "2403e72c1887473ba5cf2e0dae130103": {
      "model_module": "@jupyter-widgets/controls",
      "model_module_version": "1.4.0",
      "model_name": "HTMLModel",
      "state": {
       "layout": "IPY_MODEL_2d2e66b1cd914a58a8b42d5d40bbbab3",
       "style": "IPY_MODEL_5964af43ac3444ae98747dac3ff538a9",
       "value": "100% 410/410 [04:10&lt;00:00,  1.72it/s]"
      }
     },
     "24209255237f4f5faf35ba0e18640791": {
      "model_module": "@jupyter-widgets/controls",
      "model_module_version": "1.4.0",
      "model_name": "IntProgressModel",
      "state": {
       "bar_style": "success",
       "description": "validation...",
       "layout": "IPY_MODEL_8c506f0c9442446dbfad70528ddb3771",
       "max": 52,
       "style": "IPY_MODEL_876a2c22ef3c4a0aa360b19db39916be",
       "value": 52
      }
     },
     "243b2c84017e468699295e0fbede42d7": {
      "model_module": "@jupyter-widgets/base",
      "model_module_version": "1.1.0",
      "model_name": "LayoutModel",
      "state": {}
     },
     "243fff2a34b64300a7482cdae71f45c3": {
      "model_module": "@jupyter-widgets/controls",
      "model_module_version": "1.4.0",
      "model_name": "HBoxModel",
      "state": {
       "children": [
        "IPY_MODEL_d6ed0f894f374a798b06e73cbebd3bcc",
        "IPY_MODEL_20a5929a081e44c4bd74ce11d79f8ae8"
       ],
       "layout": "IPY_MODEL_ce8dbdb907fe4dc3986bde70a8485496"
      }
     },
     "246769c8bb6847a6ad3990373037ffe6": {
      "model_module": "@jupyter-widgets/controls",
      "model_module_version": "1.4.0",
      "model_name": "HTMLModel",
      "state": {
       "layout": "IPY_MODEL_f47b9bb459d34ec285681a4a59336327",
       "style": "IPY_MODEL_9b1b15811339489195ab1641ad4d161d",
       "value": "100% 103/103 [00:31&lt;00:00,  5.65it/s]"
      }
     },
     "2474c498e40e46aabd299703c8ebf6f2": {
      "model_module": "@jupyter-widgets/controls",
      "model_module_version": "1.4.0",
      "model_name": "ProgressStyleModel",
      "state": {
       "description_width": "initial"
      }
     },
     "2480023405524f819f9fe3d35b1caa29": {
      "model_module": "@jupyter-widgets/controls",
      "model_module_version": "1.4.0",
      "model_name": "HBoxModel",
      "state": {
       "children": [
        "IPY_MODEL_60708d45bfc14d0c841bacb3da143ad0",
        "IPY_MODEL_fb9b4a009df54aee8335663eef4dd794"
       ],
       "layout": "IPY_MODEL_7252b00ea457477e9b79124fb6ded319"
      }
     },
     "2494a1483c1041d9b5f2e5281cfff241": {
      "model_module": "@jupyter-widgets/controls",
      "model_module_version": "1.4.0",
      "model_name": "HBoxModel",
      "state": {
       "children": [
        "IPY_MODEL_7a76353511cd4aa78a19684c920a431e",
        "IPY_MODEL_376b1697229245cca832bba6deb2b5c7"
       ],
       "layout": "IPY_MODEL_ecf868b3ea5a474ba64534cf0feb038e"
      }
     },
     "24a18bf60c6f47059121ad48be65fb35": {
      "model_module": "@jupyter-widgets/base",
      "model_module_version": "1.1.0",
      "model_name": "LayoutModel",
      "state": {}
     },
     "24a1bb235ba141bd9eaeac7380db6844": {
      "model_module": "@jupyter-widgets/base",
      "model_module_version": "1.1.0",
      "model_name": "LayoutModel",
      "state": {}
     },
     "24d99f12ae92464f96d531e1ef823172": {
      "model_module": "@jupyter-widgets/controls",
      "model_module_version": "1.4.0",
      "model_name": "HBoxModel",
      "state": {
       "children": [
        "IPY_MODEL_dd49e0232a0a4e78a7cfcab297a697c3",
        "IPY_MODEL_9591c881cebb4ef6b72aee59de705cbb"
       ],
       "layout": "IPY_MODEL_d83f1a69aa054a6fb0bdcf5cf7b5eca1"
      }
     },
     "24efc55cca4d424588ddc7d9dd05d01b": {
      "model_module": "@jupyter-widgets/base",
      "model_module_version": "1.1.0",
      "model_name": "LayoutModel",
      "state": {}
     },
     "24f3693b4e0b489387838d127d43525b": {
      "model_module": "@jupyter-widgets/controls",
      "model_module_version": "1.4.0",
      "model_name": "IntProgressModel",
      "state": {
       "bar_style": "success",
       "description": "test prediction...",
       "layout": "IPY_MODEL_773793a00a9749d999ff0fad78055f02",
       "max": 65,
       "style": "IPY_MODEL_06f50532bf6a4dfb9e7c2e0b50dc2b3a",
       "value": 65
      }
     },
     "256fba288f11429c9fd8c9fcdd0dadb3": {
      "model_module": "@jupyter-widgets/controls",
      "model_module_version": "1.4.0",
      "model_name": "HTMLModel",
      "state": {
       "layout": "IPY_MODEL_86dd50cd7da8431d8ee42f52e578bcd6",
       "style": "IPY_MODEL_59fc4daed98e43808164e7d436bdb80e",
       "value": "100% 77/77 [00:36&lt;00:00,  3.49it/s]"
      }
     },
     "258c894c04e64b839187658a60b3f5c8": {
      "model_module": "@jupyter-widgets/controls",
      "model_module_version": "1.4.0",
      "model_name": "IntProgressModel",
      "state": {
       "bar_style": "success",
       "description": "training...",
       "layout": "IPY_MODEL_f515bfd6fc7e44d1adf3c2378ec74f36",
       "max": 410,
       "style": "IPY_MODEL_c349312276f24cb8ac10ac4a294e0e3b",
       "value": 410
      }
     },
     "261af9873387451ba92d522dd2ac2854": {
      "model_module": "@jupyter-widgets/controls",
      "model_module_version": "1.4.0",
      "model_name": "DescriptionStyleModel",
      "state": {
       "description_width": ""
      }
     },
     "261b3d136f7f4db09d0a1e3a3c59c50f": {
      "model_module": "@jupyter-widgets/base",
      "model_module_version": "1.1.0",
      "model_name": "LayoutModel",
      "state": {}
     },
     "268b642c3274457ba14e8a88d1f22935": {
      "model_module": "@jupyter-widgets/base",
      "model_module_version": "1.1.0",
      "model_name": "LayoutModel",
      "state": {}
     },
     "26ac6dde855e44b38e3ab80bd021e721": {
      "model_module": "@jupyter-widgets/base",
      "model_module_version": "1.1.0",
      "model_name": "LayoutModel",
      "state": {}
     },
     "274ddcd4fae14a568431e06afd00517a": {
      "model_module": "@jupyter-widgets/base",
      "model_module_version": "1.1.0",
      "model_name": "LayoutModel",
      "state": {}
     },
     "27637d2839904b2dbff92968e182aef8": {
      "model_module": "@jupyter-widgets/controls",
      "model_module_version": "1.4.0",
      "model_name": "HBoxModel",
      "state": {
       "children": [
        "IPY_MODEL_0548380323734f2aae54398cb30e539e",
        "IPY_MODEL_14e82177a0ca4dfba7c8e129e97a31b6"
       ],
       "layout": "IPY_MODEL_0d8bfadee2dd4d4081a9cb069d54e21f"
      }
     },
     "2767d73a6d0c4895bd8a7d0bb5d7934f": {
      "model_module": "@jupyter-widgets/base",
      "model_module_version": "1.1.0",
      "model_name": "LayoutModel",
      "state": {}
     },
     "2818bfd790d0484e903dd457a8c0e18f": {
      "model_module": "@jupyter-widgets/base",
      "model_module_version": "1.1.0",
      "model_name": "LayoutModel",
      "state": {}
     },
     "28860508944f41d8b97c26fad93cf0d6": {
      "model_module": "@jupyter-widgets/base",
      "model_module_version": "1.1.0",
      "model_name": "LayoutModel",
      "state": {}
     },
     "288c4b84de2a4c0aaa79bacdf24dc901": {
      "model_module": "@jupyter-widgets/controls",
      "model_module_version": "1.4.0",
      "model_name": "ProgressStyleModel",
      "state": {
       "description_width": "initial"
      }
     },
     "293efaff17db41ea9b3722ce6ab271cc": {
      "model_module": "@jupyter-widgets/base",
      "model_module_version": "1.1.0",
      "model_name": "LayoutModel",
      "state": {}
     },
     "295cd702f3684f4faf29e12e8775294d": {
      "model_module": "@jupyter-widgets/controls",
      "model_module_version": "1.4.0",
      "model_name": "ProgressStyleModel",
      "state": {
       "description_width": "initial"
      }
     },
     "29a01f2ffe294d1989dde90b01b3b068": {
      "model_module": "@jupyter-widgets/base",
      "model_module_version": "1.1.0",
      "model_name": "LayoutModel",
      "state": {}
     },
     "29a356c51f814bcb9a382d0669c4957d": {
      "model_module": "@jupyter-widgets/controls",
      "model_module_version": "1.4.0",
      "model_name": "DescriptionStyleModel",
      "state": {
       "description_width": ""
      }
     },
     "29f4ae4573784173a5511173fa053237": {
      "model_module": "@jupyter-widgets/controls",
      "model_module_version": "1.4.0",
      "model_name": "ProgressStyleModel",
      "state": {
       "description_width": "initial"
      }
     },
     "2a1370ed520c4087b4bcc73228660ff8": {
      "model_module": "@jupyter-widgets/controls",
      "model_module_version": "1.4.0",
      "model_name": "DescriptionStyleModel",
      "state": {
       "description_width": ""
      }
     },
     "2a14bc8413f545a0972eef3123ca876d": {
      "model_module": "@jupyter-widgets/controls",
      "model_module_version": "1.4.0",
      "model_name": "HBoxModel",
      "state": {
       "children": [
        "IPY_MODEL_ea8ba2bdd47c4cdba1767999f59ebd5f",
        "IPY_MODEL_2403e72c1887473ba5cf2e0dae130103"
       ],
       "layout": "IPY_MODEL_2d19063332724fa78a79c88ac8cbbb52"
      }
     },
     "2a6425dce62c447cb55bcfe824159b95": {
      "model_module": "@jupyter-widgets/base",
      "model_module_version": "1.1.0",
      "model_name": "LayoutModel",
      "state": {}
     },
     "2a666a29fd41423684abcb9598ebdd86": {
      "model_module": "@jupyter-widgets/base",
      "model_module_version": "1.1.0",
      "model_name": "LayoutModel",
      "state": {}
     },
     "2aa4ba16fa584e869ee0411d4644fd5a": {
      "model_module": "@jupyter-widgets/controls",
      "model_module_version": "1.4.0",
      "model_name": "DescriptionStyleModel",
      "state": {
       "description_width": ""
      }
     },
     "2ab0d550fac84863a9b9b2c26c994ef5": {
      "model_module": "@jupyter-widgets/controls",
      "model_module_version": "1.4.0",
      "model_name": "HBoxModel",
      "state": {
       "children": [
        "IPY_MODEL_1b501eb88a75488d95d5e81696f2610b",
        "IPY_MODEL_494fa20e4de340ef8b2ce234596dbad9"
       ],
       "layout": "IPY_MODEL_4013d4c3efbb43b48ce277ba4310cb73"
      }
     },
     "2ad98de7af9b49c391978628a96f5335": {
      "model_module": "@jupyter-widgets/controls",
      "model_module_version": "1.4.0",
      "model_name": "ProgressStyleModel",
      "state": {
       "description_width": "initial"
      }
     },
     "2ad9e63c42224da4b26d28efa722a29c": {
      "model_module": "@jupyter-widgets/controls",
      "model_module_version": "1.4.0",
      "model_name": "IntProgressModel",
      "state": {
       "bar_style": "success",
       "description": "training...",
       "layout": "IPY_MODEL_590582c20dc14dffa5cad51438bda4cd",
       "max": 410,
       "style": "IPY_MODEL_c6934cb6ecdb42dcb85f485b245c23a2",
       "value": 410
      }
     },
     "2afacfec3d564d8caef766b7af83b801": {
      "model_module": "@jupyter-widgets/controls",
      "model_module_version": "1.4.0",
      "model_name": "HBoxModel",
      "state": {
       "children": [
        "IPY_MODEL_8527ac433df646d193d80d1567c6b588",
        "IPY_MODEL_89a1f17de5da49578969ff7f7cfe2e38"
       ],
       "layout": "IPY_MODEL_a08f6fb8f3814cd39f94228b9181e2be"
      }
     },
     "2ba0d804b03545afa31d31a50c0d69b9": {
      "model_module": "@jupyter-widgets/base",
      "model_module_version": "1.1.0",
      "model_name": "LayoutModel",
      "state": {}
     },
     "2bc650c8018b4add9b620fae17018b52": {
      "model_module": "@jupyter-widgets/base",
      "model_module_version": "1.1.0",
      "model_name": "LayoutModel",
      "state": {}
     },
     "2bd15930a24d4725b094a458c7195138": {
      "model_module": "@jupyter-widgets/base",
      "model_module_version": "1.1.0",
      "model_name": "LayoutModel",
      "state": {}
     },
     "2be231f28c074ad79a111e8bfecb0a89": {
      "model_module": "@jupyter-widgets/base",
      "model_module_version": "1.1.0",
      "model_name": "LayoutModel",
      "state": {}
     },
     "2bfb9e3bc68649a791d0072cb1f7a1a8": {
      "model_module": "@jupyter-widgets/controls",
      "model_module_version": "1.4.0",
      "model_name": "HTMLModel",
      "state": {
       "layout": "IPY_MODEL_76c5759f96584aaab0dfc7f35326e9a1",
       "style": "IPY_MODEL_d0cf81aa94864ffba4abd9817b1ac7fc",
       "value": "100% 52/52 [00:23&lt;00:00,  2.20it/s]"
      }
     },
     "2c488521e2324833bf6a7155e05bca36": {
      "model_module": "@jupyter-widgets/base",
      "model_module_version": "1.1.0",
      "model_name": "LayoutModel",
      "state": {}
     },
     "2c96119e895647558098ee4763644534": {
      "model_module": "@jupyter-widgets/controls",
      "model_module_version": "1.4.0",
      "model_name": "HBoxModel",
      "state": {
       "children": [
        "IPY_MODEL_8dd90752419e4bc8926420da5b737a45",
        "IPY_MODEL_708e3a005c004e8f8c20bfffba3531fa"
       ],
       "layout": "IPY_MODEL_31eeee0237784aa5bef179a5e7c9a526"
      }
     },
     "2cc858292c444d4a8b6c295e7677c7ae": {
      "model_module": "@jupyter-widgets/controls",
      "model_module_version": "1.4.0",
      "model_name": "HBoxModel",
      "state": {
       "children": [
        "IPY_MODEL_51050a46e7c94b0da26ee075807f7141",
        "IPY_MODEL_3702d4f88c314c90af4a8280571210fa"
       ],
       "layout": "IPY_MODEL_24a1bb235ba141bd9eaeac7380db6844"
      }
     },
     "2d19063332724fa78a79c88ac8cbbb52": {
      "model_module": "@jupyter-widgets/base",
      "model_module_version": "1.1.0",
      "model_name": "LayoutModel",
      "state": {}
     },
     "2d2e66b1cd914a58a8b42d5d40bbbab3": {
      "model_module": "@jupyter-widgets/base",
      "model_module_version": "1.1.0",
      "model_name": "LayoutModel",
      "state": {}
     },
     "2d5ba7efb7554637b4aeaddc77ca1fb7": {
      "model_module": "@jupyter-widgets/controls",
      "model_module_version": "1.4.0",
      "model_name": "HTMLModel",
      "state": {
       "layout": "IPY_MODEL_233fc4750d7449ac9564d1810d0f1c98",
       "style": "IPY_MODEL_8179b8e9ac034c5c8b2c40a315530367",
       "value": "100% 103/103 [00:29&lt;00:00,  5.70it/s]"
      }
     },
     "2dc678635f5e4ccd99e619e9a9b3d1f6": {
      "model_module": "@jupyter-widgets/base",
      "model_module_version": "1.1.0",
      "model_name": "LayoutModel",
      "state": {}
     },
     "2e2f87984efa42edaaa30567f2662567": {
      "model_module": "@jupyter-widgets/controls",
      "model_module_version": "1.4.0",
      "model_name": "IntProgressModel",
      "state": {
       "bar_style": "success",
       "description": "validation...",
       "layout": "IPY_MODEL_aa558dbea0bb40fbb3faf137ae3ee8dc",
       "max": 52,
       "style": "IPY_MODEL_45c1b7a368fa435abe3a8311839ae350",
       "value": 52
      }
     },
     "2e622d7d7aea493e8028e0812688cb7c": {
      "model_module": "@jupyter-widgets/controls",
      "model_module_version": "1.4.0",
      "model_name": "IntProgressModel",
      "state": {
       "bar_style": "success",
       "description": "training...",
       "layout": "IPY_MODEL_032375b6cb444a3e91ca77393a63f1b0",
       "max": 410,
       "style": "IPY_MODEL_56ed863a2d6f40b09fb3287ba0cd7398",
       "value": 410
      }
     },
     "2e70e40b1b9841569b39b02cd3c6fd43": {
      "model_module": "@jupyter-widgets/base",
      "model_module_version": "1.1.0",
      "model_name": "LayoutModel",
      "state": {}
     },
     "2ea376ce429a479a8e16c4e18a47a0c4": {
      "model_module": "@jupyter-widgets/controls",
      "model_module_version": "1.4.0",
      "model_name": "HBoxModel",
      "state": {
       "children": [
        "IPY_MODEL_f78cd76f2d95447ea2c5e2bd394c5a6e",
        "IPY_MODEL_b886a15666ab408cad21ab0464c091d9"
       ],
       "layout": "IPY_MODEL_b92a69a24c5a4818b308eba4527fa09c"
      }
     },
     "2eaa28eb6e1d45a8bea4f181b58eedc3": {
      "model_module": "@jupyter-widgets/controls",
      "model_module_version": "1.4.0",
      "model_name": "DescriptionStyleModel",
      "state": {
       "description_width": ""
      }
     },
     "2ec114f434fe465094440f42296d7b2d": {
      "model_module": "@jupyter-widgets/controls",
      "model_module_version": "1.4.0",
      "model_name": "DescriptionStyleModel",
      "state": {
       "description_width": ""
      }
     },
     "2ed6af8659844aa2b3b61305e0357da8": {
      "model_module": "@jupyter-widgets/controls",
      "model_module_version": "1.4.0",
      "model_name": "DescriptionStyleModel",
      "state": {
       "description_width": ""
      }
     },
     "2ee5499c687647589ce10544e5d8037e": {
      "model_module": "@jupyter-widgets/controls",
      "model_module_version": "1.4.0",
      "model_name": "ProgressStyleModel",
      "state": {
       "description_width": "initial"
      }
     },
     "2ef4bcf993404d6aa2481c9ee5cfe50f": {
      "model_module": "@jupyter-widgets/controls",
      "model_module_version": "1.4.0",
      "model_name": "HBoxModel",
      "state": {
       "children": [
        "IPY_MODEL_5416d38f269a430ab84e9c9d6831c67e",
        "IPY_MODEL_ce81d322478745f48f09e9a76823d479"
       ],
       "layout": "IPY_MODEL_e2e20945dbb54158bc658d8191664722"
      }
     },
     "2f161f7557f94fef96f31f9c19ea6d9f": {
      "model_module": "@jupyter-widgets/base",
      "model_module_version": "1.1.0",
      "model_name": "LayoutModel",
      "state": {}
     },
     "2f55fcbc3ffd4490b6252c1aaa590b1a": {
      "model_module": "@jupyter-widgets/base",
      "model_module_version": "1.1.0",
      "model_name": "LayoutModel",
      "state": {}
     },
     "2f651b8d8871435ea65da283bb5360cb": {
      "model_module": "@jupyter-widgets/controls",
      "model_module_version": "1.4.0",
      "model_name": "DescriptionStyleModel",
      "state": {
       "description_width": ""
      }
     },
     "2f67abf3ba0841b398458baa4623a563": {
      "model_module": "@jupyter-widgets/base",
      "model_module_version": "1.1.0",
      "model_name": "LayoutModel",
      "state": {}
     },
     "300fa8b83d234f80b5de43ea4bb76f17": {
      "model_module": "@jupyter-widgets/controls",
      "model_module_version": "1.4.0",
      "model_name": "ProgressStyleModel",
      "state": {
       "description_width": "initial"
      }
     },
     "302e4ec06daf4da2b259a4c2b61efbda": {
      "model_module": "@jupyter-widgets/controls",
      "model_module_version": "1.4.0",
      "model_name": "HBoxModel",
      "state": {
       "children": [
        "IPY_MODEL_0b173195810a416a9dcdb025b43cb4f3",
        "IPY_MODEL_1038fcad672345e38d485df31a004e08"
       ],
       "layout": "IPY_MODEL_261b3d136f7f4db09d0a1e3a3c59c50f"
      }
     },
     "308bb85d6c4d486aaa36ae598c0d7f07": {
      "model_module": "@jupyter-widgets/controls",
      "model_module_version": "1.4.0",
      "model_name": "DescriptionStyleModel",
      "state": {
       "description_width": ""
      }
     },
     "308e6f931a7040c29a5e4d3ab699d3aa": {
      "model_module": "@jupyter-widgets/controls",
      "model_module_version": "1.4.0",
      "model_name": "HTMLModel",
      "state": {
       "layout": "IPY_MODEL_9681f6f52e35435ea6c1e5d395f98e1e",
       "style": "IPY_MODEL_239a675fbdb0404aa7d125030088a4fd",
       "value": "100% 103/103 [00:30&lt;00:00,  5.16it/s]"
      }
     },
     "309e49b68bbd43a6abeb138f3ecaae76": {
      "model_module": "@jupyter-widgets/controls",
      "model_module_version": "1.4.0",
      "model_name": "IntProgressModel",
      "state": {
       "bar_style": "success",
       "description": "training...",
       "layout": "IPY_MODEL_0086da7d6014433da68cb269da8909cf",
       "max": 410,
       "style": "IPY_MODEL_0dab786801904ba990788624d11eb6bf",
       "value": 410
      }
     },
     "30cc4d95d5674ae88134166f69ee2598": {
      "model_module": "@jupyter-widgets/base",
      "model_module_version": "1.1.0",
      "model_name": "LayoutModel",
      "state": {}
     },
     "3116b85764974dacaadbb2a30405422d": {
      "model_module": "@jupyter-widgets/controls",
      "model_module_version": "1.4.0",
      "model_name": "HBoxModel",
      "state": {
       "children": [
        "IPY_MODEL_3d11ddae0b3d486e8870dde993826198",
        "IPY_MODEL_48fe3e9e67684d57a566a16d2d03cb39"
       ],
       "layout": "IPY_MODEL_2bd15930a24d4725b094a458c7195138"
      }
     },
     "313a9347d9534979a1d50e5b9eadbea0": {
      "model_module": "@jupyter-widgets/controls",
      "model_module_version": "1.4.0",
      "model_name": "ProgressStyleModel",
      "state": {
       "description_width": "initial"
      }
     },
     "31887219aeb14f9aaf9b538806f7696b": {
      "model_module": "@jupyter-widgets/controls",
      "model_module_version": "1.4.0",
      "model_name": "IntProgressModel",
      "state": {
       "bar_style": "success",
       "description": "training...",
       "layout": "IPY_MODEL_bacb491a60ce475aaff2a1eaadf54ebe",
       "max": 410,
       "style": "IPY_MODEL_620694dbf0084de392608acd1dbb2cca",
       "value": 410
      }
     },
     "318eab0931d841b1afb4560ba8765837": {
      "model_module": "@jupyter-widgets/base",
      "model_module_version": "1.1.0",
      "model_name": "LayoutModel",
      "state": {}
     },
     "31eeee0237784aa5bef179a5e7c9a526": {
      "model_module": "@jupyter-widgets/base",
      "model_module_version": "1.1.0",
      "model_name": "LayoutModel",
      "state": {}
     },
     "3266dfe05c254e848bb40801fefde9c1": {
      "model_module": "@jupyter-widgets/controls",
      "model_module_version": "1.4.0",
      "model_name": "HTMLModel",
      "state": {
       "layout": "IPY_MODEL_4359ebc6eca44679ba90b3321cb8aa57",
       "style": "IPY_MODEL_b821f37dfe144406ad7e6cec5fedbd0a",
       "value": "100% 410/410 [04:11&lt;00:00,  1.63it/s]"
      }
     },
     "327ae78f46ac4c6dbd891953b677f91f": {
      "model_module": "@jupyter-widgets/controls",
      "model_module_version": "1.4.0",
      "model_name": "IntProgressModel",
      "state": {
       "bar_style": "success",
       "description": "validation...",
       "layout": "IPY_MODEL_b30c034e6b5c429b8daff4cf46ea3d6b",
       "max": 103,
       "style": "IPY_MODEL_9ae70d8faa42407a9852b393ec4598d7",
       "value": 103
      }
     },
     "32990db317a24d7ba55e5652bb00e0ec": {
      "model_module": "@jupyter-widgets/controls",
      "model_module_version": "1.4.0",
      "model_name": "HBoxModel",
      "state": {
       "children": [
        "IPY_MODEL_1e5db585b61c41728859c1b0ae0b6470",
        "IPY_MODEL_356d549c001e496eb4a88e7878bb71e0"
       ],
       "layout": "IPY_MODEL_560e8066412449b39899d3e2929e8a93"
      }
     },
     "331bc5805d1e4048afbc5369f3cef797": {
      "model_module": "@jupyter-widgets/controls",
      "model_module_version": "1.4.0",
      "model_name": "HBoxModel",
      "state": {
       "children": [
        "IPY_MODEL_811e8242ee894d40b704c534fed120f4",
        "IPY_MODEL_3e0b417f52de4cc18ca5b955585bfd20"
       ],
       "layout": "IPY_MODEL_7b66b34b272a468fb132d9a497db793c"
      }
     },
     "33371e1c804f4efda22a94f8e56de9ca": {
      "model_module": "@jupyter-widgets/controls",
      "model_module_version": "1.4.0",
      "model_name": "HTMLModel",
      "state": {
       "layout": "IPY_MODEL_2bc650c8018b4add9b620fae17018b52",
       "style": "IPY_MODEL_2341f0c0761a4a5f81e73769bd5bc72c",
       "value": "100% 410/410 [04:10&lt;00:00,  1.63it/s]"
      }
     },
     "336d807bfbea4bd795dcb8f449881687": {
      "model_module": "@jupyter-widgets/controls",
      "model_module_version": "1.4.0",
      "model_name": "HBoxModel",
      "state": {
       "children": [
        "IPY_MODEL_eef62433c44640d8a18229a176063be9",
        "IPY_MODEL_381340fe70ed43fead688288dbba306d"
       ],
       "layout": "IPY_MODEL_7cee38f61aa84232b8eff6f4d3db4710"
      }
     },
     "33ff0b3aeff3473d96bd71287af7d62f": {
      "model_module": "@jupyter-widgets/base",
      "model_module_version": "1.1.0",
      "model_name": "LayoutModel",
      "state": {}
     },
     "340dd1010ce34fd2a85ddf07e03d531e": {
      "model_module": "@jupyter-widgets/base",
      "model_module_version": "1.1.0",
      "model_name": "LayoutModel",
      "state": {}
     },
     "34c8401207414b37960f9af60514a6d4": {
      "model_module": "@jupyter-widgets/controls",
      "model_module_version": "1.4.0",
      "model_name": "HBoxModel",
      "state": {
       "children": [
        "IPY_MODEL_a1bb1571ed4a471d9f91ee0b7efb7944",
        "IPY_MODEL_a71b47fb143b470eb251dc9db3b9dfb7"
       ],
       "layout": "IPY_MODEL_235d0578708041bd8dcda01e4c875641"
      }
     },
     "34cbd8ab40dc4f308ad170d1689f3519": {
      "model_module": "@jupyter-widgets/controls",
      "model_module_version": "1.4.0",
      "model_name": "IntProgressModel",
      "state": {
       "bar_style": "success",
       "description": "validation...",
       "layout": "IPY_MODEL_9236a8a56a674717a0bf82797107eb3a",
       "max": 103,
       "style": "IPY_MODEL_ef1942bd7bdd4357a3e5e9016771301b",
       "value": 103
      }
     },
     "353bda859c75442dbf11534a17905ead": {
      "model_module": "@jupyter-widgets/base",
      "model_module_version": "1.1.0",
      "model_name": "LayoutModel",
      "state": {}
     },
     "356d549c001e496eb4a88e7878bb71e0": {
      "model_module": "@jupyter-widgets/controls",
      "model_module_version": "1.4.0",
      "model_name": "HTMLModel",
      "state": {
       "layout": "IPY_MODEL_864456d3182b4396adb05003039ff819",
       "style": "IPY_MODEL_80ada7a63c0e42089c37e26282dbbe3f",
       "value": "100% 52/52 [00:23&lt;00:00,  2.17it/s]"
      }
     },
     "3575361e951746f68a8c329055096ec2": {
      "model_module": "@jupyter-widgets/controls",
      "model_module_version": "1.4.0",
      "model_name": "IntProgressModel",
      "state": {
       "bar_style": "success",
       "description": "validation...",
       "layout": "IPY_MODEL_0725d8b5e56440958b01287c60ddedfe",
       "max": 52,
       "style": "IPY_MODEL_763004b5031e40cdb082cf28dda92b4b",
       "value": 52
      }
     },
     "359b7dc32e824bb6a11eda6e3a941ee3": {
      "model_module": "@jupyter-widgets/controls",
      "model_module_version": "1.4.0",
      "model_name": "IntProgressModel",
      "state": {
       "bar_style": "success",
       "description": "training...",
       "layout": "IPY_MODEL_c37c447fbca845e6968a9476817876de",
       "max": 410,
       "style": "IPY_MODEL_bdceadb4ba4342ed82f631996cee4316",
       "value": 410
      }
     },
     "35ae1697810945ad8886df38de495ecf": {
      "model_module": "@jupyter-widgets/controls",
      "model_module_version": "1.4.0",
      "model_name": "IntProgressModel",
      "state": {
       "bar_style": "success",
       "description": "training...",
       "layout": "IPY_MODEL_e55b1f1297f14d5289463daafac05df7",
       "max": 410,
       "style": "IPY_MODEL_a4816cff675e47f1be181801b5d90d55",
       "value": 410
      }
     },
     "35c0941396e94f0f95fd8cb6a311a189": {
      "model_module": "@jupyter-widgets/base",
      "model_module_version": "1.1.0",
      "model_name": "LayoutModel",
      "state": {}
     },
     "35daba22d73e4f2399bed296b8375d4a": {
      "model_module": "@jupyter-widgets/controls",
      "model_module_version": "1.4.0",
      "model_name": "DescriptionStyleModel",
      "state": {
       "description_width": ""
      }
     },
     "35f07a745c1148b88a603bb77515b332": {
      "model_module": "@jupyter-widgets/controls",
      "model_module_version": "1.4.0",
      "model_name": "DescriptionStyleModel",
      "state": {
       "description_width": ""
      }
     },
     "3617f36a5f6f43c590c3688f092a6446": {
      "model_module": "@jupyter-widgets/base",
      "model_module_version": "1.1.0",
      "model_name": "LayoutModel",
      "state": {}
     },
     "36573ca7f4af4c17bfbdc1549683c59b": {
      "model_module": "@jupyter-widgets/base",
      "model_module_version": "1.1.0",
      "model_name": "LayoutModel",
      "state": {}
     },
     "36879ae541984efd955406c7db78a4a0": {
      "model_module": "@jupyter-widgets/controls",
      "model_module_version": "1.4.0",
      "model_name": "HTMLModel",
      "state": {
       "layout": "IPY_MODEL_81da429b6e724ce1a2b0b583952e2834",
       "style": "IPY_MODEL_bae42ce054cf4b0d8413f7f00e2d5dcc",
       "value": "100% 103/103 [00:29&lt;00:00,  6.10it/s]"
      }
     },
     "36885fdea207487da136f2148f521b0b": {
      "model_module": "@jupyter-widgets/base",
      "model_module_version": "1.1.0",
      "model_name": "LayoutModel",
      "state": {}
     },
     "36d7dcc58e834b6e9e1bc9589f09f216": {
      "model_module": "@jupyter-widgets/base",
      "model_module_version": "1.1.0",
      "model_name": "LayoutModel",
      "state": {}
     },
     "36ec3852d8284b1596106ca59b184956": {
      "model_module": "@jupyter-widgets/controls",
      "model_module_version": "1.4.0",
      "model_name": "ProgressStyleModel",
      "state": {
       "description_width": "initial"
      }
     },
     "3702d4f88c314c90af4a8280571210fa": {
      "model_module": "@jupyter-widgets/controls",
      "model_module_version": "1.4.0",
      "model_name": "HTMLModel",
      "state": {
       "layout": "IPY_MODEL_24efc55cca4d424588ddc7d9dd05d01b",
       "style": "IPY_MODEL_d6781046381b4f2aa378bad72dc4a07f",
       "value": "100% 103/103 [00:29&lt;00:00,  5.71it/s]"
      }
     },
     "372c6e07154c4cd2ac5d5070f55a6e12": {
      "model_module": "@jupyter-widgets/controls",
      "model_module_version": "1.4.0",
      "model_name": "ProgressStyleModel",
      "state": {
       "description_width": "initial"
      }
     },
     "372de1d911fe432e8987a2262e495bd1": {
      "model_module": "@jupyter-widgets/base",
      "model_module_version": "1.1.0",
      "model_name": "LayoutModel",
      "state": {}
     },
     "376218d2616f4d3291e7b08115ca217e": {
      "model_module": "@jupyter-widgets/controls",
      "model_module_version": "1.4.0",
      "model_name": "HTMLModel",
      "state": {
       "layout": "IPY_MODEL_0e497a92d0894b1f8516939af3b8caf4",
       "style": "IPY_MODEL_671e33d17b4542bbbdf488f940d4143b",
       "value": "100% 410/410 [04:11&lt;00:00,  1.69it/s]"
      }
     },
     "376b1697229245cca832bba6deb2b5c7": {
      "model_module": "@jupyter-widgets/controls",
      "model_module_version": "1.4.0",
      "model_name": "HTMLModel",
      "state": {
       "layout": "IPY_MODEL_22c830bbd0f74c9a894fbc61e72f8c03",
       "style": "IPY_MODEL_b36c461a4f844bb2ae638067e3e0e206",
       "value": "100% 103/103 [00:30&lt;00:00,  5.13it/s]"
      }
     },
     "37a52d145be04655b89b5d5cf23c86e9": {
      "model_module": "@jupyter-widgets/base",
      "model_module_version": "1.1.0",
      "model_name": "LayoutModel",
      "state": {}
     },
     "381340fe70ed43fead688288dbba306d": {
      "model_module": "@jupyter-widgets/controls",
      "model_module_version": "1.4.0",
      "model_name": "HTMLModel",
      "state": {
       "layout": "IPY_MODEL_0451015695a34779bcde18c12bcb822d",
       "style": "IPY_MODEL_019cbed6a4694202afeb452af49e0589",
       "value": "100% 103/103 [00:30&lt;00:00,  5.64it/s]"
      }
     },
     "381da8f8b9b146d19883f7e8ec29bd64": {
      "model_module": "@jupyter-widgets/controls",
      "model_module_version": "1.4.0",
      "model_name": "ProgressStyleModel",
      "state": {
       "description_width": "initial"
      }
     },
     "384f03cdd9d241c5a23db245b9220680": {
      "model_module": "@jupyter-widgets/base",
      "model_module_version": "1.1.0",
      "model_name": "LayoutModel",
      "state": {}
     },
     "38603c7386db4e0ebeb5b27d42502d3c": {
      "model_module": "@jupyter-widgets/base",
      "model_module_version": "1.1.0",
      "model_name": "LayoutModel",
      "state": {}
     },
     "38618ade92a94b0d951fbda072f794aa": {
      "model_module": "@jupyter-widgets/base",
      "model_module_version": "1.1.0",
      "model_name": "LayoutModel",
      "state": {}
     },
     "38bfea4e6095480e844376e5ee17d5cb": {
      "model_module": "@jupyter-widgets/controls",
      "model_module_version": "1.4.0",
      "model_name": "IntProgressModel",
      "state": {
       "bar_style": "success",
       "description": "validation...",
       "layout": "IPY_MODEL_54fc8b4079f54c00b2aef132b10297a9",
       "max": 103,
       "style": "IPY_MODEL_09676455f8e1489289b5966e00e36254",
       "value": 103
      }
     },
     "38f42c7592cc479698ddc2e12a91ba5f": {
      "model_module": "@jupyter-widgets/controls",
      "model_module_version": "1.4.0",
      "model_name": "HBoxModel",
      "state": {
       "children": [
        "IPY_MODEL_f37ef226ae994477baf651138aa561d7",
        "IPY_MODEL_33371e1c804f4efda22a94f8e56de9ca"
       ],
       "layout": "IPY_MODEL_6d69f1ba568e49238c66b6741d574fb0"
      }
     },
     "393baaed03374de38ff5d60081e98b36": {
      "model_module": "@jupyter-widgets/base",
      "model_module_version": "1.1.0",
      "model_name": "LayoutModel",
      "state": {}
     },
     "39a2f30f614745fc8d7a241de9cd3111": {
      "model_module": "@jupyter-widgets/base",
      "model_module_version": "1.1.0",
      "model_name": "LayoutModel",
      "state": {}
     },
     "39ab512cffd44e88b70d0ed9c836015b": {
      "model_module": "@jupyter-widgets/controls",
      "model_module_version": "1.4.0",
      "model_name": "ProgressStyleModel",
      "state": {
       "description_width": "initial"
      }
     },
     "39ca3e0167694977a7b4b688c5cfd9ef": {
      "model_module": "@jupyter-widgets/base",
      "model_module_version": "1.1.0",
      "model_name": "LayoutModel",
      "state": {}
     },
     "3a39a373e89d42e8910da9b981aeff46": {
      "model_module": "@jupyter-widgets/base",
      "model_module_version": "1.1.0",
      "model_name": "LayoutModel",
      "state": {}
     },
     "3aa7ce2c5fa34b9d958f801fa2301102": {
      "model_module": "@jupyter-widgets/base",
      "model_module_version": "1.1.0",
      "model_name": "LayoutModel",
      "state": {}
     },
     "3aa8ddb246794e78b6097082b03d9b61": {
      "model_module": "@jupyter-widgets/controls",
      "model_module_version": "1.4.0",
      "model_name": "IntProgressModel",
      "state": {
       "bar_style": "success",
       "description": "validation...",
       "layout": "IPY_MODEL_94936bd8155a4315a03837720c266e25",
       "max": 103,
       "style": "IPY_MODEL_9b94b0b2c629434590ef86d579251ce8",
       "value": 103
      }
     },
     "3aba29f9aa844e5185e81e75662d438f": {
      "model_module": "@jupyter-widgets/controls",
      "model_module_version": "1.4.0",
      "model_name": "ProgressStyleModel",
      "state": {
       "description_width": "initial"
      }
     },
     "3ac66202f55b4423ab6bd0c39085d97f": {
      "model_module": "@jupyter-widgets/controls",
      "model_module_version": "1.4.0",
      "model_name": "DescriptionStyleModel",
      "state": {
       "description_width": ""
      }
     },
     "3b4d831d888747a4aea3b74e7448bcea": {
      "model_module": "@jupyter-widgets/controls",
      "model_module_version": "1.4.0",
      "model_name": "IntProgressModel",
      "state": {
       "bar_style": "success",
       "description": "training...",
       "layout": "IPY_MODEL_46fbbe02329047e28c3cc1114dc76588",
       "max": 410,
       "style": "IPY_MODEL_0ada87f79ee2429ea8fdc91eea316d4f",
       "value": 410
      }
     },
     "3b4f94ca433d40299350bd3a49e2e601": {
      "model_module": "@jupyter-widgets/base",
      "model_module_version": "1.1.0",
      "model_name": "LayoutModel",
      "state": {}
     },
     "3b8fab00a7314d64b4c40486427f048d": {
      "model_module": "@jupyter-widgets/controls",
      "model_module_version": "1.4.0",
      "model_name": "ProgressStyleModel",
      "state": {
       "description_width": "initial"
      }
     },
     "3bf88903b4c14a3eb470d2a5d14f6a01": {
      "model_module": "@jupyter-widgets/base",
      "model_module_version": "1.1.0",
      "model_name": "LayoutModel",
      "state": {}
     },
     "3bfb0a7ed249429f9849dd59d5059066": {
      "model_module": "@jupyter-widgets/controls",
      "model_module_version": "1.4.0",
      "model_name": "IntProgressModel",
      "state": {
       "bar_style": "success",
       "description": "validation...",
       "layout": "IPY_MODEL_b64116c5779e4b7d8276509353181d7e",
       "max": 103,
       "style": "IPY_MODEL_c5ea68d1036a47038dcc239d0e8c3e19",
       "value": 103
      }
     },
     "3c91ffb92f254075a5655ffecf689736": {
      "model_module": "@jupyter-widgets/controls",
      "model_module_version": "1.4.0",
      "model_name": "HBoxModel",
      "state": {
       "children": [
        "IPY_MODEL_dcbf30ba12454d7a989caf7446b5eeb8",
        "IPY_MODEL_801c4ef0cb3345a9a7f1ef4a36c18470"
       ],
       "layout": "IPY_MODEL_1c41edb4a1514e53b30632758275b102"
      }
     },
     "3c9c4eca812444acb676df61d4a7ecab": {
      "model_module": "@jupyter-widgets/controls",
      "model_module_version": "1.4.0",
      "model_name": "HBoxModel",
      "state": {
       "children": [
        "IPY_MODEL_dcb5898095e54544b2e837641215ecd3",
        "IPY_MODEL_d1182986e09543e1a7691a0104bcdecc"
       ],
       "layout": "IPY_MODEL_a8d210e179144f3e8c9584b48c0d790c"
      }
     },
     "3cb897db466c4b92bbbf7a17ac06f86a": {
      "model_module": "@jupyter-widgets/controls",
      "model_module_version": "1.4.0",
      "model_name": "HTMLModel",
      "state": {
       "layout": "IPY_MODEL_0804cece7c154a93a10df9a6645187d4",
       "style": "IPY_MODEL_fef8c17456fc4d3697e097c564dfb622",
       "value": "100% 410/410 [04:10&lt;00:00,  1.68it/s]"
      }
     },
     "3cc181177efc458f968e3f30e7f9e040": {
      "model_module": "@jupyter-widgets/controls",
      "model_module_version": "1.4.0",
      "model_name": "IntProgressModel",
      "state": {
       "bar_style": "success",
       "description": "validation...",
       "layout": "IPY_MODEL_af2f93583e2d4a9fb2af9c63ad3b1af3",
       "max": 103,
       "style": "IPY_MODEL_19b7ed6206e44cd0961b5b1bf09e6232",
       "value": 103
      }
     },
     "3d11ddae0b3d486e8870dde993826198": {
      "model_module": "@jupyter-widgets/controls",
      "model_module_version": "1.4.0",
      "model_name": "IntProgressModel",
      "state": {
       "bar_style": "success",
       "description": "validation...",
       "layout": "IPY_MODEL_384f03cdd9d241c5a23db245b9220680",
       "max": 103,
       "style": "IPY_MODEL_b6bf30b08a5b44d896113b17debde468",
       "value": 103
      }
     },
     "3d332becef7f440dbb266026a6b5e81d": {
      "model_module": "@jupyter-widgets/controls",
      "model_module_version": "1.4.0",
      "model_name": "DescriptionStyleModel",
      "state": {
       "description_width": ""
      }
     },
     "3d56956ce75f43b89e502df65fbdacbf": {
      "model_module": "@jupyter-widgets/controls",
      "model_module_version": "1.4.0",
      "model_name": "DescriptionStyleModel",
      "state": {
       "description_width": ""
      }
     },
     "3dafeb482c44477e842776bca7a8dadd": {
      "model_module": "@jupyter-widgets/base",
      "model_module_version": "1.1.0",
      "model_name": "LayoutModel",
      "state": {}
     },
     "3e0b417f52de4cc18ca5b955585bfd20": {
      "model_module": "@jupyter-widgets/controls",
      "model_module_version": "1.4.0",
      "model_name": "HTMLModel",
      "state": {
       "layout": "IPY_MODEL_fe901e47e5ff488bac26db81ab168992",
       "style": "IPY_MODEL_f88c33966b734902954b85f44e9aca2d",
       "value": "100% 410/410 [04:11&lt;00:00,  1.70it/s]"
      }
     },
     "3e81030c94504b2482c6c12752d16094": {
      "model_module": "@jupyter-widgets/base",
      "model_module_version": "1.1.0",
      "model_name": "LayoutModel",
      "state": {}
     },
     "3e94976a0bbf412182ceb0e225127670": {
      "model_module": "@jupyter-widgets/controls",
      "model_module_version": "1.4.0",
      "model_name": "ProgressStyleModel",
      "state": {
       "description_width": "initial"
      }
     },
     "3eef6c94c68841a9bab5b35596b0b7c4": {
      "model_module": "@jupyter-widgets/base",
      "model_module_version": "1.1.0",
      "model_name": "LayoutModel",
      "state": {}
     },
     "3f5606cade3d44a4846699a259c96a48": {
      "model_module": "@jupyter-widgets/base",
      "model_module_version": "1.1.0",
      "model_name": "LayoutModel",
      "state": {}
     },
     "3fc242a86b584a948af0aa0eb007487f": {
      "model_module": "@jupyter-widgets/base",
      "model_module_version": "1.1.0",
      "model_name": "LayoutModel",
      "state": {}
     },
     "4013d4c3efbb43b48ce277ba4310cb73": {
      "model_module": "@jupyter-widgets/base",
      "model_module_version": "1.1.0",
      "model_name": "LayoutModel",
      "state": {}
     },
     "402c78156ef94b25a9249eeaf1a76720": {
      "model_module": "@jupyter-widgets/controls",
      "model_module_version": "1.4.0",
      "model_name": "HTMLModel",
      "state": {
       "layout": "IPY_MODEL_c160e8cfdec048cfb86beda12b42c563",
       "style": "IPY_MODEL_e05ed0dc8d8e4c3d91306f178b4bc32e",
       "value": "100% 103/103 [00:29&lt;00:00,  5.24it/s]"
      }
     },
     "40357320c4ac4346a0ab0a507aed5b69": {
      "model_module": "@jupyter-widgets/base",
      "model_module_version": "1.1.0",
      "model_name": "LayoutModel",
      "state": {}
     },
     "40c93f171bd147bdb2b2b127fde20483": {
      "model_module": "@jupyter-widgets/controls",
      "model_module_version": "1.4.0",
      "model_name": "DescriptionStyleModel",
      "state": {
       "description_width": ""
      }
     },
     "41ec115756a34df1b37f4f00e25e3a2a": {
      "model_module": "@jupyter-widgets/base",
      "model_module_version": "1.1.0",
      "model_name": "LayoutModel",
      "state": {}
     },
     "426ca3f41fe14e05ac59a819cc95cecf": {
      "model_module": "@jupyter-widgets/controls",
      "model_module_version": "1.4.0",
      "model_name": "HTMLModel",
      "state": {
       "layout": "IPY_MODEL_b098ebb9fbec4ca5bd0ebc0331d4f5a5",
       "style": "IPY_MODEL_5a11bb2a0e2c45f79b38c86126138963",
       "value": "100% 103/103 [00:29&lt;00:00,  5.88it/s]"
      }
     },
     "4271677b1df54ff098fa8a1f8e80b73a": {
      "model_module": "@jupyter-widgets/controls",
      "model_module_version": "1.4.0",
      "model_name": "HTMLModel",
      "state": {
       "layout": "IPY_MODEL_fe6869c612af4835bbd680d43d380f40",
       "style": "IPY_MODEL_10e52bb1d7d5482c94dff9ca2146eb32",
       "value": "100% 103/103 [00:30&lt;00:00,  4.79it/s]"
      }
     },
     "42ed21858e2b4c508ea17fa50ae86739": {
      "model_module": "@jupyter-widgets/base",
      "model_module_version": "1.1.0",
      "model_name": "LayoutModel",
      "state": {}
     },
     "4358d840df074fb6b3ffa32dc1c990a8": {
      "model_module": "@jupyter-widgets/controls",
      "model_module_version": "1.4.0",
      "model_name": "HBoxModel",
      "state": {
       "children": [
        "IPY_MODEL_521a5c90effd46b48abdeb6c5a5477bc",
        "IPY_MODEL_ca6a7c7c87c14dc9a25b76b9f65b6d7e"
       ],
       "layout": "IPY_MODEL_b9ececeb93ac486a96166b614d4e2a7a"
      }
     },
     "4359ebc6eca44679ba90b3321cb8aa57": {
      "model_module": "@jupyter-widgets/base",
      "model_module_version": "1.1.0",
      "model_name": "LayoutModel",
      "state": {}
     },
     "439d88d791b548cdaa31ccb143c6cd86": {
      "model_module": "@jupyter-widgets/base",
      "model_module_version": "1.1.0",
      "model_name": "LayoutModel",
      "state": {}
     },
     "43a151c0ac7d42708f2b056887429625": {
      "model_module": "@jupyter-widgets/controls",
      "model_module_version": "1.4.0",
      "model_name": "ProgressStyleModel",
      "state": {
       "description_width": "initial"
      }
     },
     "43bea93d73114741b5e9fc64038904c4": {
      "model_module": "@jupyter-widgets/base",
      "model_module_version": "1.1.0",
      "model_name": "LayoutModel",
      "state": {}
     },
     "43f16a86fa7b42fe94ea8509b6681f75": {
      "model_module": "@jupyter-widgets/base",
      "model_module_version": "1.1.0",
      "model_name": "LayoutModel",
      "state": {}
     },
     "440fe55e183a404ba3bde4277116b112": {
      "model_module": "@jupyter-widgets/controls",
      "model_module_version": "1.4.0",
      "model_name": "IntProgressModel",
      "state": {
       "bar_style": "success",
       "description": "validation...",
       "layout": "IPY_MODEL_6335d84be0dd4efb836a87ea5298de05",
       "max": 103,
       "style": "IPY_MODEL_10452ff1b03a401e8641a43e113557ba",
       "value": 103
      }
     },
     "44ab69ab5ce64d3786fc284e52ae77e1": {
      "model_module": "@jupyter-widgets/controls",
      "model_module_version": "1.4.0",
      "model_name": "IntProgressModel",
      "state": {
       "bar_style": "success",
       "description": "validation...",
       "layout": "IPY_MODEL_864e998e0fc746d3b5a9003067d4096f",
       "max": 103,
       "style": "IPY_MODEL_17f52b5ef999464fb1ba8ed2d7cecf06",
       "value": 103
      }
     },
     "45ab187914424a86bbd14812488caa30": {
      "model_module": "@jupyter-widgets/base",
      "model_module_version": "1.1.0",
      "model_name": "LayoutModel",
      "state": {}
     },
     "45ae17c6c23f417cb299fae77a327433": {
      "model_module": "@jupyter-widgets/base",
      "model_module_version": "1.1.0",
      "model_name": "LayoutModel",
      "state": {}
     },
     "45c1b7a368fa435abe3a8311839ae350": {
      "model_module": "@jupyter-widgets/controls",
      "model_module_version": "1.4.0",
      "model_name": "ProgressStyleModel",
      "state": {
       "description_width": "initial"
      }
     },
     "461279fe4eaa4ce28d525de0cb3acc0a": {
      "model_module": "@jupyter-widgets/base",
      "model_module_version": "1.1.0",
      "model_name": "LayoutModel",
      "state": {}
     },
     "468f53027eb046d8abd1e896bd7c883d": {
      "model_module": "@jupyter-widgets/controls",
      "model_module_version": "1.4.0",
      "model_name": "DescriptionStyleModel",
      "state": {
       "description_width": ""
      }
     },
     "4692113d5fba4968835cce9357dcf80a": {
      "model_module": "@jupyter-widgets/base",
      "model_module_version": "1.1.0",
      "model_name": "LayoutModel",
      "state": {}
     },
     "4695ab4c6ee9453898be408b4af766e3": {
      "model_module": "@jupyter-widgets/controls",
      "model_module_version": "1.4.0",
      "model_name": "HTMLModel",
      "state": {
       "layout": "IPY_MODEL_84c2cd2540b14176a48022baf2319cfa",
       "style": "IPY_MODEL_c22ffad94e6f44eabc2fa55530d24521",
       "value": "100% 410/410 [04:09&lt;00:00,  1.72it/s]"
      }
     },
     "46fbbe02329047e28c3cc1114dc76588": {
      "model_module": "@jupyter-widgets/base",
      "model_module_version": "1.1.0",
      "model_name": "LayoutModel",
      "state": {}
     },
     "47118aabcff5492a8b51bd6c389fffc5": {
      "model_module": "@jupyter-widgets/base",
      "model_module_version": "1.1.0",
      "model_name": "LayoutModel",
      "state": {}
     },
     "4736f2b4612e4ffda8dd8dbe3ad2ee68": {
      "model_module": "@jupyter-widgets/base",
      "model_module_version": "1.1.0",
      "model_name": "LayoutModel",
      "state": {}
     },
     "476e1c6adea746e48e459abb566c0780": {
      "model_module": "@jupyter-widgets/base",
      "model_module_version": "1.1.0",
      "model_name": "LayoutModel",
      "state": {}
     },
     "4885817e8c35413abf94ef0733ae3191": {
      "model_module": "@jupyter-widgets/controls",
      "model_module_version": "1.4.0",
      "model_name": "HBoxModel",
      "state": {
       "children": [
        "IPY_MODEL_440fe55e183a404ba3bde4277116b112",
        "IPY_MODEL_67e554f29e2945e2a18e6e6529c5aa4e"
       ],
       "layout": "IPY_MODEL_7456bc4b9c7f45ddb94b7ce9d1430673"
      }
     },
     "4890e30ffa584daaa5d57fad57aa4014": {
      "model_module": "@jupyter-widgets/base",
      "model_module_version": "1.1.0",
      "model_name": "LayoutModel",
      "state": {}
     },
     "48fe3e9e67684d57a566a16d2d03cb39": {
      "model_module": "@jupyter-widgets/controls",
      "model_module_version": "1.4.0",
      "model_name": "HTMLModel",
      "state": {
       "layout": "IPY_MODEL_9aa7ba8f1753470a9be8c8a80a282cc6",
       "style": "IPY_MODEL_49f4a6d0c930473e9178961e7f2fe230",
       "value": "100% 103/103 [00:30&lt;00:00,  5.94it/s]"
      }
     },
     "4909abdaaff84e65b536442f16be2624": {
      "model_module": "@jupyter-widgets/base",
      "model_module_version": "1.1.0",
      "model_name": "LayoutModel",
      "state": {}
     },
     "494fa20e4de340ef8b2ce234596dbad9": {
      "model_module": "@jupyter-widgets/controls",
      "model_module_version": "1.4.0",
      "model_name": "HTMLModel",
      "state": {
       "layout": "IPY_MODEL_72d7b2abd7104709a775dbb20b475f26",
       "style": "IPY_MODEL_468f53027eb046d8abd1e896bd7c883d",
       "value": "100% 410/410 [04:10&lt;00:00,  1.68it/s]"
      }
     },
     "4956b792cdc0444795157f00a0e3f098": {
      "model_module": "@jupyter-widgets/controls",
      "model_module_version": "1.4.0",
      "model_name": "IntProgressModel",
      "state": {
       "bar_style": "success",
       "description": "validation...",
       "layout": "IPY_MODEL_47118aabcff5492a8b51bd6c389fffc5",
       "max": 103,
       "style": "IPY_MODEL_5036422238e443378124eb11b607dd18",
       "value": 103
      }
     },
     "49f4a6d0c930473e9178961e7f2fe230": {
      "model_module": "@jupyter-widgets/controls",
      "model_module_version": "1.4.0",
      "model_name": "DescriptionStyleModel",
      "state": {
       "description_width": ""
      }
     },
     "4a7cdc275ffb4298ba401e1252d7188f": {
      "model_module": "@jupyter-widgets/controls",
      "model_module_version": "1.4.0",
      "model_name": "HTMLModel",
      "state": {
       "layout": "IPY_MODEL_ddbfcd169bde4204a6e31a80aa7c2ad7",
       "style": "IPY_MODEL_97d0d938cd794f72b01b63c7f902aa3e",
       "value": "100% 410/410 [04:11&lt;00:00,  1.68it/s]"
      }
     },
     "4b0ce47cb9ce4f08b253c9a60e110bfc": {
      "model_module": "@jupyter-widgets/controls",
      "model_module_version": "1.4.0",
      "model_name": "ProgressStyleModel",
      "state": {
       "description_width": "initial"
      }
     },
     "4b2868782b7b4d8dbe5518196ffce0f6": {
      "model_module": "@jupyter-widgets/controls",
      "model_module_version": "1.4.0",
      "model_name": "HBoxModel",
      "state": {
       "children": [
        "IPY_MODEL_3cc181177efc458f968e3f30e7f9e040",
        "IPY_MODEL_dfdc33356a22475e879a04305f288875"
       ],
       "layout": "IPY_MODEL_e2146ceff4d84ec99b0690e22b9062a1"
      }
     },
     "4b4ce2c83ca441ea9bf6cb291b5d8a74": {
      "model_module": "@jupyter-widgets/base",
      "model_module_version": "1.1.0",
      "model_name": "LayoutModel",
      "state": {}
     },
     "4b5a14a1a8bc4257ba3165a6b05632f7": {
      "model_module": "@jupyter-widgets/controls",
      "model_module_version": "1.4.0",
      "model_name": "IntProgressModel",
      "state": {
       "bar_style": "success",
       "description": "validation...",
       "layout": "IPY_MODEL_28860508944f41d8b97c26fad93cf0d6",
       "max": 52,
       "style": "IPY_MODEL_300fa8b83d234f80b5de43ea4bb76f17",
       "value": 52
      }
     },
     "4cd93ccd0b244054b2d3efcd568d6a43": {
      "model_module": "@jupyter-widgets/controls",
      "model_module_version": "1.4.0",
      "model_name": "ProgressStyleModel",
      "state": {
       "description_width": "initial"
      }
     },
     "4d1184fbc43349dcb1c3442466de2b2b": {
      "model_module": "@jupyter-widgets/controls",
      "model_module_version": "1.4.0",
      "model_name": "IntProgressModel",
      "state": {
       "bar_style": "success",
       "description": "validation...",
       "layout": "IPY_MODEL_e40b04bc86fb43559ca68beed410dd16",
       "max": 103,
       "style": "IPY_MODEL_e56ba3ece9594411b7931cd78dfcd600",
       "value": 103
      }
     },
     "4d4c76677c5440a4b1926a0862fcf868": {
      "model_module": "@jupyter-widgets/base",
      "model_module_version": "1.1.0",
      "model_name": "LayoutModel",
      "state": {}
     },
     "4d7ea38c86d14e8f9bf192ce8e78a50b": {
      "model_module": "@jupyter-widgets/controls",
      "model_module_version": "1.4.0",
      "model_name": "ProgressStyleModel",
      "state": {
       "description_width": "initial"
      }
     },
     "4da7c6b880834f1f9e328d1d75227a96": {
      "model_module": "@jupyter-widgets/controls",
      "model_module_version": "1.4.0",
      "model_name": "IntProgressModel",
      "state": {
       "bar_style": "success",
       "description": "training...",
       "layout": "IPY_MODEL_13fe64664c0b4b85b9560f53877eb721",
       "max": 205,
       "style": "IPY_MODEL_840f3c60cdd0417ca98b9695210bf7cf",
       "value": 205
      }
     },
     "4dcd63463f1b4058b1e85361bf6b9fb1": {
      "model_module": "@jupyter-widgets/controls",
      "model_module_version": "1.4.0",
      "model_name": "IntProgressModel",
      "state": {
       "bar_style": "success",
       "description": "training...",
       "layout": "IPY_MODEL_3fc242a86b584a948af0aa0eb007487f",
       "max": 410,
       "style": "IPY_MODEL_fe11ff4f57fc4b50899755e3228ed714",
       "value": 410
      }
     },
     "4de2a219cbe54ed1806bdf37f79aec3a": {
      "model_module": "@jupyter-widgets/controls",
      "model_module_version": "1.4.0",
      "model_name": "IntProgressModel",
      "state": {
       "bar_style": "success",
       "description": "training...",
       "layout": "IPY_MODEL_fc8da8fbcad349719cebdc0892fa9362",
       "max": 205,
       "style": "IPY_MODEL_52ad4916424345f5b934154c969189d7",
       "value": 205
      }
     },
     "4e5a76254f324453ac60715fadef9652": {
      "model_module": "@jupyter-widgets/base",
      "model_module_version": "1.1.0",
      "model_name": "LayoutModel",
      "state": {}
     },
     "4e832e2c156e4d2e8bb85040a0d5821e": {
      "model_module": "@jupyter-widgets/controls",
      "model_module_version": "1.4.0",
      "model_name": "HTMLModel",
      "state": {
       "layout": "IPY_MODEL_5c1016000fa44a2797c21f8120ee25bc",
       "style": "IPY_MODEL_c031fb1f1a5e43339dcd1137e1a32456",
       "value": "100% 103/103 [00:29&lt;00:00,  6.06it/s]"
      }
     },
     "4ebe848893624fe8b492924e485c56c1": {
      "model_module": "@jupyter-widgets/controls",
      "model_module_version": "1.4.0",
      "model_name": "DescriptionStyleModel",
      "state": {
       "description_width": ""
      }
     },
     "4f28866aa8fd4055a1befbf75a2dcf5b": {
      "model_module": "@jupyter-widgets/controls",
      "model_module_version": "1.4.0",
      "model_name": "ProgressStyleModel",
      "state": {
       "description_width": "initial"
      }
     },
     "4f308b6857de482d9dd9516f26ddb29a": {
      "model_module": "@jupyter-widgets/base",
      "model_module_version": "1.1.0",
      "model_name": "LayoutModel",
      "state": {}
     },
     "4f42d06e3bde4dc18ddcf38d89726914": {
      "model_module": "@jupyter-widgets/base",
      "model_module_version": "1.1.0",
      "model_name": "LayoutModel",
      "state": {}
     },
     "4f4bbc9704d84f4e9165e136ef01fdbd": {
      "model_module": "@jupyter-widgets/base",
      "model_module_version": "1.1.0",
      "model_name": "LayoutModel",
      "state": {}
     },
     "4f57e8a9d41e486cbee16ec5a0e2701a": {
      "model_module": "@jupyter-widgets/controls",
      "model_module_version": "1.4.0",
      "model_name": "ProgressStyleModel",
      "state": {
       "description_width": "initial"
      }
     },
     "502a591fff99490392c29dc53a823b2a": {
      "model_module": "@jupyter-widgets/base",
      "model_module_version": "1.1.0",
      "model_name": "LayoutModel",
      "state": {}
     },
     "5036422238e443378124eb11b607dd18": {
      "model_module": "@jupyter-widgets/controls",
      "model_module_version": "1.4.0",
      "model_name": "ProgressStyleModel",
      "state": {
       "description_width": "initial"
      }
     },
     "506cb65bc71544d798d37eeb81c2fb1b": {
      "model_module": "@jupyter-widgets/controls",
      "model_module_version": "1.4.0",
      "model_name": "HBoxModel",
      "state": {
       "children": [
        "IPY_MODEL_3aa8ddb246794e78b6097082b03d9b61",
        "IPY_MODEL_98285cf457434cedba64ec47891705c2"
       ],
       "layout": "IPY_MODEL_f3542a093ffd43b7b6181575f64f4354"
      }
     },
     "506fb42dd44a4d06bf436f950cdf72c8": {
      "model_module": "@jupyter-widgets/base",
      "model_module_version": "1.1.0",
      "model_name": "LayoutModel",
      "state": {}
     },
     "50ebc529df504035988cdc050a79ab11": {
      "model_module": "@jupyter-widgets/controls",
      "model_module_version": "1.4.0",
      "model_name": "ProgressStyleModel",
      "state": {
       "description_width": "initial"
      }
     },
     "50ec8e188aca41598fdfa4a429bf2431": {
      "model_module": "@jupyter-widgets/base",
      "model_module_version": "1.1.0",
      "model_name": "LayoutModel",
      "state": {}
     },
     "51050a46e7c94b0da26ee075807f7141": {
      "model_module": "@jupyter-widgets/controls",
      "model_module_version": "1.4.0",
      "model_name": "IntProgressModel",
      "state": {
       "bar_style": "success",
       "description": "validation...",
       "layout": "IPY_MODEL_b63816c05297424792e0f2038791bd61",
       "max": 103,
       "style": "IPY_MODEL_2ee5499c687647589ce10544e5d8037e",
       "value": 103
      }
     },
     "51afadee4513457f8e220a2dff45fab4": {
      "model_module": "@jupyter-widgets/controls",
      "model_module_version": "1.4.0",
      "model_name": "IntProgressModel",
      "state": {
       "bar_style": "success",
       "description": "validation...",
       "layout": "IPY_MODEL_353bda859c75442dbf11534a17905ead",
       "max": 103,
       "style": "IPY_MODEL_2474c498e40e46aabd299703c8ebf6f2",
       "value": 103
      }
     },
     "51bc22acb5ec4614af7a16b3d6d1464f": {
      "model_module": "@jupyter-widgets/base",
      "model_module_version": "1.1.0",
      "model_name": "LayoutModel",
      "state": {}
     },
     "51cf5b9d876e4f1db0a76f273ce0006f": {
      "model_module": "@jupyter-widgets/controls",
      "model_module_version": "1.4.0",
      "model_name": "ProgressStyleModel",
      "state": {
       "description_width": "initial"
      }
     },
     "521a5c90effd46b48abdeb6c5a5477bc": {
      "model_module": "@jupyter-widgets/controls",
      "model_module_version": "1.4.0",
      "model_name": "IntProgressModel",
      "state": {
       "bar_style": "success",
       "description": "validation...",
       "layout": "IPY_MODEL_6fe3f736de0d45048db6a580958bf049",
       "max": 103,
       "style": "IPY_MODEL_2ad98de7af9b49c391978628a96f5335",
       "value": 103
      }
     },
     "5238bb14119f4b2c9e627740f5380696": {
      "model_module": "@jupyter-widgets/controls",
      "model_module_version": "1.4.0",
      "model_name": "IntProgressModel",
      "state": {
       "bar_style": "success",
       "description": "training...",
       "layout": "IPY_MODEL_a7a35617c61b48199e668dc8bfb7c972",
       "max": 205,
       "style": "IPY_MODEL_ce9b8ac8a77049a09da182369b204da4",
       "value": 205
      }
     },
     "52ad4916424345f5b934154c969189d7": {
      "model_module": "@jupyter-widgets/controls",
      "model_module_version": "1.4.0",
      "model_name": "ProgressStyleModel",
      "state": {
       "description_width": "initial"
      }
     },
     "5416d38f269a430ab84e9c9d6831c67e": {
      "model_module": "@jupyter-widgets/controls",
      "model_module_version": "1.4.0",
      "model_name": "IntProgressModel",
      "state": {
       "bar_style": "success",
       "description": "training...",
       "layout": "IPY_MODEL_4e5a76254f324453ac60715fadef9652",
       "max": 410,
       "style": "IPY_MODEL_ee9434f88a2d4c5b92a5fb03f6b41737",
       "value": 410
      }
     },
     "54904be1c0394fd9824149d62eed2db4": {
      "model_module": "@jupyter-widgets/base",
      "model_module_version": "1.1.0",
      "model_name": "LayoutModel",
      "state": {}
     },
     "54ebd6e54ebf4c80967ebcd556d49f4c": {
      "model_module": "@jupyter-widgets/controls",
      "model_module_version": "1.4.0",
      "model_name": "HTMLModel",
      "state": {
       "layout": "IPY_MODEL_a7363e12d7ec44ef896f15e6b1936d79",
       "style": "IPY_MODEL_ff03ec5790614e778a5ddeaeb6ab70ed",
       "value": "100% 103/103 [00:30&lt;00:00,  5.71it/s]"
      }
     },
     "54fc8b4079f54c00b2aef132b10297a9": {
      "model_module": "@jupyter-widgets/base",
      "model_module_version": "1.1.0",
      "model_name": "LayoutModel",
      "state": {}
     },
     "55ed3cc26ed64a2b83bb84eaa9a03a08": {
      "model_module": "@jupyter-widgets/controls",
      "model_module_version": "1.4.0",
      "model_name": "ProgressStyleModel",
      "state": {
       "description_width": "initial"
      }
     },
     "55ff9ec1a2b846e6ba4568344b994d0c": {
      "model_module": "@jupyter-widgets/base",
      "model_module_version": "1.1.0",
      "model_name": "LayoutModel",
      "state": {}
     },
     "560e8066412449b39899d3e2929e8a93": {
      "model_module": "@jupyter-widgets/base",
      "model_module_version": "1.1.0",
      "model_name": "LayoutModel",
      "state": {}
     },
     "56269a7883bd46b7ab181efcac648123": {
      "model_module": "@jupyter-widgets/base",
      "model_module_version": "1.1.0",
      "model_name": "LayoutModel",
      "state": {}
     },
     "56464347d66041438befc4fe7825f566": {
      "model_module": "@jupyter-widgets/controls",
      "model_module_version": "1.4.0",
      "model_name": "ProgressStyleModel",
      "state": {
       "description_width": "initial"
      }
     },
     "564dc540e7b0420986ef6f7c5719ef86": {
      "model_module": "@jupyter-widgets/controls",
      "model_module_version": "1.4.0",
      "model_name": "HBoxModel",
      "state": {
       "children": [
        "IPY_MODEL_92c8f914744d4432a5830c0ba22b67ab",
        "IPY_MODEL_7c4e38d392e542508800c468ce1522bb"
       ],
       "layout": "IPY_MODEL_f8af8af453c74167a9690a741e65d7b3"
      }
     },
     "5656b64cf4b5449eb0193e837cdaeb07": {
      "model_module": "@jupyter-widgets/controls",
      "model_module_version": "1.4.0",
      "model_name": "HBoxModel",
      "state": {
       "children": [
        "IPY_MODEL_1ae28675dd3a44c89509a3d70f1543c2",
        "IPY_MODEL_014fca96f009479e8a653ed6a3975a20"
       ],
       "layout": "IPY_MODEL_ba18404347f046c5b46893bf80dfd9bb"
      }
     },
     "56ed863a2d6f40b09fb3287ba0cd7398": {
      "model_module": "@jupyter-widgets/controls",
      "model_module_version": "1.4.0",
      "model_name": "ProgressStyleModel",
      "state": {
       "description_width": "initial"
      }
     },
     "575c16c2d74240068e891f5406d026b3": {
      "model_module": "@jupyter-widgets/base",
      "model_module_version": "1.1.0",
      "model_name": "LayoutModel",
      "state": {}
     },
     "583f6a538ad14e91b6ecb27e81eb5b16": {
      "model_module": "@jupyter-widgets/controls",
      "model_module_version": "1.4.0",
      "model_name": "HBoxModel",
      "state": {
       "children": [
        "IPY_MODEL_85580a02f2ee4694a82b322b6fdf47d7",
        "IPY_MODEL_dec316600b8a47a3a9fb55e803cef3f7"
       ],
       "layout": "IPY_MODEL_ea10c1901f4e4035812257a4a71ad564"
      }
     },
     "5878ca4e066643d1bb9f75d3215a2ace": {
      "model_module": "@jupyter-widgets/controls",
      "model_module_version": "1.4.0",
      "model_name": "ProgressStyleModel",
      "state": {
       "description_width": "initial"
      }
     },
     "588361f51a364e80b7fd858bc210b676": {
      "model_module": "@jupyter-widgets/controls",
      "model_module_version": "1.4.0",
      "model_name": "ProgressStyleModel",
      "state": {
       "description_width": "initial"
      }
     },
     "5902c481822d4191ad0b13ef3c2897fa": {
      "model_module": "@jupyter-widgets/controls",
      "model_module_version": "1.4.0",
      "model_name": "DescriptionStyleModel",
      "state": {
       "description_width": ""
      }
     },
     "590582c20dc14dffa5cad51438bda4cd": {
      "model_module": "@jupyter-widgets/base",
      "model_module_version": "1.1.0",
      "model_name": "LayoutModel",
      "state": {}
     },
     "5964af43ac3444ae98747dac3ff538a9": {
      "model_module": "@jupyter-widgets/controls",
      "model_module_version": "1.4.0",
      "model_name": "DescriptionStyleModel",
      "state": {
       "description_width": ""
      }
     },
     "5966db3c80d3433983197dd7c8415e84": {
      "model_module": "@jupyter-widgets/controls",
      "model_module_version": "1.4.0",
      "model_name": "IntProgressModel",
      "state": {
       "bar_style": "success",
       "description": "training...",
       "layout": "IPY_MODEL_a74bc5b17c664d569654d88bd5e9937e",
       "max": 410,
       "style": "IPY_MODEL_7a3f081677d040248658e5e619b3a3a4",
       "value": 410
      }
     },
     "5969399c012e427da72a5dbada453e61": {
      "model_module": "@jupyter-widgets/base",
      "model_module_version": "1.1.0",
      "model_name": "LayoutModel",
      "state": {}
     },
     "59fc4daed98e43808164e7d436bdb80e": {
      "model_module": "@jupyter-widgets/controls",
      "model_module_version": "1.4.0",
      "model_name": "DescriptionStyleModel",
      "state": {
       "description_width": ""
      }
     },
     "5a11bb2a0e2c45f79b38c86126138963": {
      "model_module": "@jupyter-widgets/controls",
      "model_module_version": "1.4.0",
      "model_name": "DescriptionStyleModel",
      "state": {
       "description_width": ""
      }
     },
     "5aad690a26ae46e8adfa08593cc6885d": {
      "model_module": "@jupyter-widgets/controls",
      "model_module_version": "1.4.0",
      "model_name": "HTMLModel",
      "state": {
       "layout": "IPY_MODEL_7f9ba761289f42ee93aa1113a1d96dfc",
       "style": "IPY_MODEL_cfb0b0fb13344fb8b46fe98f8666a2aa",
       "value": "100% 315144/315144 [01:39&lt;00:00, 3167.80it/s]"
      }
     },
     "5abac6b6a945463991f3755938f5e881": {
      "model_module": "@jupyter-widgets/base",
      "model_module_version": "1.1.0",
      "model_name": "LayoutModel",
      "state": {}
     },
     "5ac7541f5fec4ddc8ad5974ab8c9010d": {
      "model_module": "@jupyter-widgets/controls",
      "model_module_version": "1.4.0",
      "model_name": "ProgressStyleModel",
      "state": {
       "description_width": "initial"
      }
     },
     "5aee4b518ea6450eb67b1d429ff92381": {
      "model_module": "@jupyter-widgets/base",
      "model_module_version": "1.1.0",
      "model_name": "LayoutModel",
      "state": {}
     },
     "5b13e6a00b484573b7d76774694a18e3": {
      "model_module": "@jupyter-widgets/controls",
      "model_module_version": "1.4.0",
      "model_name": "DescriptionStyleModel",
      "state": {
       "description_width": ""
      }
     },
     "5b3475e90c5645f6a7280eecb20d7b35": {
      "model_module": "@jupyter-widgets/controls",
      "model_module_version": "1.4.0",
      "model_name": "ProgressStyleModel",
      "state": {
       "description_width": "initial"
      }
     },
     "5b89a989a7444ad9a185c16085e0d45c": {
      "model_module": "@jupyter-widgets/controls",
      "model_module_version": "1.4.0",
      "model_name": "HBoxModel",
      "state": {
       "children": [
        "IPY_MODEL_f4d033510cc24fbd96772f0e79a8cbe2",
        "IPY_MODEL_8435d104a7ab4025b3607d2e97c2d61f"
       ],
       "layout": "IPY_MODEL_a60dd3838c464d8db25e257ab56fb9a7"
      }
     },
     "5bb2a4234999497cadeabadbe345c567": {
      "model_module": "@jupyter-widgets/base",
      "model_module_version": "1.1.0",
      "model_name": "LayoutModel",
      "state": {}
     },
     "5c1016000fa44a2797c21f8120ee25bc": {
      "model_module": "@jupyter-widgets/base",
      "model_module_version": "1.1.0",
      "model_name": "LayoutModel",
      "state": {}
     },
     "5c1e654166c943fc9cea2d037420be7b": {
      "model_module": "@jupyter-widgets/controls",
      "model_module_version": "1.4.0",
      "model_name": "ProgressStyleModel",
      "state": {
       "description_width": "initial"
      }
     },
     "5c56eceba0b244e7aca1f862e1ef5658": {
      "model_module": "@jupyter-widgets/controls",
      "model_module_version": "1.4.0",
      "model_name": "ProgressStyleModel",
      "state": {
       "description_width": "initial"
      }
     },
     "5ca7919e077b4cfda8cd1e36338e5e4e": {
      "model_module": "@jupyter-widgets/controls",
      "model_module_version": "1.4.0",
      "model_name": "HTMLModel",
      "state": {
       "layout": "IPY_MODEL_e30c2d69705649e5b14f9325ae41954c",
       "style": "IPY_MODEL_fc80726a344f4d38b5904ecc760ded21",
       "value": "100% 410/410 [04:11&lt;00:00,  1.73it/s]"
      }
     },
     "5d58210a63db4841ad24c6951d3c72a4": {
      "model_module": "@jupyter-widgets/controls",
      "model_module_version": "1.4.0",
      "model_name": "ProgressStyleModel",
      "state": {
       "description_width": "initial"
      }
     },
     "5d60e7eb1f8b4b28a046cc6f3f6fccb7": {
      "model_module": "@jupyter-widgets/controls",
      "model_module_version": "1.4.0",
      "model_name": "HBoxModel",
      "state": {
       "children": [
        "IPY_MODEL_f75aadfb0d1040de91e74e74fffe6601",
        "IPY_MODEL_90a63dfcbbf24850889c44a338803a02"
       ],
       "layout": "IPY_MODEL_ddc8303c6aef4288a811c57f94a0ac9b"
      }
     },
     "5dccdbdf394843599504fd4c72d9e89a": {
      "model_module": "@jupyter-widgets/base",
      "model_module_version": "1.1.0",
      "model_name": "LayoutModel",
      "state": {}
     },
     "5ddf0a80a5434e6eb6fd53255c41bea2": {
      "model_module": "@jupyter-widgets/controls",
      "model_module_version": "1.4.0",
      "model_name": "DescriptionStyleModel",
      "state": {
       "description_width": ""
      }
     },
     "5de19f99433d432aaaf61668fe0de58f": {
      "model_module": "@jupyter-widgets/base",
      "model_module_version": "1.1.0",
      "model_name": "LayoutModel",
      "state": {}
     },
     "5ded3966773543e4b485a0e049ec634e": {
      "model_module": "@jupyter-widgets/controls",
      "model_module_version": "1.4.0",
      "model_name": "HTMLModel",
      "state": {
       "layout": "IPY_MODEL_7b5fded2ba214052afd4d054524f9b39",
       "style": "IPY_MODEL_6a1ab9d5933a4c96b015ef27de52f5e6",
       "value": "100% 52/52 [00:22&lt;00:00,  2.27it/s]"
      }
     },
     "5e1817ab704944b0b8f2fd3018bc51f7": {
      "model_module": "@jupyter-widgets/base",
      "model_module_version": "1.1.0",
      "model_name": "LayoutModel",
      "state": {}
     },
     "5e7d643ba48e4d0c804dd820366423ea": {
      "model_module": "@jupyter-widgets/base",
      "model_module_version": "1.1.0",
      "model_name": "LayoutModel",
      "state": {}
     },
     "5ea10da7ef6e4a5e8c03e3d03d0b952a": {
      "model_module": "@jupyter-widgets/controls",
      "model_module_version": "1.4.0",
      "model_name": "ProgressStyleModel",
      "state": {
       "description_width": "initial"
      }
     },
     "5ea8aa0ab9864f9fb0e4944b2d7fa457": {
      "model_module": "@jupyter-widgets/controls",
      "model_module_version": "1.4.0",
      "model_name": "ProgressStyleModel",
      "state": {
       "description_width": "initial"
      }
     },
     "5ebbcaf601834d3b8cfea9b2e562c786": {
      "model_module": "@jupyter-widgets/base",
      "model_module_version": "1.1.0",
      "model_name": "LayoutModel",
      "state": {}
     },
     "5f82a9ce4b2a4862a55228353f5fac70": {
      "model_module": "@jupyter-widgets/base",
      "model_module_version": "1.1.0",
      "model_name": "LayoutModel",
      "state": {}
     },
     "60140d3b8b2749ea9f9d788173f16509": {
      "model_module": "@jupyter-widgets/base",
      "model_module_version": "1.1.0",
      "model_name": "LayoutModel",
      "state": {}
     },
     "6048ebab5cf248f1b6db30ceb0996da8": {
      "model_module": "@jupyter-widgets/base",
      "model_module_version": "1.1.0",
      "model_name": "LayoutModel",
      "state": {}
     },
     "60708d45bfc14d0c841bacb3da143ad0": {
      "model_module": "@jupyter-widgets/controls",
      "model_module_version": "1.4.0",
      "model_name": "IntProgressModel",
      "state": {
       "bar_style": "success",
       "description": "training...",
       "layout": "IPY_MODEL_33ff0b3aeff3473d96bd71287af7d62f",
       "max": 410,
       "style": "IPY_MODEL_f737e8d9a5ea4775aebfaa46fea7aaf1",
       "value": 410
      }
     },
     "609c7de7cadb4763b79616bfa901707d": {
      "model_module": "@jupyter-widgets/base",
      "model_module_version": "1.1.0",
      "model_name": "LayoutModel",
      "state": {}
     },
     "60f959f615eb464f97b553e3362818a2": {
      "model_module": "@jupyter-widgets/base",
      "model_module_version": "1.1.0",
      "model_name": "LayoutModel",
      "state": {}
     },
     "61aebca548e34befb54f54b35c6cb005": {
      "model_module": "@jupyter-widgets/base",
      "model_module_version": "1.1.0",
      "model_name": "LayoutModel",
      "state": {}
     },
     "620694dbf0084de392608acd1dbb2cca": {
      "model_module": "@jupyter-widgets/controls",
      "model_module_version": "1.4.0",
      "model_name": "ProgressStyleModel",
      "state": {
       "description_width": "initial"
      }
     },
     "6283977244884d11a812bbe87abffafe": {
      "model_module": "@jupyter-widgets/controls",
      "model_module_version": "1.4.0",
      "model_name": "DescriptionStyleModel",
      "state": {
       "description_width": ""
      }
     },
     "62a8137b3bd54b78957e16bfee37bf89": {
      "model_module": "@jupyter-widgets/controls",
      "model_module_version": "1.4.0",
      "model_name": "ProgressStyleModel",
      "state": {
       "description_width": "initial"
      }
     },
     "62db20cab2a548a282ad1a9148fcf525": {
      "model_module": "@jupyter-widgets/base",
      "model_module_version": "1.1.0",
      "model_name": "LayoutModel",
      "state": {}
     },
     "62fc79691ee04ecda07329ca81ed35cc": {
      "model_module": "@jupyter-widgets/controls",
      "model_module_version": "1.4.0",
      "model_name": "ProgressStyleModel",
      "state": {
       "description_width": "initial"
      }
     },
     "630b90c9ed0a405faf900430ce7bc44c": {
      "model_module": "@jupyter-widgets/base",
      "model_module_version": "1.1.0",
      "model_name": "LayoutModel",
      "state": {}
     },
     "632b959ad63441f996e235c54b994176": {
      "model_module": "@jupyter-widgets/controls",
      "model_module_version": "1.4.0",
      "model_name": "HTMLModel",
      "state": {
       "layout": "IPY_MODEL_f1a646682e474b1e9d016f745b471a13",
       "style": "IPY_MODEL_9f8b4667067a4067862392c93fdbd027",
       "value": "100% 410/410 [04:11&lt;00:00,  1.71it/s]"
      }
     },
     "6335d84be0dd4efb836a87ea5298de05": {
      "model_module": "@jupyter-widgets/base",
      "model_module_version": "1.1.0",
      "model_name": "LayoutModel",
      "state": {}
     },
     "635e711d76a2439b9edfa06502f87cdd": {
      "model_module": "@jupyter-widgets/base",
      "model_module_version": "1.1.0",
      "model_name": "LayoutModel",
      "state": {}
     },
     "636ca140b9a84fa1ba6cd48b726326d3": {
      "model_module": "@jupyter-widgets/base",
      "model_module_version": "1.1.0",
      "model_name": "LayoutModel",
      "state": {}
     },
     "646fe942b7304e6abd37df3ad7d3e58e": {
      "model_module": "@jupyter-widgets/controls",
      "model_module_version": "1.4.0",
      "model_name": "HTMLModel",
      "state": {
       "layout": "IPY_MODEL_991d163d016d48fe90b2841c62acb755",
       "style": "IPY_MODEL_f592acd334ee46ce9fd6f82fe596ccdd",
       "value": "100% 410/410 [04:12&lt;00:00,  1.68it/s]"
      }
     },
     "64840efbb6714b2d87e14947cc745077": {
      "model_module": "@jupyter-widgets/base",
      "model_module_version": "1.1.0",
      "model_name": "LayoutModel",
      "state": {}
     },
     "64bbb605d77c436b93e9274f53da518f": {
      "model_module": "@jupyter-widgets/controls",
      "model_module_version": "1.4.0",
      "model_name": "IntProgressModel",
      "state": {
       "bar_style": "success",
       "description": "validation...",
       "layout": "IPY_MODEL_736984e84a1c4ffb8a3c8fea39b5beb5",
       "max": 52,
       "style": "IPY_MODEL_e67f48ff65a943cbbe7339f8ff5b3c44",
       "value": 52
      }
     },
     "650c559a03aa418faed023bb1778bdb1": {
      "model_module": "@jupyter-widgets/controls",
      "model_module_version": "1.4.0",
      "model_name": "DescriptionStyleModel",
      "state": {
       "description_width": ""
      }
     },
     "65b94b25cf58421baa480feaf043220e": {
      "model_module": "@jupyter-widgets/controls",
      "model_module_version": "1.4.0",
      "model_name": "HBoxModel",
      "state": {
       "children": [
        "IPY_MODEL_91a4a41dc09b4d6fb382ff33e4a9ea32",
        "IPY_MODEL_8e841c4c659c443498f43101c7676fc4"
       ],
       "layout": "IPY_MODEL_8bfbb68031a243f8a37017dc956ecc1c"
      }
     },
     "662961e1bd094654b98be559989b07b1": {
      "model_module": "@jupyter-widgets/controls",
      "model_module_version": "1.4.0",
      "model_name": "ProgressStyleModel",
      "state": {
       "description_width": ""
      }
     },
     "66a3f456d96440cea86f772784b28bed": {
      "model_module": "@jupyter-widgets/base",
      "model_module_version": "1.1.0",
      "model_name": "LayoutModel",
      "state": {}
     },
     "66df68a0ee5344bb8682e478ba5c59b4": {
      "model_module": "@jupyter-widgets/controls",
      "model_module_version": "1.4.0",
      "model_name": "HTMLModel",
      "state": {
       "layout": "IPY_MODEL_749f3a11344e451aa92b01837aee3b9b",
       "style": "IPY_MODEL_0568afe268ac40f79c5f92d01a3e8e1c",
       "value": "100% 205/205 [01:46&lt;00:00,  2.25it/s]"
      }
     },
     "66f2b63fa1664667816cce2ea9fd63d9": {
      "model_module": "@jupyter-widgets/base",
      "model_module_version": "1.1.0",
      "model_name": "LayoutModel",
      "state": {}
     },
     "671e33d17b4542bbbdf488f940d4143b": {
      "model_module": "@jupyter-widgets/controls",
      "model_module_version": "1.4.0",
      "model_name": "DescriptionStyleModel",
      "state": {
       "description_width": ""
      }
     },
     "6777f2c4fea74140ac8e5c7dff067a34": {
      "model_module": "@jupyter-widgets/base",
      "model_module_version": "1.1.0",
      "model_name": "LayoutModel",
      "state": {}
     },
     "678f71af9527439d80de2d900c305554": {
      "model_module": "@jupyter-widgets/controls",
      "model_module_version": "1.4.0",
      "model_name": "HTMLModel",
      "state": {
       "layout": "IPY_MODEL_ef00752880244e92ae7cb13d3c27ced2",
       "style": "IPY_MODEL_7b4ff52622c6473ebed5a6038e429ea2",
       "value": "100% 52/52 [00:24&lt;00:00,  2.15it/s]"
      }
     },
     "67bee7af51514fa3bcadd9be93af4a15": {
      "model_module": "@jupyter-widgets/controls",
      "model_module_version": "1.4.0",
      "model_name": "HBoxModel",
      "state": {
       "children": [
        "IPY_MODEL_73947049c36841f3ade7adaac9152a4f",
        "IPY_MODEL_93f1b7509ae7442aa5f20701ec8f2b57"
       ],
       "layout": "IPY_MODEL_097e586ece784b63b1e318c24f30282d"
      }
     },
     "67e554f29e2945e2a18e6e6529c5aa4e": {
      "model_module": "@jupyter-widgets/controls",
      "model_module_version": "1.4.0",
      "model_name": "HTMLModel",
      "state": {
       "layout": "IPY_MODEL_340dd1010ce34fd2a85ddf07e03d531e",
       "style": "IPY_MODEL_226e8a23136247aca71453a6fcf1c7c3",
       "value": "100% 103/103 [00:29&lt;00:00,  5.25it/s]"
      }
     },
     "683b320ae0344be2a90fee1537df83db": {
      "model_module": "@jupyter-widgets/controls",
      "model_module_version": "1.4.0",
      "model_name": "DescriptionStyleModel",
      "state": {
       "description_width": ""
      }
     },
     "687e7fb1db054c6880eb40bea3c460b2": {
      "model_module": "@jupyter-widgets/base",
      "model_module_version": "1.1.0",
      "model_name": "LayoutModel",
      "state": {}
     },
     "68c8969a71b24dddbcfb5da1f885fa1b": {
      "model_module": "@jupyter-widgets/controls",
      "model_module_version": "1.4.0",
      "model_name": "HBoxModel",
      "state": {
       "children": [
        "IPY_MODEL_31887219aeb14f9aaf9b538806f7696b",
        "IPY_MODEL_646fe942b7304e6abd37df3ad7d3e58e"
       ],
       "layout": "IPY_MODEL_d3438a6114e44e0c9270cba244f23ac2"
      }
     },
     "690eea47080e43709d8c0a4a75be7f0a": {
      "model_module": "@jupyter-widgets/base",
      "model_module_version": "1.1.0",
      "model_name": "LayoutModel",
      "state": {}
     },
     "6998da3efce1449aa76102a60f815f80": {
      "model_module": "@jupyter-widgets/controls",
      "model_module_version": "1.4.0",
      "model_name": "HBoxModel",
      "state": {
       "children": [
        "IPY_MODEL_a531b24f162c4538a76cd1dae2acc04b",
        "IPY_MODEL_85677bc327094389b43d8a62752073ba"
       ],
       "layout": "IPY_MODEL_3f5606cade3d44a4846699a259c96a48"
      }
     },
     "69e730e9c0ca40378bb329409dbb4d38": {
      "model_module": "@jupyter-widgets/controls",
      "model_module_version": "1.4.0",
      "model_name": "HBoxModel",
      "state": {
       "children": [
        "IPY_MODEL_327ae78f46ac4c6dbd891953b677f91f",
        "IPY_MODEL_6bc5dd54f78640fd85fd9c5bd7a05d70"
       ],
       "layout": "IPY_MODEL_0d279d8e0c8d439baf96faa5c2de6ef6"
      }
     },
     "6a1ab9d5933a4c96b015ef27de52f5e6": {
      "model_module": "@jupyter-widgets/controls",
      "model_module_version": "1.4.0",
      "model_name": "DescriptionStyleModel",
      "state": {
       "description_width": ""
      }
     },
     "6a572f5e7a5c4d92a59b1d06c58121e8": {
      "model_module": "@jupyter-widgets/controls",
      "model_module_version": "1.4.0",
      "model_name": "HTMLModel",
      "state": {
       "layout": "IPY_MODEL_2dc678635f5e4ccd99e619e9a9b3d1f6",
       "style": "IPY_MODEL_11ccfa81bd2f4ec3803c08654b1aca1a",
       "value": "100% 78786/78786 [00:26&lt;00:00, 3014.24it/s]"
      }
     },
     "6a61a6cc9d5d40a98efbe4a99c83f533": {
      "model_module": "@jupyter-widgets/controls",
      "model_module_version": "1.4.0",
      "model_name": "HBoxModel",
      "state": {
       "children": [
        "IPY_MODEL_0143e72b7a394d7085e34e505b9abf41",
        "IPY_MODEL_8ffc22313f7d47ab93825d85ffe631d3"
       ],
       "layout": "IPY_MODEL_0df7187c17484964aeb65cb3ceda9b92"
      }
     },
     "6aa92318ec834791b958ce89a6e7bb25": {
      "model_module": "@jupyter-widgets/base",
      "model_module_version": "1.1.0",
      "model_name": "LayoutModel",
      "state": {}
     },
     "6ab88cf6f2294f66b8a2091013d58fbf": {
      "model_module": "@jupyter-widgets/controls",
      "model_module_version": "1.4.0",
      "model_name": "DescriptionStyleModel",
      "state": {
       "description_width": ""
      }
     },
     "6b0db6c3cd0543388b0bd2e0a0d779e5": {
      "model_module": "@jupyter-widgets/controls",
      "model_module_version": "1.4.0",
      "model_name": "ProgressStyleModel",
      "state": {
       "description_width": "initial"
      }
     },
     "6b955d4d401d4b77a82d815f09a1c689": {
      "model_module": "@jupyter-widgets/controls",
      "model_module_version": "1.4.0",
      "model_name": "DescriptionStyleModel",
      "state": {
       "description_width": ""
      }
     },
     "6bc5dd54f78640fd85fd9c5bd7a05d70": {
      "model_module": "@jupyter-widgets/controls",
      "model_module_version": "1.4.0",
      "model_name": "HTMLModel",
      "state": {
       "layout": "IPY_MODEL_cd34fc57dec94029ac614a3b57877d41",
       "style": "IPY_MODEL_00506d14fedd4bb6a54d5c5da1f6eae6",
       "value": "100% 103/103 [00:30&lt;00:00,  6.07it/s]"
      }
     },
     "6becd78a839c405e8f1fef61dd5c84ff": {
      "model_module": "@jupyter-widgets/controls",
      "model_module_version": "1.4.0",
      "model_name": "HTMLModel",
      "state": {
       "layout": "IPY_MODEL_6048ebab5cf248f1b6db30ceb0996da8",
       "style": "IPY_MODEL_f38ae3cfb847453e9f1994d730ca20d8",
       "value": "100% 410/410 [04:09&lt;00:00,  1.72it/s]"
      }
     },
     "6cb8079448f943fb80c2575e600c3286": {
      "model_module": "@jupyter-widgets/controls",
      "model_module_version": "1.4.0",
      "model_name": "ProgressStyleModel",
      "state": {
       "description_width": ""
      }
     },
     "6cfc79069f9043d29a06116eded5e549": {
      "model_module": "@jupyter-widgets/controls",
      "model_module_version": "1.4.0",
      "model_name": "IntProgressModel",
      "state": {
       "bar_style": "success",
       "description": "training...",
       "layout": "IPY_MODEL_719e96a4a46449d4a69e28d40eeb4260",
       "max": 410,
       "style": "IPY_MODEL_900f453703d8463c941a9dd23b8f7ee4",
       "value": 410
      }
     },
     "6d14cfe70a4b4d3a8efafe1bf85f7ce1": {
      "model_module": "@jupyter-widgets/controls",
      "model_module_version": "1.4.0",
      "model_name": "HBoxModel",
      "state": {
       "children": [
        "IPY_MODEL_24209255237f4f5faf35ba0e18640791",
        "IPY_MODEL_5ded3966773543e4b485a0e049ec634e"
       ],
       "layout": "IPY_MODEL_79e8241491ca46529314ebbe92b440bf"
      }
     },
     "6d29bf2ef18d4f4ea6e6fdb46abeb26e": {
      "model_module": "@jupyter-widgets/base",
      "model_module_version": "1.1.0",
      "model_name": "LayoutModel",
      "state": {}
     },
     "6d43fdc44c324434b78afc24eb2aea45": {
      "model_module": "@jupyter-widgets/controls",
      "model_module_version": "1.4.0",
      "model_name": "HBoxModel",
      "state": {
       "children": [
        "IPY_MODEL_f6a7c3b02a7a402c94f8caa883365821",
        "IPY_MODEL_ef37a0924d22403c974a46e4ecc4ad61"
       ],
       "layout": "IPY_MODEL_ed63e336f63e4b888a5186b12d3545e3"
      }
     },
     "6d6713f2db9f4a94a8dac9272ed7927f": {
      "model_module": "@jupyter-widgets/controls",
      "model_module_version": "1.4.0",
      "model_name": "HTMLModel",
      "state": {
       "layout": "IPY_MODEL_2767d73a6d0c4895bd8a7d0bb5d7934f",
       "style": "IPY_MODEL_0de4ec2d347044728a6a0a38b9e1824a",
       "value": "100% 103/103 [00:30&lt;00:00,  6.01it/s]"
      }
     },
     "6d69f1ba568e49238c66b6741d574fb0": {
      "model_module": "@jupyter-widgets/base",
      "model_module_version": "1.1.0",
      "model_name": "LayoutModel",
      "state": {}
     },
     "6dae305d7334409fbef82fb84ac28a3c": {
      "model_module": "@jupyter-widgets/controls",
      "model_module_version": "1.4.0",
      "model_name": "HTMLModel",
      "state": {
       "layout": "IPY_MODEL_45ae17c6c23f417cb299fae77a327433",
       "style": "IPY_MODEL_35daba22d73e4f2399bed296b8375d4a",
       "value": "100% 410/410 [04:09&lt;00:00,  1.76it/s]"
      }
     },
     "6db6d7b1fdc74c76b503a69671eaacfb": {
      "model_module": "@jupyter-widgets/controls",
      "model_module_version": "1.4.0",
      "model_name": "HTMLModel",
      "state": {
       "layout": "IPY_MODEL_f6863bbc145144bdb72b89670b12e779",
       "style": "IPY_MODEL_d274cbc6cea14102909c6eba8968381b",
       "value": "100% 410/410 [04:10&lt;00:00,  1.71it/s]"
      }
     },
     "6e18c36936054b09a96c0da5296e8c22": {
      "model_module": "@jupyter-widgets/base",
      "model_module_version": "1.1.0",
      "model_name": "LayoutModel",
      "state": {}
     },
     "6e5b7cfede3b4609bab6be63deaa5c82": {
      "model_module": "@jupyter-widgets/controls",
      "model_module_version": "1.4.0",
      "model_name": "DescriptionStyleModel",
      "state": {
       "description_width": ""
      }
     },
     "6ea57be07d0a46c2a0c8a25503c619d2": {
      "model_module": "@jupyter-widgets/controls",
      "model_module_version": "1.4.0",
      "model_name": "HTMLModel",
      "state": {
       "layout": "IPY_MODEL_163c61f003d1432c981bc796a2d70430",
       "style": "IPY_MODEL_9440e47449d4456096510596e298889d",
       "value": "100% 52/52 [00:23&lt;00:00,  2.18it/s]"
      }
     },
     "6eccb72595c746d38c8aab502810dd46": {
      "model_module": "@jupyter-widgets/controls",
      "model_module_version": "1.4.0",
      "model_name": "ProgressStyleModel",
      "state": {
       "description_width": "initial"
      }
     },
     "6edfc691438d43faa0d5a1e2cbcb5ca4": {
      "model_module": "@jupyter-widgets/controls",
      "model_module_version": "1.4.0",
      "model_name": "IntProgressModel",
      "state": {
       "bar_style": "success",
       "description": "training...",
       "layout": "IPY_MODEL_b92194e2592e4579a97868a607763adc",
       "max": 410,
       "style": "IPY_MODEL_bc587d633078411e80174cc881437cc0",
       "value": 410
      }
     },
     "6ef1760be74f4f2b9062b5ed9a0154a0": {
      "model_module": "@jupyter-widgets/controls",
      "model_module_version": "1.4.0",
      "model_name": "IntProgressModel",
      "state": {
       "bar_style": "success",
       "description": "training...",
       "layout": "IPY_MODEL_fad2211390ee4b3480761933762602a0",
       "max": 410,
       "style": "IPY_MODEL_5b3475e90c5645f6a7280eecb20d7b35",
       "value": 410
      }
     },
     "6f37d9b787554b369c69d94f46c95d69": {
      "model_module": "@jupyter-widgets/controls",
      "model_module_version": "1.4.0",
      "model_name": "ProgressStyleModel",
      "state": {
       "description_width": "initial"
      }
     },
     "6f7c3311886c4763b211aa78133402a9": {
      "model_module": "@jupyter-widgets/controls",
      "model_module_version": "1.4.0",
      "model_name": "HBoxModel",
      "state": {
       "children": [
        "IPY_MODEL_359b7dc32e824bb6a11eda6e3a941ee3",
        "IPY_MODEL_7a1af11986dc420f89e8a6b64f93880a"
       ],
       "layout": "IPY_MODEL_3bf88903b4c14a3eb470d2a5d14f6a01"
      }
     },
     "6fb5fb24fd2d49f8afa752fa577911f2": {
      "model_module": "@jupyter-widgets/controls",
      "model_module_version": "1.4.0",
      "model_name": "ProgressStyleModel",
      "state": {
       "description_width": "initial"
      }
     },
     "6fe3f736de0d45048db6a580958bf049": {
      "model_module": "@jupyter-widgets/base",
      "model_module_version": "1.1.0",
      "model_name": "LayoutModel",
      "state": {}
     },
     "6ffd928e11424738a78bdcdc39e5d710": {
      "model_module": "@jupyter-widgets/controls",
      "model_module_version": "1.4.0",
      "model_name": "ProgressStyleModel",
      "state": {
       "description_width": "initial"
      }
     },
     "7004e17822314f04a04d4f834363bbe1": {
      "model_module": "@jupyter-widgets/base",
      "model_module_version": "1.1.0",
      "model_name": "LayoutModel",
      "state": {}
     },
     "7033aad7b6304b8aa35f95e7d55f3141": {
      "model_module": "@jupyter-widgets/controls",
      "model_module_version": "1.4.0",
      "model_name": "IntProgressModel",
      "state": {
       "bar_style": "success",
       "description": "training...",
       "layout": "IPY_MODEL_9acc4cd594fe470d87160d073f6ab1bd",
       "max": 205,
       "style": "IPY_MODEL_50ebc529df504035988cdc050a79ab11",
       "value": 205
      }
     },
     "707bc2ac8304491ba4d6bc55ec59f32e": {
      "model_module": "@jupyter-widgets/controls",
      "model_module_version": "1.4.0",
      "model_name": "HBoxModel",
      "state": {
       "children": [
        "IPY_MODEL_6cfc79069f9043d29a06116eded5e549",
        "IPY_MODEL_6dae305d7334409fbef82fb84ac28a3c"
       ],
       "layout": "IPY_MODEL_2a666a29fd41423684abcb9598ebdd86"
      }
     },
     "708e3a005c004e8f8c20bfffba3531fa": {
      "model_module": "@jupyter-widgets/controls",
      "model_module_version": "1.4.0",
      "model_name": "HTMLModel",
      "state": {
       "layout": "IPY_MODEL_b3036b9714fa4a7198eb1d0591dfa1b4",
       "style": "IPY_MODEL_c26df945f0124b3e9c54b2e9bbf39104",
       "value": "100% 410/410 [04:09&lt;00:00,  1.68it/s]"
      }
     },
     "70c2699c507344e6b519d60c5012c32b": {
      "model_module": "@jupyter-widgets/controls",
      "model_module_version": "1.4.0",
      "model_name": "HBoxModel",
      "state": {
       "children": [
        "IPY_MODEL_2e622d7d7aea493e8028e0812688cb7c",
        "IPY_MODEL_c14571c3fcad47c6afedb46fb425aafd"
       ],
       "layout": "IPY_MODEL_ffb4aba6179b4ec094ba59aa02ee1223"
      }
     },
     "7119a786e54840a6bbce02240b5ac5c9": {
      "model_module": "@jupyter-widgets/controls",
      "model_module_version": "1.4.0",
      "model_name": "IntProgressModel",
      "state": {
       "bar_style": "success",
       "description": "validation...",
       "layout": "IPY_MODEL_5e7d643ba48e4d0c804dd820366423ea",
       "max": 103,
       "style": "IPY_MODEL_d195fe3bcdcd4535b568651e7d09f72a",
       "value": 103
      }
     },
     "71291d42fdcc4e0db18cea362ba02b11": {
      "model_module": "@jupyter-widgets/controls",
      "model_module_version": "1.4.0",
      "model_name": "HTMLModel",
      "state": {
       "layout": "IPY_MODEL_cf677a32edbe471eac623e7601d8889d",
       "style": "IPY_MODEL_76ebe5a33ad246f58c206cd1161e9a51",
       "value": "100% 410/410 [04:08&lt;00:00,  1.70it/s]"
      }
     },
     "7166885488744327a7e74d833f1bd5c6": {
      "model_module": "@jupyter-widgets/base",
      "model_module_version": "1.1.0",
      "model_name": "LayoutModel",
      "state": {}
     },
     "719e96a4a46449d4a69e28d40eeb4260": {
      "model_module": "@jupyter-widgets/base",
      "model_module_version": "1.1.0",
      "model_name": "LayoutModel",
      "state": {}
     },
     "71f28cf4f8fa4976839e78c1835324a3": {
      "model_module": "@jupyter-widgets/controls",
      "model_module_version": "1.4.0",
      "model_name": "IntProgressModel",
      "state": {
       "bar_style": "success",
       "description": "training...",
       "layout": "IPY_MODEL_a242e84b72fe49c78fe6c46e403059a1",
       "max": 410,
       "style": "IPY_MODEL_39ab512cffd44e88b70d0ed9c836015b",
       "value": 410
      }
     },
     "71f9866b5a3d456a9f3fb2b473e1dcae": {
      "model_module": "@jupyter-widgets/controls",
      "model_module_version": "1.4.0",
      "model_name": "DescriptionStyleModel",
      "state": {
       "description_width": ""
      }
     },
     "72173fab4adc4e9b8076e666acfdedb9": {
      "model_module": "@jupyter-widgets/base",
      "model_module_version": "1.1.0",
      "model_name": "LayoutModel",
      "state": {}
     },
     "7252b00ea457477e9b79124fb6ded319": {
      "model_module": "@jupyter-widgets/base",
      "model_module_version": "1.1.0",
      "model_name": "LayoutModel",
      "state": {}
     },
     "7266a5c94b8b4182b4ef29b0c1944914": {
      "model_module": "@jupyter-widgets/base",
      "model_module_version": "1.1.0",
      "model_name": "LayoutModel",
      "state": {}
     },
     "72d3e83fafa543ffba2ab3d161916519": {
      "model_module": "@jupyter-widgets/base",
      "model_module_version": "1.1.0",
      "model_name": "LayoutModel",
      "state": {}
     },
     "72d7b2abd7104709a775dbb20b475f26": {
      "model_module": "@jupyter-widgets/base",
      "model_module_version": "1.1.0",
      "model_name": "LayoutModel",
      "state": {}
     },
     "72f6df82e8ca477ea708a652fd64f51d": {
      "model_module": "@jupyter-widgets/base",
      "model_module_version": "1.1.0",
      "model_name": "LayoutModel",
      "state": {}
     },
     "734a3746d00644d8b4f49512f95237c9": {
      "model_module": "@jupyter-widgets/controls",
      "model_module_version": "1.4.0",
      "model_name": "HBoxModel",
      "state": {
       "children": [
        "IPY_MODEL_7033aad7b6304b8aa35f95e7d55f3141",
        "IPY_MODEL_7f4c618c0a1745ddad7306dcfc1e25c3"
       ],
       "layout": "IPY_MODEL_77575d4b63384a9b824290991ec1fac0"
      }
     },
     "736984e84a1c4ffb8a3c8fea39b5beb5": {
      "model_module": "@jupyter-widgets/base",
      "model_module_version": "1.1.0",
      "model_name": "LayoutModel",
      "state": {}
     },
     "73947049c36841f3ade7adaac9152a4f": {
      "model_module": "@jupyter-widgets/controls",
      "model_module_version": "1.4.0",
      "model_name": "IntProgressModel",
      "state": {
       "bar_style": "success",
       "description": "training...",
       "layout": "IPY_MODEL_24a18bf60c6f47059121ad48be65fb35",
       "max": 410,
       "style": "IPY_MODEL_288c4b84de2a4c0aaa79bacdf24dc901",
       "value": 410
      }
     },
     "73b239c02aee4bb39d8c17f47576e171": {
      "model_module": "@jupyter-widgets/controls",
      "model_module_version": "1.4.0",
      "model_name": "HBoxModel",
      "state": {
       "children": [
        "IPY_MODEL_922c466ed53f46498f5e77379023be67",
        "IPY_MODEL_6a572f5e7a5c4d92a59b1d06c58121e8"
       ],
       "layout": "IPY_MODEL_5e1817ab704944b0b8f2fd3018bc51f7"
      }
     },
     "7425708c6b364bb49dbdb0fea1f7da5a": {
      "model_module": "@jupyter-widgets/controls",
      "model_module_version": "1.4.0",
      "model_name": "ProgressStyleModel",
      "state": {
       "description_width": "initial"
      }
     },
     "745388259a93438cb3c198f6bc70c778": {
      "model_module": "@jupyter-widgets/controls",
      "model_module_version": "1.4.0",
      "model_name": "HTMLModel",
      "state": {
       "layout": "IPY_MODEL_b9a3ae8fc2754b3996c839269545c765",
       "style": "IPY_MODEL_f6d3b8095c794ebdaa794afaa5c7e956",
       "value": "100% 130/130 [00:34&lt;00:00,  5.15it/s]"
      }
     },
     "7456bc4b9c7f45ddb94b7ce9d1430673": {
      "model_module": "@jupyter-widgets/base",
      "model_module_version": "1.1.0",
      "model_name": "LayoutModel",
      "state": {}
     },
     "746621bdf1c44a149840cdc873e8be60": {
      "model_module": "@jupyter-widgets/controls",
      "model_module_version": "1.4.0",
      "model_name": "ProgressStyleModel",
      "state": {
       "description_width": "initial"
      }
     },
     "74844298f1d34e64bcc8fe1c75e75f7e": {
      "model_module": "@jupyter-widgets/controls",
      "model_module_version": "1.4.0",
      "model_name": "DescriptionStyleModel",
      "state": {
       "description_width": ""
      }
     },
     "749f3a11344e451aa92b01837aee3b9b": {
      "model_module": "@jupyter-widgets/base",
      "model_module_version": "1.1.0",
      "model_name": "LayoutModel",
      "state": {}
     },
     "74b520fe9d4043b78e039e8f10168658": {
      "model_module": "@jupyter-widgets/base",
      "model_module_version": "1.1.0",
      "model_name": "LayoutModel",
      "state": {}
     },
     "74ffafa3c2d5496992eeaf981f93c5f4": {
      "model_module": "@jupyter-widgets/base",
      "model_module_version": "1.1.0",
      "model_name": "LayoutModel",
      "state": {}
     },
     "763004b5031e40cdb082cf28dda92b4b": {
      "model_module": "@jupyter-widgets/controls",
      "model_module_version": "1.4.0",
      "model_name": "ProgressStyleModel",
      "state": {
       "description_width": "initial"
      }
     },
     "764e7df5fe0e49ca9a604fb9c1368dbf": {
      "model_module": "@jupyter-widgets/controls",
      "model_module_version": "1.4.0",
      "model_name": "DescriptionStyleModel",
      "state": {
       "description_width": ""
      }
     },
     "76696f5ef4b249fab2309c29a89e9e13": {
      "model_module": "@jupyter-widgets/controls",
      "model_module_version": "1.4.0",
      "model_name": "ProgressStyleModel",
      "state": {
       "description_width": "initial"
      }
     },
     "767a8efb09b147eabcba7c775a354adc": {
      "model_module": "@jupyter-widgets/base",
      "model_module_version": "1.1.0",
      "model_name": "LayoutModel",
      "state": {}
     },
     "76c5759f96584aaab0dfc7f35326e9a1": {
      "model_module": "@jupyter-widgets/base",
      "model_module_version": "1.1.0",
      "model_name": "LayoutModel",
      "state": {}
     },
     "76c6a2ecb07d46abbfd91c14b1e49194": {
      "model_module": "@jupyter-widgets/base",
      "model_module_version": "1.1.0",
      "model_name": "LayoutModel",
      "state": {}
     },
     "76cb525472934fc2829d929a27011a98": {
      "model_module": "@jupyter-widgets/controls",
      "model_module_version": "1.4.0",
      "model_name": "IntProgressModel",
      "state": {
       "bar_style": "success",
       "description": "validation...",
       "layout": "IPY_MODEL_60f959f615eb464f97b553e3362818a2",
       "max": 103,
       "style": "IPY_MODEL_f2f49b87e5d94cff8e7c5d9e6b7c4eae",
       "value": 103
      }
     },
     "76ebe5a33ad246f58c206cd1161e9a51": {
      "model_module": "@jupyter-widgets/controls",
      "model_module_version": "1.4.0",
      "model_name": "DescriptionStyleModel",
      "state": {
       "description_width": ""
      }
     },
     "773793a00a9749d999ff0fad78055f02": {
      "model_module": "@jupyter-widgets/base",
      "model_module_version": "1.1.0",
      "model_name": "LayoutModel",
      "state": {}
     },
     "77575d4b63384a9b824290991ec1fac0": {
      "model_module": "@jupyter-widgets/base",
      "model_module_version": "1.1.0",
      "model_name": "LayoutModel",
      "state": {}
     },
     "775ed94b9c564787ba94bce678bee4c0": {
      "model_module": "@jupyter-widgets/controls",
      "model_module_version": "1.4.0",
      "model_name": "DescriptionStyleModel",
      "state": {
       "description_width": ""
      }
     },
     "7857195a8da849078076b528d25d47ee": {
      "model_module": "@jupyter-widgets/controls",
      "model_module_version": "1.4.0",
      "model_name": "ProgressStyleModel",
      "state": {
       "description_width": "initial"
      }
     },
     "78a1e13cdcfe49c09ed2c72ea615d2c4": {
      "model_module": "@jupyter-widgets/controls",
      "model_module_version": "1.4.0",
      "model_name": "HBoxModel",
      "state": {
       "children": [
        "IPY_MODEL_9073efe0da164210be89c88bcfdb30d9",
        "IPY_MODEL_e040da33e45041ea813147b981f5057c"
       ],
       "layout": "IPY_MODEL_17fc74f093ca4e3085ea3947fba295e8"
      }
     },
     "78ddd8756c504f1fac56981abd85b445": {
      "model_module": "@jupyter-widgets/controls",
      "model_module_version": "1.4.0",
      "model_name": "IntProgressModel",
      "state": {
       "bar_style": "success",
       "description": "training...",
       "layout": "IPY_MODEL_17182dbf3743452bbcd562838da8ef1c",
       "max": 307,
       "style": "IPY_MODEL_588361f51a364e80b7fd858bc210b676",
       "value": 307
      }
     },
     "79e8241491ca46529314ebbe92b440bf": {
      "model_module": "@jupyter-widgets/base",
      "model_module_version": "1.1.0",
      "model_name": "LayoutModel",
      "state": {}
     },
     "7a1af11986dc420f89e8a6b64f93880a": {
      "model_module": "@jupyter-widgets/controls",
      "model_module_version": "1.4.0",
      "model_name": "HTMLModel",
      "state": {
       "layout": "IPY_MODEL_39a2f30f614745fc8d7a241de9cd3111",
       "style": "IPY_MODEL_88304dc573694568bb04e28c888dbb78",
       "value": "100% 410/410 [04:11&lt;00:00,  1.67it/s]"
      }
     },
     "7a22af3775914ca4b5ec9e1638cd4866": {
      "model_module": "@jupyter-widgets/base",
      "model_module_version": "1.1.0",
      "model_name": "LayoutModel",
      "state": {}
     },
     "7a2709a8712346fe958d53aac584eafd": {
      "model_module": "@jupyter-widgets/base",
      "model_module_version": "1.1.0",
      "model_name": "LayoutModel",
      "state": {}
     },
     "7a3f081677d040248658e5e619b3a3a4": {
      "model_module": "@jupyter-widgets/controls",
      "model_module_version": "1.4.0",
      "model_name": "ProgressStyleModel",
      "state": {
       "description_width": "initial"
      }
     },
     "7a6c8c4ee15e41519a07b7f32643e075": {
      "model_module": "@jupyter-widgets/controls",
      "model_module_version": "1.4.0",
      "model_name": "HTMLModel",
      "state": {
       "layout": "IPY_MODEL_d2d124ef59a544219915fb5b4d4f78d9",
       "style": "IPY_MODEL_650c559a03aa418faed023bb1778bdb1",
       "value": "100% 103/103 [00:29&lt;00:00,  5.80it/s]"
      }
     },
     "7a76353511cd4aa78a19684c920a431e": {
      "model_module": "@jupyter-widgets/controls",
      "model_module_version": "1.4.0",
      "model_name": "IntProgressModel",
      "state": {
       "bar_style": "success",
       "description": "validation...",
       "layout": "IPY_MODEL_2016f610b40c49939b59b7dde4c63283",
       "max": 103,
       "style": "IPY_MODEL_ea753ba761c84dcabe292c262fa94275",
       "value": 103
      }
     },
     "7ae03007e8214fc9b1363917be602126": {
      "model_module": "@jupyter-widgets/controls",
      "model_module_version": "1.4.0",
      "model_name": "ProgressStyleModel",
      "state": {
       "description_width": "initial"
      }
     },
     "7b2f4845d4714d2ca0453e73148e7927": {
      "model_module": "@jupyter-widgets/base",
      "model_module_version": "1.1.0",
      "model_name": "LayoutModel",
      "state": {}
     },
     "7b4ff52622c6473ebed5a6038e429ea2": {
      "model_module": "@jupyter-widgets/controls",
      "model_module_version": "1.4.0",
      "model_name": "DescriptionStyleModel",
      "state": {
       "description_width": ""
      }
     },
     "7b5fded2ba214052afd4d054524f9b39": {
      "model_module": "@jupyter-widgets/base",
      "model_module_version": "1.1.0",
      "model_name": "LayoutModel",
      "state": {}
     },
     "7b66b34b272a468fb132d9a497db793c": {
      "model_module": "@jupyter-widgets/base",
      "model_module_version": "1.1.0",
      "model_name": "LayoutModel",
      "state": {}
     },
     "7bfd0fbffffa4d68a4794ecf6e705eb5": {
      "model_module": "@jupyter-widgets/controls",
      "model_module_version": "1.4.0",
      "model_name": "HBoxModel",
      "state": {
       "children": [
        "IPY_MODEL_be01c913b8cf40b4a465d88f96615962",
        "IPY_MODEL_1a5e56f32c1b4452b81a0035c8e57015"
       ],
       "layout": "IPY_MODEL_c3f3db74bcd74fbd8141e96dd5f14220"
      }
     },
     "7c4e38d392e542508800c468ce1522bb": {
      "model_module": "@jupyter-widgets/controls",
      "model_module_version": "1.4.0",
      "model_name": "HTMLModel",
      "state": {
       "layout": "IPY_MODEL_e0b0859f9a40464fbbc18cd1d1212008",
       "style": "IPY_MODEL_40c93f171bd147bdb2b2b127fde20483",
       "value": "100% 410/410 [04:09&lt;00:00,  1.66it/s]"
      }
     },
     "7c687ff30e604fa9bd74fcb395030065": {
      "model_module": "@jupyter-widgets/base",
      "model_module_version": "1.1.0",
      "model_name": "LayoutModel",
      "state": {}
     },
     "7cee38f61aa84232b8eff6f4d3db4710": {
      "model_module": "@jupyter-widgets/base",
      "model_module_version": "1.1.0",
      "model_name": "LayoutModel",
      "state": {}
     },
     "7db8c0d153194930b899f31ae36cd724": {
      "model_module": "@jupyter-widgets/base",
      "model_module_version": "1.1.0",
      "model_name": "LayoutModel",
      "state": {}
     },
     "7e51dfd4ccfe4a2d8641d87ad835f604": {
      "model_module": "@jupyter-widgets/controls",
      "model_module_version": "1.4.0",
      "model_name": "HBoxModel",
      "state": {
       "children": [
        "IPY_MODEL_4da7c6b880834f1f9e328d1d75227a96",
        "IPY_MODEL_bb68e71874bc468eb7e3c501e82d9bba"
       ],
       "layout": "IPY_MODEL_92038823fa954ee385ac893069600fcd"
      }
     },
     "7f4c618c0a1745ddad7306dcfc1e25c3": {
      "model_module": "@jupyter-widgets/controls",
      "model_module_version": "1.4.0",
      "model_name": "HTMLModel",
      "state": {
       "layout": "IPY_MODEL_8bbf34b5d0e34db4a4561f3d6e1058a1",
       "style": "IPY_MODEL_860e4be4861547ef934efb64c19dce4d",
       "value": "100% 205/205 [01:47&lt;00:00,  2.22it/s]"
      }
     },
     "7f9ba761289f42ee93aa1113a1d96dfc": {
      "model_module": "@jupyter-widgets/base",
      "model_module_version": "1.1.0",
      "model_name": "LayoutModel",
      "state": {}
     },
     "7ffc9b6f392646b99c6d5075d4d05846": {
      "model_module": "@jupyter-widgets/controls",
      "model_module_version": "1.4.0",
      "model_name": "IntProgressModel",
      "state": {
       "bar_style": "success",
       "description": "validation...",
       "layout": "IPY_MODEL_e7b332a4c11c4c87b16ad4c1971fa483",
       "max": 103,
       "style": "IPY_MODEL_c2413dca2ee343e09d90c9e09df3d268",
       "value": 103
      }
     },
     "801b0f11294e47a7969a357e1d69a22c": {
      "model_module": "@jupyter-widgets/base",
      "model_module_version": "1.1.0",
      "model_name": "LayoutModel",
      "state": {}
     },
     "801c4ef0cb3345a9a7f1ef4a36c18470": {
      "model_module": "@jupyter-widgets/controls",
      "model_module_version": "1.4.0",
      "model_name": "HTMLModel",
      "state": {
       "layout": "IPY_MODEL_76c6a2ecb07d46abbfd91c14b1e49194",
       "style": "IPY_MODEL_0f8239a7a51d43f4acbf241c15e34fcc",
       "value": "100% 103/103 [00:29&lt;00:00,  5.37it/s]"
      }
     },
     "80915f47ec0a4a53b81a958b05609f36": {
      "model_module": "@jupyter-widgets/controls",
      "model_module_version": "1.4.0",
      "model_name": "HTMLModel",
      "state": {
       "layout": "IPY_MODEL_393baaed03374de38ff5d60081e98b36",
       "style": "IPY_MODEL_6283977244884d11a812bbe87abffafe",
       "value": "100% 410/410 [04:10&lt;00:00,  1.70it/s]"
      }
     },
     "80ada7a63c0e42089c37e26282dbbe3f": {
      "model_module": "@jupyter-widgets/controls",
      "model_module_version": "1.4.0",
      "model_name": "DescriptionStyleModel",
      "state": {
       "description_width": ""
      }
     },
     "811e8242ee894d40b704c534fed120f4": {
      "model_module": "@jupyter-widgets/controls",
      "model_module_version": "1.4.0",
      "model_name": "IntProgressModel",
      "state": {
       "bar_style": "success",
       "description": "training...",
       "layout": "IPY_MODEL_461279fe4eaa4ce28d525de0cb3acc0a",
       "max": 410,
       "style": "IPY_MODEL_e4ffc9f1ac1a4eac9bf955f3788ce26d",
       "value": 410
      }
     },
     "8179b8e9ac034c5c8b2c40a315530367": {
      "model_module": "@jupyter-widgets/controls",
      "model_module_version": "1.4.0",
      "model_name": "DescriptionStyleModel",
      "state": {
       "description_width": ""
      }
     },
     "81b137afec92427a8ec594a33be9ccdf": {
      "model_module": "@jupyter-widgets/controls",
      "model_module_version": "1.4.0",
      "model_name": "HBoxModel",
      "state": {
       "children": [
        "IPY_MODEL_4d1184fbc43349dcb1c3442466de2b2b",
        "IPY_MODEL_246769c8bb6847a6ad3990373037ffe6"
       ],
       "layout": "IPY_MODEL_8d0c914c82b04fcc9d198ec70235752e"
      }
     },
     "81da429b6e724ce1a2b0b583952e2834": {
      "model_module": "@jupyter-widgets/base",
      "model_module_version": "1.1.0",
      "model_name": "LayoutModel",
      "state": {}
     },
     "82fbc51f20f34c22b7a485901e44741d": {
      "model_module": "@jupyter-widgets/base",
      "model_module_version": "1.1.0",
      "model_name": "LayoutModel",
      "state": {}
     },
     "831f4accfd26450896a5a787a64c0115": {
      "model_module": "@jupyter-widgets/controls",
      "model_module_version": "1.4.0",
      "model_name": "DescriptionStyleModel",
      "state": {
       "description_width": ""
      }
     },
     "833b549ed04a460682b97f0174af5b81": {
      "model_module": "@jupyter-widgets/controls",
      "model_module_version": "1.4.0",
      "model_name": "DescriptionStyleModel",
      "state": {
       "description_width": ""
      }
     },
     "83987eb5db7b49039593ce20cf5e7415": {
      "model_module": "@jupyter-widgets/controls",
      "model_module_version": "1.4.0",
      "model_name": "DescriptionStyleModel",
      "state": {
       "description_width": ""
      }
     },
     "839891a6815249d3a4138db8a27e1471": {
      "model_module": "@jupyter-widgets/controls",
      "model_module_version": "1.4.0",
      "model_name": "IntProgressModel",
      "state": {
       "bar_style": "success",
       "description": "training...",
       "layout": "IPY_MODEL_d57e66c6a3444d7e956d5431ea633bd8",
       "max": 410,
       "style": "IPY_MODEL_0661af7c1757476c999883bcfa917b99",
       "value": 410
      }
     },
     "839cac68ee40463c9fdb11d6e1899b5b": {
      "model_module": "@jupyter-widgets/controls",
      "model_module_version": "1.4.0",
      "model_name": "HBoxModel",
      "state": {
       "children": [
        "IPY_MODEL_3bfb0a7ed249429f9849dd59d5059066",
        "IPY_MODEL_308e6f931a7040c29a5e4d3ab699d3aa"
       ],
       "layout": "IPY_MODEL_99f4f0853488406ea76e404ed11021c0"
      }
     },
     "840f3c60cdd0417ca98b9695210bf7cf": {
      "model_module": "@jupyter-widgets/controls",
      "model_module_version": "1.4.0",
      "model_name": "ProgressStyleModel",
      "state": {
       "description_width": "initial"
      }
     },
     "8435d104a7ab4025b3607d2e97c2d61f": {
      "model_module": "@jupyter-widgets/controls",
      "model_module_version": "1.4.0",
      "model_name": "HTMLModel",
      "state": {
       "layout": "IPY_MODEL_ecf68db8390243039f6f823cee1386ec",
       "style": "IPY_MODEL_6e5b7cfede3b4609bab6be63deaa5c82",
       "value": "100% 205/205 [01:54&lt;00:00,  2.26it/s]"
      }
     },
     "843e8e8e34794c1ab82560c0f01ddd8c": {
      "model_module": "@jupyter-widgets/controls",
      "model_module_version": "1.4.0",
      "model_name": "HTMLModel",
      "state": {
       "layout": "IPY_MODEL_630b90c9ed0a405faf900430ce7bc44c",
       "style": "IPY_MODEL_f2aade12f29c406f9e0ad4d02fe1406f",
       "value": "100% 103/103 [00:30&lt;00:00,  5.57it/s]"
      }
     },
     "8475c5775db44f3bb51b357fa8c78e13": {
      "model_module": "@jupyter-widgets/controls",
      "model_module_version": "1.4.0",
      "model_name": "HBoxModel",
      "state": {
       "children": [
        "IPY_MODEL_7ffc9b6f392646b99c6d5075d4d05846",
        "IPY_MODEL_fd637ce8eea143ec8da3868b760feac8"
       ],
       "layout": "IPY_MODEL_2102b864b1074de7b95c2a70a57111b7"
      }
     },
     "84c2cd2540b14176a48022baf2319cfa": {
      "model_module": "@jupyter-widgets/base",
      "model_module_version": "1.1.0",
      "model_name": "LayoutModel",
      "state": {}
     },
     "850eddf5588d42e3a5113cb0e4674df4": {
      "model_module": "@jupyter-widgets/base",
      "model_module_version": "1.1.0",
      "model_name": "LayoutModel",
      "state": {}
     },
     "8512740ab1844021ab577e9c04c07d6f": {
      "model_module": "@jupyter-widgets/controls",
      "model_module_version": "1.4.0",
      "model_name": "DescriptionStyleModel",
      "state": {
       "description_width": ""
      }
     },
     "8527ac433df646d193d80d1567c6b588": {
      "model_module": "@jupyter-widgets/controls",
      "model_module_version": "1.4.0",
      "model_name": "IntProgressModel",
      "state": {
       "bar_style": "success",
       "description": "validation...",
       "layout": "IPY_MODEL_ef5fbfbf4b744dab978d96c75739cee6",
       "max": 103,
       "style": "IPY_MODEL_56464347d66041438befc4fe7825f566",
       "value": 103
      }
     },
     "853f4d2ab6944477878e52edfb061f80": {
      "model_module": "@jupyter-widgets/base",
      "model_module_version": "1.1.0",
      "model_name": "LayoutModel",
      "state": {}
     },
     "85562ae3a363442cbdfd462249a5ce0e": {
      "model_module": "@jupyter-widgets/controls",
      "model_module_version": "1.4.0",
      "model_name": "HBoxModel",
      "state": {
       "children": [
        "IPY_MODEL_51afadee4513457f8e220a2dff45fab4",
        "IPY_MODEL_36879ae541984efd955406c7db78a4a0"
       ],
       "layout": "IPY_MODEL_372de1d911fe432e8987a2262e495bd1"
      }
     },
     "85580a02f2ee4694a82b322b6fdf47d7": {
      "model_module": "@jupyter-widgets/controls",
      "model_module_version": "1.4.0",
      "model_name": "IntProgressModel",
      "state": {
       "bar_style": "success",
       "layout": "IPY_MODEL_801b0f11294e47a7969a357e1d69a22c",
       "max": 78786,
       "style": "IPY_MODEL_662961e1bd094654b98be559989b07b1",
       "value": 78786
      }
     },
     "85677bc327094389b43d8a62752073ba": {
      "model_module": "@jupyter-widgets/controls",
      "model_module_version": "1.4.0",
      "model_name": "HTMLModel",
      "state": {
       "layout": "IPY_MODEL_7b2f4845d4714d2ca0453e73148e7927",
       "style": "IPY_MODEL_e2b8bd5df9b34f7f9d17bba6f1fab126",
       "value": "100% 410/410 [04:11&lt;00:00,  1.73it/s]"
      }
     },
     "8574b438306e4b99acf266fc4d44bbad": {
      "model_module": "@jupyter-widgets/controls",
      "model_module_version": "1.4.0",
      "model_name": "IntProgressModel",
      "state": {
       "bar_style": "success",
       "description": "validation...",
       "layout": "IPY_MODEL_43bea93d73114741b5e9fc64038904c4",
       "max": 103,
       "style": "IPY_MODEL_fe5e145cd54d4d8e8bd407a532db2ec8",
       "value": 103
      }
     },
     "85e900707729460ea09c59630f9df880": {
      "model_module": "@jupyter-widgets/controls",
      "model_module_version": "1.4.0",
      "model_name": "HBoxModel",
      "state": {
       "children": [
        "IPY_MODEL_01b2a8fc01544fe4be2afbdd46a74c62",
        "IPY_MODEL_c1f775a4212347e89f16765f3fda48c5"
       ],
       "layout": "IPY_MODEL_ce0db823b99e4798b780781280998f8d"
      }
     },
     "860e4be4861547ef934efb64c19dce4d": {
      "model_module": "@jupyter-widgets/controls",
      "model_module_version": "1.4.0",
      "model_name": "DescriptionStyleModel",
      "state": {
       "description_width": ""
      }
     },
     "861cc780acf046b7aaadfa89ebfce89f": {
      "model_module": "@jupyter-widgets/base",
      "model_module_version": "1.1.0",
      "model_name": "LayoutModel",
      "state": {}
     },
     "861e1cbf823247ca8689c5e3893dcf34": {
      "model_module": "@jupyter-widgets/controls",
      "model_module_version": "1.4.0",
      "model_name": "DescriptionStyleModel",
      "state": {
       "description_width": ""
      }
     },
     "864456d3182b4396adb05003039ff819": {
      "model_module": "@jupyter-widgets/base",
      "model_module_version": "1.1.0",
      "model_name": "LayoutModel",
      "state": {}
     },
     "864e998e0fc746d3b5a9003067d4096f": {
      "model_module": "@jupyter-widgets/base",
      "model_module_version": "1.1.0",
      "model_name": "LayoutModel",
      "state": {}
     },
     "868291df104742e182527293abdc2e0f": {
      "model_module": "@jupyter-widgets/controls",
      "model_module_version": "1.4.0",
      "model_name": "IntProgressModel",
      "state": {
       "bar_style": "success",
       "description": "validation...",
       "layout": "IPY_MODEL_cf798fa2df11476da43b3412ac71c48b",
       "max": 103,
       "style": "IPY_MODEL_c0ff11052b814a35a5729af934c69b1e",
       "value": 103
      }
     },
     "86d8a21215574d1d9cf65d979ea93d14": {
      "model_module": "@jupyter-widgets/controls",
      "model_module_version": "1.4.0",
      "model_name": "HTMLModel",
      "state": {
       "layout": "IPY_MODEL_1e80f08ad8b7441ebe60b44604cd8e90",
       "style": "IPY_MODEL_2ec114f434fe465094440f42296d7b2d",
       "value": "100% 103/103 [00:29&lt;00:00,  6.02it/s]"
      }
     },
     "86dd50cd7da8431d8ee42f52e578bcd6": {
      "model_module": "@jupyter-widgets/base",
      "model_module_version": "1.1.0",
      "model_name": "LayoutModel",
      "state": {}
     },
     "8708a5a1c22a4cb0a6b1d48db51430fc": {
      "model_module": "@jupyter-widgets/controls",
      "model_module_version": "1.4.0",
      "model_name": "IntProgressModel",
      "state": {
       "bar_style": "success",
       "description": "validation...",
       "layout": "IPY_MODEL_40357320c4ac4346a0ab0a507aed5b69",
       "max": 52,
       "style": "IPY_MODEL_8ec6ab84f9e149ebad182034662c4916",
       "value": 52
      }
     },
     "873da29cb76d4d8e9b5d5ee7d9fd1a92": {
      "model_module": "@jupyter-widgets/controls",
      "model_module_version": "1.4.0",
      "model_name": "ProgressStyleModel",
      "state": {
       "description_width": "initial"
      }
     },
     "874ff35138824aceb04c138797845b04": {
      "model_module": "@jupyter-widgets/controls",
      "model_module_version": "1.4.0",
      "model_name": "IntProgressModel",
      "state": {
       "bar_style": "success",
       "description": "validation...",
       "layout": "IPY_MODEL_243b2c84017e468699295e0fbede42d7",
       "max": 103,
       "style": "IPY_MODEL_313a9347d9534979a1d50e5b9eadbea0",
       "value": 103
      }
     },
     "876a2c22ef3c4a0aa360b19db39916be": {
      "model_module": "@jupyter-widgets/controls",
      "model_module_version": "1.4.0",
      "model_name": "ProgressStyleModel",
      "state": {
       "description_width": "initial"
      }
     },
     "87bece76ecdf41b9a97b84d85cbe89e4": {
      "model_module": "@jupyter-widgets/controls",
      "model_module_version": "1.4.0",
      "model_name": "DescriptionStyleModel",
      "state": {
       "description_width": ""
      }
     },
     "88304dc573694568bb04e28c888dbb78": {
      "model_module": "@jupyter-widgets/controls",
      "model_module_version": "1.4.0",
      "model_name": "DescriptionStyleModel",
      "state": {
       "description_width": ""
      }
     },
     "886a476801f14c938a5527abaa43b0af": {
      "model_module": "@jupyter-widgets/controls",
      "model_module_version": "1.4.0",
      "model_name": "HTMLModel",
      "state": {
       "layout": "IPY_MODEL_0b6c938e0a224303bc18a1c56a892b4b",
       "style": "IPY_MODEL_94ddf35febd141c18db4778cb71a98d0",
       "value": "100% 103/103 [00:30&lt;00:00,  5.66it/s]"
      }
     },
     "88b6d66cf18f4fd5917e20a0ec15353e": {
      "model_module": "@jupyter-widgets/controls",
      "model_module_version": "1.4.0",
      "model_name": "ProgressStyleModel",
      "state": {
       "description_width": "initial"
      }
     },
     "88f349190a694b06ab185f46205f31b6": {
      "model_module": "@jupyter-widgets/controls",
      "model_module_version": "1.4.0",
      "model_name": "HTMLModel",
      "state": {
       "layout": "IPY_MODEL_f9671807c2bf46c59eddf4bb99314df6",
       "style": "IPY_MODEL_71f9866b5a3d456a9f3fb2b473e1dcae",
       "value": "100% 103/103 [00:30&lt;00:00,  5.84it/s]"
      }
     },
     "88fa3ca7f6d84d67a7f7466d1e426360": {
      "model_module": "@jupyter-widgets/controls",
      "model_module_version": "1.4.0",
      "model_name": "HBoxModel",
      "state": {
       "children": [
        "IPY_MODEL_93c2f285c03b4934ae78f51f39488d27",
        "IPY_MODEL_4a7cdc275ffb4298ba401e1252d7188f"
       ],
       "layout": "IPY_MODEL_4f308b6857de482d9dd9516f26ddb29a"
      }
     },
     "89a1f17de5da49578969ff7f7cfe2e38": {
      "model_module": "@jupyter-widgets/controls",
      "model_module_version": "1.4.0",
      "model_name": "HTMLModel",
      "state": {
       "layout": "IPY_MODEL_df4717e828cc4f22a5dae739038c98b3",
       "style": "IPY_MODEL_83987eb5db7b49039593ce20cf5e7415",
       "value": "100% 103/103 [00:30&lt;00:00,  5.65it/s]"
      }
     },
     "89be464312be4f178e082fc07f0c1f70": {
      "model_module": "@jupyter-widgets/base",
      "model_module_version": "1.1.0",
      "model_name": "LayoutModel",
      "state": {}
     },
     "89fc9bdd155c48f0b3446d13857c04c8": {
      "model_module": "@jupyter-widgets/controls",
      "model_module_version": "1.4.0",
      "model_name": "ProgressStyleModel",
      "state": {
       "description_width": "initial"
      }
     },
     "8abf453a667f4bf69a57fbec12f3a099": {
      "model_module": "@jupyter-widgets/controls",
      "model_module_version": "1.4.0",
      "model_name": "DescriptionStyleModel",
      "state": {
       "description_width": ""
      }
     },
     "8af0002143d447ba9aa388d3e32e65bd": {
      "model_module": "@jupyter-widgets/base",
      "model_module_version": "1.1.0",
      "model_name": "LayoutModel",
      "state": {}
     },
     "8bbf34b5d0e34db4a4561f3d6e1058a1": {
      "model_module": "@jupyter-widgets/base",
      "model_module_version": "1.1.0",
      "model_name": "LayoutModel",
      "state": {}
     },
     "8bfbb68031a243f8a37017dc956ecc1c": {
      "model_module": "@jupyter-widgets/base",
      "model_module_version": "1.1.0",
      "model_name": "LayoutModel",
      "state": {}
     },
     "8c449d37f0b14e8794459c5c37675504": {
      "model_module": "@jupyter-widgets/base",
      "model_module_version": "1.1.0",
      "model_name": "LayoutModel",
      "state": {}
     },
     "8c506f0c9442446dbfad70528ddb3771": {
      "model_module": "@jupyter-widgets/base",
      "model_module_version": "1.1.0",
      "model_name": "LayoutModel",
      "state": {}
     },
     "8c76def8b71e452e88bff30230b748ab": {
      "model_module": "@jupyter-widgets/controls",
      "model_module_version": "1.4.0",
      "model_name": "HBoxModel",
      "state": {
       "children": [
        "IPY_MODEL_e233122e01dd44cc860d2d34ca89083c",
        "IPY_MODEL_376218d2616f4d3291e7b08115ca217e"
       ],
       "layout": "IPY_MODEL_72f6df82e8ca477ea708a652fd64f51d"
      }
     },
     "8c9de74e718f4794899cc76297ae1ede": {
      "model_module": "@jupyter-widgets/controls",
      "model_module_version": "1.4.0",
      "model_name": "IntProgressModel",
      "state": {
       "bar_style": "success",
       "layout": "IPY_MODEL_476e1c6adea746e48e459abb566c0780",
       "max": 78786,
       "style": "IPY_MODEL_b6230ea8335b4e13a1dc4ec9ed53d4f3",
       "value": 78786
      }
     },
     "8ce09a6f27ef43e2bc46b9bdd1ab25b3": {
      "model_module": "@jupyter-widgets/controls",
      "model_module_version": "1.4.0",
      "model_name": "HBoxModel",
      "state": {
       "children": [
        "IPY_MODEL_8708a5a1c22a4cb0a6b1d48db51430fc",
        "IPY_MODEL_678f71af9527439d80de2d900c305554"
       ],
       "layout": "IPY_MODEL_fd474e167c4942a3a873e8260557d010"
      }
     },
     "8cfb4fd255344e4dab4f83ae936b629c": {
      "model_module": "@jupyter-widgets/base",
      "model_module_version": "1.1.0",
      "model_name": "LayoutModel",
      "state": {}
     },
     "8d0c914c82b04fcc9d198ec70235752e": {
      "model_module": "@jupyter-widgets/base",
      "model_module_version": "1.1.0",
      "model_name": "LayoutModel",
      "state": {}
     },
     "8d988270d87c437983683a1670a9767b": {
      "model_module": "@jupyter-widgets/base",
      "model_module_version": "1.1.0",
      "model_name": "LayoutModel",
      "state": {}
     },
     "8dd90752419e4bc8926420da5b737a45": {
      "model_module": "@jupyter-widgets/controls",
      "model_module_version": "1.4.0",
      "model_name": "IntProgressModel",
      "state": {
       "bar_style": "success",
       "description": "training...",
       "layout": "IPY_MODEL_7a2709a8712346fe958d53aac584eafd",
       "max": 410,
       "style": "IPY_MODEL_a3f26071cf71469cb611f9006c0b5bce",
       "value": 410
      }
     },
     "8e841c4c659c443498f43101c7676fc4": {
      "model_module": "@jupyter-widgets/controls",
      "model_module_version": "1.4.0",
      "model_name": "HTMLModel",
      "state": {
       "layout": "IPY_MODEL_968200b87051466280dbbec8ebe2df87",
       "style": "IPY_MODEL_3d56956ce75f43b89e502df65fbdacbf",
       "value": "100% 103/103 [00:30&lt;00:00,  5.90it/s]"
      }
     },
     "8e8bbc478fac42b2a9f0eaf69a854001": {
      "model_module": "@jupyter-widgets/controls",
      "model_module_version": "1.4.0",
      "model_name": "DescriptionStyleModel",
      "state": {
       "description_width": ""
      }
     },
     "8ec6ab84f9e149ebad182034662c4916": {
      "model_module": "@jupyter-widgets/controls",
      "model_module_version": "1.4.0",
      "model_name": "ProgressStyleModel",
      "state": {
       "description_width": "initial"
      }
     },
     "8f54df6a38a34f17ab9a38891981fbb8": {
      "model_module": "@jupyter-widgets/controls",
      "model_module_version": "1.4.0",
      "model_name": "DescriptionStyleModel",
      "state": {
       "description_width": ""
      }
     },
     "8ffc22313f7d47ab93825d85ffe631d3": {
      "model_module": "@jupyter-widgets/controls",
      "model_module_version": "1.4.0",
      "model_name": "HTMLModel",
      "state": {
       "layout": "IPY_MODEL_51bc22acb5ec4614af7a16b3d6d1464f",
       "style": "IPY_MODEL_2a1370ed520c4087b4bcc73228660ff8",
       "value": "100% 410/410 [04:09&lt;00:00,  1.69it/s]"
      }
     },
     "900f453703d8463c941a9dd23b8f7ee4": {
      "model_module": "@jupyter-widgets/controls",
      "model_module_version": "1.4.0",
      "model_name": "ProgressStyleModel",
      "state": {
       "description_width": "initial"
      }
     },
     "902e1aea6a6944ee9cb4b7a481b8c5f6": {
      "model_module": "@jupyter-widgets/base",
      "model_module_version": "1.1.0",
      "model_name": "LayoutModel",
      "state": {}
     },
     "9056ebf1586649d99e8d6185da8bf2d1": {
      "model_module": "@jupyter-widgets/base",
      "model_module_version": "1.1.0",
      "model_name": "LayoutModel",
      "state": {}
     },
     "9073efe0da164210be89c88bcfdb30d9": {
      "model_module": "@jupyter-widgets/controls",
      "model_module_version": "1.4.0",
      "model_name": "IntProgressModel",
      "state": {
       "bar_style": "success",
       "description": "validation...",
       "layout": "IPY_MODEL_45ab187914424a86bbd14812488caa30",
       "max": 103,
       "style": "IPY_MODEL_dc124cf06d2f4357b800d0f66f9f092a",
       "value": 103
      }
     },
     "90844e1ecdbb46a6be0601325eca2033": {
      "model_module": "@jupyter-widgets/controls",
      "model_module_version": "1.4.0",
      "model_name": "HBoxModel",
      "state": {
       "children": [
        "IPY_MODEL_b7454e224548498095da860b24bb917a",
        "IPY_MODEL_745388259a93438cb3c198f6bc70c778"
       ],
       "layout": "IPY_MODEL_7a22af3775914ca4b5ec9e1638cd4866"
      }
     },
     "90a63dfcbbf24850889c44a338803a02": {
      "model_module": "@jupyter-widgets/controls",
      "model_module_version": "1.4.0",
      "model_name": "HTMLModel",
      "state": {
       "layout": "IPY_MODEL_5aee4b518ea6450eb67b1d429ff92381",
       "style": "IPY_MODEL_bb9c2cd5ff1342dd9a78aece7cfd3d75",
       "value": "100% 103/103 [00:30&lt;00:00,  5.80it/s]"
      }
     },
     "90f869af83c241c5972e12151f2c35d7": {
      "model_module": "@jupyter-widgets/controls",
      "model_module_version": "1.4.0",
      "model_name": "DescriptionStyleModel",
      "state": {
       "description_width": ""
      }
     },
     "9169ad3ee188419f90ec49d1203da76b": {
      "model_module": "@jupyter-widgets/controls",
      "model_module_version": "1.4.0",
      "model_name": "HTMLModel",
      "state": {
       "layout": "IPY_MODEL_ca66fdad4a4845889391149d452c6b51",
       "style": "IPY_MODEL_764e7df5fe0e49ca9a604fb9c1368dbf",
       "value": "100% 410/410 [04:11&lt;00:00,  1.74it/s]"
      }
     },
     "91a4a41dc09b4d6fb382ff33e4a9ea32": {
      "model_module": "@jupyter-widgets/controls",
      "model_module_version": "1.4.0",
      "model_name": "IntProgressModel",
      "state": {
       "bar_style": "success",
       "description": "validation...",
       "layout": "IPY_MODEL_38618ade92a94b0d951fbda072f794aa",
       "max": 103,
       "style": "IPY_MODEL_5c56eceba0b244e7aca1f862e1ef5658",
       "value": 103
      }
     },
     "92038823fa954ee385ac893069600fcd": {
      "model_module": "@jupyter-widgets/base",
      "model_module_version": "1.1.0",
      "model_name": "LayoutModel",
      "state": {}
     },
     "922c466ed53f46498f5e77379023be67": {
      "model_module": "@jupyter-widgets/controls",
      "model_module_version": "1.4.0",
      "model_name": "IntProgressModel",
      "state": {
       "bar_style": "success",
       "layout": "IPY_MODEL_687e7fb1db054c6880eb40bea3c460b2",
       "max": 78786,
       "style": "IPY_MODEL_6cb8079448f943fb80c2575e600c3286",
       "value": 78786
      }
     },
     "9232900b50534abebc875d1f7097ffa0": {
      "model_module": "@jupyter-widgets/controls",
      "model_module_version": "1.4.0",
      "model_name": "ProgressStyleModel",
      "state": {
       "description_width": "initial"
      }
     },
     "9236a8a56a674717a0bf82797107eb3a": {
      "model_module": "@jupyter-widgets/base",
      "model_module_version": "1.1.0",
      "model_name": "LayoutModel",
      "state": {}
     },
     "9258adab37eb46ddabf7a2a7de5a6e3d": {
      "model_module": "@jupyter-widgets/controls",
      "model_module_version": "1.4.0",
      "model_name": "ProgressStyleModel",
      "state": {
       "description_width": "initial"
      }
     },
     "92613a29d4664339a06207f651f2c32e": {
      "model_module": "@jupyter-widgets/controls",
      "model_module_version": "1.4.0",
      "model_name": "ProgressStyleModel",
      "state": {
       "description_width": "initial"
      }
     },
     "927e0a8c999742caaf2ef69e3c6f97cd": {
      "model_module": "@jupyter-widgets/controls",
      "model_module_version": "1.4.0",
      "model_name": "DescriptionStyleModel",
      "state": {
       "description_width": ""
      }
     },
     "92c8f914744d4432a5830c0ba22b67ab": {
      "model_module": "@jupyter-widgets/controls",
      "model_module_version": "1.4.0",
      "model_name": "IntProgressModel",
      "state": {
       "bar_style": "success",
       "description": "training...",
       "layout": "IPY_MODEL_f3f75abbb3674147b42bc65277f1c4f9",
       "max": 410,
       "style": "IPY_MODEL_cef363ea90454f168ff8524c910c8fbf",
       "value": 410
      }
     },
     "92ff1a3bfa7e428faafa5a4d1ff933e9": {
      "model_module": "@jupyter-widgets/controls",
      "model_module_version": "1.4.0",
      "model_name": "HTMLModel",
      "state": {
       "layout": "IPY_MODEL_a7e23192d3bb4b5a8e273e899a6dc233",
       "style": "IPY_MODEL_261af9873387451ba92d522dd2ac2854",
       "value": "100% 410/410 [04:11&lt;00:00,  1.70it/s]"
      }
     },
     "93450a93c0bb459e951dec261f71fa0d": {
      "model_module": "@jupyter-widgets/controls",
      "model_module_version": "1.4.0",
      "model_name": "ProgressStyleModel",
      "state": {
       "description_width": "initial"
      }
     },
     "935c116d0cab49c693f7a1cfad30eeac": {
      "model_module": "@jupyter-widgets/base",
      "model_module_version": "1.1.0",
      "model_name": "LayoutModel",
      "state": {}
     },
     "938085118417429bb452bb0213931b23": {
      "model_module": "@jupyter-widgets/controls",
      "model_module_version": "1.4.0",
      "model_name": "ProgressStyleModel",
      "state": {
       "description_width": "initial"
      }
     },
     "93c2f285c03b4934ae78f51f39488d27": {
      "model_module": "@jupyter-widgets/controls",
      "model_module_version": "1.4.0",
      "model_name": "IntProgressModel",
      "state": {
       "bar_style": "success",
       "description": "training...",
       "layout": "IPY_MODEL_4736f2b4612e4ffda8dd8dbe3ad2ee68",
       "max": 410,
       "style": "IPY_MODEL_6ffd928e11424738a78bdcdc39e5d710",
       "value": 410
      }
     },
     "93e55fb945eb4e2d86dabc338c47381b": {
      "model_module": "@jupyter-widgets/base",
      "model_module_version": "1.1.0",
      "model_name": "LayoutModel",
      "state": {}
     },
     "93f1b7509ae7442aa5f20701ec8f2b57": {
      "model_module": "@jupyter-widgets/controls",
      "model_module_version": "1.4.0",
      "model_name": "HTMLModel",
      "state": {
       "layout": "IPY_MODEL_9bf4ed8b0c6241379127b15987356caf",
       "style": "IPY_MODEL_5ddf0a80a5434e6eb6fd53255c41bea2",
       "value": "100% 410/410 [04:11&lt;00:00,  1.66it/s]"
      }
     },
     "9440e47449d4456096510596e298889d": {
      "model_module": "@jupyter-widgets/controls",
      "model_module_version": "1.4.0",
      "model_name": "DescriptionStyleModel",
      "state": {
       "description_width": ""
      }
     },
     "945fdaa7b4324fcaa0bd54acd12c98ba": {
      "model_module": "@jupyter-widgets/controls",
      "model_module_version": "1.4.0",
      "model_name": "HTMLModel",
      "state": {
       "layout": "IPY_MODEL_a42c44302bb94f339469f45a10b26c32",
       "style": "IPY_MODEL_f992320433564a5e90d8f8877c345632",
       "value": "100% 103/103 [00:29&lt;00:00,  5.90it/s]"
      }
     },
     "94936bd8155a4315a03837720c266e25": {
      "model_module": "@jupyter-widgets/base",
      "model_module_version": "1.1.0",
      "model_name": "LayoutModel",
      "state": {}
     },
     "94a6aa6c6a97476cba1031d1900de8ed": {
      "model_module": "@jupyter-widgets/controls",
      "model_module_version": "1.4.0",
      "model_name": "IntProgressModel",
      "state": {
       "bar_style": "success",
       "description": "validation...",
       "layout": "IPY_MODEL_08237b764075459a9aef4a460bffef39",
       "max": 103,
       "style": "IPY_MODEL_a7ed79e40527456eafca947791b62c97",
       "value": 103
      }
     },
     "94ddf35febd141c18db4778cb71a98d0": {
      "model_module": "@jupyter-widgets/controls",
      "model_module_version": "1.4.0",
      "model_name": "DescriptionStyleModel",
      "state": {
       "description_width": ""
      }
     },
     "9563837c7b6144edbfdba99ee617f948": {
      "model_module": "@jupyter-widgets/controls",
      "model_module_version": "1.4.0",
      "model_name": "HTMLModel",
      "state": {
       "layout": "IPY_MODEL_fe49f6ec12ac4ef691dbe84976bed48c",
       "style": "IPY_MODEL_e619e79bd3084480880787c80704c1bb",
       "value": "100% 410/410 [04:10&lt;00:00,  1.68it/s]"
      }
     },
     "9591c881cebb4ef6b72aee59de705cbb": {
      "model_module": "@jupyter-widgets/controls",
      "model_module_version": "1.4.0",
      "model_name": "HTMLModel",
      "state": {
       "layout": "IPY_MODEL_d43cda61bc084cac852b4e9656814dcc",
       "style": "IPY_MODEL_a5019ab52ca74e39a5d99f54759ef298",
       "value": "100% 410/410 [04:09&lt;00:00,  1.75it/s]"
      }
     },
     "95c70af15e7741668d22929f0b3955aa": {
      "model_module": "@jupyter-widgets/base",
      "model_module_version": "1.1.0",
      "model_name": "LayoutModel",
      "state": {}
     },
     "95d468ce969d4d948baf69104a7544f3": {
      "model_module": "@jupyter-widgets/controls",
      "model_module_version": "1.4.0",
      "model_name": "DescriptionStyleModel",
      "state": {
       "description_width": ""
      }
     },
     "95dfd6fc465746418b894d401ce637b5": {
      "model_module": "@jupyter-widgets/controls",
      "model_module_version": "1.4.0",
      "model_name": "HBoxModel",
      "state": {
       "children": [
        "IPY_MODEL_bf2bdac425b04390ade17a124d472f7e",
        "IPY_MODEL_7a6c8c4ee15e41519a07b7f32643e075"
       ],
       "layout": "IPY_MODEL_d95e8bd2668d48cca089deb25c05ebcf"
      }
     },
     "96320eca0f474f61b5f60c602a086fdf": {
      "model_module": "@jupyter-widgets/controls",
      "model_module_version": "1.4.0",
      "model_name": "DescriptionStyleModel",
      "state": {
       "description_width": ""
      }
     },
     "9681f6f52e35435ea6c1e5d395f98e1e": {
      "model_module": "@jupyter-widgets/base",
      "model_module_version": "1.1.0",
      "model_name": "LayoutModel",
      "state": {}
     },
     "968200b87051466280dbbec8ebe2df87": {
      "model_module": "@jupyter-widgets/base",
      "model_module_version": "1.1.0",
      "model_name": "LayoutModel",
      "state": {}
     },
     "96c892deb3b84b698b6e072fea10626c": {
      "model_module": "@jupyter-widgets/controls",
      "model_module_version": "1.4.0",
      "model_name": "DescriptionStyleModel",
      "state": {
       "description_width": ""
      }
     },
     "97d0d938cd794f72b01b63c7f902aa3e": {
      "model_module": "@jupyter-widgets/controls",
      "model_module_version": "1.4.0",
      "model_name": "DescriptionStyleModel",
      "state": {
       "description_width": ""
      }
     },
     "98097caa01274cbfb49a04fe42355e70": {
      "model_module": "@jupyter-widgets/controls",
      "model_module_version": "1.4.0",
      "model_name": "IntProgressModel",
      "state": {
       "bar_style": "success",
       "description": "validation...",
       "layout": "IPY_MODEL_a0264eb7a9a54422a78a5fea793114e2",
       "max": 103,
       "style": "IPY_MODEL_372c6e07154c4cd2ac5d5070f55a6e12",
       "value": 103
      }
     },
     "98175abe62c8462e815b9c8e06f623c3": {
      "model_module": "@jupyter-widgets/controls",
      "model_module_version": "1.4.0",
      "model_name": "HBoxModel",
      "state": {
       "children": [
        "IPY_MODEL_0e034fff647343c481ec8ebc3f251ef3",
        "IPY_MODEL_3266dfe05c254e848bb40801fefde9c1"
       ],
       "layout": "IPY_MODEL_e52c2cf2a74a4585a88fb61336d1a186"
      }
     },
     "98284fa53dd2458bb20150f566405266": {
      "model_module": "@jupyter-widgets/controls",
      "model_module_version": "1.4.0",
      "model_name": "HBoxModel",
      "state": {
       "children": [
        "IPY_MODEL_99522f4141bd47fd93dfc67b3b7aa874",
        "IPY_MODEL_ffb02d36a01b412a964e1c068582c2a7"
       ],
       "layout": "IPY_MODEL_a16cedfd08cb4bacb92c8b4914f0bdb2"
      }
     },
     "98285cf457434cedba64ec47891705c2": {
      "model_module": "@jupyter-widgets/controls",
      "model_module_version": "1.4.0",
      "model_name": "HTMLModel",
      "state": {
       "layout": "IPY_MODEL_0caa7d0be8054943ac0112ca3c1cea52",
       "style": "IPY_MODEL_1aeb9f088aba4edaa96a16caa99103b7",
       "value": "100% 103/103 [00:30&lt;00:00,  5.94it/s]"
      }
     },
     "982982977fba45cc828b0e3267b8b870": {
      "model_module": "@jupyter-widgets/base",
      "model_module_version": "1.1.0",
      "model_name": "LayoutModel",
      "state": {}
     },
     "9839a9cb5d234436b2dede030b891835": {
      "model_module": "@jupyter-widgets/controls",
      "model_module_version": "1.4.0",
      "model_name": "IntProgressModel",
      "state": {
       "bar_style": "success",
       "description": "validation...",
       "layout": "IPY_MODEL_f09733f3b3054b50975c8fdeb9d50a28",
       "max": 103,
       "style": "IPY_MODEL_746621bdf1c44a149840cdc873e8be60",
       "value": 103
      }
     },
     "986176929a9d41438d5cf27772241d23": {
      "model_module": "@jupyter-widgets/controls",
      "model_module_version": "1.4.0",
      "model_name": "ProgressStyleModel",
      "state": {
       "description_width": "initial"
      }
     },
     "989d9e37f855437aa2c233c393382b59": {
      "model_module": "@jupyter-widgets/controls",
      "model_module_version": "1.4.0",
      "model_name": "HBoxModel",
      "state": {
       "children": [
        "IPY_MODEL_839891a6815249d3a4138db8a27e1471",
        "IPY_MODEL_6becd78a839c405e8f1fef61dd5c84ff"
       ],
       "layout": "IPY_MODEL_853f4d2ab6944477878e52edfb061f80"
      }
     },
     "98af54c10f194862882d03806570082c": {
      "model_module": "@jupyter-widgets/base",
      "model_module_version": "1.1.0",
      "model_name": "LayoutModel",
      "state": {}
     },
     "98da5cd588664892a878e0d00cc87400": {
      "model_module": "@jupyter-widgets/controls",
      "model_module_version": "1.4.0",
      "model_name": "IntProgressModel",
      "state": {
       "bar_style": "success",
       "description": "training...",
       "layout": "IPY_MODEL_0eebfd0fe48d47de9376dedd53818d76",
       "max": 410,
       "style": "IPY_MODEL_295cd702f3684f4faf29e12e8775294d",
       "value": 410
      }
     },
     "991d163d016d48fe90b2841c62acb755": {
      "model_module": "@jupyter-widgets/base",
      "model_module_version": "1.1.0",
      "model_name": "LayoutModel",
      "state": {}
     },
     "99522f4141bd47fd93dfc67b3b7aa874": {
      "model_module": "@jupyter-widgets/controls",
      "model_module_version": "1.4.0",
      "model_name": "IntProgressModel",
      "state": {
       "bar_style": "success",
       "description": "training...",
       "layout": "IPY_MODEL_bfaff34859604e03baf68c6f09e08e3a",
       "max": 410,
       "style": "IPY_MODEL_873da29cb76d4d8e9b5d5ee7d9fd1a92",
       "value": 410
      }
     },
     "998cf4c45939473e8f890437b1cdde25": {
      "model_module": "@jupyter-widgets/base",
      "model_module_version": "1.1.0",
      "model_name": "LayoutModel",
      "state": {}
     },
     "99f4f0853488406ea76e404ed11021c0": {
      "model_module": "@jupyter-widgets/base",
      "model_module_version": "1.1.0",
      "model_name": "LayoutModel",
      "state": {}
     },
     "99fa0455f4c0433b8ac207a63044ed4c": {
      "model_module": "@jupyter-widgets/controls",
      "model_module_version": "1.4.0",
      "model_name": "IntProgressModel",
      "state": {
       "bar_style": "success",
       "description": "training...",
       "layout": "IPY_MODEL_b2e289eae14048eb9a1cb2f113fcf9a5",
       "max": 410,
       "style": "IPY_MODEL_55ed3cc26ed64a2b83bb84eaa9a03a08",
       "value": 410
      }
     },
     "9a146a1dd337447bb8aeb695050b32c9": {
      "model_module": "@jupyter-widgets/base",
      "model_module_version": "1.1.0",
      "model_name": "LayoutModel",
      "state": {}
     },
     "9a93ec4defbc4f6bb8e502595cb034bf": {
      "model_module": "@jupyter-widgets/controls",
      "model_module_version": "1.4.0",
      "model_name": "HTMLModel",
      "state": {
       "layout": "IPY_MODEL_8af0002143d447ba9aa388d3e32e65bd",
       "style": "IPY_MODEL_ed94d60e8b404937ae4ff7f73094f5ec",
       "value": "100% 410/410 [04:11&lt;00:00,  1.70it/s]"
      }
     },
     "9aa7ba8f1753470a9be8c8a80a282cc6": {
      "model_module": "@jupyter-widgets/base",
      "model_module_version": "1.1.0",
      "model_name": "LayoutModel",
      "state": {}
     },
     "9acc4cd594fe470d87160d073f6ab1bd": {
      "model_module": "@jupyter-widgets/base",
      "model_module_version": "1.1.0",
      "model_name": "LayoutModel",
      "state": {}
     },
     "9accaed17fe34989850942f4e8a3481b": {
      "model_module": "@jupyter-widgets/controls",
      "model_module_version": "1.4.0",
      "model_name": "HBoxModel",
      "state": {
       "children": [
        "IPY_MODEL_35ae1697810945ad8886df38de495ecf",
        "IPY_MODEL_dc3e4c50b4e34eeea69a0e13a1c8460c"
       ],
       "layout": "IPY_MODEL_fccc95dedc5043bea2ef4cb5b138418c"
      }
     },
     "9ae70d8faa42407a9852b393ec4598d7": {
      "model_module": "@jupyter-widgets/controls",
      "model_module_version": "1.4.0",
      "model_name": "ProgressStyleModel",
      "state": {
       "description_width": "initial"
      }
     },
     "9b1b15811339489195ab1641ad4d161d": {
      "model_module": "@jupyter-widgets/controls",
      "model_module_version": "1.4.0",
      "model_name": "DescriptionStyleModel",
      "state": {
       "description_width": ""
      }
     },
     "9b94b0b2c629434590ef86d579251ce8": {
      "model_module": "@jupyter-widgets/controls",
      "model_module_version": "1.4.0",
      "model_name": "ProgressStyleModel",
      "state": {
       "description_width": "initial"
      }
     },
     "9b9828c78d664cd2a279165078fb8187": {
      "model_module": "@jupyter-widgets/base",
      "model_module_version": "1.1.0",
      "model_name": "LayoutModel",
      "state": {}
     },
     "9bea8f7c243646ff9850fe7b0efe9f1c": {
      "model_module": "@jupyter-widgets/base",
      "model_module_version": "1.1.0",
      "model_name": "LayoutModel",
      "state": {}
     },
     "9bf0069e98384cedbaa5b0a6e01d90ce": {
      "model_module": "@jupyter-widgets/controls",
      "model_module_version": "1.4.0",
      "model_name": "HBoxModel",
      "state": {
       "children": [
        "IPY_MODEL_1c8cb076b9af465e87cbe28924502afd",
        "IPY_MODEL_ea54cbf81b774b92a6081c81ed98ebac"
       ],
       "layout": "IPY_MODEL_3e81030c94504b2482c6c12752d16094"
      }
     },
     "9bf4ed8b0c6241379127b15987356caf": {
      "model_module": "@jupyter-widgets/base",
      "model_module_version": "1.1.0",
      "model_name": "LayoutModel",
      "state": {}
     },
     "9bfd0d7f427942ddbcf395a2775517d1": {
      "model_module": "@jupyter-widgets/controls",
      "model_module_version": "1.4.0",
      "model_name": "IntProgressModel",
      "state": {
       "bar_style": "success",
       "description": "validation...",
       "layout": "IPY_MODEL_be626f5374b04abaa40571fc6d52dc00",
       "max": 52,
       "style": "IPY_MODEL_0d8916ed3a4c4063a5c81787ab376807",
       "value": 52
      }
     },
     "9c13e4b8c1074c128446c6dd75c6b337": {
      "model_module": "@jupyter-widgets/base",
      "model_module_version": "1.1.0",
      "model_name": "LayoutModel",
      "state": {}
     },
     "9c217becb181477cb9b9567a2d14873e": {
      "model_module": "@jupyter-widgets/base",
      "model_module_version": "1.1.0",
      "model_name": "LayoutModel",
      "state": {}
     },
     "9d312c5530414255aae6734ebc545928": {
      "model_module": "@jupyter-widgets/base",
      "model_module_version": "1.1.0",
      "model_name": "LayoutModel",
      "state": {}
     },
     "9da32acca5ac4ae694b461b6863fa38c": {
      "model_module": "@jupyter-widgets/controls",
      "model_module_version": "1.4.0",
      "model_name": "HBoxModel",
      "state": {
       "children": [
        "IPY_MODEL_2e2f87984efa42edaaa30567f2662567",
        "IPY_MODEL_f295bdb1c7884edfbe1ec1b471570119"
       ],
       "layout": "IPY_MODEL_2be231f28c074ad79a111e8bfecb0a89"
      }
     },
     "9e79873789a54f96a16745ffe4503f04": {
      "model_module": "@jupyter-widgets/controls",
      "model_module_version": "1.4.0",
      "model_name": "HBoxModel",
      "state": {
       "children": [
        "IPY_MODEL_a0b0c75ba86542a6b0180bccc6ce7c87",
        "IPY_MODEL_1499262387584638bcd4e7fa0c835733"
       ],
       "layout": "IPY_MODEL_cb3a20ed978944b6ba1946f34981036f"
      }
     },
     "9ebea97eef3d42efb6551c20664a28ee": {
      "model_module": "@jupyter-widgets/controls",
      "model_module_version": "1.4.0",
      "model_name": "IntProgressModel",
      "state": {
       "bar_style": "success",
       "description": "training...",
       "layout": "IPY_MODEL_0f503282ac8c44daacfed3593dd859ec",
       "max": 410,
       "style": "IPY_MODEL_eb6e0cc54a754c02b979be1f243eff83",
       "value": 410
      }
     },
     "9ef741b090fe45a386f286ed6a078082": {
      "model_module": "@jupyter-widgets/controls",
      "model_module_version": "1.4.0",
      "model_name": "DescriptionStyleModel",
      "state": {
       "description_width": ""
      }
     },
     "9f13a202d3684bb9bf1a50929786729e": {
      "model_module": "@jupyter-widgets/controls",
      "model_module_version": "1.4.0",
      "model_name": "IntProgressModel",
      "state": {
       "bar_style": "success",
       "description": "validation...",
       "layout": "IPY_MODEL_a30b22b235dd454c97185de476808c22",
       "max": 52,
       "style": "IPY_MODEL_4d7ea38c86d14e8f9bf192ce8e78a50b",
       "value": 52
      }
     },
     "9f7406a73277488c92ac19f2af5dcf42": {
      "model_module": "@jupyter-widgets/base",
      "model_module_version": "1.1.0",
      "model_name": "LayoutModel",
      "state": {}
     },
     "9f769b1fb2ef483682d253001fb7d676": {
      "model_module": "@jupyter-widgets/base",
      "model_module_version": "1.1.0",
      "model_name": "LayoutModel",
      "state": {}
     },
     "9f8b4667067a4067862392c93fdbd027": {
      "model_module": "@jupyter-widgets/controls",
      "model_module_version": "1.4.0",
      "model_name": "DescriptionStyleModel",
      "state": {
       "description_width": ""
      }
     },
     "9ff9bc5330e04ccf95fe96714878f415": {
      "model_module": "@jupyter-widgets/base",
      "model_module_version": "1.1.0",
      "model_name": "LayoutModel",
      "state": {}
     },
     "a0264eb7a9a54422a78a5fea793114e2": {
      "model_module": "@jupyter-widgets/base",
      "model_module_version": "1.1.0",
      "model_name": "LayoutModel",
      "state": {}
     },
     "a0768daf3eba47a48d7428d910a199c0": {
      "model_module": "@jupyter-widgets/controls",
      "model_module_version": "1.4.0",
      "model_name": "ProgressStyleModel",
      "state": {
       "description_width": "initial"
      }
     },
     "a08f6fb8f3814cd39f94228b9181e2be": {
      "model_module": "@jupyter-widgets/base",
      "model_module_version": "1.1.0",
      "model_name": "LayoutModel",
      "state": {}
     },
     "a0b0c75ba86542a6b0180bccc6ce7c87": {
      "model_module": "@jupyter-widgets/controls",
      "model_module_version": "1.4.0",
      "model_name": "IntProgressModel",
      "state": {
       "bar_style": "success",
       "description": "training...",
       "layout": "IPY_MODEL_9f7406a73277488c92ac19f2af5dcf42",
       "max": 410,
       "style": "IPY_MODEL_ad73b3ba232547548a9f94d2bab2f80c",
       "value": 410
      }
     },
     "a16cedfd08cb4bacb92c8b4914f0bdb2": {
      "model_module": "@jupyter-widgets/base",
      "model_module_version": "1.1.0",
      "model_name": "LayoutModel",
      "state": {}
     },
     "a1bb1571ed4a471d9f91ee0b7efb7944": {
      "model_module": "@jupyter-widgets/controls",
      "model_module_version": "1.4.0",
      "model_name": "IntProgressModel",
      "state": {
       "bar_style": "success",
       "description": "training...",
       "layout": "IPY_MODEL_7db8c0d153194930b899f31ae36cd724",
       "max": 205,
       "style": "IPY_MODEL_88b6d66cf18f4fd5917e20a0ec15353e",
       "value": 205
      }
     },
     "a1bc938dd0ce473bb8e4ba37864e1005": {
      "model_module": "@jupyter-widgets/base",
      "model_module_version": "1.1.0",
      "model_name": "LayoutModel",
      "state": {}
     },
     "a1e95a2b732e41a7ad450b2b3bd17908": {
      "model_module": "@jupyter-widgets/controls",
      "model_module_version": "1.4.0",
      "model_name": "IntProgressModel",
      "state": {
       "bar_style": "success",
       "description": "training...",
       "layout": "IPY_MODEL_0723071324e24aaa833fa310d04aee64",
       "max": 410,
       "style": "IPY_MODEL_a0768daf3eba47a48d7428d910a199c0",
       "value": 410
      }
     },
     "a242e84b72fe49c78fe6c46e403059a1": {
      "model_module": "@jupyter-widgets/base",
      "model_module_version": "1.1.0",
      "model_name": "LayoutModel",
      "state": {}
     },
     "a290cf1ffbe0496ca2d54a06c68f3dcf": {
      "model_module": "@jupyter-widgets/base",
      "model_module_version": "1.1.0",
      "model_name": "LayoutModel",
      "state": {}
     },
     "a2b35265dbf44a1eb67a2776c6679cec": {
      "model_module": "@jupyter-widgets/controls",
      "model_module_version": "1.4.0",
      "model_name": "HBoxModel",
      "state": {
       "children": [
        "IPY_MODEL_38bfea4e6095480e844376e5ee17d5cb",
        "IPY_MODEL_843e8e8e34794c1ab82560c0f01ddd8c"
       ],
       "layout": "IPY_MODEL_c10d5be924824302818f1f4b01157679"
      }
     },
     "a2d24fed901040fcbb604f194a2fd402": {
      "model_module": "@jupyter-widgets/controls",
      "model_module_version": "1.4.0",
      "model_name": "HTMLModel",
      "state": {
       "layout": "IPY_MODEL_001ff174fff34244bf6270e94230a0c7",
       "style": "IPY_MODEL_3ac66202f55b4423ab6bd0c39085d97f",
       "value": "100% 410/410 [04:11&lt;00:00,  1.70it/s]"
      }
     },
     "a2fa795a2f82417eb473c9a743db1adf": {
      "model_module": "@jupyter-widgets/controls",
      "model_module_version": "1.4.0",
      "model_name": "IntProgressModel",
      "state": {
       "bar_style": "success",
       "layout": "IPY_MODEL_1f1fc517d5ba4d07b642c223384ae2b7",
       "max": 99819,
       "style": "IPY_MODEL_e5f2ee4a941f4d14b42c714d10c88ca9",
       "value": 99819
      }
     },
     "a30ac5aef2774847994c9d42afde0f78": {
      "model_module": "@jupyter-widgets/controls",
      "model_module_version": "1.4.0",
      "model_name": "HBoxModel",
      "state": {
       "children": [
        "IPY_MODEL_1ff3c54d39a74a5c8d40fdd424cc2f3d",
        "IPY_MODEL_ed8a360f1f284e31a392a3a91f2a38f6"
       ],
       "layout": "IPY_MODEL_74b520fe9d4043b78e039e8f10168658"
      }
     },
     "a30b22b235dd454c97185de476808c22": {
      "model_module": "@jupyter-widgets/base",
      "model_module_version": "1.1.0",
      "model_name": "LayoutModel",
      "state": {}
     },
     "a350d5e80fd2402989cf97715231b944": {
      "model_module": "@jupyter-widgets/controls",
      "model_module_version": "1.4.0",
      "model_name": "IntProgressModel",
      "state": {
       "bar_style": "success",
       "description": "validation...",
       "layout": "IPY_MODEL_a76fa1aa638d4d83b1ead59b13687c24",
       "max": 77,
       "style": "IPY_MODEL_5d58210a63db4841ad24c6951d3c72a4",
       "value": 77
      }
     },
     "a373bee17560456bb087b30e671bcef2": {
      "model_module": "@jupyter-widgets/base",
      "model_module_version": "1.1.0",
      "model_name": "LayoutModel",
      "state": {}
     },
     "a3e4c3480c774557be404051dc2e4ed0": {
      "model_module": "@jupyter-widgets/controls",
      "model_module_version": "1.4.0",
      "model_name": "DescriptionStyleModel",
      "state": {
       "description_width": ""
      }
     },
     "a3eefc04dc294fd983f375a0432c130b": {
      "model_module": "@jupyter-widgets/controls",
      "model_module_version": "1.4.0",
      "model_name": "HBoxModel",
      "state": {
       "children": [
        "IPY_MODEL_dd7a859777e247b3a9dd840a1e20a0ab",
        "IPY_MODEL_5aad690a26ae46e8adfa08593cc6885d"
       ],
       "layout": "IPY_MODEL_a651209c93d144d19517067126d1bdf6"
      }
     },
     "a3f26071cf71469cb611f9006c0b5bce": {
      "model_module": "@jupyter-widgets/controls",
      "model_module_version": "1.4.0",
      "model_name": "ProgressStyleModel",
      "state": {
       "description_width": "initial"
      }
     },
     "a42583dfde2d4c75b5137227e0b048c7": {
      "model_module": "@jupyter-widgets/controls",
      "model_module_version": "1.4.0",
      "model_name": "HTMLModel",
      "state": {
       "layout": "IPY_MODEL_d5e156b050d447a78eb352d48baab905",
       "style": "IPY_MODEL_de34f7659d904582bfbe5a3e5be9f5cd",
       "value": "100% 410/410 [04:11&lt;00:00,  1.69it/s]"
      }
     },
     "a42c44302bb94f339469f45a10b26c32": {
      "model_module": "@jupyter-widgets/base",
      "model_module_version": "1.1.0",
      "model_name": "LayoutModel",
      "state": {}
     },
     "a4816cff675e47f1be181801b5d90d55": {
      "model_module": "@jupyter-widgets/controls",
      "model_module_version": "1.4.0",
      "model_name": "ProgressStyleModel",
      "state": {
       "description_width": "initial"
      }
     },
     "a5019ab52ca74e39a5d99f54759ef298": {
      "model_module": "@jupyter-widgets/controls",
      "model_module_version": "1.4.0",
      "model_name": "DescriptionStyleModel",
      "state": {
       "description_width": ""
      }
     },
     "a531b24f162c4538a76cd1dae2acc04b": {
      "model_module": "@jupyter-widgets/controls",
      "model_module_version": "1.4.0",
      "model_name": "IntProgressModel",
      "state": {
       "bar_style": "success",
       "description": "training...",
       "layout": "IPY_MODEL_c4a1ed4d7ec5456bb9d74c121a03c968",
       "max": 410,
       "style": "IPY_MODEL_6b0db6c3cd0543388b0bd2e0a0d779e5",
       "value": 410
      }
     },
     "a53bed2018b04d7f9b78adde7a2e309e": {
      "model_module": "@jupyter-widgets/controls",
      "model_module_version": "1.4.0",
      "model_name": "HBoxModel",
      "state": {
       "children": [
        "IPY_MODEL_a2fa795a2f82417eb473c9a743db1adf",
        "IPY_MODEL_1d87856eb88a437b9b1a8a1e96f597c8"
       ],
       "layout": "IPY_MODEL_da036f8215534f3994dbfa1b349b1ab6"
      }
     },
     "a5a889ce0dee4c4eab5c85fb8c41aa58": {
      "model_module": "@jupyter-widgets/base",
      "model_module_version": "1.1.0",
      "model_name": "LayoutModel",
      "state": {}
     },
     "a60dd3838c464d8db25e257ab56fb9a7": {
      "model_module": "@jupyter-widgets/base",
      "model_module_version": "1.1.0",
      "model_name": "LayoutModel",
      "state": {}
     },
     "a651209c93d144d19517067126d1bdf6": {
      "model_module": "@jupyter-widgets/base",
      "model_module_version": "1.1.0",
      "model_name": "LayoutModel",
      "state": {}
     },
     "a6fa5f2175134679a75e081359b69adf": {
      "model_module": "@jupyter-widgets/controls",
      "model_module_version": "1.4.0",
      "model_name": "DescriptionStyleModel",
      "state": {
       "description_width": ""
      }
     },
     "a71b47fb143b470eb251dc9db3b9dfb7": {
      "model_module": "@jupyter-widgets/controls",
      "model_module_version": "1.4.0",
      "model_name": "HTMLModel",
      "state": {
       "layout": "IPY_MODEL_2e70e40b1b9841569b39b02cd3c6fd43",
       "style": "IPY_MODEL_96320eca0f474f61b5f60c602a086fdf",
       "value": "100% 205/205 [01:47&lt;00:00,  2.21it/s]"
      }
     },
     "a71ce1184b7d4243824624463c1d557a": {
      "model_module": "@jupyter-widgets/controls",
      "model_module_version": "1.4.0",
      "model_name": "HBoxModel",
      "state": {
       "children": [
        "IPY_MODEL_0b52152e13c646c0ae7b8bd29ee497d7",
        "IPY_MODEL_0034107cda1e4cfe9222a4a6e301feae"
       ],
       "layout": "IPY_MODEL_506fb42dd44a4d06bf436f950cdf72c8"
      }
     },
     "a7363e12d7ec44ef896f15e6b1936d79": {
      "model_module": "@jupyter-widgets/base",
      "model_module_version": "1.1.0",
      "model_name": "LayoutModel",
      "state": {}
     },
     "a74bc5b17c664d569654d88bd5e9937e": {
      "model_module": "@jupyter-widgets/base",
      "model_module_version": "1.1.0",
      "model_name": "LayoutModel",
      "state": {}
     },
     "a76fa1aa638d4d83b1ead59b13687c24": {
      "model_module": "@jupyter-widgets/base",
      "model_module_version": "1.1.0",
      "model_name": "LayoutModel",
      "state": {}
     },
     "a78e28f903bf4e1eace80354825b5a28": {
      "model_module": "@jupyter-widgets/base",
      "model_module_version": "1.1.0",
      "model_name": "LayoutModel",
      "state": {}
     },
     "a7a35617c61b48199e668dc8bfb7c972": {
      "model_module": "@jupyter-widgets/base",
      "model_module_version": "1.1.0",
      "model_name": "LayoutModel",
      "state": {}
     },
     "a7e23192d3bb4b5a8e273e899a6dc233": {
      "model_module": "@jupyter-widgets/base",
      "model_module_version": "1.1.0",
      "model_name": "LayoutModel",
      "state": {}
     },
     "a7ed79e40527456eafca947791b62c97": {
      "model_module": "@jupyter-widgets/controls",
      "model_module_version": "1.4.0",
      "model_name": "ProgressStyleModel",
      "state": {
       "description_width": "initial"
      }
     },
     "a7edc6f3cadf499e9bf21b44a0bdbf34": {
      "model_module": "@jupyter-widgets/controls",
      "model_module_version": "1.4.0",
      "model_name": "HTMLModel",
      "state": {
       "layout": "IPY_MODEL_1244897dff9640a69fb8a3915bd3af67",
       "style": "IPY_MODEL_e4b6bf30a7be4f1a87ea6d28b5f8d139",
       "value": "100% 205/205 [01:47&lt;00:00,  2.21it/s]"
      }
     },
     "a7f8038f68f444668479866e58f0114e": {
      "model_module": "@jupyter-widgets/controls",
      "model_module_version": "1.4.0",
      "model_name": "ProgressStyleModel",
      "state": {
       "description_width": "initial"
      }
     },
     "a8c2d933ef0e46b4ac39467cd286e1df": {
      "model_module": "@jupyter-widgets/controls",
      "model_module_version": "1.4.0",
      "model_name": "HBoxModel",
      "state": {
       "children": [
        "IPY_MODEL_1ebbb560c4814770b24edbb7a6fd4cad",
        "IPY_MODEL_bb451937887c446c9c360cf88346c0cc"
       ],
       "layout": "IPY_MODEL_e1a7bf83d9554acf936ce41eabd9943b"
      }
     },
     "a8c3c8e70cd24e3184f8c0836da4b1be": {
      "model_module": "@jupyter-widgets/controls",
      "model_module_version": "1.4.0",
      "model_name": "DescriptionStyleModel",
      "state": {
       "description_width": ""
      }
     },
     "a8d210e179144f3e8c9584b48c0d790c": {
      "model_module": "@jupyter-widgets/base",
      "model_module_version": "1.1.0",
      "model_name": "LayoutModel",
      "state": {}
     },
     "a995e72533e24048a241e3a4883b68f1": {
      "model_module": "@jupyter-widgets/base",
      "model_module_version": "1.1.0",
      "model_name": "LayoutModel",
      "state": {}
     },
     "aa558dbea0bb40fbb3faf137ae3ee8dc": {
      "model_module": "@jupyter-widgets/base",
      "model_module_version": "1.1.0",
      "model_name": "LayoutModel",
      "state": {}
     },
     "aaa5de6ffb004e9ab6dfc575176b8917": {
      "model_module": "@jupyter-widgets/controls",
      "model_module_version": "1.4.0",
      "model_name": "IntProgressModel",
      "state": {
       "bar_style": "success",
       "description": "training...",
       "layout": "IPY_MODEL_0c58971a38ff4a66a32816be94287a62",
       "max": 410,
       "style": "IPY_MODEL_76696f5ef4b249fab2309c29a89e9e13",
       "value": 410
      }
     },
     "ab4a3544bd3e4de39f16356311353dab": {
      "model_module": "@jupyter-widgets/controls",
      "model_module_version": "1.4.0",
      "model_name": "DescriptionStyleModel",
      "state": {
       "description_width": ""
      }
     },
     "ab8369b2b0af46259226b44cd615401f": {
      "model_module": "@jupyter-widgets/controls",
      "model_module_version": "1.4.0",
      "model_name": "HBoxModel",
      "state": {
       "children": [
        "IPY_MODEL_258c894c04e64b839187658a60b3f5c8",
        "IPY_MODEL_4695ab4c6ee9453898be408b4af766e3"
       ],
       "layout": "IPY_MODEL_dc50dd6a3a1f46fea4d557e2e960659f"
      }
     },
     "ab8b69c87625404e9eba3022b4cf9ccf": {
      "model_module": "@jupyter-widgets/controls",
      "model_module_version": "1.4.0",
      "model_name": "HBoxModel",
      "state": {
       "children": [
        "IPY_MODEL_24f3693b4e0b489387838d127d43525b",
        "IPY_MODEL_c4fbb48c17e34f00acf1612e1755df08"
       ],
       "layout": "IPY_MODEL_f9306655105d430e990cb134df835ed3"
      }
     },
     "abc915d845a949fe805cfa1c815bbb4d": {
      "model_module": "@jupyter-widgets/controls",
      "model_module_version": "1.4.0",
      "model_name": "IntProgressModel",
      "state": {
       "bar_style": "danger",
       "description": "training...",
       "layout": "IPY_MODEL_145badb2ba4a409293756702082c6f46",
       "max": 307,
       "style": "IPY_MODEL_4cd93ccd0b244054b2d3efcd568d6a43",
       "value": 24
      }
     },
     "abeeeae6d17c426a8f30f45411ae3c70": {
      "model_module": "@jupyter-widgets/controls",
      "model_module_version": "1.4.0",
      "model_name": "HTMLModel",
      "state": {
       "layout": "IPY_MODEL_9bea8f7c243646ff9850fe7b0efe9f1c",
       "style": "IPY_MODEL_0dbb52e2015a45718fb31310564d343e",
       "value": "100% 103/103 [00:30&lt;00:00,  5.62it/s]"
      }
     },
     "ac438ce6f643429a9239b220f809980a": {
      "model_module": "@jupyter-widgets/controls",
      "model_module_version": "1.4.0",
      "model_name": "HTMLModel",
      "state": {
       "layout": "IPY_MODEL_eacfaec7ee9c4f7fa653129a13bf9177",
       "style": "IPY_MODEL_8512740ab1844021ab577e9c04c07d6f",
       "value": "100% 410/410 [04:09&lt;00:00,  1.73it/s]"
      }
     },
     "ac6d89c93be94955b938f2c4d352ce60": {
      "model_module": "@jupyter-widgets/controls",
      "model_module_version": "1.4.0",
      "model_name": "HBoxModel",
      "state": {
       "children": [
        "IPY_MODEL_3575361e951746f68a8c329055096ec2",
        "IPY_MODEL_d230058aaeea4f93a7449e98ff872769"
       ],
       "layout": "IPY_MODEL_575c16c2d74240068e891f5406d026b3"
      }
     },
     "acc88ee36485443cbb10508099e1614d": {
      "model_module": "@jupyter-widgets/base",
      "model_module_version": "1.1.0",
      "model_name": "LayoutModel",
      "state": {}
     },
     "ad73b3ba232547548a9f94d2bab2f80c": {
      "model_module": "@jupyter-widgets/controls",
      "model_module_version": "1.4.0",
      "model_name": "ProgressStyleModel",
      "state": {
       "description_width": "initial"
      }
     },
     "ad9595c1dd8647b9a2c25f25854a78f0": {
      "model_module": "@jupyter-widgets/base",
      "model_module_version": "1.1.0",
      "model_name": "LayoutModel",
      "state": {}
     },
     "aee9aa38cde8487389fbe14b86742ca2": {
      "model_module": "@jupyter-widgets/controls",
      "model_module_version": "1.4.0",
      "model_name": "HBoxModel",
      "state": {
       "children": [
        "IPY_MODEL_5966db3c80d3433983197dd7c8415e84",
        "IPY_MODEL_a2d24fed901040fcbb604f194a2fd402"
       ],
       "layout": "IPY_MODEL_26ac6dde855e44b38e3ab80bd021e721"
      }
     },
     "af2f93583e2d4a9fb2af9c63ad3b1af3": {
      "model_module": "@jupyter-widgets/base",
      "model_module_version": "1.1.0",
      "model_name": "LayoutModel",
      "state": {}
     },
     "af64bb20de014938ad989fd07adcb01d": {
      "model_module": "@jupyter-widgets/controls",
      "model_module_version": "1.4.0",
      "model_name": "HTMLModel",
      "state": {
       "layout": "IPY_MODEL_2c488521e2324833bf6a7155e05bca36",
       "style": "IPY_MODEL_a3e4c3480c774557be404051dc2e4ed0",
       "value": "100% 103/103 [00:30&lt;00:00,  5.59it/s]"
      }
     },
     "af774c940deb43a1a4e018f1e8488837": {
      "model_module": "@jupyter-widgets/controls",
      "model_module_version": "1.4.0",
      "model_name": "DescriptionStyleModel",
      "state": {
       "description_width": ""
      }
     },
     "af934e88bf774b128f22240f55ae6864": {
      "model_module": "@jupyter-widgets/base",
      "model_module_version": "1.1.0",
      "model_name": "LayoutModel",
      "state": {}
     },
     "af9df3970b4f4b51bc0e77ff33806e2f": {
      "model_module": "@jupyter-widgets/controls",
      "model_module_version": "1.4.0",
      "model_name": "HBoxModel",
      "state": {
       "children": [
        "IPY_MODEL_9839a9cb5d234436b2dede030b891835",
        "IPY_MODEL_6d6713f2db9f4a94a8dac9272ed7927f"
       ],
       "layout": "IPY_MODEL_98af54c10f194862882d03806570082c"
      }
     },
     "afa74552d26f4010abd09e7c35b1b921": {
      "model_module": "@jupyter-widgets/controls",
      "model_module_version": "1.4.0",
      "model_name": "HTMLModel",
      "state": {
       "layout": "IPY_MODEL_4d4c76677c5440a4b1926a0862fcf868",
       "style": "IPY_MODEL_0aceec1536b74ff98628e2c464def6c3",
       "value": "100% 315144/315144 [01:42&lt;00:00, 3082.02it/s]"
      }
     },
     "afec2d2db9df40f1a3426564f310c156": {
      "model_module": "@jupyter-widgets/base",
      "model_module_version": "1.1.0",
      "model_name": "LayoutModel",
      "state": {}
     },
     "b026c8d447104a7b97b1fb34eec7168e": {
      "model_module": "@jupyter-widgets/base",
      "model_module_version": "1.1.0",
      "model_name": "LayoutModel",
      "state": {}
     },
     "b06c05589721494eb329a139e1ff7d7a": {
      "model_module": "@jupyter-widgets/base",
      "model_module_version": "1.1.0",
      "model_name": "LayoutModel",
      "state": {}
     },
     "b0747fcc5a6d48a4a65611dbe48a925c": {
      "model_module": "@jupyter-widgets/base",
      "model_module_version": "1.1.0",
      "model_name": "LayoutModel",
      "state": {}
     },
     "b0945343d1b842e0a4475a7b98c5ca66": {
      "model_module": "@jupyter-widgets/controls",
      "model_module_version": "1.4.0",
      "model_name": "DescriptionStyleModel",
      "state": {
       "description_width": ""
      }
     },
     "b098ebb9fbec4ca5bd0ebc0331d4f5a5": {
      "model_module": "@jupyter-widgets/base",
      "model_module_version": "1.1.0",
      "model_name": "LayoutModel",
      "state": {}
     },
     "b1211dad610544679f09c9f90efd2fb1": {
      "model_module": "@jupyter-widgets/base",
      "model_module_version": "1.1.0",
      "model_name": "LayoutModel",
      "state": {}
     },
     "b13a4d635bb74876915950045901e5d7": {
      "model_module": "@jupyter-widgets/controls",
      "model_module_version": "1.4.0",
      "model_name": "ProgressStyleModel",
      "state": {
       "description_width": ""
      }
     },
     "b2050930ed9c4f56b84f97bc25d3387b": {
      "model_module": "@jupyter-widgets/base",
      "model_module_version": "1.1.0",
      "model_name": "LayoutModel",
      "state": {}
     },
     "b23ba0776e3c44b1bbf8eb801a528f17": {
      "model_module": "@jupyter-widgets/base",
      "model_module_version": "1.1.0",
      "model_name": "LayoutModel",
      "state": {}
     },
     "b243bea01bc84eea887013435e56caf9": {
      "model_module": "@jupyter-widgets/controls",
      "model_module_version": "1.4.0",
      "model_name": "ProgressStyleModel",
      "state": {
       "description_width": "initial"
      }
     },
     "b2e289eae14048eb9a1cb2f113fcf9a5": {
      "model_module": "@jupyter-widgets/base",
      "model_module_version": "1.1.0",
      "model_name": "LayoutModel",
      "state": {}
     },
     "b2eafd9a804d4f2a9ce5069a74f4ec5f": {
      "model_module": "@jupyter-widgets/base",
      "model_module_version": "1.1.0",
      "model_name": "LayoutModel",
      "state": {}
     },
     "b2f9a45271d64a9e84c7e3790cb36f5e": {
      "model_module": "@jupyter-widgets/controls",
      "model_module_version": "1.4.0",
      "model_name": "HBoxModel",
      "state": {
       "children": [
        "IPY_MODEL_309e49b68bbd43a6abeb138f3ecaae76",
        "IPY_MODEL_71291d42fdcc4e0db18cea362ba02b11"
       ],
       "layout": "IPY_MODEL_4890e30ffa584daaa5d57fad57aa4014"
      }
     },
     "b3036b9714fa4a7198eb1d0591dfa1b4": {
      "model_module": "@jupyter-widgets/base",
      "model_module_version": "1.1.0",
      "model_name": "LayoutModel",
      "state": {}
     },
     "b30c034e6b5c429b8daff4cf46ea3d6b": {
      "model_module": "@jupyter-widgets/base",
      "model_module_version": "1.1.0",
      "model_name": "LayoutModel",
      "state": {}
     },
     "b36c461a4f844bb2ae638067e3e0e206": {
      "model_module": "@jupyter-widgets/controls",
      "model_module_version": "1.4.0",
      "model_name": "DescriptionStyleModel",
      "state": {
       "description_width": ""
      }
     },
     "b37f1f449f554eddac6486b8b7af071a": {
      "model_module": "@jupyter-widgets/base",
      "model_module_version": "1.1.0",
      "model_name": "LayoutModel",
      "state": {}
     },
     "b39d8748a1f841cdbb390a90f1e9567f": {
      "model_module": "@jupyter-widgets/controls",
      "model_module_version": "1.4.0",
      "model_name": "ProgressStyleModel",
      "state": {
       "description_width": "initial"
      }
     },
     "b6230ea8335b4e13a1dc4ec9ed53d4f3": {
      "model_module": "@jupyter-widgets/controls",
      "model_module_version": "1.4.0",
      "model_name": "ProgressStyleModel",
      "state": {
       "description_width": ""
      }
     },
     "b628f91cfa4c48ba87dffe15ac3ac0d4": {
      "model_module": "@jupyter-widgets/base",
      "model_module_version": "1.1.0",
      "model_name": "LayoutModel",
      "state": {}
     },
     "b63816c05297424792e0f2038791bd61": {
      "model_module": "@jupyter-widgets/base",
      "model_module_version": "1.1.0",
      "model_name": "LayoutModel",
      "state": {}
     },
     "b64116c5779e4b7d8276509353181d7e": {
      "model_module": "@jupyter-widgets/base",
      "model_module_version": "1.1.0",
      "model_name": "LayoutModel",
      "state": {}
     },
     "b641811959fc433698e46ed5d0446691": {
      "model_module": "@jupyter-widgets/base",
      "model_module_version": "1.1.0",
      "model_name": "LayoutModel",
      "state": {}
     },
     "b6bf30b08a5b44d896113b17debde468": {
      "model_module": "@jupyter-widgets/controls",
      "model_module_version": "1.4.0",
      "model_name": "ProgressStyleModel",
      "state": {
       "description_width": "initial"
      }
     },
     "b6c877b9c0f8449987092eddc59a70b2": {
      "model_module": "@jupyter-widgets/controls",
      "model_module_version": "1.4.0",
      "model_name": "HBoxModel",
      "state": {
       "children": [
        "IPY_MODEL_78ddd8756c504f1fac56981abd85b445",
        "IPY_MODEL_dc71c78c7ef946f78675fde8677eeaa9"
       ],
       "layout": "IPY_MODEL_0e89886d4f884c0f899a219b71dac3d8"
      }
     },
     "b6ce3dbac7ea404688e6dfda9e9c04de": {
      "model_module": "@jupyter-widgets/controls",
      "model_module_version": "1.4.0",
      "model_name": "HBoxModel",
      "state": {
       "children": [
        "IPY_MODEL_6ef1760be74f4f2b9062b5ed9a0154a0",
        "IPY_MODEL_da1b65f906f941c3afe504739f0993f2"
       ],
       "layout": "IPY_MODEL_55ff9ec1a2b846e6ba4568344b994d0c"
      }
     },
     "b7454e224548498095da860b24bb917a": {
      "model_module": "@jupyter-widgets/controls",
      "model_module_version": "1.4.0",
      "model_name": "IntProgressModel",
      "state": {
       "bar_style": "success",
       "description": "test prediction...",
       "layout": "IPY_MODEL_13a2bdd88bca436597be66d4ec8b21f2",
       "max": 130,
       "style": "IPY_MODEL_36ec3852d8284b1596106ca59b184956",
       "value": 130
      }
     },
     "b77d492535f648108f740809619146ff": {
      "model_module": "@jupyter-widgets/controls",
      "model_module_version": "1.4.0",
      "model_name": "HBoxModel",
      "state": {
       "children": [
        "IPY_MODEL_f8db9c0d73e7483ea10b6fc1ee210736",
        "IPY_MODEL_afa74552d26f4010abd09e7c35b1b921"
       ],
       "layout": "IPY_MODEL_b2eafd9a804d4f2a9ce5069a74f4ec5f"
      }
     },
     "b7ec4a833a4c491b90c54058cc436682": {
      "model_module": "@jupyter-widgets/controls",
      "model_module_version": "1.4.0",
      "model_name": "DescriptionStyleModel",
      "state": {
       "description_width": ""
      }
     },
     "b7fe7a7586f748178ec842a63453fced": {
      "model_module": "@jupyter-widgets/controls",
      "model_module_version": "1.4.0",
      "model_name": "DescriptionStyleModel",
      "state": {
       "description_width": ""
      }
     },
     "b821f37dfe144406ad7e6cec5fedbd0a": {
      "model_module": "@jupyter-widgets/controls",
      "model_module_version": "1.4.0",
      "model_name": "DescriptionStyleModel",
      "state": {
       "description_width": ""
      }
     },
     "b8456cb061f4430884d41c0b342a12b7": {
      "model_module": "@jupyter-widgets/controls",
      "model_module_version": "1.4.0",
      "model_name": "DescriptionStyleModel",
      "state": {
       "description_width": ""
      }
     },
     "b882631b90d240aab846c75aa0bf35ca": {
      "model_module": "@jupyter-widgets/controls",
      "model_module_version": "1.4.0",
      "model_name": "HTMLModel",
      "state": {
       "layout": "IPY_MODEL_7166885488744327a7e74d833f1bd5c6",
       "style": "IPY_MODEL_831f4accfd26450896a5a787a64c0115",
       "value": "100% 103/103 [00:30&lt;00:00,  4.69it/s]"
      }
     },
     "b886a15666ab408cad21ab0464c091d9": {
      "model_module": "@jupyter-widgets/controls",
      "model_module_version": "1.4.0",
      "model_name": "HTMLModel",
      "state": {
       "layout": "IPY_MODEL_e5e8da509f4d44d2bd2831e49d45e505",
       "style": "IPY_MODEL_2eaa28eb6e1d45a8bea4f181b58eedc3",
       "value": "100% 103/103 [00:28&lt;00:00,  5.75it/s]"
      }
     },
     "b8bd1d8e22f049499969eb621b019f56": {
      "model_module": "@jupyter-widgets/controls",
      "model_module_version": "1.4.0",
      "model_name": "IntProgressModel",
      "state": {
       "bar_style": "success",
       "description": "validation...",
       "layout": "IPY_MODEL_439d88d791b548cdaa31ccb143c6cd86",
       "max": 103,
       "style": "IPY_MODEL_381da8f8b9b146d19883f7e8ec29bd64",
       "value": 103
      }
     },
     "b92194e2592e4579a97868a607763adc": {
      "model_module": "@jupyter-widgets/base",
      "model_module_version": "1.1.0",
      "model_name": "LayoutModel",
      "state": {}
     },
     "b92a69a24c5a4818b308eba4527fa09c": {
      "model_module": "@jupyter-widgets/base",
      "model_module_version": "1.1.0",
      "model_name": "LayoutModel",
      "state": {}
     },
     "b935dffb0d00461b856c5301a11c6326": {
      "model_module": "@jupyter-widgets/controls",
      "model_module_version": "1.4.0",
      "model_name": "DescriptionStyleModel",
      "state": {
       "description_width": ""
      }
     },
     "b95d994c011e4f558dae7a4286027858": {
      "model_module": "@jupyter-widgets/base",
      "model_module_version": "1.1.0",
      "model_name": "LayoutModel",
      "state": {}
     },
     "b968ec5ca4fb41fcbaa8622600a749b1": {
      "model_module": "@jupyter-widgets/controls",
      "model_module_version": "1.4.0",
      "model_name": "HTMLModel",
      "state": {
       "layout": "IPY_MODEL_d896d4befbf246588a4396db9eaf41fb",
       "style": "IPY_MODEL_861e1cbf823247ca8689c5e3893dcf34",
       "value": "100% 52/52 [00:22&lt;00:00,  2.27it/s]"
      }
     },
     "b9a3ae8fc2754b3996c839269545c765": {
      "model_module": "@jupyter-widgets/base",
      "model_module_version": "1.1.0",
      "model_name": "LayoutModel",
      "state": {}
     },
     "b9ececeb93ac486a96166b614d4e2a7a": {
      "model_module": "@jupyter-widgets/base",
      "model_module_version": "1.1.0",
      "model_name": "LayoutModel",
      "state": {}
     },
     "ba0b5ac9e53644c8b1ff3c2fa08d38a0": {
      "model_module": "@jupyter-widgets/controls",
      "model_module_version": "1.4.0",
      "model_name": "DescriptionStyleModel",
      "state": {
       "description_width": ""
      }
     },
     "ba18404347f046c5b46893bf80dfd9bb": {
      "model_module": "@jupyter-widgets/base",
      "model_module_version": "1.1.0",
      "model_name": "LayoutModel",
      "state": {}
     },
     "bab31849452346ae95203eaa62da8243": {
      "model_module": "@jupyter-widgets/base",
      "model_module_version": "1.1.0",
      "model_name": "LayoutModel",
      "state": {}
     },
     "bacb491a60ce475aaff2a1eaadf54ebe": {
      "model_module": "@jupyter-widgets/base",
      "model_module_version": "1.1.0",
      "model_name": "LayoutModel",
      "state": {}
     },
     "bad1a36ffbe047edbc9af7960f67edf2": {
      "model_module": "@jupyter-widgets/controls",
      "model_module_version": "1.4.0",
      "model_name": "ProgressStyleModel",
      "state": {
       "description_width": "initial"
      }
     },
     "bae42ce054cf4b0d8413f7f00e2d5dcc": {
      "model_module": "@jupyter-widgets/controls",
      "model_module_version": "1.4.0",
      "model_name": "DescriptionStyleModel",
      "state": {
       "description_width": ""
      }
     },
     "bb451937887c446c9c360cf88346c0cc": {
      "model_module": "@jupyter-widgets/controls",
      "model_module_version": "1.4.0",
      "model_name": "HTMLModel",
      "state": {
       "layout": "IPY_MODEL_861cc780acf046b7aaadfa89ebfce89f",
       "style": "IPY_MODEL_b7ec4a833a4c491b90c54058cc436682",
       "value": "100% 410/410 [04:09&lt;00:00,  1.59it/s]"
      }
     },
     "bb68e71874bc468eb7e3c501e82d9bba": {
      "model_module": "@jupyter-widgets/controls",
      "model_module_version": "1.4.0",
      "model_name": "HTMLModel",
      "state": {
       "layout": "IPY_MODEL_b026c8d447104a7b97b1fb34eec7168e",
       "style": "IPY_MODEL_6ab88cf6f2294f66b8a2091013d58fbf",
       "value": "100% 205/205 [01:48&lt;00:00,  2.20it/s]"
      }
     },
     "bb6b26c2d52f4d07ab0865d1389cbc46": {
      "model_module": "@jupyter-widgets/controls",
      "model_module_version": "1.4.0",
      "model_name": "HBoxModel",
      "state": {
       "children": [
        "IPY_MODEL_64bbb605d77c436b93e9274f53da518f",
        "IPY_MODEL_2bfb9e3bc68649a791d0072cb1f7a1a8"
       ],
       "layout": "IPY_MODEL_982982977fba45cc828b0e3267b8b870"
      }
     },
     "bb9c2cd5ff1342dd9a78aece7cfd3d75": {
      "model_module": "@jupyter-widgets/controls",
      "model_module_version": "1.4.0",
      "model_name": "DescriptionStyleModel",
      "state": {
       "description_width": ""
      }
     },
     "bbd2f401ef0f4b2890a2e8f26973853c": {
      "model_module": "@jupyter-widgets/base",
      "model_module_version": "1.1.0",
      "model_name": "LayoutModel",
      "state": {}
     },
     "bbd8b26bbbcc431e875261ade1f8646c": {
      "model_module": "@jupyter-widgets/controls",
      "model_module_version": "1.4.0",
      "model_name": "HBoxModel",
      "state": {
       "children": [
        "IPY_MODEL_3b4d831d888747a4aea3b74e7448bcea",
        "IPY_MODEL_632b959ad63441f996e235c54b994176"
       ],
       "layout": "IPY_MODEL_bfafc25cd698485391af00e02dcf5950"
      }
     },
     "bc587d633078411e80174cc881437cc0": {
      "model_module": "@jupyter-widgets/controls",
      "model_module_version": "1.4.0",
      "model_name": "ProgressStyleModel",
      "state": {
       "description_width": "initial"
      }
     },
     "bc99031909fa4512a259bcf2f04634e3": {
      "model_module": "@jupyter-widgets/controls",
      "model_module_version": "1.4.0",
      "model_name": "HBoxModel",
      "state": {
       "children": [
        "IPY_MODEL_150fbd0dceba458f8c05707cbc791780",
        "IPY_MODEL_945fdaa7b4324fcaa0bd54acd12c98ba"
       ],
       "layout": "IPY_MODEL_f78bd2d41d9e4e45be92ee07923010d2"
      }
     },
     "bd569488bcfe42f086288b03f522baae": {
      "model_module": "@jupyter-widgets/controls",
      "model_module_version": "1.4.0",
      "model_name": "HTMLModel",
      "state": {
       "layout": "IPY_MODEL_37a52d145be04655b89b5d5cf23c86e9",
       "style": "IPY_MODEL_2ed6af8659844aa2b3b61305e0357da8",
       "value": "  8% 24/307 [00:14&lt;01:57,  2.41it/s]"
      }
     },
     "bd62aaaab507445289ee2b4a70775da0": {
      "model_module": "@jupyter-widgets/controls",
      "model_module_version": "1.4.0",
      "model_name": "HBoxModel",
      "state": {
       "children": [
        "IPY_MODEL_4dcd63463f1b4058b1e85361bf6b9fb1",
        "IPY_MODEL_ac438ce6f643429a9239b220f809980a"
       ],
       "layout": "IPY_MODEL_89be464312be4f178e082fc07f0c1f70"
      }
     },
     "bd881879e63849898894a18412761c10": {
      "model_module": "@jupyter-widgets/base",
      "model_module_version": "1.1.0",
      "model_name": "LayoutModel",
      "state": {}
     },
     "bdceadb4ba4342ed82f631996cee4316": {
      "model_module": "@jupyter-widgets/controls",
      "model_module_version": "1.4.0",
      "model_name": "ProgressStyleModel",
      "state": {
       "description_width": "initial"
      }
     },
     "be01c913b8cf40b4a465d88f96615962": {
      "model_module": "@jupyter-widgets/controls",
      "model_module_version": "1.4.0",
      "model_name": "IntProgressModel",
      "state": {
       "bar_style": "success",
       "description": "validation...",
       "layout": "IPY_MODEL_635e711d76a2439b9edfa06502f87cdd",
       "max": 103,
       "style": "IPY_MODEL_a7f8038f68f444668479866e58f0114e",
       "value": 103
      }
     },
     "be06e6907e3243e8ad35258b160b56d3": {
      "model_module": "@jupyter-widgets/controls",
      "model_module_version": "1.4.0",
      "model_name": "HBoxModel",
      "state": {
       "children": [
        "IPY_MODEL_9f13a202d3684bb9bf1a50929786729e",
        "IPY_MODEL_f2a4d80f0cac4cbd88bed3330eb07dd4"
       ],
       "layout": "IPY_MODEL_60140d3b8b2749ea9f9d788173f16509"
      }
     },
     "be626f5374b04abaa40571fc6d52dc00": {
      "model_module": "@jupyter-widgets/base",
      "model_module_version": "1.1.0",
      "model_name": "LayoutModel",
      "state": {}
     },
     "bec7e4d5ae5f450aa849b4cbc50a8381": {
      "model_module": "@jupyter-widgets/controls",
      "model_module_version": "1.4.0",
      "model_name": "HTMLModel",
      "state": {
       "layout": "IPY_MODEL_8cfb4fd255344e4dab4f83ae936b629c",
       "style": "IPY_MODEL_0cea430505b5474b860cafd8a3417e82",
       "value": "100% 52/52 [00:23&lt;00:00,  2.21it/s]"
      }
     },
     "bf2bdac425b04390ade17a124d472f7e": {
      "model_module": "@jupyter-widgets/controls",
      "model_module_version": "1.4.0",
      "model_name": "IntProgressModel",
      "state": {
       "bar_style": "success",
       "description": "validation...",
       "layout": "IPY_MODEL_efd46939bc47411c8a60c0a8837247f8",
       "max": 103,
       "style": "IPY_MODEL_9232900b50534abebc875d1f7097ffa0",
       "value": 103
      }
     },
     "bf6977aadabc429bbfe877678d1f60ee": {
      "model_module": "@jupyter-widgets/controls",
      "model_module_version": "1.4.0",
      "model_name": "ProgressStyleModel",
      "state": {
       "description_width": ""
      }
     },
     "bf7353190825483db564c9e8724fecbe": {
      "model_module": "@jupyter-widgets/controls",
      "model_module_version": "1.4.0",
      "model_name": "HTMLModel",
      "state": {
       "layout": "IPY_MODEL_fe3f3dcfbbc0451eb6258841c4b7162c",
       "style": "IPY_MODEL_683b320ae0344be2a90fee1537df83db",
       "value": "100% 205/205 [01:47&lt;00:00,  2.23it/s]"
      }
     },
     "bfafc25cd698485391af00e02dcf5950": {
      "model_module": "@jupyter-widgets/base",
      "model_module_version": "1.1.0",
      "model_name": "LayoutModel",
      "state": {}
     },
     "bfaff34859604e03baf68c6f09e08e3a": {
      "model_module": "@jupyter-widgets/base",
      "model_module_version": "1.1.0",
      "model_name": "LayoutModel",
      "state": {}
     },
     "bfea30abcdab4f80bba6c45ccc1bc9cd": {
      "model_module": "@jupyter-widgets/controls",
      "model_module_version": "1.4.0",
      "model_name": "HBoxModel",
      "state": {
       "children": [
        "IPY_MODEL_6edfc691438d43faa0d5a1e2cbcb5ca4",
        "IPY_MODEL_9563837c7b6144edbfdba99ee617f948"
       ],
       "layout": "IPY_MODEL_318eab0931d841b1afb4560ba8765837"
      }
     },
     "c031fb1f1a5e43339dcd1137e1a32456": {
      "model_module": "@jupyter-widgets/controls",
      "model_module_version": "1.4.0",
      "model_name": "DescriptionStyleModel",
      "state": {
       "description_width": ""
      }
     },
     "c03c4ba9545743f58a6782533864ba10": {
      "model_module": "@jupyter-widgets/controls",
      "model_module_version": "1.4.0",
      "model_name": "IntProgressModel",
      "state": {
       "bar_style": "success",
       "description": "training...",
       "layout": "IPY_MODEL_2f67abf3ba0841b398458baa4623a563",
       "max": 205,
       "style": "IPY_MODEL_6f37d9b787554b369c69d94f46c95d69",
       "value": 205
      }
     },
     "c0439b407ea84e26a3466bee93cb4834": {
      "model_module": "@jupyter-widgets/controls",
      "model_module_version": "1.4.0",
      "model_name": "HBoxModel",
      "state": {
       "children": [
        "IPY_MODEL_a350d5e80fd2402989cf97715231b944",
        "IPY_MODEL_256fba288f11429c9fd8c9fcdd0dadb3"
       ],
       "layout": "IPY_MODEL_c8fc5deaa0d84efe9269816d4182acb7"
      }
     },
     "c06f3edd09af44059a315b2c9fa87599": {
      "model_module": "@jupyter-widgets/base",
      "model_module_version": "1.1.0",
      "model_name": "LayoutModel",
      "state": {}
     },
     "c0e7e13d3b964aa09484d3b0d4e22723": {
      "model_module": "@jupyter-widgets/controls",
      "model_module_version": "1.4.0",
      "model_name": "HBoxModel",
      "state": {
       "children": [
        "IPY_MODEL_f7db92829e9e4a41a0eaf17e11a3c17a",
        "IPY_MODEL_cc7655f707d84e48b4052fba47e20b33"
       ],
       "layout": "IPY_MODEL_4f42d06e3bde4dc18ddcf38d89726914"
      }
     },
     "c0ff11052b814a35a5729af934c69b1e": {
      "model_module": "@jupyter-widgets/controls",
      "model_module_version": "1.4.0",
      "model_name": "ProgressStyleModel",
      "state": {
       "description_width": "initial"
      }
     },
     "c10d5be924824302818f1f4b01157679": {
      "model_module": "@jupyter-widgets/base",
      "model_module_version": "1.1.0",
      "model_name": "LayoutModel",
      "state": {}
     },
     "c11967b3062742e78ebbd0c4f99408a2": {
      "model_module": "@jupyter-widgets/base",
      "model_module_version": "1.1.0",
      "model_name": "LayoutModel",
      "state": {}
     },
     "c14571c3fcad47c6afedb46fb425aafd": {
      "model_module": "@jupyter-widgets/controls",
      "model_module_version": "1.4.0",
      "model_name": "HTMLModel",
      "state": {
       "layout": "IPY_MODEL_e6d00350534e4a80af9323de6bd1fdbf",
       "style": "IPY_MODEL_ba0b5ac9e53644c8b1ff3c2fa08d38a0",
       "value": "100% 410/410 [04:12&lt;00:00,  1.68it/s]"
      }
     },
     "c160e8cfdec048cfb86beda12b42c563": {
      "model_module": "@jupyter-widgets/base",
      "model_module_version": "1.1.0",
      "model_name": "LayoutModel",
      "state": {}
     },
     "c1f775a4212347e89f16765f3fda48c5": {
      "model_module": "@jupyter-widgets/controls",
      "model_module_version": "1.4.0",
      "model_name": "HTMLModel",
      "state": {
       "layout": "IPY_MODEL_50ec8e188aca41598fdfa4a429bf2431",
       "style": "IPY_MODEL_a6fa5f2175134679a75e081359b69adf",
       "value": "100% 99819/99819 [00:00&lt;00:00, 234669.74it/s]"
      }
     },
     "c20d63de99c44073bc30f95346488cd9": {
      "model_module": "@jupyter-widgets/base",
      "model_module_version": "1.1.0",
      "model_name": "LayoutModel",
      "state": {}
     },
     "c22ffad94e6f44eabc2fa55530d24521": {
      "model_module": "@jupyter-widgets/controls",
      "model_module_version": "1.4.0",
      "model_name": "DescriptionStyleModel",
      "state": {
       "description_width": ""
      }
     },
     "c2413dca2ee343e09d90c9e09df3d268": {
      "model_module": "@jupyter-widgets/controls",
      "model_module_version": "1.4.0",
      "model_name": "ProgressStyleModel",
      "state": {
       "description_width": "initial"
      }
     },
     "c26df945f0124b3e9c54b2e9bbf39104": {
      "model_module": "@jupyter-widgets/controls",
      "model_module_version": "1.4.0",
      "model_name": "DescriptionStyleModel",
      "state": {
       "description_width": ""
      }
     },
     "c2bc75561290446ba2205c607110e1c7": {
      "model_module": "@jupyter-widgets/controls",
      "model_module_version": "1.4.0",
      "model_name": "DescriptionStyleModel",
      "state": {
       "description_width": ""
      }
     },
     "c2fa8cfa7dc34d54ae610833f6169703": {
      "model_module": "@jupyter-widgets/base",
      "model_module_version": "1.1.0",
      "model_name": "LayoutModel",
      "state": {}
     },
     "c328f7a364f1454e88acb7e7ade52345": {
      "model_module": "@jupyter-widgets/controls",
      "model_module_version": "1.4.0",
      "model_name": "ProgressStyleModel",
      "state": {
       "description_width": "initial"
      }
     },
     "c349312276f24cb8ac10ac4a294e0e3b": {
      "model_module": "@jupyter-widgets/controls",
      "model_module_version": "1.4.0",
      "model_name": "ProgressStyleModel",
      "state": {
       "description_width": "initial"
      }
     },
     "c3721388aba24435b673ab1c112858d1": {
      "model_module": "@jupyter-widgets/controls",
      "model_module_version": "1.4.0",
      "model_name": "IntProgressModel",
      "state": {
       "bar_style": "danger",
       "description": "training...",
       "layout": "IPY_MODEL_690eea47080e43709d8c0a4a75be7f0a",
       "max": 307,
       "style": "IPY_MODEL_01c270a8834546078e142061c163510d"
      }
     },
     "c37c447fbca845e6968a9476817876de": {
      "model_module": "@jupyter-widgets/base",
      "model_module_version": "1.1.0",
      "model_name": "LayoutModel",
      "state": {}
     },
     "c3f3db74bcd74fbd8141e96dd5f14220": {
      "model_module": "@jupyter-widgets/base",
      "model_module_version": "1.1.0",
      "model_name": "LayoutModel",
      "state": {}
     },
     "c41bb03f1f174ed99a1dc05fb3d0eda0": {
      "model_module": "@jupyter-widgets/controls",
      "model_module_version": "1.4.0",
      "model_name": "DescriptionStyleModel",
      "state": {
       "description_width": ""
      }
     },
     "c485b4fee4af42be9b12b1d526eb1f20": {
      "model_module": "@jupyter-widgets/controls",
      "model_module_version": "1.4.0",
      "model_name": "HTMLModel",
      "state": {
       "layout": "IPY_MODEL_15d0d8e6fb7e4ff4b07cd8febc3fe04d",
       "style": "IPY_MODEL_9ef741b090fe45a386f286ed6a078082",
       "value": "100% 410/410 [04:18&lt;00:00,  1.67it/s]"
      }
     },
     "c4a1ed4d7ec5456bb9d74c121a03c968": {
      "model_module": "@jupyter-widgets/base",
      "model_module_version": "1.1.0",
      "model_name": "LayoutModel",
      "state": {}
     },
     "c4fbb48c17e34f00acf1612e1755df08": {
      "model_module": "@jupyter-widgets/controls",
      "model_module_version": "1.4.0",
      "model_name": "HTMLModel",
      "state": {
       "layout": "IPY_MODEL_7004e17822314f04a04d4f834363bbe1",
       "style": "IPY_MODEL_d02d0228ddd1473898c138dc98a8c62b",
       "value": "100% 65/65 [00:26&lt;00:00,  5.99it/s]"
      }
     },
     "c54ef78b11ab4702bea4e48fd97bb0da": {
      "model_module": "@jupyter-widgets/controls",
      "model_module_version": "1.4.0",
      "model_name": "HTMLModel",
      "state": {
       "layout": "IPY_MODEL_f46d291bd1e64d13aa9f31f3064eaade",
       "style": "IPY_MODEL_a8c3c8e70cd24e3184f8c0836da4b1be",
       "value": "100% 78786/78786 [00:28&lt;00:00, 2801.78it/s]"
      }
     },
     "c57f30fa6c5942e284ca061e0afb5c7d": {
      "model_module": "@jupyter-widgets/base",
      "model_module_version": "1.1.0",
      "model_name": "LayoutModel",
      "state": {}
     },
     "c5d0e30271a14ccfa75c12c7e52ba2f4": {
      "model_module": "@jupyter-widgets/controls",
      "model_module_version": "1.4.0",
      "model_name": "HBoxModel",
      "state": {
       "children": [
        "IPY_MODEL_9bfd0d7f427942ddbcf395a2775517d1",
        "IPY_MODEL_bec7e4d5ae5f450aa849b4cbc50a8381"
       ],
       "layout": "IPY_MODEL_3eef6c94c68841a9bab5b35596b0b7c4"
      }
     },
     "c5ea68d1036a47038dcc239d0e8c3e19": {
      "model_module": "@jupyter-widgets/controls",
      "model_module_version": "1.4.0",
      "model_name": "ProgressStyleModel",
      "state": {
       "description_width": "initial"
      }
     },
     "c6934cb6ecdb42dcb85f485b245c23a2": {
      "model_module": "@jupyter-widgets/controls",
      "model_module_version": "1.4.0",
      "model_name": "ProgressStyleModel",
      "state": {
       "description_width": "initial"
      }
     },
     "c7cf10ba530849658a0af94e787381c6": {
      "model_module": "@jupyter-widgets/controls",
      "model_module_version": "1.4.0",
      "model_name": "ProgressStyleModel",
      "state": {
       "description_width": "initial"
      }
     },
     "c7f8679c5c2c4eef863b0919da108e99": {
      "model_module": "@jupyter-widgets/controls",
      "model_module_version": "1.4.0",
      "model_name": "DescriptionStyleModel",
      "state": {
       "description_width": ""
      }
     },
     "c8308803fbf94f68beecd124a246bf25": {
      "model_module": "@jupyter-widgets/controls",
      "model_module_version": "1.4.0",
      "model_name": "HBoxModel",
      "state": {
       "children": [
        "IPY_MODEL_94a6aa6c6a97476cba1031d1900de8ed",
        "IPY_MODEL_e962766e6c664d2f9dd70af6f47e16f5"
       ],
       "layout": "IPY_MODEL_a78e28f903bf4e1eace80354825b5a28"
      }
     },
     "c8c5955f1f124d3d9f252d83eee22957": {
      "model_module": "@jupyter-widgets/controls",
      "model_module_version": "1.4.0",
      "model_name": "DescriptionStyleModel",
      "state": {
       "description_width": ""
      }
     },
     "c8fc5deaa0d84efe9269816d4182acb7": {
      "model_module": "@jupyter-widgets/base",
      "model_module_version": "1.1.0",
      "model_name": "LayoutModel",
      "state": {}
     },
     "c91ffa20d28d4721ad20945201487333": {
      "model_module": "@jupyter-widgets/controls",
      "model_module_version": "1.4.0",
      "model_name": "DescriptionStyleModel",
      "state": {
       "description_width": ""
      }
     },
     "c98687003bda4479b899550d3f70fa09": {
      "model_module": "@jupyter-widgets/controls",
      "model_module_version": "1.4.0",
      "model_name": "IntProgressModel",
      "state": {
       "bar_style": "success",
       "description": "validation...",
       "layout": "IPY_MODEL_0ce1106299584745b57bb11a5a050c58",
       "max": 103,
       "style": "IPY_MODEL_f1e21613e2ac48798f9128e68b31ddfc",
       "value": 103
      }
     },
     "ca0bd455eb4843e792d9e7d37c591fe5": {
      "model_module": "@jupyter-widgets/base",
      "model_module_version": "1.1.0",
      "model_name": "LayoutModel",
      "state": {}
     },
     "ca4f157a547641bba8217ade8ff8743b": {
      "model_module": "@jupyter-widgets/controls",
      "model_module_version": "1.4.0",
      "model_name": "HBoxModel",
      "state": {
       "children": [
        "IPY_MODEL_dfc659f7c08d4f16b0652cfc017fcf72",
        "IPY_MODEL_54ebd6e54ebf4c80967ebcd556d49f4c"
       ],
       "layout": "IPY_MODEL_66a3f456d96440cea86f772784b28bed"
      }
     },
     "ca66fdad4a4845889391149d452c6b51": {
      "model_module": "@jupyter-widgets/base",
      "model_module_version": "1.1.0",
      "model_name": "LayoutModel",
      "state": {}
     },
     "ca6a7c7c87c14dc9a25b76b9f65b6d7e": {
      "model_module": "@jupyter-widgets/controls",
      "model_module_version": "1.4.0",
      "model_name": "HTMLModel",
      "state": {
       "layout": "IPY_MODEL_66f2b63fa1664667816cce2ea9fd63d9",
       "style": "IPY_MODEL_fae71b84e71142f3838bf1ce587ded90",
       "value": "100% 103/103 [00:30&lt;00:00,  5.78it/s]"
      }
     },
     "ca7aab9b875e411c9d4b580243b72738": {
      "model_module": "@jupyter-widgets/controls",
      "model_module_version": "1.4.0",
      "model_name": "IntProgressModel",
      "state": {
       "bar_style": "success",
       "description": "training...",
       "layout": "IPY_MODEL_0136d5b94d114b39ab45bad6356af0f5",
       "max": 410,
       "style": "IPY_MODEL_938085118417429bb452bb0213931b23",
       "value": 410
      }
     },
     "cb3a20ed978944b6ba1946f34981036f": {
      "model_module": "@jupyter-widgets/base",
      "model_module_version": "1.1.0",
      "model_name": "LayoutModel",
      "state": {}
     },
     "cc2fa54a8b6744d98e24b7a046dc0017": {
      "model_module": "@jupyter-widgets/controls",
      "model_module_version": "1.4.0",
      "model_name": "HBoxModel",
      "state": {
       "children": [
        "IPY_MODEL_98097caa01274cbfb49a04fe42355e70",
        "IPY_MODEL_426ca3f41fe14e05ac59a819cc95cecf"
       ],
       "layout": "IPY_MODEL_1b9262cf572e4810b40d86f95a33ac79"
      }
     },
     "cc7655f707d84e48b4052fba47e20b33": {
      "model_module": "@jupyter-widgets/controls",
      "model_module_version": "1.4.0",
      "model_name": "HTMLModel",
      "state": {
       "layout": "IPY_MODEL_b06c05589721494eb329a139e1ff7d7a",
       "style": "IPY_MODEL_96c892deb3b84b698b6e072fea10626c",
       "value": "100% 410/410 [04:11&lt;00:00,  1.69it/s]"
      }
     },
     "cd2bbc1bc53141098ebfbfea8a27927e": {
      "model_module": "@jupyter-widgets/controls",
      "model_module_version": "1.4.0",
      "model_name": "ProgressStyleModel",
      "state": {
       "description_width": "initial"
      }
     },
     "cd34fc57dec94029ac614a3b57877d41": {
      "model_module": "@jupyter-widgets/base",
      "model_module_version": "1.1.0",
      "model_name": "LayoutModel",
      "state": {}
     },
     "cd8de9106b4944ad83d26ddfb8f5f07e": {
      "model_module": "@jupyter-widgets/controls",
      "model_module_version": "1.4.0",
      "model_name": "DescriptionStyleModel",
      "state": {
       "description_width": ""
      }
     },
     "ce0db823b99e4798b780781280998f8d": {
      "model_module": "@jupyter-widgets/base",
      "model_module_version": "1.1.0",
      "model_name": "LayoutModel",
      "state": {}
     },
     "ce25efc702e146038b72831d4c0e994a": {
      "model_module": "@jupyter-widgets/controls",
      "model_module_version": "1.4.0",
      "model_name": "DescriptionStyleModel",
      "state": {
       "description_width": ""
      }
     },
     "ce81d322478745f48f09e9a76823d479": {
      "model_module": "@jupyter-widgets/controls",
      "model_module_version": "1.4.0",
      "model_name": "HTMLModel",
      "state": {
       "layout": "IPY_MODEL_fbba6d06c5554ecfb340ea2f7179de8d",
       "style": "IPY_MODEL_af774c940deb43a1a4e018f1e8488837",
       "value": "100% 410/410 [04:11&lt;00:00,  1.74it/s]"
      }
     },
     "ce8dbdb907fe4dc3986bde70a8485496": {
      "model_module": "@jupyter-widgets/base",
      "model_module_version": "1.1.0",
      "model_name": "LayoutModel",
      "state": {}
     },
     "ce9b8ac8a77049a09da182369b204da4": {
      "model_module": "@jupyter-widgets/controls",
      "model_module_version": "1.4.0",
      "model_name": "ProgressStyleModel",
      "state": {
       "description_width": "initial"
      }
     },
     "cef363ea90454f168ff8524c910c8fbf": {
      "model_module": "@jupyter-widgets/controls",
      "model_module_version": "1.4.0",
      "model_name": "ProgressStyleModel",
      "state": {
       "description_width": "initial"
      }
     },
     "cf677a32edbe471eac623e7601d8889d": {
      "model_module": "@jupyter-widgets/base",
      "model_module_version": "1.1.0",
      "model_name": "LayoutModel",
      "state": {}
     },
     "cf798fa2df11476da43b3412ac71c48b": {
      "model_module": "@jupyter-widgets/base",
      "model_module_version": "1.1.0",
      "model_name": "LayoutModel",
      "state": {}
     },
     "cf9b194f49b04c88a259764c94e3a89c": {
      "model_module": "@jupyter-widgets/controls",
      "model_module_version": "1.4.0",
      "model_name": "DescriptionStyleModel",
      "state": {
       "description_width": ""
      }
     },
     "cfaeed3f779a40299a7410c72cba04da": {
      "model_module": "@jupyter-widgets/controls",
      "model_module_version": "1.4.0",
      "model_name": "ProgressStyleModel",
      "state": {
       "description_width": ""
      }
     },
     "cfb0b0fb13344fb8b46fe98f8666a2aa": {
      "model_module": "@jupyter-widgets/controls",
      "model_module_version": "1.4.0",
      "model_name": "DescriptionStyleModel",
      "state": {
       "description_width": ""
      }
     },
     "d02d0228ddd1473898c138dc98a8c62b": {
      "model_module": "@jupyter-widgets/controls",
      "model_module_version": "1.4.0",
      "model_name": "DescriptionStyleModel",
      "state": {
       "description_width": ""
      }
     },
     "d066ebe4d20d4d12abf28db846f00d33": {
      "model_module": "@jupyter-widgets/controls",
      "model_module_version": "1.4.0",
      "model_name": "ProgressStyleModel",
      "state": {
       "description_width": "initial"
      }
     },
     "d0cf81aa94864ffba4abd9817b1ac7fc": {
      "model_module": "@jupyter-widgets/controls",
      "model_module_version": "1.4.0",
      "model_name": "DescriptionStyleModel",
      "state": {
       "description_width": ""
      }
     },
     "d0e04e8e68d847f29a79822f4ff33048": {
      "model_module": "@jupyter-widgets/controls",
      "model_module_version": "1.4.0",
      "model_name": "HBoxModel",
      "state": {
       "children": [
        "IPY_MODEL_abc915d845a949fe805cfa1c815bbb4d",
        "IPY_MODEL_bd569488bcfe42f086288b03f522baae"
       ],
       "layout": "IPY_MODEL_72d3e83fafa543ffba2ab3d161916519"
      }
     },
     "d1182986e09543e1a7691a0104bcdecc": {
      "model_module": "@jupyter-widgets/controls",
      "model_module_version": "1.4.0",
      "model_name": "HTMLModel",
      "state": {
       "layout": "IPY_MODEL_5f82a9ce4b2a4862a55228353f5fac70",
       "style": "IPY_MODEL_b7fe7a7586f748178ec842a63453fced",
       "value": "100% 103/103 [00:29&lt;00:00,  5.80it/s]"
      }
     },
     "d18343cb72f34327bc72ac5a488a642e": {
      "model_module": "@jupyter-widgets/controls",
      "model_module_version": "1.4.0",
      "model_name": "ProgressStyleModel",
      "state": {
       "description_width": "initial"
      }
     },
     "d18e2975e3e24951a817926f42e8bd8f": {
      "model_module": "@jupyter-widgets/controls",
      "model_module_version": "1.4.0",
      "model_name": "HBoxModel",
      "state": {
       "children": [
        "IPY_MODEL_874ff35138824aceb04c138797845b04",
        "IPY_MODEL_2d5ba7efb7554637b4aeaddc77ca1fb7"
       ],
       "layout": "IPY_MODEL_8d988270d87c437983683a1670a9767b"
      }
     },
     "d195fe3bcdcd4535b568651e7d09f72a": {
      "model_module": "@jupyter-widgets/controls",
      "model_module_version": "1.4.0",
      "model_name": "ProgressStyleModel",
      "state": {
       "description_width": "initial"
      }
     },
     "d1d4a527c1fa4d77be88ca15ab1f5432": {
      "model_module": "@jupyter-widgets/base",
      "model_module_version": "1.1.0",
      "model_name": "LayoutModel",
      "state": {}
     },
     "d1f43ba19b1b46e88ab17378b5491a3e": {
      "model_module": "@jupyter-widgets/base",
      "model_module_version": "1.1.0",
      "model_name": "LayoutModel",
      "state": {}
     },
     "d230058aaeea4f93a7449e98ff872769": {
      "model_module": "@jupyter-widgets/controls",
      "model_module_version": "1.4.0",
      "model_name": "HTMLModel",
      "state": {
       "layout": "IPY_MODEL_b23ba0776e3c44b1bbf8eb801a528f17",
       "style": "IPY_MODEL_5902c481822d4191ad0b13ef3c2897fa",
       "value": "100% 52/52 [00:23&lt;00:00,  2.23it/s]"
      }
     },
     "d26bdff57de246dd870d8cf4ce3848bb": {
      "model_module": "@jupyter-widgets/controls",
      "model_module_version": "1.4.0",
      "model_name": "HBoxModel",
      "state": {
       "children": [
        "IPY_MODEL_b8bd1d8e22f049499969eb621b019f56",
        "IPY_MODEL_d9b66666ca004727bfc5765a6f6f602b"
       ],
       "layout": "IPY_MODEL_5bb2a4234999497cadeabadbe345c567"
      }
     },
     "d274cbc6cea14102909c6eba8968381b": {
      "model_module": "@jupyter-widgets/controls",
      "model_module_version": "1.4.0",
      "model_name": "DescriptionStyleModel",
      "state": {
       "description_width": ""
      }
     },
     "d2d124ef59a544219915fb5b4d4f78d9": {
      "model_module": "@jupyter-widgets/base",
      "model_module_version": "1.1.0",
      "model_name": "LayoutModel",
      "state": {}
     },
     "d2e3155e963f4e12b46c5015719081cf": {
      "model_module": "@jupyter-widgets/controls",
      "model_module_version": "1.4.0",
      "model_name": "HBoxModel",
      "state": {
       "children": [
        "IPY_MODEL_01b503211ff4423d95faa5b7f9e95e02",
        "IPY_MODEL_af64bb20de014938ad989fd07adcb01d"
       ],
       "layout": "IPY_MODEL_c20d63de99c44073bc30f95346488cd9"
      }
     },
     "d3438a6114e44e0c9270cba244f23ac2": {
      "model_module": "@jupyter-widgets/base",
      "model_module_version": "1.1.0",
      "model_name": "LayoutModel",
      "state": {}
     },
     "d394606cf2f9418cbdb3593977bf3045": {
      "model_module": "@jupyter-widgets/controls",
      "model_module_version": "1.4.0",
      "model_name": "HBoxModel",
      "state": {
       "children": [
        "IPY_MODEL_5238bb14119f4b2c9e627740f5380696",
        "IPY_MODEL_a7edc6f3cadf499e9bf21b44a0bdbf34"
       ],
       "layout": "IPY_MODEL_36885fdea207487da136f2148f521b0b"
      }
     },
     "d3bcc55fabce493eb1a88795b42bd7b4": {
      "model_module": "@jupyter-widgets/base",
      "model_module_version": "1.1.0",
      "model_name": "LayoutModel",
      "state": {}
     },
     "d4210c80d8fc4b0c98d5482b13752dd0": {
      "model_module": "@jupyter-widgets/controls",
      "model_module_version": "1.4.0",
      "model_name": "IntProgressModel",
      "state": {
       "bar_style": "success",
       "description": "validation...",
       "layout": "IPY_MODEL_d3bcc55fabce493eb1a88795b42bd7b4",
       "max": 103,
       "style": "IPY_MODEL_6eccb72595c746d38c8aab502810dd46",
       "value": 103
      }
     },
     "d43cda61bc084cac852b4e9656814dcc": {
      "model_module": "@jupyter-widgets/base",
      "model_module_version": "1.1.0",
      "model_name": "LayoutModel",
      "state": {}
     },
     "d4b26909f5b940f5a950d4436b2d2201": {
      "model_module": "@jupyter-widgets/base",
      "model_module_version": "1.1.0",
      "model_name": "LayoutModel",
      "state": {}
     },
     "d513b1525ab14930bc62de51a1ef4ae0": {
      "model_module": "@jupyter-widgets/controls",
      "model_module_version": "1.4.0",
      "model_name": "HTMLModel",
      "state": {
       "layout": "IPY_MODEL_4f4bbc9704d84f4e9165e136ef01fdbd",
       "style": "IPY_MODEL_4ebe848893624fe8b492924e485c56c1",
       "value": "100% 103/103 [00:30&lt;00:00,  5.84it/s]"
      }
     },
     "d53a74afb6904a7699342aaabf8870f2": {
      "model_module": "@jupyter-widgets/controls",
      "model_module_version": "1.4.0",
      "model_name": "HTMLModel",
      "state": {
       "layout": "IPY_MODEL_a995e72533e24048a241e3a4883b68f1",
       "style": "IPY_MODEL_ea39fa19e08c4512a5b70ae007d8db74",
       "value": "100% 410/410 [04:09&lt;00:00,  1.71it/s]"
      }
     },
     "d57e66c6a3444d7e956d5431ea633bd8": {
      "model_module": "@jupyter-widgets/base",
      "model_module_version": "1.1.0",
      "model_name": "LayoutModel",
      "state": {}
     },
     "d5e156b050d447a78eb352d48baab905": {
      "model_module": "@jupyter-widgets/base",
      "model_module_version": "1.1.0",
      "model_name": "LayoutModel",
      "state": {}
     },
     "d63af2504f7a4f54bafa589eb2d86f4c": {
      "model_module": "@jupyter-widgets/base",
      "model_module_version": "1.1.0",
      "model_name": "LayoutModel",
      "state": {}
     },
     "d63bd2fdd7ea4f61977635f5ab7029ae": {
      "model_module": "@jupyter-widgets/base",
      "model_module_version": "1.1.0",
      "model_name": "LayoutModel",
      "state": {}
     },
     "d6781046381b4f2aa378bad72dc4a07f": {
      "model_module": "@jupyter-widgets/controls",
      "model_module_version": "1.4.0",
      "model_name": "DescriptionStyleModel",
      "state": {
       "description_width": ""
      }
     },
     "d6ed0f894f374a798b06e73cbebd3bcc": {
      "model_module": "@jupyter-widgets/controls",
      "model_module_version": "1.4.0",
      "model_name": "IntProgressModel",
      "state": {
       "bar_style": "success",
       "description": "validation...",
       "layout": "IPY_MODEL_d1d4a527c1fa4d77be88ca15ab1f5432",
       "max": 103,
       "style": "IPY_MODEL_d18343cb72f34327bc72ac5a488a642e",
       "value": 103
      }
     },
     "d83f1a69aa054a6fb0bdcf5cf7b5eca1": {
      "model_module": "@jupyter-widgets/base",
      "model_module_version": "1.1.0",
      "model_name": "LayoutModel",
      "state": {}
     },
     "d896d4befbf246588a4396db9eaf41fb": {
      "model_module": "@jupyter-widgets/base",
      "model_module_version": "1.1.0",
      "model_name": "LayoutModel",
      "state": {}
     },
     "d8acb2f6746b42529354733625849b04": {
      "model_module": "@jupyter-widgets/base",
      "model_module_version": "1.1.0",
      "model_name": "LayoutModel",
      "state": {}
     },
     "d94f47dfcaa047c98b958d8df7f13351": {
      "model_module": "@jupyter-widgets/controls",
      "model_module_version": "1.4.0",
      "model_name": "IntProgressModel",
      "state": {
       "bar_style": "success",
       "description": "training...",
       "layout": "IPY_MODEL_b1211dad610544679f09c9f90efd2fb1",
       "max": 410,
       "style": "IPY_MODEL_01016915fa2644189eed0877afa63426",
       "value": 410
      }
     },
     "d95e8bd2668d48cca089deb25c05ebcf": {
      "model_module": "@jupyter-widgets/base",
      "model_module_version": "1.1.0",
      "model_name": "LayoutModel",
      "state": {}
     },
     "d9ab8aebba724124b7bb681ae3c48896": {
      "model_module": "@jupyter-widgets/controls",
      "model_module_version": "1.4.0",
      "model_name": "HBoxModel",
      "state": {
       "children": [
        "IPY_MODEL_4de2a219cbe54ed1806bdf37f79aec3a",
        "IPY_MODEL_fbdc533c9ab54f96acd6d232cce6947a"
       ],
       "layout": "IPY_MODEL_4909abdaaff84e65b536442f16be2624"
      }
     },
     "d9b66666ca004727bfc5765a6f6f602b": {
      "model_module": "@jupyter-widgets/controls",
      "model_module_version": "1.4.0",
      "model_name": "HTMLModel",
      "state": {
       "layout": "IPY_MODEL_3dafeb482c44477e842776bca7a8dadd",
       "style": "IPY_MODEL_cd8de9106b4944ad83d26ddfb8f5f07e",
       "value": "100% 103/103 [00:30&lt;00:00,  5.96it/s]"
      }
     },
     "da036f8215534f3994dbfa1b349b1ab6": {
      "model_module": "@jupyter-widgets/base",
      "model_module_version": "1.1.0",
      "model_name": "LayoutModel",
      "state": {}
     },
     "da046cd0e7a44a74a523ce354f5fa515": {
      "model_module": "@jupyter-widgets/base",
      "model_module_version": "1.1.0",
      "model_name": "LayoutModel",
      "state": {}
     },
     "da1b65f906f941c3afe504739f0993f2": {
      "model_module": "@jupyter-widgets/controls",
      "model_module_version": "1.4.0",
      "model_name": "HTMLModel",
      "state": {
       "layout": "IPY_MODEL_8c449d37f0b14e8794459c5c37675504",
       "style": "IPY_MODEL_cf9b194f49b04c88a259764c94e3a89c",
       "value": "100% 410/410 [04:10&lt;00:00,  1.69it/s]"
      }
     },
     "da22390ed1a04443b57b6e598e78bf6d": {
      "model_module": "@jupyter-widgets/base",
      "model_module_version": "1.1.0",
      "model_name": "LayoutModel",
      "state": {}
     },
     "dc124cf06d2f4357b800d0f66f9f092a": {
      "model_module": "@jupyter-widgets/controls",
      "model_module_version": "1.4.0",
      "model_name": "ProgressStyleModel",
      "state": {
       "description_width": "initial"
      }
     },
     "dc25a46833bf45cfaa76ce96fd89b09b": {
      "model_module": "@jupyter-widgets/controls",
      "model_module_version": "1.4.0",
      "model_name": "IntProgressModel",
      "state": {
       "bar_style": "success",
       "description": "validation...",
       "layout": "IPY_MODEL_29a01f2ffe294d1989dde90b01b3b068",
       "max": 103,
       "style": "IPY_MODEL_06748067120444858d7a7c85a03d5aec",
       "value": 103
      }
     },
     "dc3e4c50b4e34eeea69a0e13a1c8460c": {
      "model_module": "@jupyter-widgets/controls",
      "model_module_version": "1.4.0",
      "model_name": "HTMLModel",
      "state": {
       "layout": "IPY_MODEL_30cc4d95d5674ae88134166f69ee2598",
       "style": "IPY_MODEL_29a356c51f814bcb9a382d0669c4957d",
       "value": "100% 410/410 [04:11&lt;00:00,  1.69it/s]"
      }
     },
     "dc50dd6a3a1f46fea4d557e2e960659f": {
      "model_module": "@jupyter-widgets/base",
      "model_module_version": "1.1.0",
      "model_name": "LayoutModel",
      "state": {}
     },
     "dc71c78c7ef946f78675fde8677eeaa9": {
      "model_module": "@jupyter-widgets/controls",
      "model_module_version": "1.4.0",
      "model_name": "HTMLModel",
      "state": {
       "layout": "IPY_MODEL_5de19f99433d432aaaf61668fe0de58f",
       "style": "IPY_MODEL_e8938b64e6514e069a32e64056a5dfb2",
       "value": "100% 307/307 [02:21&lt;00:00,  2.37it/s]"
      }
     },
     "dcb5898095e54544b2e837641215ecd3": {
      "model_module": "@jupyter-widgets/controls",
      "model_module_version": "1.4.0",
      "model_name": "IntProgressModel",
      "state": {
       "bar_style": "success",
       "description": "validation...",
       "layout": "IPY_MODEL_11a41dc3d64541219dfe0e98b9ecb738",
       "max": 103,
       "style": "IPY_MODEL_cd2bbc1bc53141098ebfbfea8a27927e",
       "value": 103
      }
     },
     "dcbf30ba12454d7a989caf7446b5eeb8": {
      "model_module": "@jupyter-widgets/controls",
      "model_module_version": "1.4.0",
      "model_name": "IntProgressModel",
      "state": {
       "bar_style": "success",
       "description": "validation...",
       "layout": "IPY_MODEL_93e55fb945eb4e2d86dabc338c47381b",
       "max": 103,
       "style": "IPY_MODEL_986176929a9d41438d5cf27772241d23",
       "value": 103
      }
     },
     "dd49e0232a0a4e78a7cfcab297a697c3": {
      "model_module": "@jupyter-widgets/controls",
      "model_module_version": "1.4.0",
      "model_name": "IntProgressModel",
      "state": {
       "bar_style": "success",
       "description": "training...",
       "layout": "IPY_MODEL_f7596776b31f4525adbd4cda4875a05e",
       "max": 410,
       "style": "IPY_MODEL_ec8dae497ea54af8aee1f72b20cc63ef",
       "value": 410
      }
     },
     "dd6c5b3a12354d83ae830207cc413544": {
      "model_module": "@jupyter-widgets/controls",
      "model_module_version": "1.4.0",
      "model_name": "HTMLModel",
      "state": {
       "layout": "IPY_MODEL_1289f342346e435cb709952f206098fa",
       "style": "IPY_MODEL_b8456cb061f4430884d41c0b342a12b7",
       "value": "100% 103/103 [00:30&lt;00:00,  5.88it/s]"
      }
     },
     "dd7a859777e247b3a9dd840a1e20a0ab": {
      "model_module": "@jupyter-widgets/controls",
      "model_module_version": "1.4.0",
      "model_name": "IntProgressModel",
      "state": {
       "bar_style": "success",
       "layout": "IPY_MODEL_64840efbb6714b2d87e14947cc745077",
       "max": 315144,
       "style": "IPY_MODEL_f555b08b1f1540c488f9d5cda182c811",
       "value": 315144
      }
     },
     "dd8b5aad764e49c795688958d802b111": {
      "model_module": "@jupyter-widgets/controls",
      "model_module_version": "1.4.0",
      "model_name": "HBoxModel",
      "state": {
       "children": [
        "IPY_MODEL_fdd8ff691d174931beb7aa9fe32e79c2",
        "IPY_MODEL_92ff1a3bfa7e428faafa5a4d1ff933e9"
       ],
       "layout": "IPY_MODEL_c57f30fa6c5942e284ca061e0afb5c7d"
      }
     },
     "ddbfcd169bde4204a6e31a80aa7c2ad7": {
      "model_module": "@jupyter-widgets/base",
      "model_module_version": "1.1.0",
      "model_name": "LayoutModel",
      "state": {}
     },
     "ddc8303c6aef4288a811c57f94a0ac9b": {
      "model_module": "@jupyter-widgets/base",
      "model_module_version": "1.1.0",
      "model_name": "LayoutModel",
      "state": {}
     },
     "ddf352785acf4e24b4ee985d03e22535": {
      "model_module": "@jupyter-widgets/controls",
      "model_module_version": "1.4.0",
      "model_name": "HBoxModel",
      "state": {
       "children": [
        "IPY_MODEL_2ad9e63c42224da4b26d28efa722a29c",
        "IPY_MODEL_6db6d7b1fdc74c76b503a69671eaacfb"
       ],
       "layout": "IPY_MODEL_3aa7ce2c5fa34b9d958f801fa2301102"
      }
     },
     "de34f7659d904582bfbe5a3e5be9f5cd": {
      "model_module": "@jupyter-widgets/controls",
      "model_module_version": "1.4.0",
      "model_name": "DescriptionStyleModel",
      "state": {
       "description_width": ""
      }
     },
     "dec316600b8a47a3a9fb55e803cef3f7": {
      "model_module": "@jupyter-widgets/controls",
      "model_module_version": "1.4.0",
      "model_name": "HTMLModel",
      "state": {
       "layout": "IPY_MODEL_132ce074df2c47cc97602794b8b885a6",
       "style": "IPY_MODEL_228926a90d82416f8c19d273033863cb",
       "value": "100% 78786/78786 [00:28&lt;00:00, 2790.16it/s]"
      }
     },
     "df22e11300584de886f46bd0ed596a7e": {
      "model_module": "@jupyter-widgets/base",
      "model_module_version": "1.1.0",
      "model_name": "LayoutModel",
      "state": {}
     },
     "df4717e828cc4f22a5dae739038c98b3": {
      "model_module": "@jupyter-widgets/base",
      "model_module_version": "1.1.0",
      "model_name": "LayoutModel",
      "state": {}
     },
     "dfc659f7c08d4f16b0652cfc017fcf72": {
      "model_module": "@jupyter-widgets/controls",
      "model_module_version": "1.4.0",
      "model_name": "IntProgressModel",
      "state": {
       "bar_style": "success",
       "description": "validation...",
       "layout": "IPY_MODEL_b2050930ed9c4f56b84f97bc25d3387b",
       "max": 103,
       "style": "IPY_MODEL_9258adab37eb46ddabf7a2a7de5a6e3d",
       "value": 103
      }
     },
     "dfdc33356a22475e879a04305f288875": {
      "model_module": "@jupyter-widgets/controls",
      "model_module_version": "1.4.0",
      "model_name": "HTMLModel",
      "state": {
       "layout": "IPY_MODEL_e25d9c46693c47b18bbd62eb78522312",
       "style": "IPY_MODEL_ab4a3544bd3e4de39f16356311353dab",
       "value": "100% 103/103 [00:30&lt;00:00,  6.01it/s]"
      }
     },
     "e040da33e45041ea813147b981f5057c": {
      "model_module": "@jupyter-widgets/controls",
      "model_module_version": "1.4.0",
      "model_name": "HTMLModel",
      "state": {
       "layout": "IPY_MODEL_42ed21858e2b4c508ea17fa50ae86739",
       "style": "IPY_MODEL_8f54df6a38a34f17ab9a38891981fbb8",
       "value": "100% 103/103 [00:29&lt;00:00,  5.99it/s]"
      }
     },
     "e05ed0dc8d8e4c3d91306f178b4bc32e": {
      "model_module": "@jupyter-widgets/controls",
      "model_module_version": "1.4.0",
      "model_name": "DescriptionStyleModel",
      "state": {
       "description_width": ""
      }
     },
     "e066d09c86a84cddb8ca485712dd8bf2": {
      "model_module": "@jupyter-widgets/controls",
      "model_module_version": "1.4.0",
      "model_name": "HBoxModel",
      "state": {
       "children": [
        "IPY_MODEL_8c9de74e718f4794899cc76297ae1ede",
        "IPY_MODEL_c54ef78b11ab4702bea4e48fd97bb0da"
       ],
       "layout": "IPY_MODEL_b641811959fc433698e46ed5d0446691"
      }
     },
     "e0b0859f9a40464fbbc18cd1d1212008": {
      "model_module": "@jupyter-widgets/base",
      "model_module_version": "1.1.0",
      "model_name": "LayoutModel",
      "state": {}
     },
     "e108aa7fdae04040a92ba605643076a6": {
      "model_module": "@jupyter-widgets/controls",
      "model_module_version": "1.4.0",
      "model_name": "HBoxModel",
      "state": {
       "children": [
        "IPY_MODEL_1546c244ea85465188f05ae2088f6d9a",
        "IPY_MODEL_66df68a0ee5344bb8682e478ba5c59b4"
       ],
       "layout": "IPY_MODEL_2818bfd790d0484e903dd457a8c0e18f"
      }
     },
     "e176744a633d4c399d4ec9848a7625a7": {
      "model_module": "@jupyter-widgets/controls",
      "model_module_version": "1.4.0",
      "model_name": "HTMLModel",
      "state": {
       "layout": "IPY_MODEL_62db20cab2a548a282ad1a9148fcf525",
       "style": "IPY_MODEL_c91ffa20d28d4721ad20945201487333",
       "value": "100% 410/410 [04:11&lt;00:00,  1.71it/s]"
      }
     },
     "e1883e88f420472c84f44cfa7ee5294e": {
      "model_module": "@jupyter-widgets/controls",
      "model_module_version": "1.4.0",
      "model_name": "HBoxModel",
      "state": {
       "children": [
        "IPY_MODEL_8574b438306e4b99acf266fc4d44bbad",
        "IPY_MODEL_abeeeae6d17c426a8f30f45411ae3c70"
       ],
       "layout": "IPY_MODEL_2ba0d804b03545afa31d31a50c0d69b9"
      }
     },
     "e1a7bf83d9554acf936ce41eabd9943b": {
      "model_module": "@jupyter-widgets/base",
      "model_module_version": "1.1.0",
      "model_name": "LayoutModel",
      "state": {}
     },
     "e2146ceff4d84ec99b0690e22b9062a1": {
      "model_module": "@jupyter-widgets/base",
      "model_module_version": "1.1.0",
      "model_name": "LayoutModel",
      "state": {}
     },
     "e233122e01dd44cc860d2d34ca89083c": {
      "model_module": "@jupyter-widgets/controls",
      "model_module_version": "1.4.0",
      "model_name": "IntProgressModel",
      "state": {
       "bar_style": "success",
       "description": "training...",
       "layout": "IPY_MODEL_41ec115756a34df1b37f4f00e25e3a2a",
       "max": 410,
       "style": "IPY_MODEL_5ea10da7ef6e4a5e8c03e3d03d0b952a",
       "value": 410
      }
     },
     "e25d9c46693c47b18bbd62eb78522312": {
      "model_module": "@jupyter-widgets/base",
      "model_module_version": "1.1.0",
      "model_name": "LayoutModel",
      "state": {}
     },
     "e2b8bd5df9b34f7f9d17bba6f1fab126": {
      "model_module": "@jupyter-widgets/controls",
      "model_module_version": "1.4.0",
      "model_name": "DescriptionStyleModel",
      "state": {
       "description_width": ""
      }
     },
     "e2e20945dbb54158bc658d8191664722": {
      "model_module": "@jupyter-widgets/base",
      "model_module_version": "1.1.0",
      "model_name": "LayoutModel",
      "state": {}
     },
     "e30c2d69705649e5b14f9325ae41954c": {
      "model_module": "@jupyter-widgets/base",
      "model_module_version": "1.1.0",
      "model_name": "LayoutModel",
      "state": {}
     },
     "e3c39553b7c945f4b3b89d225f844da1": {
      "model_module": "@jupyter-widgets/controls",
      "model_module_version": "1.4.0",
      "model_name": "HBoxModel",
      "state": {
       "children": [
        "IPY_MODEL_44ab69ab5ce64d3786fc284e52ae77e1",
        "IPY_MODEL_4e832e2c156e4d2e8bb85040a0d5821e"
       ],
       "layout": "IPY_MODEL_ee40abc25a5c473b8f7dd5329a6c19c1"
      }
     },
     "e40b04bc86fb43559ca68beed410dd16": {
      "model_module": "@jupyter-widgets/base",
      "model_module_version": "1.1.0",
      "model_name": "LayoutModel",
      "state": {}
     },
     "e4b6bf30a7be4f1a87ea6d28b5f8d139": {
      "model_module": "@jupyter-widgets/controls",
      "model_module_version": "1.4.0",
      "model_name": "DescriptionStyleModel",
      "state": {
       "description_width": ""
      }
     },
     "e4ffc9f1ac1a4eac9bf955f3788ce26d": {
      "model_module": "@jupyter-widgets/controls",
      "model_module_version": "1.4.0",
      "model_name": "ProgressStyleModel",
      "state": {
       "description_width": "initial"
      }
     },
     "e52c2cf2a74a4585a88fb61336d1a186": {
      "model_module": "@jupyter-widgets/base",
      "model_module_version": "1.1.0",
      "model_name": "LayoutModel",
      "state": {}
     },
     "e5313a40cf664db09ebbc162de7f766a": {
      "model_module": "@jupyter-widgets/controls",
      "model_module_version": "1.4.0",
      "model_name": "IntProgressModel",
      "state": {
       "bar_style": "success",
       "description": "validation...",
       "layout": "IPY_MODEL_afec2d2db9df40f1a3426564f310c156",
       "max": 103,
       "style": "IPY_MODEL_c328f7a364f1454e88acb7e7ade52345",
       "value": 103
      }
     },
     "e552e4d557ec4f5c8882dfe11219663f": {
      "model_module": "@jupyter-widgets/controls",
      "model_module_version": "1.4.0",
      "model_name": "HBoxModel",
      "state": {
       "children": [
        "IPY_MODEL_99fa0455f4c0433b8ac207a63044ed4c",
        "IPY_MODEL_9a93ec4defbc4f6bb8e502595cb034bf"
       ],
       "layout": "IPY_MODEL_935c116d0cab49c693f7a1cfad30eeac"
      }
     },
     "e55b1f1297f14d5289463daafac05df7": {
      "model_module": "@jupyter-widgets/base",
      "model_module_version": "1.1.0",
      "model_name": "LayoutModel",
      "state": {}
     },
     "e56ba3ece9594411b7931cd78dfcd600": {
      "model_module": "@jupyter-widgets/controls",
      "model_module_version": "1.4.0",
      "model_name": "ProgressStyleModel",
      "state": {
       "description_width": "initial"
      }
     },
     "e5adf81d2df54e19b15f4b3fd8c7dda1": {
      "model_module": "@jupyter-widgets/controls",
      "model_module_version": "1.4.0",
      "model_name": "HTMLModel",
      "state": {
       "layout": "IPY_MODEL_acc88ee36485443cbb10508099e1614d",
       "style": "IPY_MODEL_eb605da0053a4d41a3179b0eb54ce63c",
       "value": "100% 410/410 [04:10&lt;00:00,  1.70it/s]"
      }
     },
     "e5e1ff2f2bb5462ca1733dcafd28e430": {
      "model_module": "@jupyter-widgets/controls",
      "model_module_version": "1.4.0",
      "model_name": "ProgressStyleModel",
      "state": {
       "description_width": "initial"
      }
     },
     "e5e8da509f4d44d2bd2831e49d45e505": {
      "model_module": "@jupyter-widgets/base",
      "model_module_version": "1.1.0",
      "model_name": "LayoutModel",
      "state": {}
     },
     "e5f2ee4a941f4d14b42c714d10c88ca9": {
      "model_module": "@jupyter-widgets/controls",
      "model_module_version": "1.4.0",
      "model_name": "ProgressStyleModel",
      "state": {
       "description_width": ""
      }
     },
     "e609b912b4fb442d9de105db60b811a5": {
      "model_module": "@jupyter-widgets/base",
      "model_module_version": "1.1.0",
      "model_name": "LayoutModel",
      "state": {}
     },
     "e619e79bd3084480880787c80704c1bb": {
      "model_module": "@jupyter-widgets/controls",
      "model_module_version": "1.4.0",
      "model_name": "DescriptionStyleModel",
      "state": {
       "description_width": ""
      }
     },
     "e6219cbfab6544acabf508fc0363942b": {
      "model_module": "@jupyter-widgets/controls",
      "model_module_version": "1.4.0",
      "model_name": "IntProgressModel",
      "state": {
       "bar_style": "success",
       "description": "validation...",
       "layout": "IPY_MODEL_5abac6b6a945463991f3755938f5e881",
       "max": 103,
       "style": "IPY_MODEL_4f28866aa8fd4055a1befbf75a2dcf5b",
       "value": 103
      }
     },
     "e66df4f410c644379875b1f66262ee98": {
      "model_module": "@jupyter-widgets/base",
      "model_module_version": "1.1.0",
      "model_name": "LayoutModel",
      "state": {}
     },
     "e67f48ff65a943cbbe7339f8ff5b3c44": {
      "model_module": "@jupyter-widgets/controls",
      "model_module_version": "1.4.0",
      "model_name": "ProgressStyleModel",
      "state": {
       "description_width": "initial"
      }
     },
     "e6d00350534e4a80af9323de6bd1fdbf": {
      "model_module": "@jupyter-widgets/base",
      "model_module_version": "1.1.0",
      "model_name": "LayoutModel",
      "state": {}
     },
     "e723db2135d140459baec2279d16856f": {
      "model_module": "@jupyter-widgets/controls",
      "model_module_version": "1.4.0",
      "model_name": "HBoxModel",
      "state": {
       "children": [
        "IPY_MODEL_34cbd8ab40dc4f308ad170d1689f3519",
        "IPY_MODEL_08fa1262089e4b7bb3a222b47a71fe23"
       ],
       "layout": "IPY_MODEL_a290cf1ffbe0496ca2d54a06c68f3dcf"
      }
     },
     "e7b332a4c11c4c87b16ad4c1971fa483": {
      "model_module": "@jupyter-widgets/base",
      "model_module_version": "1.1.0",
      "model_name": "LayoutModel",
      "state": {}
     },
     "e7cb75140d824bee8125d4b1e9cea83b": {
      "model_module": "@jupyter-widgets/controls",
      "model_module_version": "1.4.0",
      "model_name": "HBoxModel",
      "state": {
       "children": [
        "IPY_MODEL_f29449fa3754408485c7c9e393f4a5d2",
        "IPY_MODEL_e176744a633d4c399d4ec9848a7625a7"
       ],
       "layout": "IPY_MODEL_9c217becb181477cb9b9567a2d14873e"
      }
     },
     "e8467d48540e463782d886bc19a479a2": {
      "model_module": "@jupyter-widgets/controls",
      "model_module_version": "1.4.0",
      "model_name": "HBoxModel",
      "state": {
       "children": [
        "IPY_MODEL_1d98907d15564c8298ac3bf94312c055",
        "IPY_MODEL_fb3a03a57ac741e79bbd2450be1634c5"
       ],
       "layout": "IPY_MODEL_a373bee17560456bb087b30e671bcef2"
      }
     },
     "e8938b64e6514e069a32e64056a5dfb2": {
      "model_module": "@jupyter-widgets/controls",
      "model_module_version": "1.4.0",
      "model_name": "DescriptionStyleModel",
      "state": {
       "description_width": ""
      }
     },
     "e8c6c5ad289a41a1a789ec8a5b96c6f1": {
      "model_module": "@jupyter-widgets/base",
      "model_module_version": "1.1.0",
      "model_name": "LayoutModel",
      "state": {}
     },
     "e8fc23cb887546849060bdaa7ddd8c5a": {
      "model_module": "@jupyter-widgets/controls",
      "model_module_version": "1.4.0",
      "model_name": "DescriptionStyleModel",
      "state": {
       "description_width": ""
      }
     },
     "e93d90a22fbb448e8b9a985a78b54d27": {
      "model_module": "@jupyter-widgets/base",
      "model_module_version": "1.1.0",
      "model_name": "LayoutModel",
      "state": {}
     },
     "e962766e6c664d2f9dd70af6f47e16f5": {
      "model_module": "@jupyter-widgets/controls",
      "model_module_version": "1.4.0",
      "model_name": "HTMLModel",
      "state": {
       "layout": "IPY_MODEL_0154198aab424edeaa53f1d96da7484d",
       "style": "IPY_MODEL_e8fc23cb887546849060bdaa7ddd8c5a",
       "value": "100% 103/103 [00:30&lt;00:00,  5.73it/s]"
      }
     },
     "e9b0704241864fa98ff75758697334d7": {
      "model_module": "@jupyter-widgets/base",
      "model_module_version": "1.1.0",
      "model_name": "LayoutModel",
      "state": {}
     },
     "ea10c1901f4e4035812257a4a71ad564": {
      "model_module": "@jupyter-widgets/base",
      "model_module_version": "1.1.0",
      "model_name": "LayoutModel",
      "state": {}
     },
     "ea39fa19e08c4512a5b70ae007d8db74": {
      "model_module": "@jupyter-widgets/controls",
      "model_module_version": "1.4.0",
      "model_name": "DescriptionStyleModel",
      "state": {
       "description_width": ""
      }
     },
     "ea464a1ff38d4c678ea0575afad19c85": {
      "model_module": "@jupyter-widgets/base",
      "model_module_version": "1.1.0",
      "model_name": "LayoutModel",
      "state": {}
     },
     "ea54cbf81b774b92a6081c81ed98ebac": {
      "model_module": "@jupyter-widgets/controls",
      "model_module_version": "1.4.0",
      "model_name": "HTMLModel",
      "state": {
       "layout": "IPY_MODEL_767a8efb09b147eabcba7c775a354adc",
       "style": "IPY_MODEL_102ae925790c46808ee26faef8a2938e",
       "value": "100% 410/410 [04:11&lt;00:00,  1.71it/s]"
      }
     },
     "ea753ba761c84dcabe292c262fa94275": {
      "model_module": "@jupyter-widgets/controls",
      "model_module_version": "1.4.0",
      "model_name": "ProgressStyleModel",
      "state": {
       "description_width": "initial"
      }
     },
     "ea7571d203844d87b3388a3feda9a6b7": {
      "model_module": "@jupyter-widgets/controls",
      "model_module_version": "1.4.0",
      "model_name": "IntProgressModel",
      "state": {
       "bar_style": "success",
       "description": "training...",
       "layout": "IPY_MODEL_72173fab4adc4e9b8076e666acfdedb9",
       "max": 410,
       "style": "IPY_MODEL_3e94976a0bbf412182ceb0e225127670",
       "value": 410
      }
     },
     "ea8ba2bdd47c4cdba1767999f59ebd5f": {
      "model_module": "@jupyter-widgets/controls",
      "model_module_version": "1.4.0",
      "model_name": "IntProgressModel",
      "state": {
       "bar_style": "success",
       "description": "training...",
       "layout": "IPY_MODEL_0862520ccee242399afafaf004db1013",
       "max": 410,
       "style": "IPY_MODEL_13ecebb04fd74429a545cd46f1a6dbd1",
       "value": 410
      }
     },
     "eacedbfd06e64d11a1b50841e7e9f9ce": {
      "model_module": "@jupyter-widgets/base",
      "model_module_version": "1.1.0",
      "model_name": "LayoutModel",
      "state": {}
     },
     "eacfaec7ee9c4f7fa653129a13bf9177": {
      "model_module": "@jupyter-widgets/base",
      "model_module_version": "1.1.0",
      "model_name": "LayoutModel",
      "state": {}
     },
     "eb605da0053a4d41a3179b0eb54ce63c": {
      "model_module": "@jupyter-widgets/controls",
      "model_module_version": "1.4.0",
      "model_name": "DescriptionStyleModel",
      "state": {
       "description_width": ""
      }
     },
     "eb6e0cc54a754c02b979be1f243eff83": {
      "model_module": "@jupyter-widgets/controls",
      "model_module_version": "1.4.0",
      "model_name": "ProgressStyleModel",
      "state": {
       "description_width": "initial"
      }
     },
     "ec8dae497ea54af8aee1f72b20cc63ef": {
      "model_module": "@jupyter-widgets/controls",
      "model_module_version": "1.4.0",
      "model_name": "ProgressStyleModel",
      "state": {
       "description_width": "initial"
      }
     },
     "ecc1ecd14e8640cba81ce547baedd23a": {
      "model_module": "@jupyter-widgets/controls",
      "model_module_version": "1.4.0",
      "model_name": "HBoxModel",
      "state": {
       "children": [
        "IPY_MODEL_4b5a14a1a8bc4257ba3165a6b05632f7",
        "IPY_MODEL_6ea57be07d0a46c2a0c8a25503c619d2"
       ],
       "layout": "IPY_MODEL_4692113d5fba4968835cce9357dcf80a"
      }
     },
     "ecd51743f5504255a63871e3a83c404b": {
      "model_module": "@jupyter-widgets/controls",
      "model_module_version": "1.4.0",
      "model_name": "HBoxModel",
      "state": {
       "children": [
        "IPY_MODEL_868291df104742e182527293abdc2e0f",
        "IPY_MODEL_fbf0655e5cc14b7dbb75a23220b11406"
       ],
       "layout": "IPY_MODEL_d63bd2fdd7ea4f61977635f5ab7029ae"
      }
     },
     "ecf68db8390243039f6f823cee1386ec": {
      "model_module": "@jupyter-widgets/base",
      "model_module_version": "1.1.0",
      "model_name": "LayoutModel",
      "state": {}
     },
     "ecf868b3ea5a474ba64534cf0feb038e": {
      "model_module": "@jupyter-widgets/base",
      "model_module_version": "1.1.0",
      "model_name": "LayoutModel",
      "state": {}
     },
     "ed63e336f63e4b888a5186b12d3545e3": {
      "model_module": "@jupyter-widgets/base",
      "model_module_version": "1.1.0",
      "model_name": "LayoutModel",
      "state": {}
     },
     "ed8a360f1f284e31a392a3a91f2a38f6": {
      "model_module": "@jupyter-widgets/controls",
      "model_module_version": "1.4.0",
      "model_name": "HTMLModel",
      "state": {
       "layout": "IPY_MODEL_a1bc938dd0ce473bb8e4ba37864e1005",
       "style": "IPY_MODEL_2f651b8d8871435ea65da283bb5360cb",
       "value": "100% 103/103 [00:29&lt;00:00,  5.71it/s]"
      }
     },
     "ed94d60e8b404937ae4ff7f73094f5ec": {
      "model_module": "@jupyter-widgets/controls",
      "model_module_version": "1.4.0",
      "model_name": "DescriptionStyleModel",
      "state": {
       "description_width": ""
      }
     },
     "ee40abc25a5c473b8f7dd5329a6c19c1": {
      "model_module": "@jupyter-widgets/base",
      "model_module_version": "1.1.0",
      "model_name": "LayoutModel",
      "state": {}
     },
     "ee5a4b5156e14da6853b006b48a65fc4": {
      "model_module": "@jupyter-widgets/base",
      "model_module_version": "1.1.0",
      "model_name": "LayoutModel",
      "state": {}
     },
     "ee9434f88a2d4c5b92a5fb03f6b41737": {
      "model_module": "@jupyter-widgets/controls",
      "model_module_version": "1.4.0",
      "model_name": "ProgressStyleModel",
      "state": {
       "description_width": "initial"
      }
     },
     "ee95b149d3ea4f48b2417ce73fb4370f": {
      "model_module": "@jupyter-widgets/controls",
      "model_module_version": "1.4.0",
      "model_name": "HBoxModel",
      "state": {
       "children": [
        "IPY_MODEL_a1e95a2b732e41a7ad450b2b3bd17908",
        "IPY_MODEL_9169ad3ee188419f90ec49d1203da76b"
       ],
       "layout": "IPY_MODEL_998cf4c45939473e8f890437b1cdde25"
      }
     },
     "eef62433c44640d8a18229a176063be9": {
      "model_module": "@jupyter-widgets/controls",
      "model_module_version": "1.4.0",
      "model_name": "IntProgressModel",
      "state": {
       "bar_style": "success",
       "description": "validation...",
       "layout": "IPY_MODEL_2f161f7557f94fef96f31f9c19ea6d9f",
       "max": 103,
       "style": "IPY_MODEL_7425708c6b364bb49dbdb0fea1f7da5a",
       "value": 103
      }
     },
     "ef00752880244e92ae7cb13d3c27ced2": {
      "model_module": "@jupyter-widgets/base",
      "model_module_version": "1.1.0",
      "model_name": "LayoutModel",
      "state": {}
     },
     "ef1942bd7bdd4357a3e5e9016771301b": {
      "model_module": "@jupyter-widgets/controls",
      "model_module_version": "1.4.0",
      "model_name": "ProgressStyleModel",
      "state": {
       "description_width": "initial"
      }
     },
     "ef37a0924d22403c974a46e4ecc4ad61": {
      "model_module": "@jupyter-widgets/controls",
      "model_module_version": "1.4.0",
      "model_name": "HTMLModel",
      "state": {
       "layout": "IPY_MODEL_f37d4f9339f546f58a5587e7c320458e",
       "style": "IPY_MODEL_ce25efc702e146038b72831d4c0e994a",
       "value": "100% 103/103 [00:29&lt;00:00,  5.94it/s]"
      }
     },
     "ef5fbfbf4b744dab978d96c75739cee6": {
      "model_module": "@jupyter-widgets/base",
      "model_module_version": "1.1.0",
      "model_name": "LayoutModel",
      "state": {}
     },
     "efd46939bc47411c8a60c0a8837247f8": {
      "model_module": "@jupyter-widgets/base",
      "model_module_version": "1.1.0",
      "model_name": "LayoutModel",
      "state": {}
     },
     "efe18bf931f64e83b6abd6e0bfc32c93": {
      "model_module": "@jupyter-widgets/controls",
      "model_module_version": "1.4.0",
      "model_name": "HBoxModel",
      "state": {
       "children": [
        "IPY_MODEL_7119a786e54840a6bbce02240b5ac5c9",
        "IPY_MODEL_86d8a21215574d1d9cf65d979ea93d14"
       ],
       "layout": "IPY_MODEL_af934e88bf774b128f22240f55ae6864"
      }
     },
     "f02366317615432683de0bd1428bbb83": {
      "model_module": "@jupyter-widgets/controls",
      "model_module_version": "1.4.0",
      "model_name": "ProgressStyleModel",
      "state": {
       "description_width": "initial"
      }
     },
     "f09733f3b3054b50975c8fdeb9d50a28": {
      "model_module": "@jupyter-widgets/base",
      "model_module_version": "1.1.0",
      "model_name": "LayoutModel",
      "state": {}
     },
     "f0eaaa2b75364f94a418a2d962f6e36c": {
      "model_module": "@jupyter-widgets/base",
      "model_module_version": "1.1.0",
      "model_name": "LayoutModel",
      "state": {}
     },
     "f17f80baf209421d8cc2d27dd82d7c8b": {
      "model_module": "@jupyter-widgets/controls",
      "model_module_version": "1.4.0",
      "model_name": "HBoxModel",
      "state": {
       "children": [
        "IPY_MODEL_fe2a88c294dc410da66cb650ec8e6ee8",
        "IPY_MODEL_ff84be03cac44f35885815de20c04fc1"
       ],
       "layout": "IPY_MODEL_0da8ff9c984e4339be87ad4dba109fdf"
      }
     },
     "f1a646682e474b1e9d016f745b471a13": {
      "model_module": "@jupyter-widgets/base",
      "model_module_version": "1.1.0",
      "model_name": "LayoutModel",
      "state": {}
     },
     "f1e21613e2ac48798f9128e68b31ddfc": {
      "model_module": "@jupyter-widgets/controls",
      "model_module_version": "1.4.0",
      "model_name": "ProgressStyleModel",
      "state": {
       "description_width": "initial"
      }
     },
     "f29449fa3754408485c7c9e393f4a5d2": {
      "model_module": "@jupyter-widgets/controls",
      "model_module_version": "1.4.0",
      "model_name": "IntProgressModel",
      "state": {
       "bar_style": "success",
       "description": "training...",
       "layout": "IPY_MODEL_4b4ce2c83ca441ea9bf6cb291b5d8a74",
       "max": 410,
       "style": "IPY_MODEL_4b0ce47cb9ce4f08b253c9a60e110bfc",
       "value": 410
      }
     },
     "f295bdb1c7884edfbe1ec1b471570119": {
      "model_module": "@jupyter-widgets/controls",
      "model_module_version": "1.4.0",
      "model_name": "HTMLModel",
      "state": {
       "layout": "IPY_MODEL_f0eaaa2b75364f94a418a2d962f6e36c",
       "style": "IPY_MODEL_6b955d4d401d4b77a82d815f09a1c689",
       "value": "100% 52/52 [00:22&lt;00:00,  2.28it/s]"
      }
     },
     "f2a4d80f0cac4cbd88bed3330eb07dd4": {
      "model_module": "@jupyter-widgets/controls",
      "model_module_version": "1.4.0",
      "model_name": "HTMLModel",
      "state": {
       "layout": "IPY_MODEL_ca0bd455eb4843e792d9e7d37c591fe5",
       "style": "IPY_MODEL_c2bc75561290446ba2205c607110e1c7",
       "value": "100% 52/52 [00:23&lt;00:00,  2.24it/s]"
      }
     },
     "f2aade12f29c406f9e0ad4d02fe1406f": {
      "model_module": "@jupyter-widgets/controls",
      "model_module_version": "1.4.0",
      "model_name": "DescriptionStyleModel",
      "state": {
       "description_width": ""
      }
     },
     "f2b7e92b27c543bb9908fbc23dd671ea": {
      "model_module": "@jupyter-widgets/controls",
      "model_module_version": "1.4.0",
      "model_name": "HBoxModel",
      "state": {
       "children": [
        "IPY_MODEL_1d5fb99bb04c4d7e8c8a174f76f0bbed",
        "IPY_MODEL_5ca7919e077b4cfda8cd1e36338e5e4e"
       ],
       "layout": "IPY_MODEL_d63af2504f7a4f54bafa589eb2d86f4c"
      }
     },
     "f2f49b87e5d94cff8e7c5d9e6b7c4eae": {
      "model_module": "@jupyter-widgets/controls",
      "model_module_version": "1.4.0",
      "model_name": "ProgressStyleModel",
      "state": {
       "description_width": "initial"
      }
     },
     "f3542a093ffd43b7b6181575f64f4354": {
      "model_module": "@jupyter-widgets/base",
      "model_module_version": "1.1.0",
      "model_name": "LayoutModel",
      "state": {}
     },
     "f37d4f9339f546f58a5587e7c320458e": {
      "model_module": "@jupyter-widgets/base",
      "model_module_version": "1.1.0",
      "model_name": "LayoutModel",
      "state": {}
     },
     "f37ef226ae994477baf651138aa561d7": {
      "model_module": "@jupyter-widgets/controls",
      "model_module_version": "1.4.0",
      "model_name": "IntProgressModel",
      "state": {
       "bar_style": "success",
       "description": "training...",
       "layout": "IPY_MODEL_e609b912b4fb442d9de105db60b811a5",
       "max": 410,
       "style": "IPY_MODEL_62fc79691ee04ecda07329ca81ed35cc",
       "value": 410
      }
     },
     "f38ae3cfb847453e9f1994d730ca20d8": {
      "model_module": "@jupyter-widgets/controls",
      "model_module_version": "1.4.0",
      "model_name": "DescriptionStyleModel",
      "state": {
       "description_width": ""
      }
     },
     "f3f75abbb3674147b42bc65277f1c4f9": {
      "model_module": "@jupyter-widgets/base",
      "model_module_version": "1.1.0",
      "model_name": "LayoutModel",
      "state": {}
     },
     "f40141a6fbce486eacc8ae4d682f36cb": {
      "model_module": "@jupyter-widgets/controls",
      "model_module_version": "1.4.0",
      "model_name": "HBoxModel",
      "state": {
       "children": [
        "IPY_MODEL_20d8de2e41dd465ea50a8a1b6231af2f",
        "IPY_MODEL_402c78156ef94b25a9249eeaf1a76720"
       ],
       "layout": "IPY_MODEL_9ff9bc5330e04ccf95fe96714878f415"
      }
     },
     "f46d291bd1e64d13aa9f31f3064eaade": {
      "model_module": "@jupyter-widgets/base",
      "model_module_version": "1.1.0",
      "model_name": "LayoutModel",
      "state": {}
     },
     "f47b9bb459d34ec285681a4a59336327": {
      "model_module": "@jupyter-widgets/base",
      "model_module_version": "1.1.0",
      "model_name": "LayoutModel",
      "state": {}
     },
     "f486eef86d634130a7d74216f7769721": {
      "model_module": "@jupyter-widgets/controls",
      "model_module_version": "1.4.0",
      "model_name": "HBoxModel",
      "state": {
       "children": [
        "IPY_MODEL_f806264fe9b2428ebf63de49273c8c8e",
        "IPY_MODEL_b968ec5ca4fb41fcbaa8622600a749b1"
       ],
       "layout": "IPY_MODEL_36573ca7f4af4c17bfbdc1549683c59b"
      }
     },
     "f4d033510cc24fbd96772f0e79a8cbe2": {
      "model_module": "@jupyter-widgets/controls",
      "model_module_version": "1.4.0",
      "model_name": "IntProgressModel",
      "state": {
       "bar_style": "success",
       "description": "training...",
       "layout": "IPY_MODEL_c11967b3062742e78ebbd0c4f99408a2",
       "max": 205,
       "style": "IPY_MODEL_bad1a36ffbe047edbc9af7960f67edf2",
       "value": 205
      }
     },
     "f515bfd6fc7e44d1adf3c2378ec74f36": {
      "model_module": "@jupyter-widgets/base",
      "model_module_version": "1.1.0",
      "model_name": "LayoutModel",
      "state": {}
     },
     "f555b08b1f1540c488f9d5cda182c811": {
      "model_module": "@jupyter-widgets/controls",
      "model_module_version": "1.4.0",
      "model_name": "ProgressStyleModel",
      "state": {
       "description_width": ""
      }
     },
     "f592acd334ee46ce9fd6f82fe596ccdd": {
      "model_module": "@jupyter-widgets/controls",
      "model_module_version": "1.4.0",
      "model_name": "DescriptionStyleModel",
      "state": {
       "description_width": ""
      }
     },
     "f6863bbc145144bdb72b89670b12e779": {
      "model_module": "@jupyter-widgets/base",
      "model_module_version": "1.1.0",
      "model_name": "LayoutModel",
      "state": {}
     },
     "f6a7c3b02a7a402c94f8caa883365821": {
      "model_module": "@jupyter-widgets/controls",
      "model_module_version": "1.4.0",
      "model_name": "IntProgressModel",
      "state": {
       "bar_style": "success",
       "description": "validation...",
       "layout": "IPY_MODEL_6aa92318ec834791b958ce89a6e7bb25",
       "max": 103,
       "style": "IPY_MODEL_f02366317615432683de0bd1428bbb83",
       "value": 103
      }
     },
     "f6d3b8095c794ebdaa794afaa5c7e956": {
      "model_module": "@jupyter-widgets/controls",
      "model_module_version": "1.4.0",
      "model_name": "DescriptionStyleModel",
      "state": {
       "description_width": ""
      }
     },
     "f737e8d9a5ea4775aebfaa46fea7aaf1": {
      "model_module": "@jupyter-widgets/controls",
      "model_module_version": "1.4.0",
      "model_name": "ProgressStyleModel",
      "state": {
       "description_width": "initial"
      }
     },
     "f7596776b31f4525adbd4cda4875a05e": {
      "model_module": "@jupyter-widgets/base",
      "model_module_version": "1.1.0",
      "model_name": "LayoutModel",
      "state": {}
     },
     "f75aadfb0d1040de91e74e74fffe6601": {
      "model_module": "@jupyter-widgets/controls",
      "model_module_version": "1.4.0",
      "model_name": "IntProgressModel",
      "state": {
       "bar_style": "success",
       "description": "validation...",
       "layout": "IPY_MODEL_609c7de7cadb4763b79616bfa901707d",
       "max": 103,
       "style": "IPY_MODEL_51cf5b9d876e4f1db0a76f273ce0006f",
       "value": 103
      }
     },
     "f78bd2d41d9e4e45be92ee07923010d2": {
      "model_module": "@jupyter-widgets/base",
      "model_module_version": "1.1.0",
      "model_name": "LayoutModel",
      "state": {}
     },
     "f78cd76f2d95447ea2c5e2bd394c5a6e": {
      "model_module": "@jupyter-widgets/controls",
      "model_module_version": "1.4.0",
      "model_name": "IntProgressModel",
      "state": {
       "bar_style": "success",
       "description": "validation...",
       "layout": "IPY_MODEL_da22390ed1a04443b57b6e598e78bf6d",
       "max": 103,
       "style": "IPY_MODEL_29f4ae4573784173a5511173fa053237",
       "value": 103
      }
     },
     "f7db92829e9e4a41a0eaf17e11a3c17a": {
      "model_module": "@jupyter-widgets/controls",
      "model_module_version": "1.4.0",
      "model_name": "IntProgressModel",
      "state": {
       "bar_style": "success",
       "description": "training...",
       "layout": "IPY_MODEL_6d29bf2ef18d4f4ea6e6fdb46abeb26e",
       "max": 410,
       "style": "IPY_MODEL_b243bea01bc84eea887013435e56caf9",
       "value": 410
      }
     },
     "f806264fe9b2428ebf63de49273c8c8e": {
      "model_module": "@jupyter-widgets/controls",
      "model_module_version": "1.4.0",
      "model_name": "IntProgressModel",
      "state": {
       "bar_style": "success",
       "description": "validation...",
       "layout": "IPY_MODEL_bab31849452346ae95203eaa62da8243",
       "max": 52,
       "style": "IPY_MODEL_5ea8aa0ab9864f9fb0e4944b2d7fa457",
       "value": 52
      }
     },
     "f88c33966b734902954b85f44e9aca2d": {
      "model_module": "@jupyter-widgets/controls",
      "model_module_version": "1.4.0",
      "model_name": "DescriptionStyleModel",
      "state": {
       "description_width": ""
      }
     },
     "f8af8af453c74167a9690a741e65d7b3": {
      "model_module": "@jupyter-widgets/base",
      "model_module_version": "1.1.0",
      "model_name": "LayoutModel",
      "state": {}
     },
     "f8b36bce23764aeda9c251e316f97ec5": {
      "model_module": "@jupyter-widgets/controls",
      "model_module_version": "1.4.0",
      "model_name": "HBoxModel",
      "state": {
       "children": [
        "IPY_MODEL_ea7571d203844d87b3388a3feda9a6b7",
        "IPY_MODEL_e5adf81d2df54e19b15f4b3fd8c7dda1"
       ],
       "layout": "IPY_MODEL_902e1aea6a6944ee9cb4b7a481b8c5f6"
      }
     },
     "f8db9c0d73e7483ea10b6fc1ee210736": {
      "model_module": "@jupyter-widgets/controls",
      "model_module_version": "1.4.0",
      "model_name": "IntProgressModel",
      "state": {
       "bar_style": "success",
       "layout": "IPY_MODEL_a5a889ce0dee4c4eab5c85fb8c41aa58",
       "max": 315144,
       "style": "IPY_MODEL_b13a4d635bb74876915950045901e5d7",
       "value": 315144
      }
     },
     "f91279e4b55d45058dccd67ddea89ef5": {
      "model_module": "@jupyter-widgets/controls",
      "model_module_version": "1.4.0",
      "model_name": "IntProgressModel",
      "state": {
       "bar_style": "success",
       "layout": "IPY_MODEL_850eddf5588d42e3a5113cb0e4674df4",
       "max": 315144,
       "style": "IPY_MODEL_bf6977aadabc429bbfe877678d1f60ee",
       "value": 315144
      }
     },
     "f9306655105d430e990cb134df835ed3": {
      "model_module": "@jupyter-widgets/base",
      "model_module_version": "1.1.0",
      "model_name": "LayoutModel",
      "state": {}
     },
     "f9671807c2bf46c59eddf4bb99314df6": {
      "model_module": "@jupyter-widgets/base",
      "model_module_version": "1.1.0",
      "model_name": "LayoutModel",
      "state": {}
     },
     "f992320433564a5e90d8f8877c345632": {
      "model_module": "@jupyter-widgets/controls",
      "model_module_version": "1.4.0",
      "model_name": "DescriptionStyleModel",
      "state": {
       "description_width": ""
      }
     },
     "fad2211390ee4b3480761933762602a0": {
      "model_module": "@jupyter-widgets/base",
      "model_module_version": "1.1.0",
      "model_name": "LayoutModel",
      "state": {}
     },
     "fae71b84e71142f3838bf1ce587ded90": {
      "model_module": "@jupyter-widgets/controls",
      "model_module_version": "1.4.0",
      "model_name": "DescriptionStyleModel",
      "state": {
       "description_width": ""
      }
     },
     "fb3a03a57ac741e79bbd2450be1634c5": {
      "model_module": "@jupyter-widgets/controls",
      "model_module_version": "1.4.0",
      "model_name": "HTMLModel",
      "state": {
       "layout": "IPY_MODEL_5ebbcaf601834d3b8cfea9b2e562c786",
       "style": "IPY_MODEL_b935dffb0d00461b856c5301a11c6326",
       "value": "100% 205/205 [01:46&lt;00:00,  2.23it/s]"
      }
     },
     "fb9b4a009df54aee8335663eef4dd794": {
      "model_module": "@jupyter-widgets/controls",
      "model_module_version": "1.4.0",
      "model_name": "HTMLModel",
      "state": {
       "layout": "IPY_MODEL_2a6425dce62c447cb55bcfe824159b95",
       "style": "IPY_MODEL_0cba44a00ed34bd3bd77d443384b1108",
       "value": "100% 410/410 [04:09&lt;00:00,  1.62it/s]"
      }
     },
     "fbba6d06c5554ecfb340ea2f7179de8d": {
      "model_module": "@jupyter-widgets/base",
      "model_module_version": "1.1.0",
      "model_name": "LayoutModel",
      "state": {}
     },
     "fbd4086cea764ae9a79404be810989eb": {
      "model_module": "@jupyter-widgets/controls",
      "model_module_version": "1.4.0",
      "model_name": "HTMLModel",
      "state": {
       "layout": "IPY_MODEL_502a591fff99490392c29dc53a823b2a",
       "style": "IPY_MODEL_35f07a745c1148b88a603bb77515b332",
       "value": "100% 315144/315144 [01:43&lt;00:00, 3035.83it/s]"
      }
     },
     "fbdc533c9ab54f96acd6d232cce6947a": {
      "model_module": "@jupyter-widgets/controls",
      "model_module_version": "1.4.0",
      "model_name": "HTMLModel",
      "state": {
       "layout": "IPY_MODEL_eacedbfd06e64d11a1b50841e7e9f9ce",
       "style": "IPY_MODEL_90f869af83c241c5972e12151f2c35d7",
       "value": "100% 205/205 [01:46&lt;00:00,  2.20it/s]"
      }
     },
     "fbf0655e5cc14b7dbb75a23220b11406": {
      "model_module": "@jupyter-widgets/controls",
      "model_module_version": "1.4.0",
      "model_name": "HTMLModel",
      "state": {
       "layout": "IPY_MODEL_43f16a86fa7b42fe94ea8509b6681f75",
       "style": "IPY_MODEL_927e0a8c999742caaf2ef69e3c6f97cd",
       "value": "100% 103/103 [00:30&lt;00:00,  5.66it/s]"
      }
     },
     "fc1776c4bf2547fb84abfdfa12f0d8c2": {
      "model_module": "@jupyter-widgets/controls",
      "model_module_version": "1.4.0",
      "model_name": "HTMLModel",
      "state": {
       "layout": "IPY_MODEL_3617f36a5f6f43c590c3688f092a6446",
       "style": "IPY_MODEL_3d332becef7f440dbb266026a6b5e81d",
       "value": "100% 103/103 [00:30&lt;00:00,  5.78it/s]"
      }
     },
     "fc80726a344f4d38b5904ecc760ded21": {
      "model_module": "@jupyter-widgets/controls",
      "model_module_version": "1.4.0",
      "model_name": "DescriptionStyleModel",
      "state": {
       "description_width": ""
      }
     },
     "fc8da8fbcad349719cebdc0892fa9362": {
      "model_module": "@jupyter-widgets/base",
      "model_module_version": "1.1.0",
      "model_name": "LayoutModel",
      "state": {}
     },
     "fccc95dedc5043bea2ef4cb5b138418c": {
      "model_module": "@jupyter-widgets/base",
      "model_module_version": "1.1.0",
      "model_name": "LayoutModel",
      "state": {}
     },
     "fd474e167c4942a3a873e8260557d010": {
      "model_module": "@jupyter-widgets/base",
      "model_module_version": "1.1.0",
      "model_name": "LayoutModel",
      "state": {}
     },
     "fd637ce8eea143ec8da3868b760feac8": {
      "model_module": "@jupyter-widgets/controls",
      "model_module_version": "1.4.0",
      "model_name": "HTMLModel",
      "state": {
       "layout": "IPY_MODEL_9b9828c78d664cd2a279165078fb8187",
       "style": "IPY_MODEL_833b549ed04a460682b97f0174af5b81",
       "value": "100% 103/103 [00:30&lt;00:00,  5.64it/s]"
      }
     },
     "fdd8ff691d174931beb7aa9fe32e79c2": {
      "model_module": "@jupyter-widgets/controls",
      "model_module_version": "1.4.0",
      "model_name": "IntProgressModel",
      "state": {
       "bar_style": "success",
       "description": "training...",
       "layout": "IPY_MODEL_e93d90a22fbb448e8b9a985a78b54d27",
       "max": 410,
       "style": "IPY_MODEL_d066ebe4d20d4d12abf28db846f00d33",
       "value": 410
      }
     },
     "fe11ff4f57fc4b50899755e3228ed714": {
      "model_module": "@jupyter-widgets/controls",
      "model_module_version": "1.4.0",
      "model_name": "ProgressStyleModel",
      "state": {
       "description_width": "initial"
      }
     },
     "fe2a88c294dc410da66cb650ec8e6ee8": {
      "model_module": "@jupyter-widgets/controls",
      "model_module_version": "1.4.0",
      "model_name": "IntProgressModel",
      "state": {
       "bar_style": "success",
       "description": "validation...",
       "layout": "IPY_MODEL_54904be1c0394fd9824149d62eed2db4",
       "max": 103,
       "style": "IPY_MODEL_5c1e654166c943fc9cea2d037420be7b",
       "value": 103
      }
     },
     "fe3f3dcfbbc0451eb6258841c4b7162c": {
      "model_module": "@jupyter-widgets/base",
      "model_module_version": "1.1.0",
      "model_name": "LayoutModel",
      "state": {}
     },
     "fe49f6ec12ac4ef691dbe84976bed48c": {
      "model_module": "@jupyter-widgets/base",
      "model_module_version": "1.1.0",
      "model_name": "LayoutModel",
      "state": {}
     },
     "fe57096f72df4bfab7a3b91dc4fa180f": {
      "model_module": "@jupyter-widgets/base",
      "model_module_version": "1.1.0",
      "model_name": "LayoutModel",
      "state": {}
     },
     "fe5e145cd54d4d8e8bd407a532db2ec8": {
      "model_module": "@jupyter-widgets/controls",
      "model_module_version": "1.4.0",
      "model_name": "ProgressStyleModel",
      "state": {
       "description_width": "initial"
      }
     },
     "fe6869c612af4835bbd680d43d380f40": {
      "model_module": "@jupyter-widgets/base",
      "model_module_version": "1.1.0",
      "model_name": "LayoutModel",
      "state": {}
     },
     "fe901e47e5ff488bac26db81ab168992": {
      "model_module": "@jupyter-widgets/base",
      "model_module_version": "1.1.0",
      "model_name": "LayoutModel",
      "state": {}
     },
     "fef8c17456fc4d3697e097c564dfb622": {
      "model_module": "@jupyter-widgets/controls",
      "model_module_version": "1.4.0",
      "model_name": "DescriptionStyleModel",
      "state": {
       "description_width": ""
      }
     },
     "ff03ec5790614e778a5ddeaeb6ab70ed": {
      "model_module": "@jupyter-widgets/controls",
      "model_module_version": "1.4.0",
      "model_name": "DescriptionStyleModel",
      "state": {
       "description_width": ""
      }
     },
     "ff3830ad3cc24fc8a1874ee68ba93d1e": {
      "model_module": "@jupyter-widgets/base",
      "model_module_version": "1.1.0",
      "model_name": "LayoutModel",
      "state": {}
     },
     "ff84be03cac44f35885815de20c04fc1": {
      "model_module": "@jupyter-widgets/controls",
      "model_module_version": "1.4.0",
      "model_name": "HTMLModel",
      "state": {
       "layout": "IPY_MODEL_0d2471a7750b4dba92043df867e04c82",
       "style": "IPY_MODEL_10ec5775787a44e9964780ddf17bf345",
       "value": "100% 103/103 [00:30&lt;00:00,  5.68it/s]"
      }
     },
     "ffb02d36a01b412a964e1c068582c2a7": {
      "model_module": "@jupyter-widgets/controls",
      "model_module_version": "1.4.0",
      "model_name": "HTMLModel",
      "state": {
       "layout": "IPY_MODEL_6777f2c4fea74140ac8e5c7dff067a34",
       "style": "IPY_MODEL_c8c5955f1f124d3d9f252d83eee22957",
       "value": "100% 410/410 [04:11&lt;00:00,  1.71it/s]"
      }
     },
     "ffb4aba6179b4ec094ba59aa02ee1223": {
      "model_module": "@jupyter-widgets/base",
      "model_module_version": "1.1.0",
      "model_name": "LayoutModel",
      "state": {}
     }
    },
    "version_major": 2,
    "version_minor": 0
   }
  }
 },
 "nbformat": 4,
 "nbformat_minor": 2
}
